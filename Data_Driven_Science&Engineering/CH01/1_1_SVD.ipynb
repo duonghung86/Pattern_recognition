{
 "cells": [
  {
   "cell_type": "code",
   "execution_count": 1,
   "metadata": {},
   "outputs": [],
   "source": [
    "from matplotlib.image import imread\n",
    "import matplotlib.pyplot as plt\n",
    "import numpy as np\n",
    "import os\n",
    "import time\n",
    "plt.rcParams['figure.figsize'] = [16, 8]"
   ]
  },
  {
   "cell_type": "code",
   "execution_count": 3,
   "metadata": {},
   "outputs": [
    {
     "data": {
      "text/plain": [
       "array([[2, 2, 3],\n",
       "       [4, 4, 1],\n",
       "       [4, 1, 2],\n",
       "       [3, 2, 2]])"
      ]
     },
     "execution_count": 3,
     "metadata": {},
     "output_type": "execute_result"
    }
   ],
   "source": [
    "# generate a random integer matrix\n",
    "A = np.random.randint(5, size=(4, 3))\n",
    "A"
   ]
  },
  {
   "cell_type": "code",
   "execution_count": 18,
   "metadata": {},
   "outputs": [
    {
     "data": {
      "text/plain": [
       "(array([8.94552991, 1.68917428, 2.26366627]),\n",
       " array([[ 0.73901638,  0.67332657, -0.02204821],\n",
       "        [ 0.52551291, -0.59664228, -0.60650983],\n",
       "        [ 0.42153408, -0.43663408,  0.79477022]]))"
      ]
     },
     "execution_count": 18,
     "metadata": {},
     "output_type": "execute_result"
    }
   ],
   "source": [
    "S, V = np.linalg.eig(A.T@A)\n",
    "S = np.sqrt(S)\n",
    "S, V"
   ]
  },
  {
   "cell_type": "code",
   "execution_count": 19,
   "metadata": {},
   "outputs": [
    {
     "data": {
      "text/plain": [
       "array([[-0.42408453, -0.49795087, -0.68467397, -0.32158794],\n",
       "       [-0.61255748,  0.75959163, -0.07689966, -0.20464687],\n",
       "       [-0.48344219, -0.39530463,  0.72425673, -0.29235267],\n",
       "       [-0.45957513, -0.13711215, -0.02757147,  0.87705802]])"
      ]
     },
     "execution_count": 19,
     "metadata": {},
     "output_type": "execute_result"
    }
   ],
   "source": [
    "_,U = np.linalg.eig(A@A.T)\n",
    "U"
   ]
  },
  {
   "cell_type": "code",
   "execution_count": 10,
   "metadata": {},
   "outputs": [
    {
     "data": {
      "text/plain": [
       "(array([[-0.42408453, -0.49795087,  0.68467397, -0.32158794],\n",
       "        [-0.61255748,  0.75959163,  0.07689966, -0.20464687],\n",
       "        [-0.48344219, -0.39530463, -0.72425673, -0.29235267],\n",
       "        [-0.45957513, -0.13711215,  0.02757147,  0.87705802]]),\n",
       " array([8.94552991, 2.26366627, 1.68917428]),\n",
       " array([[-0.73901638, -0.52551291, -0.42153408],\n",
       "        [ 0.02204821,  0.60650983, -0.79477022],\n",
       "        [-0.67332657,  0.59664228,  0.43663408]]))"
      ]
     },
     "execution_count": 10,
     "metadata": {},
     "output_type": "execute_result"
    }
   ],
   "source": [
    "np.linalg.svd(A)"
   ]
  },
  {
   "cell_type": "code",
   "execution_count": 20,
   "metadata": {},
   "outputs": [
    {
     "data": {
      "text/plain": [
       "<matplotlib.image.AxesImage at 0x1a66a6df550>"
      ]
     },
     "execution_count": 20,
     "metadata": {},
     "output_type": "execute_result"
    },
    {
     "data": {
      "image/png": "[encoded data removed]",
      "text/plain": [
       "<Figure size 432x576 with 1 Axes>"
      ]
     },
     "metadata": {
      "needs_background": "light"
     },
     "output_type": "display_data"
    }
   ],
   "source": [
    "plt.matshow(A)"
   ]
  }
 ],
 "metadata": {
  "kernelspec": {
   "display_name": "Python 3",
   "language": "python",
   "name": "python3"
  },
  "language_info": {
   "codemirror_mode": {
    "name": "ipython",
    "version": 3
   },
   "file_extension": ".py",
   "mimetype": "text/x-python",
   "name": "python",
   "nbconvert_exporter": "python",
   "pygments_lexer": "ipython3",
   "version": "3.8.5"
  }
 },
 "nbformat": 4,
 "nbformat_minor": 4
}
