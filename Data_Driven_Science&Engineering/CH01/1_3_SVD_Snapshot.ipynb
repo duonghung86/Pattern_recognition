{
 "cells": [
  {
   "cell_type": "code",
   "execution_count": 1,
   "metadata": {},
   "outputs": [],
   "source": [
    "from matplotlib.image import imread\n",
    "import matplotlib.pyplot as plt\n",
    "import numpy as np\n",
    "import os\n",
    "import time\n",
    "plt.rcParams['figure.figsize'] = [16, 8]"
   ]
  },
  {
   "cell_type": "code",
   "execution_count": 38,
   "metadata": {},
   "outputs": [],
   "source": [
    "# generate a random integer matrix\n",
    "A = np.random.randint(5, size=(1000, 4))"
   ]
  },
  {
   "cell_type": "code",
   "execution_count": 39,
   "metadata": {},
   "outputs": [
    {
     "name": "stdout",
     "output_type": "stream",
     "text": [
      "Wall time: 70.8 ms\n"
     ]
    },
    {
     "data": {
      "text/plain": [
       "(array([[-0.041, -0.014,  0.003, ..., -0.024,  0.002, -0.001],\n",
       "        [-0.037,  0.009,  0.014, ..., -0.028, -0.051, -0.003],\n",
       "        [-0.026,  0.04 , -0.035, ..., -0.021,  0.013,  0.078],\n",
       "        ...,\n",
       "        [-0.022,  0.029,  0.03 , ...,  0.997, -0.002,  0.001],\n",
       "        [-0.019,  0.057, -0.001, ..., -0.002,  0.996, -0.001],\n",
       "        [-0.018,  0.02 , -0.011, ...,  0.001, -0.001,  0.994]]),\n",
       " array([134.221,  45.114,  44.122,  43.46 ]),\n",
       " array([[-0.491, -0.506, -0.492, -0.511],\n",
       "        [-0.466,  0.624,  0.358, -0.515],\n",
       "        [ 0.722, -0.058,  0.054, -0.687],\n",
       "        [ 0.143,  0.592, -0.792,  0.039]]))"
      ]
     },
     "execution_count": 39,
     "metadata": {},
     "output_type": "execute_result"
    }
   ],
   "source": [
    "%%time\n",
    "U, S, VT = np.linalg.svd(A)\n",
    "U.round(3), S.round(3), VT.round(3)"
   ]
  },
  {
   "cell_type": "code",
   "execution_count": 40,
   "metadata": {},
   "outputs": [
    {
     "name": "stdout",
     "output_type": "stream",
     "text": [
      "Wall time: 2.99 ms\n"
     ]
    },
    {
     "data": {
      "text/plain": [
       "(array([[ 0.041,  0.014,  0.003, -0.015],\n",
       "        [ 0.037, -0.009,  0.014,  0.048],\n",
       "        [ 0.026, -0.04 , -0.035,  0.038],\n",
       "        ...,\n",
       "        [ 0.022, -0.029,  0.03 ,  0.029],\n",
       "        [ 0.019, -0.057, -0.001,  0.004],\n",
       "        [ 0.018, -0.02 , -0.011, -0.072]]),\n",
       " array([134.221,  45.114,  44.122,  43.46 ]),\n",
       " array([[ 0.491,  0.506,  0.492,  0.511],\n",
       "        [ 0.466, -0.624, -0.358,  0.515],\n",
       "        [ 0.722, -0.058,  0.054, -0.687],\n",
       "        [ 0.143,  0.592, -0.792,  0.039]]))"
      ]
     },
     "execution_count": 40,
     "metadata": {},
     "output_type": "execute_result"
    }
   ],
   "source": [
    "%%time\n",
    "S, V = np.linalg.eig(A.T@A)\n",
    "# Sigma contains square roots of eigenvalues of matrix A.T*A\n",
    "S = np.sqrt(S)\n",
    "VT = V.T\n",
    "U = A @ V @ np.linalg.inv(np.diag(S))\n",
    "U.round(3), S.round(3), VT.round(3)"
   ]
  },
  {
   "cell_type": "code",
   "execution_count": 42,
   "metadata": {},
   "outputs": [
    {
     "data": {
      "text/plain": [
       "(array([[ 0.04092496,  0.01376534,  0.00340346, -0.01489464],\n",
       "        [ 0.03732811, -0.00945846,  0.0139318 ,  0.04792358],\n",
       "        [ 0.02636443, -0.0404729 , -0.0351677 ,  0.0380623 ],\n",
       "        ...,\n",
       "        [ 0.02228424, -0.02876839,  0.03002606,  0.02923507],\n",
       "        [ 0.01863917, -0.05737385, -0.00149062,  0.00443681],\n",
       "        [ 0.01846566, -0.02031155, -0.0107112 , -0.07200973]]),\n",
       " array([134.22063139,  45.11418924,  44.12186721,  43.46024473]),\n",
       " array([[ 0.49051723,  0.50606001,  0.49179054,  0.51131026],\n",
       "        [ 0.46639706, -0.62431281, -0.35771822,  0.51453375],\n",
       "        [ 0.72212065, -0.05770065,  0.05366654, -0.68726436],\n",
       "        [ 0.14285796,  0.59228998, -0.79202251,  0.03852966]]))"
      ]
     },
     "execution_count": 42,
     "metadata": {},
     "output_type": "execute_result"
    }
   ],
   "source": [
    "def snapshot(X):\n",
    "    S, V = np.linalg.eig(X.T@X)\n",
    "    # Sigma contains square roots of eigenvalues of matrix A.T*A\n",
    "    S = np.sqrt(S)\n",
    "    VT = V.T\n",
    "    U = X @ V @ np.linalg.inv(np.diag(S))\n",
    "    return U, S, VT\n",
    "snapshot(A)"
   ]
  },
  {
   "cell_type": "code",
   "execution_count": null,
   "metadata": {},
   "outputs": [],
   "source": []
  }
 ],
 "metadata": {
  "kernelspec": {
   "display_name": "Python 3",
   "language": "python",
   "name": "python3"
  },
  "language_info": {
   "codemirror_mode": {
    "name": "ipython",
    "version": 3
   },
   "file_extension": ".py",
   "mimetype": "text/x-python",
   "name": "python",
   "nbconvert_exporter": "python",
   "pygments_lexer": "ipython3",
   "version": "3.8.5"
  }
 },
 "nbformat": 4,
 "nbformat_minor": 4
}
