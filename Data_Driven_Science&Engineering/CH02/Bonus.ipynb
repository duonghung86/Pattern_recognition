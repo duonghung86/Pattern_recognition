{
 "cells": [
  {
   "cell_type": "code",
   "execution_count": 3,
   "outputs": [],
   "source": [
    "import numpy as np"
   ],
   "metadata": {
    "collapsed": false,
    "pycharm": {
     "name": "#%%\n"
    }
   }
  },
  {
   "cell_type": "markdown",
   "metadata": {
    "collapsed": true,
    "pycharm": {
     "name": "#%% md\n"
    }
   },
   "source": [
    "1. Generate an n by m matrix, with a prescribed column rank, r, that is less than m. For example,\n",
    "\tgenerate a 10 by 5 matrix with column rank 3."
   ]
  },
  {
   "cell_type": "code",
   "execution_count": 4,
   "outputs": [
    {
     "name": "stdout",
     "output_type": "stream",
     "text": [
      "[[2 1 2]\n",
      " [1 2 1]\n",
      " [2 2 2]\n",
      " [0 0 0]\n",
      " [1 2 0]\n",
      " [1 0 0]\n",
      " [1 1 2]\n",
      " [2 0 2]\n",
      " [2 1 1]\n",
      " [1 1 2]]\n",
      "(10, 1)\n",
      "(10, 1)\n",
      "[[2.         1.         2.         1.95816766 0.05267908]\n",
      " [1.         2.         1.         0.97908383 0.02633954]\n",
      " [2.         2.         2.         1.95816766 0.05267908]\n",
      " [0.         0.         0.         0.         0.        ]\n",
      " [1.         2.         0.         0.97908383 0.02633954]\n",
      " [1.         0.         0.         0.97908383 0.02633954]\n",
      " [1.         1.         2.         0.97908383 0.02633954]\n",
      " [2.         0.         2.         1.95816766 0.05267908]\n",
      " [2.         1.         1.         1.95816766 0.05267908]\n",
      " [1.         1.         2.         0.97908383 0.02633954]]\n"
     ]
    },
    {
     "data": {
      "text/plain": "3"
     },
     "execution_count": 4,
     "metadata": {},
     "output_type": "execute_result"
    }
   ],
   "source": [
    "n, m, r = 10, 5, 3\n",
    "#generate\n",
    "A = np.random.randint(0,3, size=(n,r))\n",
    "print(A)\n",
    "for i in range(r,m):\n",
    "    k = np.random.rand()\n",
    "    rdm_col = np.random.randint(r)\n",
    "    new_col = k*A[:,rdm_col].reshape(-1,1)\n",
    "    #print(new_col.shape)\n",
    "    A = np.hstack((A, new_col))\n",
    "print(A)\n",
    "np.linalg.matrix_rank(A)"
   ],
   "metadata": {
    "collapsed": false,
    "pycharm": {
     "name": "#%%\n"
    }
   }
  },
  {
   "cell_type": "markdown",
   "source": [
    "2. Use a random projection onto a n by r matrix and a n by r + 1 matrix. You can use either a Gaussian\n",
    "\tprojection or a random matrix with +1 and -1 entries chosen independently."
   ],
   "metadata": {
    "collapsed": false,
    "pycharm": {
     "name": "#%% md\n"
    }
   }
  },
  {
   "cell_type": "code",
   "execution_count": 16,
   "outputs": [
    {
     "data": {
      "text/plain": "array([[-0.03196649, -2.01459975, -0.85031436],\n       [-2.67329047,  0.15025581, -0.18170791],\n       [-0.29722179,  0.75608293,  0.40071303]])"
     },
     "execution_count": 16,
     "metadata": {},
     "output_type": "execute_result"
    }
   ],
   "source": [
    "# Gaussian distribution\n",
    "np.random.normal(0, 1, size=(r,r))"
   ],
   "metadata": {
    "collapsed": false,
    "pycharm": {
     "name": "#%%\n"
    }
   }
  },
  {
   "cell_type": "code",
   "execution_count": null,
   "outputs": [],
   "source": [
    "def rSVD(X,r,q,p):\n",
    "    # Step 1: Sample column space of X with P matrix\n",
    "    ny = X.shape[1]\n",
    "    # Gaussian with mean  =  0, sigma = 1\n",
    "    P = np.random.normal(0,1,(ny,r+p))\n",
    "\n",
    "    Z = X @ P\n",
    "    print('Rank(Z)',np.linalg.matrix_rank(Z))\n",
    "    for k in range(q):\n",
    "        Z = X @ (X.T @ Z)\n",
    "\n",
    "    Q, R = np.linalg.qr(Z,mode='reduced')\n",
    "\n",
    "    # Step 2: Compute SVD on projected Y = Q.T @ X\n",
    "    Y = Q.T @ X\n",
    "    UY, S, VT = np.linalg.svd(Y,full_matrices=0)\n",
    "    U = Q @ UY\n",
    "    print('Rank(Y)',np.linalg.matrix_rank(Y))\n",
    "    return U, S, VT\n",
    "\n",
    "q = 1   # Power iterations\n",
    "p = 5   # Oversampling parameter\n",
    "\n",
    "rU, rS, rVT = rSVD(A,r,q,p)\n",
    "np.linalg.matrix_rank(rU)"
   ],
   "metadata": {
    "collapsed": false,
    "pycharm": {
     "name": "#%%\n"
    }
   }
  },
  {
   "cell_type": "code",
   "execution_count": 18,
   "outputs": [
    {
     "data": {
      "text/plain": "array([[0, 1, 1],\n       [0, 1, 1],\n       [1, 1, 1],\n       [1, 1, 0],\n       [1, 1, 0],\n       [0, 0, 1],\n       [0, 1, 1],\n       [0, 0, 1],\n       [1, 0, 0],\n       [1, 0, 0]])"
     },
     "execution_count": 18,
     "metadata": {},
     "output_type": "execute_result"
    }
   ],
   "source": [
    "np.random.randint(0,2, size=(n,r))"
   ],
   "metadata": {
    "collapsed": false,
    "pycharm": {
     "name": "#%%\n"
    }
   }
  },
  {
   "cell_type": "markdown",
   "source": [
    "3. Compute the rank of the projection."
   ],
   "metadata": {
    "collapsed": false
   }
  }
 ],
 "metadata": {
  "kernelspec": {
   "name": "pycharm-b5750b70",
   "language": "python",
   "display_name": "PyCharm (Pattern_recognition)"
  },
  "language_info": {
   "codemirror_mode": {
    "name": "ipython",
    "version": 2
   },
   "file_extension": ".py",
   "mimetype": "text/x-python",
   "name": "python",
   "nbconvert_exporter": "python",
   "pygments_lexer": "ipython2",
   "version": "2.7.6"
  }
 },
 "nbformat": 4,
 "nbformat_minor": 0
}