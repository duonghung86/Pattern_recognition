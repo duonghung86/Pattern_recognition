{
 "cells": [
  {
   "cell_type": "markdown",
   "metadata": {
    "collapsed": true,
    "pycharm": {
     "name": "#%% md\n"
    }
   },
   "source": [
    "# Cross validation"
   ]
  },
  {
   "cell_type": "code",
   "execution_count": 2,
   "outputs": [],
   "source": [
    "import numpy as np\n",
    "import matplotlib.pyplot as plt\n",
    "from matplotlib.patches import Rectangle\n",
    "from matplotlib import rcParams\n",
    "rcParams.update({'font.size': 18})\n",
    "plt.rcParams['figure.figsize'] = [8,8]"
   ],
   "metadata": {
    "collapsed": false,
    "pycharm": {
     "name": "#%%\n"
    }
   }
  },
  {
   "cell_type": "code",
   "execution_count": 4,
   "outputs": [
    {
     "data": {
      "text/plain": "<Figure size 576x576 with 1 Axes>",
      "image/png": "[encoded data removed]"
     },
     "metadata": {
      "needs_background": "light"
     },
     "output_type": "display_data"
    }
   ],
   "source": [
    "# Parabolic model with training and test data\n",
    "n = 200\n",
    "L = 8\n",
    "x = np.linspace(0,L,n)\n",
    "x1 = x[:100]    # Train\n",
    "x2 = x[100:200] # Test\n",
    "n1 = len(x1)\n",
    "n2 = len(x2)\n",
    "ftrain = np.power(x1,2) # Train parabola x = [0,4]\n",
    "ftest = np.power(x2,2)  # Test parabola x = [4,8]\n",
    "\n",
    "plt.plot(x1,ftrain,color='r',linewidth=2)\n",
    "plt.plot(x2,ftest,color='b',linewidth=2)\n",
    "plt.show()"
   ],
   "metadata": {
    "collapsed": false,
    "pycharm": {
     "name": "#%%\n"
    }
   }
  },
  {
   "cell_type": "code",
   "execution_count": 5,
   "outputs": [],
   "source": [
    "M = 30 # number of model terms\n",
    "Eni = np.zeros((100,M))\n",
    "Ene = np.zeros((100,M))\n",
    "for jj in range(M):\n",
    "    phi_i = np.zeros((n1,jj+1))\n",
    "    phi_e = np.zeros((n2,jj+1))\n",
    "    for j in range(jj):\n",
    "        phi_i[:,j] = np.power(x1,j) # interpolation key\n",
    "        phi_e[:,j] = np.power(x2,j) # extrapolation key\n",
    "\n",
    "    f = np.power(x,2)\n",
    "    for j in range(100):\n",
    "        fni = np.power(x1,2) + 0.1*np.random.randn(n1) # interpolation\n",
    "        fne = np.power(x2,2) + 0.1*np.random.randn(n2) # extrapolation\n",
    "\n",
    "        ani = np.linalg.pinv(phi_i) @ fni\n",
    "        fnai = phi_i @ ani\n",
    "        Eni[j,jj] = np.linalg.norm(ftrain-fnai,ord=2)/np.linalg.norm(ftrain,ord=2)\n",
    "\n",
    "        fnae = phi_e @ ani # use loadings from x in [0,4]\n",
    "        Ene[j,jj] = np.linalg.norm(ftest-fnae,ord=2)/np.linalg.norm(ftest,ord=2)\n",
    "\n",
    "\n"
   ],
   "metadata": {
    "collapsed": false,
    "pycharm": {
     "name": "#%%\n"
    }
   }
  }
 ],
 "metadata": {
  "kernelspec": {
   "display_name": "Python 3",
   "language": "python",
   "name": "python3"
  },
  "language_info": {
   "codemirror_mode": {
    "name": "ipython",
    "version": 2
   },
   "file_extension": ".py",
   "mimetype": "text/x-python",
   "name": "python",
   "nbconvert_exporter": "python",
   "pygments_lexer": "ipython2",
   "version": "2.7.6"
  }
 },
 "nbformat": 4,
 "nbformat_minor": 0
}