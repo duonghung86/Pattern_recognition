{
 "cells": [
  {
   "cell_type": "code",
   "execution_count": 1,
   "metadata": {},
   "outputs": [],
   "source": [
    "import logging\n",
    "from linkedin_jobs_scraper import LinkedinScraper\n",
    "from linkedin_jobs_scraper.events import Events, EventData\n",
    "from linkedin_jobs_scraper.query import Query, QueryOptions, QueryFilters\n",
    "from linkedin_jobs_scraper.filters import RelevanceFilters, TimeFilters, TypeFilters, ExperienceLevelFilters\n",
    "import pandas as pd\n",
    "import numpy as np"
   ]
  },
  {
   "cell_type": "code",
   "execution_count": 2,
   "metadata": {},
   "outputs": [
    {
     "data": {
      "text/plain": [
       "-1.7045123290727713"
      ]
     },
     "execution_count": 2,
     "metadata": {},
     "output_type": "execute_result"
    }
   ],
   "source": [
    "np.random.normal(0,2)"
   ]
  },
  {
   "cell_type": "markdown",
   "metadata": {},
   "source": [
    "job_id, link, apply_link, title, company, place, description, description_html, date, seniority_level, job_function, employment_type, industries"
   ]
  },
  {
   "cell_type": "code",
   "execution_count": 3,
   "metadata": {},
   "outputs": [],
   "source": [
    "# Change root logger level (default is WARN)\n",
    "logging.basicConfig(level = logging.INFO)\n",
    "\n",
    "\n",
    "def on_data(data: EventData):\n",
    "    global df\n",
    "    print('[ON_DATA]', data.title, data.company, data.date, data.link,data.description[:20])\n",
    "    record = {'title':data.title, \n",
    "              'place': data.place,\n",
    "              'company':data.company, \n",
    "              'posting_date':data.date,\n",
    "              'link': data.link,\n",
    "              'job_description': data.description, \n",
    "              'seniority_level': data.seniority_level, \n",
    "              'job_function': data.job_function, \n",
    "              'employment_type': data.employment_type , \n",
    "              'industries': data.industries\n",
    "             }\n",
    "    df.append(record)\n",
    "\n",
    "def on_error(error):\n",
    "    print('[ON_ERROR]', error)\n",
    "\n",
    "\n",
    "def on_end():\n",
    "    print('[ON_END]')\n"
   ]
  },
  {
   "cell_type": "code",
   "execution_count": 6,
   "metadata": {},
   "outputs": [],
   "source": [
    "def scrap2df(scrap_speed = 1, job_title = \"Data\", n_records= 3):\n",
    "    global df\n",
    "    df = []\n",
    "    scraper = LinkedinScraper(\n",
    "        chrome_executable_path=None, # Custom Chrome executable path (e.g. /foo/bar/bin/chromedriver) \n",
    "        chrome_options=None,  # Custom Chrome options here\n",
    "        headless=True,  # Overrides headless mode only if chrome_options is None\n",
    "        max_workers=1,  # How many threads will be spawned to run queries concurrently (one Chrome driver for each thread)\n",
    "        slow_mo=scrap_speed+np.random.normal(0,2),  # Slow down the scraper to avoid 'Too many requests (429)' errors\n",
    "    )\n",
    "\n",
    "    # Add event listeners\n",
    "    scraper.on(Events.DATA, on_data)\n",
    "    scraper.on(Events.ERROR, on_error)\n",
    "    scraper.on(Events.END, on_end)\n",
    "\n",
    "    queries = [\n",
    "        Query(\n",
    "            query = job_title,\n",
    "            options=QueryOptions(\n",
    "                locations=['United States'],\n",
    "                optimize=True,\n",
    "                limit= n_records,\n",
    "                filters=QueryFilters(\n",
    "                    relevance=RelevanceFilters.RELEVANT,\n",
    "                    #time=TimeFilters.MONTH,\n",
    "                    type=[TypeFilters.FULL_TIME, TypeFilters.INTERNSHIP],\n",
    "                    experience=[ExperienceLevelFilters.INTERNSHIP, ExperienceLevelFilters.ENTRY_LEVEL],\n",
    "                )\n",
    "            )\n",
    "        ),\n",
    "    ]\n",
    "\n",
    "    scraper.run(queries)\n",
    "    df = pd.DataFrame.from_records(df)\n",
    "    return df"
   ]
  },
  {
   "cell_type": "code",
   "execution_count": 7,
   "metadata": {},
   "outputs": [
    {
     "name": "stderr",
     "output_type": "stream",
     "text": [
      "INFO:li:scraper:('Using strategy AnonymousStrategy',)\n",
      "INFO:li:scraper:('Starting new query', \"Query(query=Data Scientist options=QueryOptions(limit=1000 locations=['United States'] filters=QueryFilters(relevance=RelevanceFilters.RELEVANT type=[<TypeFilters.FULL_TIME: 'F'>, <TypeFilters.INTERNSHIP: 'I'>] experience=[<ExperienceLevelFilters.INTERNSHIP: '1'>, <ExperienceLevelFilters.ENTRY_LEVEL: '2'>]) optimize=True))\")\n",
      "INFO:li:scraper:('[Data Scientist][United States]', 'Opening https://www.linkedin.com/jobs/search?keywords=Data+Scientist&location=United+States&sortBy=R&f_JT=F%2CI&f_E=1%2C2')\n",
      "INFO:li:scraper:('[Data Scientist][United States]', 'Found 25 jobs')\n",
      "INFO:li:scraper:('[Data Scientist][United States][1]', 'Processed')\n"
     ]
    },
    {
     "name": "stdout",
     "output_type": "stream",
     "text": [
      "[ON_DATA] Data Scientist Nike 2021-02-22 https://www.linkedin.com/jobs/view/data-scientist-at-nike-2423112640?refId=d374eb4a-51c3-46d7-a5da-30f0f6e69a26&trackingId=ur7ZxWIieyFsMtA3qn%2BItQ%3D%3D&position=1&pageNum=0&trk=public_jobs_job-result-card_result-card_full-click Analytics is a compe\n"
     ]
    },
    {
     "name": "stderr",
     "output_type": "stream",
     "text": [
      "INFO:li:scraper:('[Data Scientist][United States][2]', 'Processed')\n"
     ]
    },
    {
     "name": "stdout",
     "output_type": "stream",
     "text": [
      "[ON_DATA] Growth Data Scientist RunBuggy 2021-02-23 https://www.linkedin.com/jobs/view/growth-data-scientist-at-runbuggy-2423187589?refId=d374eb4a-51c3-46d7-a5da-30f0f6e69a26&trackingId=P2kuLCJCUKF6wbugw%2FIdVg%3D%3D&position=2&pageNum=0&trk=public_jobs_job-result-card_result-card_full-click Analytics is a compe\n"
     ]
    },
    {
     "name": "stderr",
     "output_type": "stream",
     "text": [
      "INFO:li:scraper:('[Data Scientist][United States][3]', 'Processed')\n"
     ]
    },
    {
     "name": "stdout",
     "output_type": "stream",
     "text": [
      "[ON_DATA] Junior Data Scientist Chubb 2021-02-23 https://www.linkedin.com/jobs/view/junior-data-scientist-at-chubb-2435170511?refId=d374eb4a-51c3-46d7-a5da-30f0f6e69a26&trackingId=iqa%2FJAHz6380oe%2FQ9TubWA%3D%3D&position=3&pageNum=0&trk=public_jobs_job-result-card_result-card_full-click Growth Data Scientis\n"
     ]
    },
    {
     "name": "stderr",
     "output_type": "stream",
     "text": [
      "INFO:li:scraper:('[Data Scientist][United States][4]', 'Processed')\n"
     ]
    },
    {
     "name": "stdout",
     "output_type": "stream",
     "text": [
      "[ON_DATA] Data Scientist/Engineer Oracle 2021-02-23 https://www.linkedin.com/jobs/view/data-scientist-engineer-at-oracle-2435160281?refId=d374eb4a-51c3-46d7-a5da-30f0f6e69a26&trackingId=1RDMjEfPFAyVGMocjQo2EA%3D%3D&position=4&pageNum=0&trk=public_jobs_job-result-card_result-card_full-click Job Description\n",
      "\n",
      "Chu\n"
     ]
    },
    {
     "name": "stderr",
     "output_type": "stream",
     "text": [
      "INFO:li:scraper:('[Data Scientist][United States][5]', 'Processed')\n"
     ]
    },
    {
     "name": "stdout",
     "output_type": "stream",
     "text": [
      "[ON_DATA] Data Scientist HiLabs Inc. 2021-02-23 https://www.linkedin.com/jobs/view/data-scientist-at-hilabs-inc-2424211455?refId=d374eb4a-51c3-46d7-a5da-30f0f6e69a26&trackingId=6Pd9VqPd4x%2BdxlD2QsOG6w%3D%3D&position=5&pageNum=0&trk=public_jobs_job-result-card_result-card_full-click Designs, develops an\n"
     ]
    },
    {
     "name": "stderr",
     "output_type": "stream",
     "text": [
      "INFO:li:scraper:('[Data Scientist][United States][6]', 'Processed')\n"
     ]
    },
    {
     "name": "stdout",
     "output_type": "stream",
     "text": [
      "[ON_DATA] Data Scientist, Insurance Tesla 2020-11-06 https://www.linkedin.com/jobs/view/data-scientist-insurance-at-tesla-2314381502?refId=d374eb4a-51c3-46d7-a5da-30f0f6e69a26&trackingId=Yyszg1UqHwL6iEIDSZ3WHg%3D%3D&position=6&pageNum=0&trk=public_jobs_job-result-card_result-card_full-click Company Overview\n",
      "\n",
      "Hi\n"
     ]
    },
    {
     "name": "stderr",
     "output_type": "stream",
     "text": [
      "INFO:li:scraper:('[Data Scientist][United States][7]', 'Processed')\n"
     ]
    },
    {
     "name": "stdout",
     "output_type": "stream",
     "text": [
      "[ON_DATA] Data Scientist Walmart 2021-02-22 https://www.linkedin.com/jobs/view/data-scientist-at-walmart-2423136453?refId=d374eb4a-51c3-46d7-a5da-30f0f6e69a26&trackingId=yNB4%2B%2FkZrMlszqcVDnuTJg%3D%3D&position=7&pageNum=0&trk=public_jobs_job-result-card_result-card_full-click THE ROLE\n",
      "\n",
      "Tesla's mi\n"
     ]
    },
    {
     "name": "stderr",
     "output_type": "stream",
     "text": [
      "INFO:li:scraper:('[Data Scientist][United States][8]', 'Processed')\n"
     ]
    },
    {
     "name": "stdout",
     "output_type": "stream",
     "text": [
      "[ON_DATA] DATA SCIENTIST Best Buy 2021-02-20 https://www.linkedin.com/jobs/view/data-scientist-at-best-buy-2431864774?refId=d374eb4a-51c3-46d7-a5da-30f0f6e69a26&trackingId=SgBK%2BPrNKY3lbahqJhPISQ%3D%3D&position=8&pageNum=0&trk=public_jobs_job-result-card_result-card_full-click What You'll Do\n",
      "\n",
      "Posi\n"
     ]
    },
    {
     "name": "stderr",
     "output_type": "stream",
     "text": [
      "INFO:li:scraper:('[Data Scientist][United States][9]', 'Processed')\n"
     ]
    },
    {
     "name": "stdout",
     "output_type": "stream",
     "text": [
      "[ON_DATA] Data Scientist Intern  LinkedIn 2021-02-06 https://www.linkedin.com/jobs/view/data-scientist-intern-at-linkedin-2185778500?refId=d374eb4a-51c3-46d7-a5da-30f0f6e69a26&trackingId=WH2pLQjprUxqtl4nQ30M4g%3D%3D&position=9&pageNum=0&trk=public_jobs_job-result-card_result-card_full-click We believe that our \n"
     ]
    },
    {
     "name": "stderr",
     "output_type": "stream",
     "text": [
      "INFO:li:scraper:('[Data Scientist][United States][10]', 'Processed')\n"
     ]
    },
    {
     "name": "stdout",
     "output_type": "stream",
     "text": [
      "[ON_DATA] Data Scientist Blizzard Entertainment 2021-02-23 https://www.linkedin.com/jobs/view/data-scientist-at-blizzard-entertainment-2424255413?refId=d374eb4a-51c3-46d7-a5da-30f0f6e69a26&trackingId=lsNG8aI8Ji4%2F73Ob%2F%2Fkp7A%3D%3D&position=10&pageNum=0&trk=public_jobs_job-result-card_result-card_full-click Data Scientist Inter\n"
     ]
    },
    {
     "name": "stderr",
     "output_type": "stream",
     "text": [
      "INFO:li:scraper:('[Data Scientist][United States][11]', 'Processed')\n"
     ]
    },
    {
     "name": "stdout",
     "output_type": "stream",
     "text": [
      "[ON_DATA] Data Scientist Cognizant 2021-02-22 https://www.linkedin.com/jobs/view/data-scientist-at-cognizant-2434154977?refId=d374eb4a-51c3-46d7-a5da-30f0f6e69a26&trackingId=bySUn2jAeAa7Gv3sEUO9PQ%3D%3D&position=11&pageNum=0&trk=public_jobs_job-result-card_result-card_full-click Team Name\n",
      "\n",
      "Service T\n"
     ]
    },
    {
     "name": "stderr",
     "output_type": "stream",
     "text": [
      "INFO:li:scraper:('[Data Scientist][United States][12]', 'Processed')\n"
     ]
    },
    {
     "name": "stdout",
     "output_type": "stream",
     "text": [
      "[ON_DATA] Artificial Intelligence / Machine Learning Engineer Lockheed Martin 2021-02-23 https://www.linkedin.com/jobs/view/artificial-intelligence-machine-learning-engineer-at-lockheed-martin-2435175699?refId=d374eb4a-51c3-46d7-a5da-30f0f6e69a26&trackingId=t%2BjRQKdTKriutWnIfHNUTQ%3D%3D&position=12&pageNum=0&trk=public_jobs_job-result-card_result-card_full-click Cognizant is looking\n"
     ]
    },
    {
     "name": "stderr",
     "output_type": "stream",
     "text": [
      "INFO:li:scraper:('[Data Scientist][United States][13]', 'Processed')\n"
     ]
    },
    {
     "name": "stdout",
     "output_type": "stream",
     "text": [
      "[ON_DATA] Data Scientist iRobot 2021-02-19 https://www.linkedin.com/jobs/view/data-scientist-at-irobot-2423195762?refId=d374eb4a-51c3-46d7-a5da-30f0f6e69a26&trackingId=v2A%2BhdAA4KF8tpMlw7v66g%3D%3D&position=13&pageNum=0&trk=public_jobs_job-result-card_result-card_full-click When it comes to usi\n"
     ]
    },
    {
     "name": "stderr",
     "output_type": "stream",
     "text": [
      "INFO:li:scraper:('[Data Scientist][United States][14]', 'Processed')\n"
     ]
    },
    {
     "name": "stdout",
     "output_type": "stream",
     "text": [
      "[ON_DATA] Associate Data Scientist Chewy 2021-02-22 https://www.linkedin.com/jobs/view/associate-data-scientist-at-chewy-2422806180?refId=d374eb4a-51c3-46d7-a5da-30f0f6e69a26&trackingId=itU2pjQejwEt2l0q8UxrVA%3D%3D&position=14&pageNum=0&trk=public_jobs_job-result-card_result-card_full-click Introduction\n",
      "\n",
      "Introd\n"
     ]
    },
    {
     "name": "stderr",
     "output_type": "stream",
     "text": [
      "INFO:li:scraper:('[Data Scientist][United States][15]', 'Processed')\n"
     ]
    },
    {
     "name": "stdout",
     "output_type": "stream",
     "text": [
      "[ON_DATA] Data Scientist Lowe's Companies, Inc. 2021-02-22 https://www.linkedin.com/jobs/view/data-scientist-at-lowe-s-companies-inc-2434835755?refId=d374eb4a-51c3-46d7-a5da-30f0f6e69a26&trackingId=4TXl1zy6yJZ6fmzm2Y%2FJqw%3D%3D&position=15&pageNum=0&trk=public_jobs_job-result-card_result-card_full-click Our Opportunity\n",
      "\n",
      "Che\n"
     ]
    },
    {
     "name": "stderr",
     "output_type": "stream",
     "text": [
      "INFO:li:scraper:('[Data Scientist][United States][16]', 'Processed')\n"
     ]
    },
    {
     "name": "stdout",
     "output_type": "stream",
     "text": [
      "[ON_DATA] Data Scientist Intern Clara Foods™ 2021-02-23 https://www.linkedin.com/jobs/view/data-scientist-intern-at-clara-foods%E2%84%A2-2424204646?refId=d374eb4a-51c3-46d7-a5da-30f0f6e69a26&trackingId=w%2FWidiEJxURbaBlxgcMBnA%3D%3D&position=16&pageNum=0&trk=public_jobs_job-result-card_result-card_full-click Job Summary\n",
      "\n",
      "The pri\n"
     ]
    },
    {
     "name": "stderr",
     "output_type": "stream",
     "text": [
      "INFO:li:scraper:('[Data Scientist][United States][17]', 'Processed')\n"
     ]
    },
    {
     "name": "stdout",
     "output_type": "stream",
     "text": [
      "[ON_DATA] Data Scientist Amgen 2021-02-23 https://www.linkedin.com/jobs/view/data-scientist-at-amgen-2435034627?refId=d374eb4a-51c3-46d7-a5da-30f0f6e69a26&trackingId=3OCWhE7ioKcASxXCL3vEnQ%3D%3D&position=17&pageNum=0&trk=public_jobs_job-result-card_result-card_full-click Data Scientist, Inte\n"
     ]
    },
    {
     "name": "stderr",
     "output_type": "stream",
     "text": [
      "INFO:li:scraper:('[Data Scientist][United States][18]', 'Processed')\n"
     ]
    },
    {
     "name": "stdout",
     "output_type": "stream",
     "text": [
      "[ON_DATA] Machine Learning Engineer - Remote Position Zillow 2021-02-16 https://www.linkedin.com/jobs/view/machine-learning-engineer-remote-position-at-zillow-2414718711?refId=d374eb4a-51c3-46d7-a5da-30f0f6e69a26&trackingId=m1Nvccu5UyEQPseAWY%2B%2BDg%3D%3D&position=18&pageNum=0&trk=public_jobs_job-result-card_result-card_full-click Career CategoryStrat\n"
     ]
    },
    {
     "name": "stderr",
     "output_type": "stream",
     "text": [
      "INFO:li:scraper:('[Data Scientist][United States][19]', 'Processed')\n"
     ]
    },
    {
     "name": "stdout",
     "output_type": "stream",
     "text": [
      "[ON_DATA] Data Scientist Itron, Inc. 2021-02-23 https://www.linkedin.com/jobs/view/data-scientist-at-itron-inc-2422856751?refId=d374eb4a-51c3-46d7-a5da-30f0f6e69a26&trackingId=dGfE4Ly7%2B0Zs58NefafHHA%3D%3D&position=19&pageNum=0&trk=public_jobs_job-result-card_result-card_full-click About The Team\n",
      "\n",
      "Zill\n"
     ]
    },
    {
     "name": "stderr",
     "output_type": "stream",
     "text": [
      "INFO:li:scraper:('[Data Scientist][United States][20]', 'Processed')\n"
     ]
    },
    {
     "name": "stdout",
     "output_type": "stream",
     "text": [
      "[ON_DATA] Data Scientist T-Mobile 2021-02-22 https://www.linkedin.com/jobs/view/data-scientist-at-t-mobile-2421693752?refId=d374eb4a-51c3-46d7-a5da-30f0f6e69a26&trackingId=%2FiKxKFmM6NHvzE2ySFtfuw%3D%3D&position=20&pageNum=0&trk=public_jobs_job-result-card_result-card_full-click The forefront of a r\n"
     ]
    },
    {
     "name": "stderr",
     "output_type": "stream",
     "text": [
      "INFO:li:scraper:('[Data Scientist][United States][21]', 'Processed')\n"
     ]
    },
    {
     "name": "stdout",
     "output_type": "stream",
     "text": [
      "[ON_DATA] Machine Learning Engineer Vimeo 2021-02-22 https://www.linkedin.com/jobs/view/machine-learning-engineer-at-vimeo-2421597714?refId=d374eb4a-51c3-46d7-a5da-30f0f6e69a26&trackingId=Eaxkc2emk535oPh2VIMBog%3D%3D&position=21&pageNum=0&trk=public_jobs_job-result-card_result-card_full-click Job Description\n",
      "\n",
      "T-M\n"
     ]
    },
    {
     "name": "stderr",
     "output_type": "stream",
     "text": [
      "INFO:li:scraper:('[Data Scientist][United States][22]', 'Processed')\n"
     ]
    },
    {
     "name": "stdout",
     "output_type": "stream",
     "text": [
      "[ON_DATA] Machine Learning Engineer — Computer Vision Honeywell 2020-12-21 https://www.linkedin.com/jobs/view/machine-learning-engineer-%E2%80%94-computer-vision-at-honeywell-2354372117?refId=d374eb4a-51c3-46d7-a5da-30f0f6e69a26&trackingId=p0QCdbmhBvDnKDRkgKQRqw%3D%3D&position=22&pageNum=0&trk=public_jobs_job-result-card_result-card_full-click Vimeo is looking for\n"
     ]
    },
    {
     "name": "stderr",
     "output_type": "stream",
     "text": [
      "INFO:li:scraper:('[Data Scientist][United States][23]', 'Processed')\n"
     ]
    },
    {
     "name": "stdout",
     "output_type": "stream",
     "text": [
      "[ON_DATA] Data Modeling Scientist SES 2021-02-22 https://www.linkedin.com/jobs/view/data-modeling-scientist-at-ses-2434722319?refId=d374eb4a-51c3-46d7-a5da-30f0f6e69a26&trackingId=h06Iz0tGApN1u05REH%2FP8w%3D%3D&position=23&pageNum=0&trk=public_jobs_job-result-card_result-card_full-click Join a team recogniz\n"
     ]
    },
    {
     "name": "stderr",
     "output_type": "stream",
     "text": [
      "INFO:li:scraper:('[Data Scientist][United States][24]', 'Processed')\n"
     ]
    },
    {
     "name": "stdout",
     "output_type": "stream",
     "text": [
      "[ON_DATA] Data Scientist Experian 2021-02-22 https://www.linkedin.com/jobs/view/data-scientist-at-experian-2423186268?refId=d374eb4a-51c3-46d7-a5da-30f0f6e69a26&trackingId=GZdeEDT4yKXfV3a%2B1lgD0g%3D%3D&position=24&pageNum=0&trk=public_jobs_job-result-card_result-card_full-click Data Modeling Scient\n"
     ]
    },
    {
     "name": "stderr",
     "output_type": "stream",
     "text": [
      "INFO:li:scraper:('[Data Scientist][United States][25]', 'Processed')\n",
      "INFO:li:scraper:('[Data Scientist][United States][25]', 'Checking for new jobs to load...')\n"
     ]
    },
    {
     "name": "stdout",
     "output_type": "stream",
     "text": [
      "[ON_DATA] Data Scientist Whirlpool Corporation 2021-02-18 https://www.linkedin.com/jobs/view/data-scientist-at-whirlpool-corporation-2428110938?refId=d374eb4a-51c3-46d7-a5da-30f0f6e69a26&trackingId=pawPS8IaUMKkWoY45Sokqg%3D%3D&position=25&pageNum=0&trk=public_jobs_job-result-card_result-card_full-click About Us, But We’ll \n"
     ]
    },
    {
     "name": "stderr",
     "output_type": "stream",
     "text": [
      "INFO:li:scraper:('[Data Scientist][United States][25]', 'Found 48 jobs')\n",
      "INFO:li:scraper:('[Data Scientist][United States][26]', 'Processed')\n"
     ]
    },
    {
     "name": "stdout",
     "output_type": "stream",
     "text": [
      "[ON_DATA] Data Scientist Intern Umba 2021-02-23 https://www.linkedin.com/jobs/view/data-scientist-intern-at-umba-2435157906?refId=306f9ff7-2daf-4adf-8764-a6e432583a4a&trackingId=dZvJ1rMTpQbNR17eHD9M9g%3D%3D&position=1&pageNum=1&trk=public_jobs_job-result-card_result-card_full-click Requisition ID: 4164\n"
     ]
    },
    {
     "name": "stderr",
     "output_type": "stream",
     "text": [
      "INFO:li:scraper:('[Data Scientist][United States][27]', 'Processed')\n"
     ]
    },
    {
     "name": "stdout",
     "output_type": "stream",
     "text": [
      "[ON_DATA] Data Science Full Time Opportunity Wayfair 2021-02-15 https://www.linkedin.com/jobs/view/data-science-full-time-opportunity-at-wayfair-2424399728?refId=306f9ff7-2daf-4adf-8764-a6e432583a4a&trackingId=KV7%2FLSjPRdJ%2B2%2BR9l8M4JQ%3D%3D&position=2&pageNum=1&trk=public_jobs_job-result-card_result-card_full-click UMBA is looking for \n"
     ]
    },
    {
     "name": "stderr",
     "output_type": "stream",
     "text": [
      "INFO:li:scraper:('[Data Scientist][United States][28]', 'Processed')\n"
     ]
    },
    {
     "name": "stdout",
     "output_type": "stream",
     "text": [
      "[ON_DATA] Machine Learning Engineer - Risk TikTok 2021-02-04 https://www.linkedin.com/jobs/view/machine-learning-engineer-risk-at-tiktok-2407704411?refId=306f9ff7-2daf-4adf-8764-a6e432583a4a&trackingId=hp6PbTyiedOprK61jSlLkQ%3D%3D&position=3&pageNum=1&trk=public_jobs_job-result-card_result-card_full-click Data Science & Machi\n"
     ]
    },
    {
     "name": "stderr",
     "output_type": "stream",
     "text": [
      "INFO:li:scraper:('[Data Scientist][United States][29]', 'Processed')\n"
     ]
    },
    {
     "name": "stdout",
     "output_type": "stream",
     "text": [
      "[ON_DATA] Machine Learning Engineer Numbrs 2021-02-09 https://www.linkedin.com/jobs/view/machine-learning-engineer-at-numbrs-2416539405?refId=306f9ff7-2daf-4adf-8764-a6e432583a4a&trackingId=3HCy5MtWpDf4HNTPj%2FGLhg%3D%3D&position=4&pageNum=1&trk=public_jobs_job-result-card_result-card_full-click TikTok is the leadin\n"
     ]
    },
    {
     "name": "stderr",
     "output_type": "stream",
     "text": [
      "INFO:li:scraper:('[Data Scientist][United States][30]', 'Processed')\n"
     ]
    },
    {
     "name": "stdout",
     "output_type": "stream",
     "text": [
      "[ON_DATA] Machine Learning Engineer VeriCrypt 2021-02-18 https://www.linkedin.com/jobs/view/machine-learning-engineer-at-vericrypt-2407173287?refId=306f9ff7-2daf-4adf-8764-a6e432583a4a&trackingId=0YCW7oBUBwagYm02TrNE9w%3D%3D&position=5&pageNum=1&trk=public_jobs_job-result-card_result-card_full-click Careers details\n",
      "\n",
      "Num\n"
     ]
    },
    {
     "name": "stderr",
     "output_type": "stream",
     "text": [
      "INFO:li:scraper:('[Data Scientist][United States][31]', 'Processed')\n"
     ]
    },
    {
     "name": "stdout",
     "output_type": "stream",
     "text": [
      "[ON_DATA] Data Scientist Cisco Meraki 2021-02-18 https://www.linkedin.com/jobs/view/data-scientist-at-cisco-meraki-2416450720?refId=306f9ff7-2daf-4adf-8764-a6e432583a4a&trackingId=EDGY9taAh3TJcOD79SgHJQ%3D%3D&position=6&pageNum=1&trk=public_jobs_job-result-card_result-card_full-click VeriCrypt is looking\n"
     ]
    },
    {
     "name": "stderr",
     "output_type": "stream",
     "text": [
      "INFO:li:scraper:('[Data Scientist][United States][32]', 'Processed')\n"
     ]
    },
    {
     "name": "stdout",
     "output_type": "stream",
     "text": [
      "[ON_DATA] Data Scientist Intermediate Geisinger 2021-02-23 https://www.linkedin.com/jobs/view/data-scientist-intermediate-at-geisinger-2435073259?refId=306f9ff7-2daf-4adf-8764-a6e432583a4a&trackingId=6kii52dYgBsD6zYFTSCTDw%3D%3D&position=7&pageNum=1&trk=public_jobs_job-result-card_result-card_full-click Cisco Meraki is revo\n"
     ]
    },
    {
     "name": "stderr",
     "output_type": "stream",
     "text": [
      "INFO:li:scraper:('[Data Scientist][United States][33]', 'Processed')\n"
     ]
    },
    {
     "name": "stdout",
     "output_type": "stream",
     "text": [
      "[ON_DATA] Data Scientist thredUP 2021-02-15 https://www.linkedin.com/jobs/view/data-scientist-at-thredup-2424832572?refId=306f9ff7-2daf-4adf-8764-a6e432583a4a&trackingId=CBu5ckJB0WWWqk1Ssi1tdA%3D%3D&position=8&pageNum=1&trk=public_jobs_job-result-card_result-card_full-click Job Summary\n",
      "\n",
      "Geising\n"
     ]
    },
    {
     "name": "stderr",
     "output_type": "stream",
     "text": [
      "INFO:li:scraper:('[Data Scientist][United States][34]', 'Processed')\n"
     ]
    },
    {
     "name": "stdout",
     "output_type": "stream",
     "text": [
      "[ON_DATA] Data Scientist Anthem, Inc. 2021-02-19 https://www.linkedin.com/jobs/view/data-scientist-at-anthem-inc-2430526600?refId=306f9ff7-2daf-4adf-8764-a6e432583a4a&trackingId=Dr4%2BahGv3TyagA99S2mquQ%3D%3D&position=9&pageNum=1&trk=public_jobs_job-result-card_result-card_full-click About ThredUP\n",
      "\n",
      "In 20\n"
     ]
    },
    {
     "name": "stderr",
     "output_type": "stream",
     "text": [
      "INFO:li:scraper:('[Data Scientist][United States][35]', 'Processed')\n"
     ]
    },
    {
     "name": "stdout",
     "output_type": "stream",
     "text": [
      "[ON_DATA] Machine Learning Engineer StockX 2021-02-08 https://www.linkedin.com/jobs/view/machine-learning-engineer-at-stockx-2411151993?refId=306f9ff7-2daf-4adf-8764-a6e432583a4a&trackingId=yQkeSFR37H8NE3BISiNTEQ%3D%3D&position=10&pageNum=1&trk=public_jobs_job-result-card_result-card_full-click Description\n",
      "\n",
      "SHIFT: \n"
     ]
    },
    {
     "name": "stderr",
     "output_type": "stream",
     "text": [
      "INFO:li:scraper:('[Data Scientist][United States][36]', 'Processed')\n"
     ]
    },
    {
     "name": "stdout",
     "output_type": "stream",
     "text": [
      "[ON_DATA] Machine Learning Engineer Intel Corporation 2020-10-15 https://www.linkedin.com/jobs/view/machine-learning-engineer-at-intel-corporation-2255282825?refId=306f9ff7-2daf-4adf-8764-a6e432583a4a&trackingId=q2ZJVFsgh%2FYYs2zJAyy9xg%3D%3D&position=11&pageNum=1&trk=public_jobs_job-result-card_result-card_full-click Machine Learning Eng\n"
     ]
    },
    {
     "name": "stderr",
     "output_type": "stream",
     "text": [
      "INFO:li:scraper:('[Data Scientist][United States][37]', 'Processed')\n"
     ]
    },
    {
     "name": "stdout",
     "output_type": "stream",
     "text": [
      "[ON_DATA] Machine Learning Engineer Clearcover 2021-02-09 https://www.linkedin.com/jobs/view/machine-learning-engineer-at-clearcover-2415706896?refId=306f9ff7-2daf-4adf-8764-a6e432583a4a&trackingId=JCvfJJNL3AhuKUB0V%2F9IUA%3D%3D&position=12&pageNum=1&trk=public_jobs_job-result-card_result-card_full-click Job Description\n",
      "\n",
      "The\n"
     ]
    },
    {
     "name": "stderr",
     "output_type": "stream",
     "text": [
      "INFO:li:scraper:('[Data Scientist][United States][38]', 'Processed')\n"
     ]
    },
    {
     "name": "stdout",
     "output_type": "stream",
     "text": [
      "[ON_DATA] Associate Data Scientist Engineer Gap Inc. 2021-02-22 https://www.linkedin.com/jobs/view/associate-data-scientist-engineer-at-gap-inc-2423149618?refId=306f9ff7-2daf-4adf-8764-a6e432583a4a&trackingId=Loc5oEnO%2FMH8ke%2BwNp1vFA%3D%3D&position=13&pageNum=1&trk=public_jobs_job-result-card_result-card_full-click Who's Clearcover?\n",
      "\n",
      "C\n"
     ]
    },
    {
     "name": "stderr",
     "output_type": "stream",
     "text": [
      "INFO:li:scraper:('[Data Scientist][United States][39]', 'Processed')\n"
     ]
    },
    {
     "name": "stdout",
     "output_type": "stream",
     "text": [
      "[ON_DATA] Data Scientist Faraday 2021-02-19 https://www.linkedin.com/jobs/view/data-scientist-at-faraday-2416732270?refId=306f9ff7-2daf-4adf-8764-a6e432583a4a&trackingId=lt3NKUo80ARqjd94FHeZjg%3D%3D&position=14&pageNum=1&trk=public_jobs_job-result-card_result-card_full-click About Gap Inc.\n",
      "\n",
      "Our \n"
     ]
    },
    {
     "name": "stderr",
     "output_type": "stream",
     "text": [
      "INFO:li:scraper:('[Data Scientist][United States][40]', 'Processed')\n"
     ]
    },
    {
     "name": "stdout",
     "output_type": "stream",
     "text": [
      "[ON_DATA] Data Scientist Tinder 2020-11-11 https://www.linkedin.com/jobs/view/data-scientist-at-tinder-2317534949?refId=306f9ff7-2daf-4adf-8764-a6e432583a4a&trackingId=L44hZnkVe01zLyWXgBnH3g%3D%3D&position=15&pageNum=1&trk=public_jobs_job-result-card_result-card_full-click About Faraday\n",
      "\n",
      "Farad\n"
     ]
    },
    {
     "name": "stderr",
     "output_type": "stream",
     "text": [
      "INFO:li:scraper:('[Data Scientist][United States][41]', 'Processed')\n"
     ]
    },
    {
     "name": "stdout",
     "output_type": "stream",
     "text": [
      "[ON_DATA] Data Scientist* 3M 2020-10-20 https://www.linkedin.com/jobs/view/data-scientist-at-3m-2267268748?refId=306f9ff7-2daf-4adf-8764-a6e432583a4a&trackingId=HBTEZhSFVQNOzIE5RpISTw%3D%3D&position=16&pageNum=1&trk=public_jobs_job-result-card_result-card_full-click Tinder brings people\n"
     ]
    },
    {
     "name": "stderr",
     "output_type": "stream",
     "text": [
      "INFO:li:scraper:('[Data Scientist][United States][42]', 'Processed')\n"
     ]
    },
    {
     "name": "stdout",
     "output_type": "stream",
     "text": [
      "[ON_DATA] Junior Data Scientist MassMutual 2021-02-20 https://www.linkedin.com/jobs/view/junior-data-scientist-at-massmutual-2431606589?refId=306f9ff7-2daf-4adf-8764-a6e432583a4a&trackingId=tFQpvhp4dBae%2F%2F0Vlpg1sQ%3D%3D&position=17&pageNum=1&trk=public_jobs_job-result-card_result-card_full-click Job Description\n",
      "\n",
      "Dat\n"
     ]
    },
    {
     "name": "stderr",
     "output_type": "stream",
     "text": [
      "INFO:li:scraper:('[Data Scientist][United States][43]', 'Processed')\n"
     ]
    },
    {
     "name": "stdout",
     "output_type": "stream",
     "text": [
      "[ON_DATA] Data Scientist HelloFresh 2021-02-14 https://www.linkedin.com/jobs/view/data-scientist-at-hellofresh-2405266586?refId=306f9ff7-2daf-4adf-8764-a6e432583a4a&trackingId=uTI3jxLI%2F%2BYYNeCvWvmc0g%3D%3D&position=18&pageNum=1&trk=public_jobs_job-result-card_result-card_full-click To finalize applicat\n"
     ]
    },
    {
     "name": "stderr",
     "output_type": "stream",
     "text": [
      "INFO:li:scraper:('[Data Scientist][United States][44]', 'Processed')\n"
     ]
    },
    {
     "name": "stdout",
     "output_type": "stream",
     "text": [
      "[ON_DATA] Data Scientist LendingTree 2021-01-27 https://www.linkedin.com/jobs/view/data-scientist-at-lendingtree-2398056692?refId=306f9ff7-2daf-4adf-8764-a6e432583a4a&trackingId=7Ovk2n10loHpO%2FAXSevIjw%3D%3D&position=19&pageNum=1&trk=public_jobs_job-result-card_result-card_full-click Come see what’s cook\n"
     ]
    },
    {
     "name": "stderr",
     "output_type": "stream",
     "text": [
      "INFO:li:scraper:('[Data Scientist][United States][45]', 'Processed')\n"
     ]
    },
    {
     "name": "stdout",
     "output_type": "stream",
     "text": [
      "[ON_DATA] Software and Machine Learning Engineer Massachusetts Institute of Technology 2021-01-08 https://www.linkedin.com/jobs/view/software-and-machine-learning-engineer-at-massachusetts-institute-of-technology-2373014045?refId=306f9ff7-2daf-4adf-8764-a6e432583a4a&trackingId=qVLRe6q94DqUeKP2VkvX6w%3D%3D&position=20&pageNum=1&trk=public_jobs_job-result-card_result-card_full-click THE POSITION\n",
      "\n",
      "Are yo\n"
     ]
    },
    {
     "name": "stderr",
     "output_type": "stream",
     "text": [
      "INFO:li:scraper:('[Data Scientist][United States][46]', 'Processed')\n"
     ]
    },
    {
     "name": "stdout",
     "output_type": "stream",
     "text": [
      "[ON_DATA] Data Scientist Georgia-Pacific LLC 2021-02-16 https://www.linkedin.com/jobs/view/data-scientist-at-georgia-pacific-llc-2408031119?refId=306f9ff7-2daf-4adf-8764-a6e432583a4a&trackingId=IN%2Bj6pagr2BRhmHHqi0BoA%3D%3D&position=21&pageNum=1&trk=public_jobs_job-result-card_result-card_full-click \n",
      "Working at MIT offe\n"
     ]
    },
    {
     "name": "stderr",
     "output_type": "stream",
     "text": [
      "INFO:li:scraper:('[Data Scientist][United States][47]', 'Processed')\n"
     ]
    },
    {
     "name": "stdout",
     "output_type": "stream",
     "text": [
      "[ON_DATA] Data Scientist, Product Analytics Gusto 2021-02-17 https://www.linkedin.com/jobs/view/data-scientist-product-analytics-at-gusto-2415384912?refId=306f9ff7-2daf-4adf-8764-a6e432583a4a&trackingId=CH3PhxbYUlVYAgXJpa7S3Q%3D%3D&position=22&pageNum=1&trk=public_jobs_job-result-card_result-card_full-click Description\n",
      "\n",
      "You kno\n"
     ]
    },
    {
     "name": "stderr",
     "output_type": "stream",
     "text": [
      "INFO:li:scraper:('[Data Scientist][United States][48]', 'Processed')\n"
     ]
    },
    {
     "name": "stdout",
     "output_type": "stream",
     "text": [
      "[ON_DATA] Data Scientist Vivint 2021-02-19 https://www.linkedin.com/jobs/view/data-scientist-at-vivint-2418245962?refId=306f9ff7-2daf-4adf-8764-a6e432583a4a&trackingId=YUuOHjXlczc1BmMBlQ0vPg%3D%3D&position=23&pageNum=1&trk=public_jobs_job-result-card_result-card_full-click About Gusto\n",
      "\n",
      "Gusto i\n"
     ]
    },
    {
     "name": "stderr",
     "output_type": "stream",
     "text": [
      "INFO:li:scraper:('[Data Scientist][United States][49]', 'Processed')\n"
     ]
    },
    {
     "name": "stdout",
     "output_type": "stream",
     "text": [
      "[ON_DATA] Machine Learning Engineer JPMorgan Chase & Co. 2021-02-02 https://www.linkedin.com/jobs/view/machine-learning-engineer-at-jpmorgan-chase-co-2421689924?refId=c3196250-26cc-48e0-b462-583f9e971a6d&trackingId=rFAsAeqXaODfS4IKuqYTHg%3D%3D&position=1&pageNum=2&trk=public_jobs_job-result-card_result-card_full-click Job Description\n",
      "\n",
      "Our\n"
     ]
    },
    {
     "name": "stderr",
     "output_type": "stream",
     "text": [
      "INFO:li:scraper:('[Data Scientist][United States][50]', 'Processed')\n"
     ]
    },
    {
     "name": "stdout",
     "output_type": "stream",
     "text": [
      "[ON_DATA] Data Scientist L'argus 2021-01-31 https://www.linkedin.com/jobs/view/data-scientist-at-l-argus-2403278093?refId=c3196250-26cc-48e0-b462-583f9e971a6d&trackingId=R%2FMFmLg%2BijntsMkvIDyCog%3D%3D&position=2&pageNum=2&trk=public_jobs_job-result-card_result-card_full-click Qualifications\n",
      "\n",
      "Job \n"
     ]
    },
    {
     "name": "stderr",
     "output_type": "stream",
     "text": [
      "INFO:li:scraper:('[Data Scientist][United States][51]', 'Processed')\n"
     ]
    },
    {
     "name": "stdout",
     "output_type": "stream",
     "text": [
      "[ON_DATA] Data Scientist (Remote) Yelp 2021-01-23 https://www.linkedin.com/jobs/view/data-scientist-remote-at-yelp-2377887650?refId=c3196250-26cc-48e0-b462-583f9e971a6d&trackingId=9QrMauA6uJHl8%2FE%2F8Wa3%2Fg%3D%3D&position=3&pageNum=2&trk=public_jobs_job-result-card_result-card_full-click Description De L'ent\n"
     ]
    },
    {
     "name": "stderr",
     "output_type": "stream",
     "text": [
      "INFO:li:scraper:('[Data Scientist][United States][52]', 'Processed')\n"
     ]
    },
    {
     "name": "stdout",
     "output_type": "stream",
     "text": [
      "[ON_DATA] Machine Learning Engineer Tiger Analytics 2021-02-17 https://www.linkedin.com/jobs/view/machine-learning-engineer-at-tiger-analytics-2416417128?refId=c3196250-26cc-48e0-b462-583f9e971a6d&trackingId=xnJZ25lTJtqGBWOW498uFg%3D%3D&position=4&pageNum=2&trk=public_jobs_job-result-card_result-card_full-click At Yelp, it’s our mi\n"
     ]
    },
    {
     "name": "stderr",
     "output_type": "stream",
     "text": [
      "INFO:li:scraper:('[Data Scientist][United States][53]', 'Processed')\n"
     ]
    },
    {
     "name": "stdout",
     "output_type": "stream",
     "text": [
      "[ON_DATA] Machine Learning Engineer EdCast 2021-02-18 https://www.linkedin.com/jobs/view/machine-learning-engineer-at-edcast-2429425402?refId=c3196250-26cc-48e0-b462-583f9e971a6d&trackingId=guKFqiyQz5WEfrFOphi4iA%3D%3D&position=5&pageNum=2&trk=public_jobs_job-result-card_result-card_full-click Description\n",
      "\n",
      "Tiger A\n"
     ]
    },
    {
     "name": "stderr",
     "output_type": "stream",
     "text": [
      "INFO:li:scraper:('[Data Scientist][United States][54]', 'Processed')\n"
     ]
    },
    {
     "name": "stdout",
     "output_type": "stream",
     "text": [
      "[ON_DATA] Data Scientist Bertram Capital 2021-02-11 https://www.linkedin.com/jobs/view/data-scientist-at-bertram-capital-2376311916?refId=c3196250-26cc-48e0-b462-583f9e971a6d&trackingId=O22FVE5ZkyX4ahbjDm4xng%3D%3D&position=6&pageNum=2&trk=public_jobs_job-result-card_result-card_full-click Do you want to join \n"
     ]
    },
    {
     "name": "stderr",
     "output_type": "stream",
     "text": [
      "INFO:li:scraper:('[Data Scientist][United States][55]', 'Processed')\n"
     ]
    },
    {
     "name": "stdout",
     "output_type": "stream",
     "text": [
      "[ON_DATA] Data Scientist eBay 2021-02-02 https://www.linkedin.com/jobs/view/data-scientist-at-ebay-2412533161?refId=c3196250-26cc-48e0-b462-583f9e971a6d&trackingId=RvWofEN9L1KFtqMZodyxNA%3D%3D&position=7&pageNum=2&trk=public_jobs_job-result-card_result-card_full-click Firm Overview \n",
      "\n",
      "Bert\n"
     ]
    },
    {
     "name": "stderr",
     "output_type": "stream",
     "text": [
      "INFO:li:scraper:('[Data Scientist][United States][56]', 'Processed')\n"
     ]
    },
    {
     "name": "stdout",
     "output_type": "stream",
     "text": [
      "[ON_DATA] Data Scientist, Analytics, Intern Facebook 2021-02-18 https://www.linkedin.com/jobs/view/data-scientist-analytics-intern-at-facebook-2413413703?refId=c3196250-26cc-48e0-b462-583f9e971a6d&trackingId=6sY7l0snQpRTviKFhNvs0Q%3D%3D&position=8&pageNum=2&trk=public_jobs_job-result-card_result-card_full-click eBay is a global com\n"
     ]
    },
    {
     "name": "stderr",
     "output_type": "stream",
     "text": [
      "INFO:li:scraper:('[Data Scientist][United States][57]', 'Processed')\n"
     ]
    },
    {
     "name": "stdout",
     "output_type": "stream",
     "text": [
      "[ON_DATA] Data Scientist Everlane 2021-01-15 https://www.linkedin.com/jobs/view/data-scientist-at-everlane-2415505654?refId=c3196250-26cc-48e0-b462-583f9e971a6d&trackingId=4ECHJ1GEyB27%2BLkSKGvpgA%3D%3D&position=9&pageNum=2&trk=public_jobs_job-result-card_result-card_full-click Facebook's mission i\n"
     ]
    },
    {
     "name": "stderr",
     "output_type": "stream",
     "text": [
      "INFO:li:scraper:('[Data Scientist][United States][58]', 'Processed')\n"
     ]
    },
    {
     "name": "stdout",
     "output_type": "stream",
     "text": [
      "[ON_DATA] Data Scientist RxRevu, Inc. 2021-02-19 https://www.linkedin.com/jobs/view/data-scientist-at-rxrevu-inc-2430455321?refId=c3196250-26cc-48e0-b462-583f9e971a6d&trackingId=Tup0ahHdmQrZaQFSuRTR0A%3D%3D&position=10&pageNum=2&trk=public_jobs_job-result-card_result-card_full-click At Everlane, we want\n"
     ]
    },
    {
     "name": "stderr",
     "output_type": "stream",
     "text": [
      "INFO:li:scraper:('[Data Scientist][United States][59]', 'Processed')\n"
     ]
    },
    {
     "name": "stdout",
     "output_type": "stream",
     "text": [
      "[ON_DATA] Machine Learning Engineer, Growth ML Team - Seattle Snap Inc. 2021-02-23 https://www.linkedin.com/jobs/view/machine-learning-engineer-growth-ml-team-seattle-at-snap-inc-2424211037?refId=c3196250-26cc-48e0-b462-583f9e971a6d&trackingId=V54Ak4x%2FM3oKZch5juNCOQ%3D%3D&position=11&pageNum=2&trk=public_jobs_job-result-card_result-card_full-click RxRevu is hiring a D\n"
     ]
    },
    {
     "name": "stderr",
     "output_type": "stream",
     "text": [
      "INFO:li:scraper:('[Data Scientist][United States][60]', 'Processed')\n"
     ]
    },
    {
     "name": "stdout",
     "output_type": "stream",
     "text": [
      "[ON_DATA] Data Scientist PREDICTif Solutions 2021-02-21 https://www.linkedin.com/jobs/view/data-scientist-at-predictif-solutions-2432483434?refId=c3196250-26cc-48e0-b462-583f9e971a6d&trackingId=d325qUOx9EHMkUfHLLVzYA%3D%3D&position=12&pageNum=2&trk=public_jobs_job-result-card_result-card_full-click Snapchat is a camera\n"
     ]
    },
    {
     "name": "stderr",
     "output_type": "stream",
     "text": [
      "INFO:li:scraper:('[Data Scientist][United States][61]', 'Processed')\n"
     ]
    },
    {
     "name": "stdout",
     "output_type": "stream",
     "text": [
      "[ON_DATA] Data Scientist - QuantumBlack QuantumBlack 2021-02-02 https://www.linkedin.com/jobs/view/data-scientist-quantumblack-at-quantumblack-2384558216?refId=c3196250-26cc-48e0-b462-583f9e971a6d&trackingId=LLwk0Xhl3xV6MJegvhYtoA%3D%3D&position=13&pageNum=2&trk=public_jobs_job-result-card_result-card_full-click You! Yes, we’re look\n"
     ]
    },
    {
     "name": "stderr",
     "output_type": "stream",
     "text": [
      "INFO:li:scraper:('[Data Scientist][United States][62]', 'Processed')\n"
     ]
    },
    {
     "name": "stdout",
     "output_type": "stream",
     "text": [
      "[ON_DATA] Data Scientist Shipwell 2021-02-09 https://www.linkedin.com/jobs/view/data-scientist-at-shipwell-2415701213?refId=c3196250-26cc-48e0-b462-583f9e971a6d&trackingId=ts6TdeklICvAyFd1NeYPug%3D%3D&position=14&pageNum=2&trk=public_jobs_job-result-card_result-card_full-click Apply Now\n",
      "\n",
      "Qualifica\n"
     ]
    },
    {
     "name": "stderr",
     "output_type": "stream",
     "text": [
      "INFO:li:scraper:('[Data Scientist][United States][63]', 'Processed')\n"
     ]
    },
    {
     "name": "stdout",
     "output_type": "stream",
     "text": [
      "[ON_DATA] Data Scientist - (US - Remote) DISQO 2021-02-23 https://www.linkedin.com/jobs/view/data-scientist-us-remote-at-disqo-2423194467?refId=c3196250-26cc-48e0-b462-583f9e971a6d&trackingId=r6lljm4n56r%2BaBmh0XIGrw%3D%3D&position=15&pageNum=2&trk=public_jobs_job-result-card_result-card_full-click About Us\n",
      "\n",
      "Supply cha\n"
     ]
    },
    {
     "name": "stderr",
     "output_type": "stream",
     "text": [
      "INFO:li:scraper:('[Data Scientist][United States][64]', 'Processed')\n"
     ]
    },
    {
     "name": "stdout",
     "output_type": "stream",
     "text": [
      "[ON_DATA] Data Scientist Lucid 2021-02-18 https://www.linkedin.com/jobs/view/data-scientist-at-lucid-2420509056?refId=c3196250-26cc-48e0-b462-583f9e971a6d&trackingId=5vzFeNXbuxeIo1L22YC9Fw%3D%3D&position=16&pageNum=2&trk=public_jobs_job-result-card_result-card_full-click DISQO is a next-gene\n"
     ]
    },
    {
     "name": "stderr",
     "output_type": "stream",
     "text": [
      "INFO:li:scraper:('[Data Scientist][United States][65]', 'Processed')\n"
     ]
    },
    {
     "name": "stdout",
     "output_type": "stream",
     "text": [
      "[ON_DATA] Data Scientist Grammarly 2021-02-16 https://www.linkedin.com/jobs/view/data-scientist-at-grammarly-2370667349?refId=c3196250-26cc-48e0-b462-583f9e971a6d&trackingId=i5MrByQRotRK7jSPNQhUDg%3D%3D&position=17&pageNum=2&trk=public_jobs_job-result-card_result-card_full-click We are a rapidly gro\n"
     ]
    },
    {
     "name": "stderr",
     "output_type": "stream",
     "text": [
      "INFO:li:scraper:('[Data Scientist][United States][66]', 'Processed')\n"
     ]
    },
    {
     "name": "stdout",
     "output_type": "stream",
     "text": [
      "[ON_DATA] Data Scientist Via 2021-02-19 https://www.linkedin.com/jobs/view/data-scientist-at-via-2416767950?refId=c3196250-26cc-48e0-b462-583f9e971a6d&trackingId=k28ohmlSjr%2FCG2Z1fc64GQ%3D%3D&position=18&pageNum=2&trk=public_jobs_job-result-card_result-card_full-click Grammarly is continu\n"
     ]
    },
    {
     "name": "stderr",
     "output_type": "stream",
     "text": [
      "INFO:li:scraper:('[Data Scientist][United States][67]', 'Processed')\n"
     ]
    },
    {
     "name": "stdout",
     "output_type": "stream",
     "text": [
      "[ON_DATA] Data Scientist - U.S. Telecommute Optum 2021-02-18 https://www.linkedin.com/jobs/view/data-scientist-u-s-telecommute-at-optum-2417239641?refId=c3196250-26cc-48e0-b462-583f9e971a6d&trackingId=NhwQ2YnchJHznWXIpD4O4Q%3D%3D&position=19&pageNum=2&trk=public_jobs_job-result-card_result-card_full-click As a Data Scientist \n"
     ]
    },
    {
     "name": "stderr",
     "output_type": "stream",
     "text": [
      "INFO:li:scraper:('[Data Scientist][United States][68]', 'Processed')\n"
     ]
    },
    {
     "name": "stdout",
     "output_type": "stream",
     "text": [
      "[ON_DATA] Data Scientist Zynga 2021-01-28 https://www.linkedin.com/jobs/view/data-scientist-at-zynga-2398248334?refId=c3196250-26cc-48e0-b462-583f9e971a6d&trackingId=5jFWQFPRNb2SSeKiIGRa4Q%3D%3D&position=20&pageNum=2&trk=public_jobs_job-result-card_result-card_full-click Energize your career\n"
     ]
    },
    {
     "name": "stderr",
     "output_type": "stream",
     "text": [
      "INFO:li:scraper:('[Data Scientist][United States][69]', 'Processed')\n"
     ]
    },
    {
     "name": "stdout",
     "output_type": "stream",
     "text": [
      "[ON_DATA] Data Scientist Clover Health 2021-02-22 https://www.linkedin.com/jobs/view/data-scientist-at-clover-health-2294437829?refId=c3196250-26cc-48e0-b462-583f9e971a6d&trackingId=dznjRan1258IGTYZPLBdJg%3D%3D&position=21&pageNum=2&trk=public_jobs_job-result-card_result-card_full-click Description\n",
      "\n",
      "Positio\n"
     ]
    },
    {
     "name": "stderr",
     "output_type": "stream",
     "text": [
      "INFO:li:scraper:('[Data Scientist][United States][70]', 'Processed')\n"
     ]
    },
    {
     "name": "stdout",
     "output_type": "stream",
     "text": [
      "[ON_DATA] Data Scientist Known 2021-02-10 https://www.linkedin.com/jobs/view/data-scientist-at-known-2404834647?refId=c3196250-26cc-48e0-b462-583f9e971a6d&trackingId=%2F9JwxsBTq7C%2FAEUj3Sza3g%3D%3D&position=22&pageNum=2&trk=public_jobs_job-result-card_result-card_full-click Clover is reinventin\n"
     ]
    },
    {
     "name": "stderr",
     "output_type": "stream",
     "text": [
      "INFO:li:scraper:('[Data Scientist][United States][71]', 'Processed')\n"
     ]
    },
    {
     "name": "stdout",
     "output_type": "stream",
     "text": [
      "[ON_DATA] Machine Learning Engineer FIGS 2021-02-20 https://www.linkedin.com/jobs/view/machine-learning-engineer-at-figs-2420582790?refId=c3196250-26cc-48e0-b462-583f9e971a6d&trackingId=8souhL6HxUy8sCA1nz5mMw%3D%3D&position=23&pageNum=2&trk=public_jobs_job-result-card_result-card_full-click About Known\n",
      "\n",
      "Known (\n"
     ]
    },
    {
     "name": "stderr",
     "output_type": "stream",
     "text": [
      "INFO:li:scraper:('[Data Scientist][United States][72]', 'Processed')\n"
     ]
    },
    {
     "name": "stdout",
     "output_type": "stream",
     "text": [
      "[ON_DATA] Data Scientist Root Inc. 2021-02-23 https://www.linkedin.com/jobs/view/data-scientist-at-root-inc-1938000024?refId=c3196250-26cc-48e0-b462-583f9e971a6d&trackingId=6E%2FmFerhoSpUNWHh3WebEQ%3D%3D&position=24&pageNum=2&trk=public_jobs_job-result-card_result-card_full-click FIGS is looking for \n"
     ]
    },
    {
     "name": "stderr",
     "output_type": "stream",
     "text": [
      "INFO:li:scraper:('[Data Scientist][United States][73]', 'Processed')\n"
     ]
    },
    {
     "name": "stdout",
     "output_type": "stream",
     "text": [
      "[ON_DATA] Data Scientist Tapad 2021-02-21 https://www.linkedin.com/jobs/view/data-scientist-at-tapad-2420043425?refId=c9bba201-5e81-401d-b63f-f61a5f38396f&trackingId=YCru55NCctxzkKaTuiXBsQ%3D%3D&position=1&pageNum=3&trk=public_jobs_job-result-card_result-card_full-click We believe a large p\n"
     ]
    },
    {
     "name": "stderr",
     "output_type": "stream",
     "text": [
      "INFO:li:scraper:('[Data Scientist][United States][74]', 'Processed')\n"
     ]
    },
    {
     "name": "stdout",
     "output_type": "stream",
     "text": [
      "[ON_DATA] Machine Learning Engineer Zest AI 2021-02-06 https://www.linkedin.com/jobs/view/machine-learning-engineer-at-zest-ai-2425593458?refId=c9bba201-5e81-401d-b63f-f61a5f38396f&trackingId=q5aG0Tb77Wm%2FJxvT0ieK1g%3D%3D&position=2&pageNum=3&trk=public_jobs_job-result-card_result-card_full-click COVID-19 UPDATE: The\n"
     ]
    },
    {
     "name": "stderr",
     "output_type": "stream",
     "text": [
      "INFO:li:scraper:('[Data Scientist][United States][75]', 'Processed')\n"
     ]
    },
    {
     "name": "stdout",
     "output_type": "stream",
     "text": [
      "[ON_DATA] Data Scientist Asana 2020-11-09 https://www.linkedin.com/jobs/view/data-scientist-at-asana-2315578783?refId=c9bba201-5e81-401d-b63f-f61a5f38396f&trackingId=ru1MIn1mlhCnCV99K40MPQ%3D%3D&position=3&pageNum=3&trk=public_jobs_job-result-card_result-card_full-click Come develop softwar\n"
     ]
    },
    {
     "name": "stderr",
     "output_type": "stream",
     "text": [
      "INFO:li:scraper:('[Data Scientist][United States][76]', 'Processed')\n"
     ]
    },
    {
     "name": "stdout",
     "output_type": "stream",
     "text": [
      "[ON_DATA] Machine Learning Engineer - Search Rappi 2021-01-21 https://www.linkedin.com/jobs/view/machine-learning-engineer-search-at-rappi-2420697407?refId=c9bba201-5e81-401d-b63f-f61a5f38396f&trackingId=eywSZYBpczNmQM6blFhc3Q%3D%3D&position=4&pageNum=3&trk=public_jobs_job-result-card_result-card_full-click Data Scientist\n",
      "\n",
      "The \n"
     ]
    },
    {
     "name": "stderr",
     "output_type": "stream",
     "text": [
      "INFO:li:scraper:('[Data Scientist][United States][77]', 'Processed')\n"
     ]
    },
    {
     "name": "stdout",
     "output_type": "stream",
     "text": [
      "[ON_DATA] Associate Data Scientist Staples 2021-02-11 https://www.linkedin.com/jobs/view/associate-data-scientist-at-staples-2422088502?refId=c9bba201-5e81-401d-b63f-f61a5f38396f&trackingId=ucdohdRT5E6zzIJPxHwU3w%3D%3D&position=5&pageNum=3&trk=public_jobs_job-result-card_result-card_full-click The Company\n",
      "\n",
      "Rappi i\n"
     ]
    },
    {
     "name": "stderr",
     "output_type": "stream",
     "text": [
      "INFO:li:scraper:('[Data Scientist][United States][78]', 'Processed')\n"
     ]
    },
    {
     "name": "stdout",
     "output_type": "stream",
     "text": [
      "[ON_DATA] Data Scientist Snap Finance 2021-02-06 https://www.linkedin.com/jobs/view/data-scientist-at-snap-finance-2411555202?refId=c9bba201-5e81-401d-b63f-f61a5f38396f&trackingId=KBQ3SxFP5nqzYkKuXfsS8Q%3D%3D&position=6&pageNum=3&trk=public_jobs_job-result-card_result-card_full-click Description\n",
      "\n",
      "Positio\n"
     ]
    },
    {
     "name": "stderr",
     "output_type": "stream",
     "text": [
      "INFO:li:scraper:('[Data Scientist][United States][79]', 'Processed')\n"
     ]
    },
    {
     "name": "stdout",
     "output_type": "stream",
     "text": [
      "[ON_DATA] Machine Learning Engineer Path Robotics (We're Hiring!) 2020-11-17 https://www.linkedin.com/jobs/view/machine-learning-engineer-at-path-robotics-we-re-hiring%21-2342686614?refId=c9bba201-5e81-401d-b63f-f61a5f38396f&trackingId=AnLprEOKswgP%2FeiQKTZPTA%3D%3D&position=7&pageNum=3&trk=public_jobs_job-result-card_result-card_full-click Are you looking for \n"
     ]
    },
    {
     "name": "stderr",
     "output_type": "stream",
     "text": [
      "INFO:li:scraper:('[Data Scientist][United States][80]', 'Processed')\n"
     ]
    },
    {
     "name": "stdout",
     "output_type": "stream",
     "text": [
      "[ON_DATA] Data Scientist Kaiser Permanente 2021-02-09 https://www.linkedin.com/jobs/view/data-scientist-at-kaiser-permanente-2403522558?refId=c9bba201-5e81-401d-b63f-f61a5f38396f&trackingId=wtARHv1vfpkFFRWTsXK1Vw%3D%3D&position=8&pageNum=3&trk=public_jobs_job-result-card_result-card_full-click At Path we work to d\n"
     ]
    },
    {
     "name": "stderr",
     "output_type": "stream",
     "text": [
      "INFO:li:scraper:('[Data Scientist][United States][81]', 'Processed')\n"
     ]
    },
    {
     "name": "stdout",
     "output_type": "stream",
     "text": [
      "[ON_DATA] Data Scientist RedShred 2021-02-23 https://www.linkedin.com/jobs/view/data-scientist-at-redshred-2356553293?refId=c9bba201-5e81-401d-b63f-f61a5f38396f&trackingId=PDGEiLSPXGx76BAG%2FRZ5qw%3D%3D&position=9&pageNum=3&trk=public_jobs_job-result-card_result-card_full-click Description\n",
      "\n",
      "This se\n"
     ]
    },
    {
     "name": "stderr",
     "output_type": "stream",
     "text": [
      "INFO:li:scraper:('[Data Scientist][United States][82]', 'Processed')\n"
     ]
    },
    {
     "name": "stdout",
     "output_type": "stream",
     "text": [
      "[ON_DATA] Associate Data Scientist The Hartford 2021-02-23 https://www.linkedin.com/jobs/view/associate-data-scientist-at-the-hartford-2435119002?refId=c9bba201-5e81-401d-b63f-f61a5f38396f&trackingId=G6CWbpmXl5kDFzCozRE%2F0g%3D%3D&position=10&pageNum=3&trk=public_jobs_job-result-card_result-card_full-click Data Scientist \n",
      "\n",
      "\n",
      "\n",
      "\n",
      "\n"
     ]
    },
    {
     "name": "stderr",
     "output_type": "stream",
     "text": [
      "INFO:li:scraper:('[Data Scientist][United States][83]', 'Processed')\n"
     ]
    },
    {
     "name": "stdout",
     "output_type": "stream",
     "text": [
      "[ON_DATA] Machine Learning Engineer Passio Inc. 2021-02-15 https://www.linkedin.com/jobs/view/machine-learning-engineer-at-passio-inc-2379482138?refId=c9bba201-5e81-401d-b63f-f61a5f38396f&trackingId=FVAq9gFHdpB1ZsBYkjiJRw%3D%3D&position=11&pageNum=3&trk=public_jobs_job-result-card_result-card_full-click You are a driven and\n"
     ]
    },
    {
     "name": "stderr",
     "output_type": "stream",
     "text": [
      "INFO:li:scraper:('[Data Scientist][United States][84]', 'Processed')\n"
     ]
    },
    {
     "name": "stdout",
     "output_type": "stream",
     "text": [
      "[ON_DATA] Data Scientist - REMOTE Medable, Inc 2021-02-19 https://www.linkedin.com/jobs/view/data-scientist-remote-at-medable-inc-2416748242?refId=c9bba201-5e81-401d-b63f-f61a5f38396f&trackingId=0ekoVPr0xdFqA%2B77aZC8hg%3D%3D&position=12&pageNum=3&trk=public_jobs_job-result-card_result-card_full-click Overview\n",
      "\n",
      " \n",
      "\n",
      "Passion\n"
     ]
    },
    {
     "name": "stderr",
     "output_type": "stream",
     "text": [
      "INFO:li:scraper:('[Data Scientist][United States][85]', 'Processed')\n"
     ]
    },
    {
     "name": "stdout",
     "output_type": "stream",
     "text": [
      "[ON_DATA] Data Scientist, Junior Booz Allen Hamilton 2020-12-02 https://www.linkedin.com/jobs/view/data-scientist-junior-at-booz-allen-hamilton-2315714863?refId=c9bba201-5e81-401d-b63f-f61a5f38396f&trackingId=ZvOfwAsKD1o8rKAEODk31w%3D%3D&position=13&pageNum=3&trk=public_jobs_job-result-card_result-card_full-click Company Description\n",
      "\n"
     ]
    },
    {
     "name": "stderr",
     "output_type": "stream",
     "text": [
      "INFO:li:scraper:('[Data Scientist][United States][86]', 'Processed')\n"
     ]
    },
    {
     "name": "stdout",
     "output_type": "stream",
     "text": [
      "[ON_DATA] Junior Data Scientist Mathematica 2021-02-19 https://www.linkedin.com/jobs/view/junior-data-scientist-at-mathematica-2419644727?refId=c9bba201-5e81-401d-b63f-f61a5f38396f&trackingId=bojbGYKJldJL5TcTXt9EaQ%3D%3D&position=14&pageNum=3&trk=public_jobs_job-result-card_result-card_full-click Job Number: R0096484\n"
     ]
    },
    {
     "name": "stderr",
     "output_type": "stream",
     "text": [
      "INFO:li:scraper:('[Data Scientist][United States][87]', 'Processed')\n"
     ]
    },
    {
     "name": "stdout",
     "output_type": "stream",
     "text": [
      "[ON_DATA] Machine Learning Engineer (Deep Learning) Cortx 2021-02-13 https://www.linkedin.com/jobs/view/machine-learning-engineer-deep-learning-at-cortx-2300357260?refId=c9bba201-5e81-401d-b63f-f61a5f38396f&trackingId=gc7jvFr28imFBqSAfT9D%2Bg%3D%3D&position=15&pageNum=3&trk=public_jobs_job-result-card_result-card_full-click Position Description\n"
     ]
    },
    {
     "name": "stderr",
     "output_type": "stream",
     "text": [
      "INFO:li:scraper:('[Data Scientist][United States][88]', 'Processed')\n"
     ]
    },
    {
     "name": "stdout",
     "output_type": "stream",
     "text": [
      "[ON_DATA] Machine Learning Engineer Aquabyte 2021-02-03 https://www.linkedin.com/jobs/view/machine-learning-engineer-at-aquabyte-2407316436?refId=c9bba201-5e81-401d-b63f-f61a5f38396f&trackingId=tApKEKIjLB9UjgRFwpxuMA%3D%3D&position=16&pageNum=3&trk=public_jobs_job-result-card_result-card_full-click Cortx is looking for\n"
     ]
    },
    {
     "name": "stderr",
     "output_type": "stream",
     "text": [
      "INFO:li:scraper:('[Data Scientist][United States][89]', 'Processed')\n"
     ]
    },
    {
     "name": "stdout",
     "output_type": "stream",
     "text": [
      "[ON_DATA] Data Engineer Olive 2021-02-22 https://www.linkedin.com/jobs/view/data-engineer-at-olive-2434418838?refId=c9bba201-5e81-401d-b63f-f61a5f38396f&trackingId=n057AfRGbQxe6AqSQN79PA%3D%3D&position=17&pageNum=3&trk=public_jobs_job-result-card_result-card_full-click Aquabyte is seeking \n"
     ]
    },
    {
     "name": "stderr",
     "output_type": "stream",
     "text": [
      "INFO:li:scraper:('[Data Scientist][United States][90]', 'Processed')\n"
     ]
    },
    {
     "name": "stdout",
     "output_type": "stream",
     "text": [
      "[ON_DATA] Data Science & Analytics Development Program 2021b John Deere 2021-02-18 https://www.linkedin.com/jobs/view/data-science-analytics-development-program-2021b-at-john-deere-2428960385?refId=c9bba201-5e81-401d-b63f-f61a5f38396f&trackingId=7zn590mDfc8uSZ7i3YJFjQ%3D%3D&position=18&pageNum=3&trk=public_jobs_job-result-card_result-card_full-click Description\n",
      "\n",
      "Olive’s\n"
     ]
    },
    {
     "name": "stderr",
     "output_type": "stream",
     "text": [
      "INFO:li:scraper:('[Data Scientist][United States][91]', 'Processed')\n"
     ]
    },
    {
     "name": "stdout",
     "output_type": "stream",
     "text": [
      "[ON_DATA] Data Scientist iHeartMedia 2021-02-12 https://www.linkedin.com/jobs/view/data-scientist-at-iheartmedia-2421350935?refId=c9bba201-5e81-401d-b63f-f61a5f38396f&trackingId=F7%2F2xm0mgFIqQp5Q%2FQVCWQ%3D%3D&position=19&pageNum=3&trk=public_jobs_job-result-card_result-card_full-click There are 7 billion \n"
     ]
    },
    {
     "name": "stderr",
     "output_type": "stream",
     "text": [
      "INFO:li:scraper:('[Data Scientist][United States][92]', 'Processed')\n"
     ]
    },
    {
     "name": "stdout",
     "output_type": "stream",
     "text": [
      "[ON_DATA] Junior Data Scientist Othot, Inc. 2021-02-19 https://www.linkedin.com/jobs/view/junior-data-scientist-at-othot-inc-2400521010?refId=c9bba201-5e81-401d-b63f-f61a5f38396f&trackingId=p2gWjYziwQfzn6MlKT%2BiYw%3D%3D&position=20&pageNum=3&trk=public_jobs_job-result-card_result-card_full-click Current employees an\n"
     ]
    },
    {
     "name": "stderr",
     "output_type": "stream",
     "text": [
      "INFO:li:scraper:('[Data Scientist][United States][93]', 'Processed')\n"
     ]
    },
    {
     "name": "stdout",
     "output_type": "stream",
     "text": [
      "[ON_DATA] Data Scientist - Marketing Stash 2021-02-02 https://www.linkedin.com/jobs/view/data-scientist-marketing-at-stash-2405455770?refId=c9bba201-5e81-401d-b63f-f61a5f38396f&trackingId=5a2h8885nw0cy4fJBjyKcg%3D%3D&position=21&pageNum=3&trk=public_jobs_job-result-card_result-card_full-click Junior Data Scientis\n"
     ]
    },
    {
     "name": "stderr",
     "output_type": "stream",
     "text": [
      "INFO:li:scraper:('[Data Scientist][United States][94]', 'Processed')\n"
     ]
    },
    {
     "name": "stdout",
     "output_type": "stream",
     "text": [
      "[ON_DATA] Data Scientist, Analytics & Inference - New York or Remote Codecademy 2021-02-14 https://www.linkedin.com/jobs/view/data-scientist-analytics-inference-new-york-or-remote-at-codecademy-2410298488?refId=c9bba201-5e81-401d-b63f-f61a5f38396f&trackingId=kVV6Ue%2FrmsnbRx13d3VvUQ%3D%3D&position=22&pageNum=3&trk=public_jobs_job-result-card_result-card_full-click Stash is investing, \n"
     ]
    },
    {
     "name": "stderr",
     "output_type": "stream",
     "text": [
      "INFO:li:scraper:('[Data Scientist][United States][95]', 'Processed')\n"
     ]
    },
    {
     "name": "stdout",
     "output_type": "stream",
     "text": [
      "[ON_DATA] Machine Learning Engineer / Data Scientist Miku 2021-02-10 https://www.linkedin.com/jobs/view/machine-learning-engineer-data-scientist-at-miku-2404832652?refId=c9bba201-5e81-401d-b63f-f61a5f38396f&trackingId=CKn98Revcs6eoz4JHDND5A%3D%3D&position=23&pageNum=3&trk=public_jobs_job-result-card_result-card_full-click Hello, World! Codeca\n"
     ]
    },
    {
     "name": "stderr",
     "output_type": "stream",
     "text": [
      "INFO:li:scraper:('[Data Scientist][United States][96]', 'Processed')\n"
     ]
    },
    {
     "name": "stdout",
     "output_type": "stream",
     "text": [
      "[ON_DATA] Data Scientist Trainee - New York MedTourEasy 2021-02-22 https://www.linkedin.com/jobs/view/data-scientist-trainee-new-york-at-medtoureasy-2434763275?refId=c9bba201-5e81-401d-b63f-f61a5f38396f&trackingId=gKBmmBoQYchAsC0aYYP5Cw%3D%3D&position=24&pageNum=3&trk=public_jobs_job-result-card_result-card_full-click Miku is a tech compa\n"
     ]
    },
    {
     "name": "stderr",
     "output_type": "stream",
     "text": [
      "INFO:li:scraper:('[Data Scientist][United States][97]', 'Processed')\n"
     ]
    },
    {
     "name": "stdout",
     "output_type": "stream",
     "text": [
      "[ON_DATA] Data Scientist- Growth Robinhood 2021-02-12 https://www.linkedin.com/jobs/view/data-scientist-growth-at-robinhood-2407683530?refId=c9bba201-5e81-401d-b63f-f61a5f38396f&trackingId=ep%2BGQWK8Slswn1%2FfE4HAbQ%3D%3D&position=25&pageNum=3&trk=public_jobs_job-result-card_result-card_full-click We are looking for a\n"
     ]
    },
    {
     "name": "stderr",
     "output_type": "stream",
     "text": [
      "INFO:li:scraper:('[Data Scientist][United States][98]', 'Processed')\n"
     ]
    },
    {
     "name": "stdout",
     "output_type": "stream",
     "text": [
      "[ON_DATA] Data Scientist 2U 2021-02-10 https://www.linkedin.com/jobs/view/data-scientist-at-2u-2417451230?refId=4b528fc7-d7c0-4ad4-a70a-dbc819de25f0&trackingId=2HMzVD14mddDwm6ZCr9bow%3D%3D&position=1&pageNum=4&trk=public_jobs_job-result-card_result-card_full-click Join a leading finte\n"
     ]
    },
    {
     "name": "stderr",
     "output_type": "stream",
     "text": [
      "INFO:li:scraper:('[Data Scientist][United States][99]', 'Processed')\n"
     ]
    },
    {
     "name": "stdout",
     "output_type": "stream",
     "text": [
      "[ON_DATA] Machine Learning Engineer Kensho Technologies 2020-12-03 https://www.linkedin.com/jobs/view/machine-learning-engineer-at-kensho-technologies-2360072341?refId=4b528fc7-d7c0-4ad4-a70a-dbc819de25f0&trackingId=LLQUJ7Vg5Jc6HU2DnmN9BQ%3D%3D&position=2&pageNum=4&trk=public_jobs_job-result-card_result-card_full-click What We're Looking F\n"
     ]
    },
    {
     "name": "stderr",
     "output_type": "stream",
     "text": [
      "INFO:li:scraper:('[Data Scientist][United States][100]', 'Processed')\n"
     ]
    },
    {
     "name": "stdout",
     "output_type": "stream",
     "text": [
      "[ON_DATA] Data Scientist - SC United Airlines 2021-02-23 https://www.linkedin.com/jobs/view/data-scientist-sc-at-united-airlines-2392480158?refId=4b528fc7-d7c0-4ad4-a70a-dbc819de25f0&trackingId=NTgVw%2B5TvlIOcvYVPbLEsQ%3D%3D&position=3&pageNum=4&trk=public_jobs_job-result-card_result-card_full-click With the continued i\n"
     ]
    },
    {
     "name": "stderr",
     "output_type": "stream",
     "text": [
      "INFO:li:scraper:('[Data Scientist][United States][101]', 'Processed')\n"
     ]
    },
    {
     "name": "stdout",
     "output_type": "stream",
     "text": [
      "[ON_DATA] Machine Learning Engineer Replicant 2021-02-20 https://www.linkedin.com/jobs/view/machine-learning-engineer-at-replicant-2431329453?refId=4b528fc7-d7c0-4ad4-a70a-dbc819de25f0&trackingId=OyvsfS1sxvHBQVwKN%2FMCHQ%3D%3D&position=4&pageNum=4&trk=public_jobs_job-result-card_result-card_full-click We have a wide varie\n"
     ]
    },
    {
     "name": "stderr",
     "output_type": "stream",
     "text": [
      "INFO:li:scraper:('[Data Scientist][United States][102]', 'Processed')\n"
     ]
    },
    {
     "name": "stdout",
     "output_type": "stream",
     "text": [
      "[ON_DATA] Data Scientist Veoneer 2021-02-21 https://www.linkedin.com/jobs/view/data-scientist-at-veoneer-2420065837?refId=4b528fc7-d7c0-4ad4-a70a-dbc819de25f0&trackingId=SdGNbe5XP4oSr6t3VWvfXw%3D%3D&position=5&pageNum=4&trk=public_jobs_job-result-card_result-card_full-click Replicant is a voice\n"
     ]
    },
    {
     "name": "stderr",
     "output_type": "stream",
     "text": [
      "INFO:li:scraper:('[Data Scientist][United States][103]', 'Processed')\n"
     ]
    },
    {
     "name": "stdout",
     "output_type": "stream",
     "text": [
      "[ON_DATA] Data Scientist Amperity 2021-01-11 https://www.linkedin.com/jobs/view/data-scientist-at-amperity-2376295957?refId=4b528fc7-d7c0-4ad4-a70a-dbc819de25f0&trackingId=VF2wBs1oyOsUTXIUAHma6Q%3D%3D&position=6&pageNum=4&trk=public_jobs_job-result-card_result-card_full-click Job Title: Data Scie\n"
     ]
    },
    {
     "name": "stderr",
     "output_type": "stream",
     "text": [
      "INFO:li:scraper:('[Data Scientist][United States][104]', 'Processed')\n"
     ]
    },
    {
     "name": "stdout",
     "output_type": "stream",
     "text": [
      "[ON_DATA] Machine Learning Engineer Ocrolus 2021-02-19 https://www.linkedin.com/jobs/view/machine-learning-engineer-at-ocrolus-2430314461?refId=4b528fc7-d7c0-4ad4-a70a-dbc819de25f0&trackingId=7TOFHap37kJw%2BZAw6mP%2B5g%3D%3D&position=7&pageNum=4&trk=public_jobs_job-result-card_result-card_full-click Amperity helps peopl\n"
     ]
    },
    {
     "name": "stderr",
     "output_type": "stream",
     "text": [
      "INFO:li:scraper:('[Data Scientist][United States][105]', 'Processed')\n"
     ]
    },
    {
     "name": "stdout",
     "output_type": "stream",
     "text": [
      "[ON_DATA] Data Scientist - Sam's Club Sam's Club 2021-02-05 https://www.linkedin.com/jobs/view/data-scientist-sam-s-club-at-sam-s-club-2395896208?refId=4b528fc7-d7c0-4ad4-a70a-dbc819de25f0&trackingId=LVaU0tYOitj%2Bw5Bzh7vNzA%3D%3D&position=8&pageNum=4&trk=public_jobs_job-result-card_result-card_full-click Join the Ocrolus roc\n"
     ]
    },
    {
     "name": "stderr",
     "output_type": "stream",
     "text": [
      "INFO:li:scraper:('[Data Scientist][United States][106]', 'Processed')\n"
     ]
    },
    {
     "name": "stdout",
     "output_type": "stream",
     "text": [
      "[ON_DATA] Data Scientist, Analyst Underground Cellar 2021-02-11 https://www.linkedin.com/jobs/view/data-scientist-analyst-at-underground-cellar-2405785089?refId=4b528fc7-d7c0-4ad4-a70a-dbc819de25f0&trackingId=xuiWE1mMCBCR1RTnHVQTMA%3D%3D&position=9&pageNum=4&trk=public_jobs_job-result-card_result-card_full-click What You'll Do\n",
      "\n",
      "Posi\n"
     ]
    },
    {
     "name": "stderr",
     "output_type": "stream",
     "text": [
      "INFO:li:scraper:('[Data Scientist][United States][107]', 'Processed')\n"
     ]
    },
    {
     "name": "stdout",
     "output_type": "stream",
     "text": [
      "[ON_DATA] Data Scientist Dillard's Inc. 2021-02-15 https://www.linkedin.com/jobs/view/data-scientist-at-dillard-s-inc-2424390130?refId=4b528fc7-d7c0-4ad4-a70a-dbc819de25f0&trackingId=veOSKncAWpk9hBhqnozW4A%3D%3D&position=10&pageNum=4&trk=public_jobs_job-result-card_result-card_full-click About Underground Ce\n"
     ]
    },
    {
     "name": "stderr",
     "output_type": "stream",
     "text": [
      "INFO:li:scraper:('[Data Scientist][United States][108]', 'Processed')\n"
     ]
    },
    {
     "name": "stdout",
     "output_type": "stream",
     "text": [
      "[ON_DATA] Data Scientist Roofstock 2021-02-18 https://www.linkedin.com/jobs/view/data-scientist-at-roofstock-2418218592?refId=4b528fc7-d7c0-4ad4-a70a-dbc819de25f0&trackingId=7tfxkgpIgHJ99PIpl3An1w%3D%3D&position=11&pageNum=4&trk=public_jobs_job-result-card_result-card_full-click ROLES & RESPONSIBILI\n"
     ]
    },
    {
     "name": "stderr",
     "output_type": "stream",
     "text": [
      "INFO:li:scraper:('[Data Scientist][United States][109]', 'Processed')\n"
     ]
    },
    {
     "name": "stdout",
     "output_type": "stream",
     "text": [
      "[ON_DATA] Data Scientist - Remote Schneider 2021-02-03 https://www.linkedin.com/jobs/view/data-scientist-remote-at-schneider-2419795310?refId=4b528fc7-d7c0-4ad4-a70a-dbc819de25f0&trackingId=wFY8alixSqomLGaaQrAmbw%3D%3D&position=12&pageNum=4&trk=public_jobs_job-result-card_result-card_full-click Roofstock is the lea\n"
     ]
    },
    {
     "name": "stderr",
     "output_type": "stream",
     "text": [
      "INFO:li:scraper:('[Data Scientist][United States][110]', 'Processed')\n"
     ]
    },
    {
     "name": "stdout",
     "output_type": "stream",
     "text": [
      "[ON_DATA] Machine Learning Engineer/Data Scientist Eluvio 2021-02-23 https://www.linkedin.com/jobs/view/machine-learning-engineer-data-scientist-at-eluvio-2377366521?refId=4b528fc7-d7c0-4ad4-a70a-dbc819de25f0&trackingId=whUQQUVqbJLfSuwsHb7G%2Fw%3D%3D&position=13&pageNum=4&trk=public_jobs_job-result-card_result-card_full-click Location:\n",
      "Green Bay,\n"
     ]
    },
    {
     "name": "stderr",
     "output_type": "stream",
     "text": [
      "INFO:li:scraper:('[Data Scientist][United States][111]', 'Processed')\n"
     ]
    },
    {
     "name": "stdout",
     "output_type": "stream",
     "text": [
      "[ON_DATA] Data Scientist Noom Inc. 2021-02-22 https://www.linkedin.com/jobs/view/data-scientist-at-noom-inc-2301903978?refId=4b528fc7-d7c0-4ad4-a70a-dbc819de25f0&trackingId=BHa%2F7VZehfMz6WIs3zIjSg%3D%3D&position=14&pageNum=4&trk=public_jobs_job-result-card_result-card_full-click Eluvio uses a wide r\n"
     ]
    },
    {
     "name": "stderr",
     "output_type": "stream",
     "text": [
      "INFO:li:scraper:('[Data Scientist][United States][112]', 'Processed')\n"
     ]
    },
    {
     "name": "stdout",
     "output_type": "stream",
     "text": [
      "[ON_DATA] Machine Learning Engineer Daily Harvest 2020-12-02 https://www.linkedin.com/jobs/view/machine-learning-engineer-at-daily-harvest-2329180998?refId=4b528fc7-d7c0-4ad4-a70a-dbc819de25f0&trackingId=7EsNhzWw6qrqeoO8un%2FfCA%3D%3D&position=15&pageNum=4&trk=public_jobs_job-result-card_result-card_full-click At Noom, we use scie\n"
     ]
    },
    {
     "name": "stderr",
     "output_type": "stream",
     "text": [
      "INFO:li:scraper:('[Data Scientist][United States][113]', 'Processed')\n"
     ]
    },
    {
     "name": "stdout",
     "output_type": "stream",
     "text": [
      "[ON_DATA] Data Scientist / Engineer Harvard University 2021-01-02 https://www.linkedin.com/jobs/view/data-scientist-engineer-at-harvard-university-2397900776?refId=4b528fc7-d7c0-4ad4-a70a-dbc819de25f0&trackingId=X%2B0DU6vFGP%2BIYYdMpfLBHA%3D%3D&position=16&pageNum=4&trk=public_jobs_job-result-card_result-card_full-click About Daily Harvest\n",
      "\n"
     ]
    },
    {
     "name": "stderr",
     "output_type": "stream",
     "text": [
      "INFO:li:scraper:('[Data Scientist][United States][114]', 'Processed')\n"
     ]
    },
    {
     "name": "stdout",
     "output_type": "stream",
     "text": [
      "[ON_DATA] Data Scientist Mailchimp 2021-01-31 https://www.linkedin.com/jobs/view/data-scientist-at-mailchimp-2381759887?refId=4b528fc7-d7c0-4ad4-a70a-dbc819de25f0&trackingId=rUuo%2FtFw8b88Te1ufpFxww%3D%3D&position=17&pageNum=4&trk=public_jobs_job-result-card_result-card_full-click Job Summary\n",
      "\n",
      "Indepen\n"
     ]
    },
    {
     "name": "stderr",
     "output_type": "stream",
     "text": [
      "INFO:li:scraper:('[Data Scientist][United States][115]', 'Processed')\n"
     ]
    },
    {
     "name": "stdout",
     "output_type": "stream",
     "text": [
      "[ON_DATA] Data Scientist Nordstrom 2021-02-02 https://www.linkedin.com/jobs/view/data-scientist-at-nordstrom-2391066179?refId=4b528fc7-d7c0-4ad4-a70a-dbc819de25f0&trackingId=wL4Bp44xVUz75%2BLhgK1UxA%3D%3D&position=18&pageNum=4&trk=public_jobs_job-result-card_result-card_full-click Mailchimp is a leadi\n"
     ]
    },
    {
     "name": "stderr",
     "output_type": "stream",
     "text": [
      "INFO:li:scraper:('[Data Scientist][United States][116]', 'Processed')\n"
     ]
    },
    {
     "name": "stdout",
     "output_type": "stream",
     "text": [
      "[ON_DATA] Entry Level Data Engineer (AI Applications) IBM 2021-02-10 https://www.linkedin.com/jobs/view/entry-level-data-engineer-ai-applications-at-ibm-2398564407?refId=4b528fc7-d7c0-4ad4-a70a-dbc819de25f0&trackingId=%2B0qLEmcTRp81No6KPRDRaA%3D%3D&position=19&pageNum=4&trk=public_jobs_job-result-card_result-card_full-click Job Description\n",
      "\n",
      "Nor\n"
     ]
    },
    {
     "name": "stderr",
     "output_type": "stream",
     "text": [
      "INFO:li:scraper:('[Data Scientist][United States][117]', 'Processed')\n"
     ]
    },
    {
     "name": "stdout",
     "output_type": "stream",
     "text": [
      "[ON_DATA] Data Scientist II NASA Jet Propulsion Laboratory 2021-02-07 https://www.linkedin.com/jobs/view/data-scientist-ii-at-nasa-jet-propulsion-laboratory-2357769478?refId=4b528fc7-d7c0-4ad4-a70a-dbc819de25f0&trackingId=ix74lURlw84NXRVdTphORw%3D%3D&position=20&pageNum=4&trk=public_jobs_job-result-card_result-card_full-click Introduction\n",
      "At IBM,\n"
     ]
    },
    {
     "name": "stderr",
     "output_type": "stream",
     "text": [
      "INFO:li:scraper:('[Data Scientist][United States][118]', 'Processed')\n"
     ]
    },
    {
     "name": "stdout",
     "output_type": "stream",
     "text": [
      "[ON_DATA] Data Scientist - Job ID 12846 Infor 2021-02-19 https://www.linkedin.com/jobs/view/data-scientist-job-id-12846-at-infor-2416720710?refId=4b528fc7-d7c0-4ad4-a70a-dbc819de25f0&trackingId=aCgEqZTkhaodtu5iF3jptg%3D%3D&position=21&pageNum=4&trk=public_jobs_job-result-card_result-card_full-click New ideas are all ar\n"
     ]
    },
    {
     "name": "stderr",
     "output_type": "stream",
     "text": [
      "INFO:li:scraper:('[Data Scientist][United States][119]', 'Processed')\n"
     ]
    },
    {
     "name": "stdout",
     "output_type": "stream",
     "text": [
      "[ON_DATA] Data Scientist Kin + Carta 2021-02-19 https://www.linkedin.com/jobs/view/data-scientist-at-kin-%2B-carta-2387760019?refId=4b528fc7-d7c0-4ad4-a70a-dbc819de25f0&trackingId=8gGCrA5%2Fg%2Bxyh%2Fb9zVc79Q%3D%3D&position=22&pageNum=4&trk=public_jobs_job-result-card_result-card_full-click Data Scientist\n",
      "Locat\n"
     ]
    },
    {
     "name": "stderr",
     "output_type": "stream",
     "text": [
      "INFO:li:scraper:('[Data Scientist][United States][120]', 'Processed')\n"
     ]
    },
    {
     "name": "stdout",
     "output_type": "stream",
     "text": [
      "[ON_DATA] Advanced Analytics Data Scientist Delta Faucet Company 2021-02-16 https://www.linkedin.com/jobs/view/advanced-analytics-data-scientist-at-delta-faucet-company-2425337713?refId=4b528fc7-d7c0-4ad4-a70a-dbc819de25f0&trackingId=PSpvvIbnIDJED%2FLu%2F2JNtQ%3D%3D&position=23&pageNum=4&trk=public_jobs_job-result-card_result-card_full-click Kin + Carta West, fo\n"
     ]
    },
    {
     "name": "stderr",
     "output_type": "stream",
     "text": [
      "INFO:li:scraper:('[Data Scientist][United States][121]', 'Processed')\n"
     ]
    },
    {
     "name": "stdout",
     "output_type": "stream",
     "text": [
      "[ON_DATA] Data Scientist 2 Humana 2020-11-30 https://www.linkedin.com/jobs/view/data-scientist-2-at-humana-2313235586?refId=4b528fc7-d7c0-4ad4-a70a-dbc819de25f0&trackingId=9feKDpFe6rpnxuW8JLIy8A%3D%3D&position=24&pageNum=4&trk=public_jobs_job-result-card_result-card_full-click Purpose\n",
      "\n",
      "Job Descrip\n"
     ]
    },
    {
     "name": "stderr",
     "output_type": "stream",
     "text": [
      "INFO:li:scraper:('[Data Scientist][United States][122]', 'Processed')\n"
     ]
    },
    {
     "name": "stdout",
     "output_type": "stream",
     "text": [
      "[ON_DATA] Data Scientist ConsenSys 2021-01-24 https://www.linkedin.com/jobs/view/data-scientist-at-consensys-2429833268?refId=13b38b7d-0192-4499-b417-0f81ed551890&trackingId=GIoVB7RyR03HSAE5I7Mu1w%3D%3D&position=1&pageNum=5&trk=public_jobs_job-result-card_result-card_full-click Description\n",
      "\n",
      "Digital\n"
     ]
    },
    {
     "name": "stderr",
     "output_type": "stream",
     "text": [
      "INFO:li:scraper:('[Data Scientist][United States][123]', 'Processed')\n"
     ]
    },
    {
     "name": "stdout",
     "output_type": "stream",
     "text": [
      "[ON_DATA] Data Scientist – Applied Machine Learning JM Eagle 2021-01-28 https://www.linkedin.com/jobs/view/data-scientist-%E2%80%93-applied-machine-learning-at-jm-eagle-2423521103?refId=13b38b7d-0192-4499-b417-0f81ed551890&trackingId=LDhzT4CyogHWSPiiVjz%2F4A%3D%3D&position=2&pageNum=5&trk=public_jobs_job-result-card_result-card_full-click About ConsenSys\n",
      "\n",
      "Con\n"
     ]
    },
    {
     "name": "stderr",
     "output_type": "stream",
     "text": [
      "INFO:li:scraper:('[Data Scientist][United States][124]', 'Processed')\n"
     ]
    },
    {
     "name": "stdout",
     "output_type": "stream",
     "text": [
      "[ON_DATA] Data Scientist CVS Health 2021-02-10 https://www.linkedin.com/jobs/view/data-scientist-at-cvs-health-2418143713?refId=13b38b7d-0192-4499-b417-0f81ed551890&trackingId=wKHl39kZBnhVDdr%2F8zxZmw%3D%3D&position=3&pageNum=5&trk=public_jobs_job-result-card_result-card_full-click Jump start your Data\n"
     ]
    },
    {
     "name": "stderr",
     "output_type": "stream",
     "text": [
      "INFO:li:scraper:('[Data Scientist][United States][125]', 'Processed')\n"
     ]
    },
    {
     "name": "stdout",
     "output_type": "stream",
     "text": [
      "[ON_DATA] Data Scientist Domo, Inc. 2020-11-03 https://www.linkedin.com/jobs/view/data-scientist-at-domo-inc-2325356008?refId=13b38b7d-0192-4499-b417-0f81ed551890&trackingId=Gh2YiHCtn1FPzqqdb%2Fs7MQ%3D%3D&position=4&pageNum=5&trk=public_jobs_job-result-card_result-card_full-click Job Description\n",
      "\n",
      "At \n"
     ]
    },
    {
     "name": "stderr",
     "output_type": "stream",
     "text": [
      "INFO:li:scraper:('[Data Scientist][United States][126]', 'Processed')\n"
     ]
    },
    {
     "name": "stdout",
     "output_type": "stream",
     "text": [
      "[ON_DATA] Data Scientist Polaris Inc. 2021-02-12 https://www.linkedin.com/jobs/view/data-scientist-at-polaris-inc-2421423031?refId=13b38b7d-0192-4499-b417-0f81ed551890&trackingId=jBPGfyd9xffa%2Fypmh66OvQ%3D%3D&position=5&pageNum=5&trk=public_jobs_job-result-card_result-card_full-click \n",
      "\n",
      "We are Domosapiens\n"
     ]
    },
    {
     "name": "stderr",
     "output_type": "stream",
     "text": [
      "INFO:li:scraper:('[Data Scientist][United States][127]', 'Processed')\n"
     ]
    },
    {
     "name": "stdout",
     "output_type": "stream",
     "text": [
      "[ON_DATA] Data Scientist Texas Capital Bank 2021-01-28 https://www.linkedin.com/jobs/view/data-scientist-at-texas-capital-bank-2222607520?refId=13b38b7d-0192-4499-b417-0f81ed551890&trackingId=axfxZPHPzrkZj4qHQ1RUgw%3D%3D&position=6&pageNum=5&trk=public_jobs_job-result-card_result-card_full-click At Polaris Inc., we \n"
     ]
    },
    {
     "name": "stderr",
     "output_type": "stream",
     "text": [
      "INFO:li:scraper:('[Data Scientist][United States][128]', 'Processed')\n"
     ]
    },
    {
     "name": "stdout",
     "output_type": "stream",
     "text": [
      "[ON_DATA] Data Scientist Cresta 2021-02-19 https://www.linkedin.com/jobs/view/data-scientist-at-cresta-2419684195?refId=13b38b7d-0192-4499-b417-0f81ed551890&trackingId=s24j2s8oTaGc%2B2%2BKK%2FNVMA%3D%3D&position=7&pageNum=5&trk=public_jobs_job-result-card_result-card_full-click At Texas Capital Ban\n"
     ]
    },
    {
     "name": "stderr",
     "output_type": "stream",
     "text": [
      "INFO:li:scraper:('[Data Scientist][United States][129]', 'Processed')\n"
     ]
    },
    {
     "name": "stdout",
     "output_type": "stream",
     "text": [
      "[ON_DATA] Data Scientist, Population Health (Boston, MA, or South San Francisco, CA) Verily Life Sciences 2021-01-25 https://www.linkedin.com/jobs/view/data-scientist-population-health-boston-ma-or-south-san-francisco-ca-at-verily-life-sciences-2418234525?refId=13b38b7d-0192-4499-b417-0f81ed551890&trackingId=oZ6InKkCJZRwz59sqrZwGw%3D%3D&position=8&pageNum=5&trk=public_jobs_job-result-card_result-card_full-click Cresta is on a missi\n"
     ]
    },
    {
     "name": "stderr",
     "output_type": "stream",
     "text": [
      "INFO:li:scraper:('[Data Scientist][United States][130]', 'Processed')\n"
     ]
    },
    {
     "name": "stdout",
     "output_type": "stream",
     "text": [
      "[ON_DATA] Associate Data Scientist Edelman Data & Intelligence (DxI) 2021-02-06 https://www.linkedin.com/jobs/view/associate-data-scientist-at-edelman-data-intelligence-dxi-2392701301?refId=13b38b7d-0192-4499-b417-0f81ed551890&trackingId=VpIGDNmcMQ7Wv%2F4BldxZGw%3D%3D&position=9&pageNum=5&trk=public_jobs_job-result-card_result-card_full-click Verily, an Alphabet \n"
     ]
    },
    {
     "name": "stderr",
     "output_type": "stream",
     "text": [
      "INFO:li:scraper:('[Data Scientist][United States][131]', 'Processed')\n"
     ]
    },
    {
     "name": "stdout",
     "output_type": "stream",
     "text": [
      "[ON_DATA] Data Scientist CRED Investments 2021-01-18 https://www.linkedin.com/jobs/view/data-scientist-at-cred-investments-2420718339?refId=13b38b7d-0192-4499-b417-0f81ed551890&trackingId=l5x7Tn7k3TE2BveBwu7TMA%3D%3D&position=10&pageNum=5&trk=public_jobs_job-result-card_result-card_full-click This role is open to\n"
     ]
    },
    {
     "name": "stderr",
     "output_type": "stream",
     "text": [
      "INFO:li:scraper:('[Data Scientist][United States][132]', 'Processed')\n"
     ]
    },
    {
     "name": "stdout",
     "output_type": "stream",
     "text": [
      "[ON_DATA] Machine Learning Engineer / Data Science Engineer Extra Space Storage 2021-02-12 https://www.linkedin.com/jobs/view/machine-learning-engineer-data-science-engineer-at-extra-space-storage-2407620746?refId=13b38b7d-0192-4499-b417-0f81ed551890&trackingId=y4nG2SK5WxHS0GiJZr2ufQ%3D%3D&position=11&pageNum=5&trk=public_jobs_job-result-card_result-card_full-click CRED is a fast growi\n"
     ]
    },
    {
     "name": "stderr",
     "output_type": "stream",
     "text": [
      "INFO:li:scraper:('[Data Scientist][United States][133]', 'Processed')\n"
     ]
    },
    {
     "name": "stdout",
     "output_type": "stream",
     "text": [
      "[ON_DATA] Machine Learning Engineer LinkSquares 2021-01-29 https://www.linkedin.com/jobs/view/machine-learning-engineer-at-linksquares-2400787211?refId=13b38b7d-0192-4499-b417-0f81ed551890&trackingId=Wh72bmur8JxlOsNAXeYFzQ%3D%3D&position=12&pageNum=5&trk=public_jobs_job-result-card_result-card_full-click It’s not easy being \n"
     ]
    },
    {
     "name": "stderr",
     "output_type": "stream",
     "text": [
      "INFO:li:scraper:('[Data Scientist][United States][134]', 'Processed')\n"
     ]
    },
    {
     "name": "stdout",
     "output_type": "stream",
     "text": [
      "[ON_DATA] Data Scientist CRS 2021-02-21 https://www.linkedin.com/jobs/view/data-scientist-at-crs-2432986061?refId=13b38b7d-0192-4499-b417-0f81ed551890&trackingId=yG8ZpiUPieIpkxXfLE7F8A%3D%3D&position=13&pageNum=5&trk=public_jobs_job-result-card_result-card_full-click LinkSquares is looki\n"
     ]
    },
    {
     "name": "stderr",
     "output_type": "stream",
     "text": [
      "INFO:li:scraper:('[Data Scientist][United States][135]', 'Processed')\n"
     ]
    },
    {
     "name": "stdout",
     "output_type": "stream",
     "text": [
      "[ON_DATA] Data Scientist - Card Data Strategy Capital One 2021-02-04 https://www.linkedin.com/jobs/view/data-scientist-card-data-strategy-at-capital-one-2388635667?refId=13b38b7d-0192-4499-b417-0f81ed551890&trackingId=KJcn5Fkys6KWO59619DXcQ%3D%3D&position=14&pageNum=5&trk=public_jobs_job-result-card_result-card_full-click Data Scientist\n",
      "\n",
      "Dura\n"
     ]
    },
    {
     "name": "stderr",
     "output_type": "stream",
     "text": [
      "INFO:li:scraper:('[Data Scientist][United States][136]', 'Processed')\n"
     ]
    },
    {
     "name": "stdout",
     "output_type": "stream",
     "text": [
      "[ON_DATA] Machine Learning Engineer Upstart 2021-02-03 https://www.linkedin.com/jobs/view/machine-learning-engineer-at-upstart-2314595402?refId=13b38b7d-0192-4499-b417-0f81ed551890&trackingId=vyiVE2T33PDboZfBbOE74g%3D%3D&position=15&pageNum=5&trk=public_jobs_job-result-card_result-card_full-click 77 West Wacker Dr (3\n"
     ]
    },
    {
     "name": "stderr",
     "output_type": "stream",
     "text": [
      "INFO:li:scraper:('[Data Scientist][United States][137]', 'Processed')\n"
     ]
    },
    {
     "name": "stdout",
     "output_type": "stream",
     "text": [
      "[ON_DATA] Data Scientist- Network Analytics Ribbon Communications 2021-02-23 https://www.linkedin.com/jobs/view/data-scientist-network-analytics-at-ribbon-communications-2424214394?refId=13b38b7d-0192-4499-b417-0f81ed551890&trackingId=4oUKa9HwzfN6xn4eOJ44rg%3D%3D&position=16&pageNum=5&trk=public_jobs_job-result-card_result-card_full-click About Upstart\n",
      "\n",
      "Upsta\n"
     ]
    },
    {
     "name": "stderr",
     "output_type": "stream",
     "text": [
      "INFO:li:scraper:('[Data Scientist][United States][138]', 'Processed')\n"
     ]
    },
    {
     "name": "stdout",
     "output_type": "stream",
     "text": [
      "[ON_DATA] Data Scientist Intern Entrust 2021-02-23 https://www.linkedin.com/jobs/view/data-scientist-intern-at-entrust-2424259570?refId=13b38b7d-0192-4499-b417-0f81ed551890&trackingId=MVnjbhjnYCBdNCl%2BQZHa9Q%3D%3D&position=17&pageNum=5&trk=public_jobs_job-result-card_result-card_full-click Job Description\n",
      "\n",
      "Abo\n"
     ]
    },
    {
     "name": "stderr",
     "output_type": "stream",
     "text": [
      "INFO:li:scraper:('[Data Scientist][United States][139]', 'Processed')\n"
     ]
    },
    {
     "name": "stdout",
     "output_type": "stream",
     "text": [
      "[ON_DATA] Data Scientist VertMarkets, Inc. 2021-02-18 https://www.linkedin.com/jobs/view/data-scientist-at-vertmarkets-inc-2413472051?refId=13b38b7d-0192-4499-b417-0f81ed551890&trackingId=tB3x%2F2M8x4kbQ34wqtQq2g%3D%3D&position=18&pageNum=5&trk=public_jobs_job-result-card_result-card_full-click Career Growth, Flexi\n"
     ]
    },
    {
     "name": "stderr",
     "output_type": "stream",
     "text": [
      "INFO:li:scraper:('[Data Scientist][United States][140]', 'Processed')\n"
     ]
    },
    {
     "name": "stdout",
     "output_type": "stream",
     "text": [
      "[ON_DATA] Data Scientist Bright Cellars 2021-01-18 https://www.linkedin.com/jobs/view/data-scientist-at-bright-cellars-2420695354?refId=13b38b7d-0192-4499-b417-0f81ed551890&trackingId=04x6b87AJeMyRXUYFyRRNQ%3D%3D&position=19&pageNum=5&trk=public_jobs_job-result-card_result-card_full-click Do you love analyzin\n"
     ]
    },
    {
     "name": "stderr",
     "output_type": "stream",
     "text": [
      "INFO:li:scraper:('[Data Scientist][United States][141]', 'Processed')\n"
     ]
    },
    {
     "name": "stdout",
     "output_type": "stream",
     "text": [
      "[ON_DATA] Machine Learning Engineer Anyscale 2021-02-09 https://www.linkedin.com/jobs/view/machine-learning-engineer-at-anyscale-2404814497?refId=13b38b7d-0192-4499-b417-0f81ed551890&trackingId=Jiy7JbELZhAArPHqlgNz%2Fg%3D%3D&position=20&pageNum=5&trk=public_jobs_job-result-card_result-card_full-click Who We Are Bright Ce\n"
     ]
    },
    {
     "name": "stderr",
     "output_type": "stream",
     "text": [
      "INFO:li:scraper:('[Data Scientist][United States][142]', 'Processed')\n"
     ]
    },
    {
     "name": "stdout",
     "output_type": "stream",
     "text": [
      "[ON_DATA] Machine Learning Engineer CBS Interactive 2021-02-09 https://www.linkedin.com/jobs/view/machine-learning-engineer-at-cbs-interactive-2417161492?refId=13b38b7d-0192-4499-b417-0f81ed551890&trackingId=ce5LD8ULWMLSwf%2FPF%2BWXFQ%3D%3D&position=21&pageNum=5&trk=public_jobs_job-result-card_result-card_full-click Come work with an ex\n"
     ]
    },
    {
     "name": "stderr",
     "output_type": "stream",
     "text": [
      "INFO:li:scraper:('[Data Scientist][United States][143]', 'Processed')\n"
     ]
    },
    {
     "name": "stdout",
     "output_type": "stream",
     "text": [
      "[ON_DATA] Data Scientist Slalom 2021-02-20 https://www.linkedin.com/jobs/view/data-scientist-at-slalom-2374075280?refId=13b38b7d-0192-4499-b417-0f81ed551890&trackingId=%2FWyVoIk0rYY5XjRR6bvcnw%3D%3D&position=22&pageNum=5&trk=public_jobs_job-result-card_result-card_full-click REF#: 38094\n",
      "\n",
      "CBS BUS\n"
     ]
    },
    {
     "name": "stderr",
     "output_type": "stream",
     "text": [
      "INFO:li:scraper:('[Data Scientist][United States][144]', 'Processed')\n"
     ]
    },
    {
     "name": "stdout",
     "output_type": "stream",
     "text": [
      "[ON_DATA] Machine Learning Engineer Visual Concepts 2021-01-26 https://www.linkedin.com/jobs/view/machine-learning-engineer-at-visual-concepts-2215773142?refId=13b38b7d-0192-4499-b417-0f81ed551890&trackingId=9tP9%2Fczd0MtNln7QOL9P%2BA%3D%3D&position=23&pageNum=5&trk=public_jobs_job-result-card_result-card_full-click Does shaping the fut\n"
     ]
    },
    {
     "name": "stderr",
     "output_type": "stream",
     "text": [
      "INFO:li:scraper:('[Data Scientist][United States][145]', 'Processed')\n"
     ]
    },
    {
     "name": "stdout",
     "output_type": "stream",
     "text": [
      "[ON_DATA] Data Scientist, Ops Analytics Restaurant Brands International 2021-02-22 https://www.linkedin.com/jobs/view/data-scientist-ops-analytics-at-restaurant-brands-international-2434913536?refId=13b38b7d-0192-4499-b417-0f81ed551890&trackingId=KB%2BPisF3yceuU4CDKLq32Q%3D%3D&position=24&pageNum=5&trk=public_jobs_job-result-card_result-card_full-click Who We Are\n",
      "\n",
      "Visual C\n"
     ]
    },
    {
     "name": "stderr",
     "output_type": "stream",
     "text": [
      "INFO:li:scraper:('[Data Scientist][United States][146]', 'Processed')\n"
     ]
    },
    {
     "name": "stdout",
     "output_type": "stream",
     "text": [
      "[ON_DATA] Data Scientist - Analytics Wealthfront 2021-02-11 https://www.linkedin.com/jobs/view/data-scientist-analytics-at-wealthfront-2294405542?refId=13b38b7d-0192-4499-b417-0f81ed551890&trackingId=juxalxg0v8cDRxv3lQPZJg%3D%3D&position=25&pageNum=5&trk=public_jobs_job-result-card_result-card_full-click Our Opportunity\n",
      "\n",
      "Res\n"
     ]
    },
    {
     "name": "stderr",
     "output_type": "stream",
     "text": [
      "INFO:li:scraper:('[Data Scientist][United States][147]', 'Processed')\n"
     ]
    },
    {
     "name": "stdout",
     "output_type": "stream",
     "text": [
      "[ON_DATA] Data Scientist Curie Co. 2021-02-05 https://www.linkedin.com/jobs/view/data-scientist-at-curie-co-2409935272?refId=92d97dc5-6a14-470f-948b-db1558540e56&trackingId=wrLTwcddDHeievbzz%2Fj8pA%3D%3D&position=1&pageNum=6&trk=public_jobs_job-result-card_result-card_full-click Wealthfront is the l\n"
     ]
    },
    {
     "name": "stderr",
     "output_type": "stream",
     "text": [
      "INFO:li:scraper:('[Data Scientist][United States][148]', 'Processed')\n"
     ]
    },
    {
     "name": "stdout",
     "output_type": "stream",
     "text": [
      "[ON_DATA] Data Scientist- FinTech Avant 2020-12-18 https://www.linkedin.com/jobs/view/data-scientist-fintech-at-avant-2378074989?refId=92d97dc5-6a14-470f-948b-db1558540e56&trackingId=75xL6Aaz%2BnM9sUJhoP811g%3D%3D&position=2&pageNum=6&trk=public_jobs_job-result-card_result-card_full-click Curie Co uses the po\n"
     ]
    },
    {
     "name": "stderr",
     "output_type": "stream",
     "text": [
      "INFO:li:scraper:('[Data Scientist][United States][149]', 'Processed')\n"
     ]
    },
    {
     "name": "stdout",
     "output_type": "stream",
     "text": [
      "[ON_DATA] Data Scientist Optello 2021-02-22 https://www.linkedin.com/jobs/view/data-scientist-at-optello-2423116060?refId=92d97dc5-6a14-470f-948b-db1558540e56&trackingId=paHmZTiU8rguC8Gzecowsw%3D%3D&position=3&pageNum=6&trk=public_jobs_job-result-card_result-card_full-click Avant is dedicated t\n"
     ]
    },
    {
     "name": "stderr",
     "output_type": "stream",
     "text": [
      "INFO:li:scraper:('[Data Scientist][United States][150]', 'Processed')\n"
     ]
    },
    {
     "name": "stdout",
     "output_type": "stream",
     "text": [
      "[ON_DATA] Data Scientist Cloudflare 2021-02-07 https://www.linkedin.com/jobs/view/data-scientist-at-cloudflare-2357724885?refId=92d97dc5-6a14-470f-948b-db1558540e56&trackingId=YWIM%2BWH4VC%2B2LmJtQC84%2BA%3D%3D&position=4&pageNum=6&trk=public_jobs_job-result-card_result-card_full-click Data Scientist - Pyt\n"
     ]
    },
    {
     "name": "stderr",
     "output_type": "stream",
     "text": [
      "INFO:li:scraper:('[Data Scientist][United States][151]', 'Processed')\n"
     ]
    },
    {
     "name": "stdout",
     "output_type": "stream",
     "text": [
      "[ON_DATA] Data Scientist Delfi Diagnostics 2021-02-17 https://www.linkedin.com/jobs/view/data-scientist-at-delfi-diagnostics-2427397928?refId=92d97dc5-6a14-470f-948b-db1558540e56&trackingId=nY19dZuRXxtph8dCn4GEag%3D%3D&position=5&pageNum=6&trk=public_jobs_job-result-card_result-card_full-click About Us\n",
      "\n",
      "At Cloudfl\n"
     ]
    },
    {
     "name": "stderr",
     "output_type": "stream",
     "text": [
      "INFO:li:scraper:('[Data Scientist][United States][152]', 'Processed')\n"
     ]
    },
    {
     "name": "stdout",
     "output_type": "stream",
     "text": [
      "[ON_DATA] Data Scientist- 100% REMOTE Dice 2021-02-23 https://www.linkedin.com/jobs/view/data-scientist-100%25-remote-at-dice-2435169754?refId=92d97dc5-6a14-470f-948b-db1558540e56&trackingId=pVRFyoYh7GPsUdmLAmohkA%3D%3D&position=6&pageNum=6&trk=public_jobs_job-result-card_result-card_full-click Data Scientist\n",
      "\n",
      "\n",
      "\n",
      "\n",
      "J\n"
     ]
    },
    {
     "name": "stderr",
     "output_type": "stream",
     "text": [
      "INFO:li:scraper:('[Data Scientist][United States][153]', 'Processed')\n"
     ]
    },
    {
     "name": "stdout",
     "output_type": "stream",
     "text": [
      "[ON_DATA] Machine Learning Engineer Pngme (We're Hiring) 2021-01-29 https://www.linkedin.com/jobs/view/machine-learning-engineer-at-pngme-we-re-hiring-2400141630?refId=92d97dc5-6a14-470f-948b-db1558540e56&trackingId=kxr%2Fj8vWyHcd%2BFm1OJOmEg%3D%3D&position=7&pageNum=6&trk=public_jobs_job-result-card_result-card_full-click Dice is the leading \n"
     ]
    },
    {
     "name": "stderr",
     "output_type": "stream",
     "text": [
      "INFO:li:scraper:('[Data Scientist][United States][154]', 'Processed')\n"
     ]
    },
    {
     "name": "stdout",
     "output_type": "stream",
     "text": [
      "[ON_DATA] Data Scientist (Remote) Headspace Inc. 2021-02-13 https://www.linkedin.com/jobs/view/data-scientist-remote-at-headspace-inc-2410205155?refId=92d97dc5-6a14-470f-948b-db1558540e56&trackingId=qMzNkHyRPnPc6tH%2F1M9HHg%3D%3D&position=8&pageNum=6&trk=public_jobs_job-result-card_result-card_full-click Pngme offers unified\n"
     ]
    },
    {
     "name": "stderr",
     "output_type": "stream",
     "text": [
      "INFO:li:scraper:('[Data Scientist][United States][155]', 'Processed')\n"
     ]
    },
    {
     "name": "stdout",
     "output_type": "stream",
     "text": [
      "[ON_DATA] Data Scientist Pixalate 2021-02-11 https://www.linkedin.com/jobs/view/data-scientist-at-pixalate-2420264210?refId=92d97dc5-6a14-470f-948b-db1558540e56&trackingId=zdPTRr4gy1UpAwLfWcNHpw%3D%3D&position=9&pageNum=6&trk=public_jobs_job-result-card_result-card_full-click Headspace is looking\n"
     ]
    },
    {
     "name": "stderr",
     "output_type": "stream",
     "text": [
      "INFO:li:scraper:('[Data Scientist][United States][156]', 'Processed')\n"
     ]
    },
    {
     "name": "stdout",
     "output_type": "stream",
     "text": [
      "[ON_DATA] Data Scientist Feasible Inc. 2021-02-19 https://www.linkedin.com/jobs/view/data-scientist-at-feasible-inc-2430277857?refId=92d97dc5-6a14-470f-948b-db1558540e56&trackingId=Zfeiia4GHnuTn33%2FQZG6%2Bg%3D%3D&position=10&pageNum=6&trk=public_jobs_job-result-card_result-card_full-click We are looking for a\n"
     ]
    },
    {
     "name": "stderr",
     "output_type": "stream",
     "text": [
      "INFO:li:scraper:('[Data Scientist][United States][157]', 'Processed')\n"
     ]
    },
    {
     "name": "stdout",
     "output_type": "stream",
     "text": [
      "[ON_DATA] Data Scientist - Operations Stitch Fix 2021-02-04 https://www.linkedin.com/jobs/view/data-scientist-operations-at-stitch-fix-2316187305?refId=92d97dc5-6a14-470f-948b-db1558540e56&trackingId=mSzAi85bFzoT%2Fly%2FMgwxWw%3D%3D&position=11&pageNum=6&trk=public_jobs_job-result-card_result-card_full-click Battery Market Conte\n"
     ]
    },
    {
     "name": "stderr",
     "output_type": "stream",
     "text": [
      "INFO:li:scraper:('[Data Scientist][United States][158]', 'Processed')\n"
     ]
    },
    {
     "name": "stdout",
     "output_type": "stream",
     "text": [
      "[ON_DATA] Associate Data Scientist Insulet Corporation 2021-02-12 https://www.linkedin.com/jobs/view/associate-data-scientist-at-insulet-corporation-2421019396?refId=92d97dc5-6a14-470f-948b-db1558540e56&trackingId=gIs87JRFg3gJAXsppiaXKA%3D%3D&position=12&pageNum=6&trk=public_jobs_job-result-card_result-card_full-click About The Team\n",
      "\n",
      "In t\n"
     ]
    },
    {
     "name": "stderr",
     "output_type": "stream",
     "text": [
      "INFO:li:scraper:('[Data Scientist][United States][159]', 'Processed')\n"
     ]
    },
    {
     "name": "stdout",
     "output_type": "stream",
     "text": [
      "[ON_DATA] Data Scientist Patreon 2020-10-27 https://www.linkedin.com/jobs/view/data-scientist-at-patreon-2273020594?refId=92d97dc5-6a14-470f-948b-db1558540e56&trackingId=qZtoEAU5DdwaavQ3k%2Fp2YQ%3D%3D&position=13&pageNum=6&trk=public_jobs_job-result-card_result-card_full-click Insulet started in 2\n"
     ]
    },
    {
     "name": "stderr",
     "output_type": "stream",
     "text": [
      "INFO:li:scraper:('[Data Scientist][United States][160]', 'Processed')\n"
     ]
    },
    {
     "name": "stdout",
     "output_type": "stream",
     "text": [
      "[ON_DATA] Data Scientist DENSO 2021-02-19 https://www.linkedin.com/jobs/view/data-scientist-at-denso-2418271034?refId=92d97dc5-6a14-470f-948b-db1558540e56&trackingId=j6%2BV%2F2W5Hc8Z3FETA9rHGA%3D%3D&position=14&pageNum=6&trk=public_jobs_job-result-card_result-card_full-click Do you believe that \n"
     ]
    },
    {
     "name": "stderr",
     "output_type": "stream",
     "text": [
      "INFO:li:scraper:('[Data Scientist][United States][161]', 'Processed')\n"
     ]
    },
    {
     "name": "stdout",
     "output_type": "stream",
     "text": [
      "[ON_DATA] Data Scientist ClearMetal 2020-11-26 https://www.linkedin.com/jobs/view/data-scientist-at-clearmetal-2323357967?refId=92d97dc5-6a14-470f-948b-db1558540e56&trackingId=nWxQXmkcbF3Zc%2Fz%2BymuWPg%3D%3D&position=15&pageNum=6&trk=public_jobs_job-result-card_result-card_full-click About DENSO\n",
      "\n",
      "DENSO i\n"
     ]
    },
    {
     "name": "stderr",
     "output_type": "stream",
     "text": [
      "INFO:li:scraper:('[Data Scientist][United States][162]', 'Processed')\n"
     ]
    },
    {
     "name": "stdout",
     "output_type": "stream",
     "text": [
      "[ON_DATA] Machine Learning Engineer GoHealth 2021-02-04 https://www.linkedin.com/jobs/view/machine-learning-engineer-at-gohealth-2394722600?refId=92d97dc5-6a14-470f-948b-db1558540e56&trackingId=2fkCzTE1tY%2FiHP8%2BpOOD4w%3D%3D&position=16&pageNum=6&trk=public_jobs_job-result-card_result-card_full-click ClearMetal helps peo\n"
     ]
    },
    {
     "name": "stderr",
     "output_type": "stream",
     "text": [
      "INFO:li:scraper:('[Data Scientist][United States][163]', 'Processed')\n"
     ]
    },
    {
     "name": "stdout",
     "output_type": "stream",
     "text": [
      "[ON_DATA] Machine Learning Engineer Elementary Robotics 2020-10-20 https://www.linkedin.com/jobs/view/machine-learning-engineer-at-elementary-robotics-2275838108?refId=92d97dc5-6a14-470f-948b-db1558540e56&trackingId=FZcCGvgq91zI8swU%2Fabt5w%3D%3D&position=17&pageNum=6&trk=public_jobs_job-result-card_result-card_full-click Interested in Machin\n"
     ]
    },
    {
     "name": "stderr",
     "output_type": "stream",
     "text": [
      "INFO:li:scraper:('[Data Scientist][United States][164]', 'Processed')\n"
     ]
    },
    {
     "name": "stdout",
     "output_type": "stream",
     "text": [
      "[ON_DATA] Data Scientist Cresta 2021-02-20 https://www.linkedin.com/jobs/view/data-scientist-at-cresta-2431308830?refId=92d97dc5-6a14-470f-948b-db1558540e56&trackingId=BbO2GRXhr8rtYhgZuNxFaw%3D%3D&position=18&pageNum=6&trk=public_jobs_job-result-card_result-card_full-click About Elementary\n",
      "\n",
      "El\n"
     ]
    },
    {
     "name": "stderr",
     "output_type": "stream",
     "text": [
      "INFO:li:scraper:('[Data Scientist][United States][165]', 'Processed')\n"
     ]
    },
    {
     "name": "stdout",
     "output_type": "stream",
     "text": [
      "[ON_DATA] Data Scientist - Tulsa Fetch Rewards, Inc. 2020-12-30 https://www.linkedin.com/jobs/view/data-scientist-tulsa-at-fetch-rewards-inc-2393308656?refId=92d97dc5-6a14-470f-948b-db1558540e56&trackingId=hjOH343Zs5ik0ej%2FAwjeKQ%3D%3D&position=19&pageNum=6&trk=public_jobs_job-result-card_result-card_full-click Cresta is on a missi\n"
     ]
    },
    {
     "name": "stderr",
     "output_type": "stream",
     "text": [
      "INFO:li:scraper:('[Data Scientist][United States][166]', 'Processed')\n"
     ]
    },
    {
     "name": "stdout",
     "output_type": "stream",
     "text": [
      "[ON_DATA] Machine Learning Engineer Russell Tobin 2021-02-22 https://www.linkedin.com/jobs/view/machine-learning-engineer-at-russell-tobin-2421557212?refId=92d97dc5-6a14-470f-948b-db1558540e56&trackingId=3bzXYIzGlRk3XtLhqWyIKQ%3D%3D&position=20&pageNum=6&trk=public_jobs_job-result-card_result-card_full-click Who We Are\n",
      "\n",
      "We rewar\n"
     ]
    },
    {
     "name": "stderr",
     "output_type": "stream",
     "text": [
      "INFO:li:scraper:('[Data Scientist][United States][167]', 'Processed')\n"
     ]
    },
    {
     "name": "stdout",
     "output_type": "stream",
     "text": [
      "[ON_DATA] Machine Learning Engineer Cohere Health 2020-10-10 https://www.linkedin.com/jobs/view/machine-learning-engineer-at-cohere-health-2275820169?refId=92d97dc5-6a14-470f-948b-db1558540e56&trackingId=6UPi09QDn8zLnMPI%2FJOsuw%3D%3D&position=21&pageNum=6&trk=public_jobs_job-result-card_result-card_full-click Opportunity Overview\n"
     ]
    },
    {
     "name": "stderr",
     "output_type": "stream",
     "text": [
      "INFO:li:scraper:('[Data Scientist][United States][168]', 'Processed')\n",
      "INFO:li:scraper:('[Data Scientist][United States][168]', 'Checking for new jobs to load...')\n"
     ]
    },
    {
     "name": "stdout",
     "output_type": "stream",
     "text": [
      "[ON_DATA] Data Scientist Howmet Aerospace 2021-02-22 https://www.linkedin.com/jobs/view/data-scientist-at-howmet-aerospace-2421568963?refId=92d97dc5-6a14-470f-948b-db1558540e56&trackingId=kzzGYKNrXU86EdzRvz%2B2ww%3D%3D&position=22&pageNum=6&trk=public_jobs_job-result-card_result-card_full-click Opportunity Overview\n"
     ]
    },
    {
     "name": "stderr",
     "output_type": "stream",
     "text": [
      "INFO:li:scraper:('[Data Scientist][United States][168]', 'Found 190 jobs')\n",
      "INFO:li:scraper:('[Data Scientist][United States][169]', 'Processed')\n"
     ]
    },
    {
     "name": "stdout",
     "output_type": "stream",
     "text": [
      "[ON_DATA] Data Scientist Frontdoor, Inc. 2021-02-16 https://www.linkedin.com/jobs/view/data-scientist-at-frontdoor-inc-2415329847?refId=9b63db86-dfff-42e8-8a61-c14ccd4b6290&trackingId=m3fn3QIFcdwLaKqvX2YSeA%3D%3D&position=1&pageNum=7&trk=public_jobs_job-result-card_result-card_full-click Howmet Aerospace , i\n"
     ]
    },
    {
     "name": "stderr",
     "output_type": "stream",
     "text": [
      "INFO:li:scraper:('[Data Scientist][United States][170]', 'Processed')\n"
     ]
    },
    {
     "name": "stdout",
     "output_type": "stream",
     "text": [
      "[ON_DATA] Data Scientist Intuit 2021-02-22 https://www.linkedin.com/jobs/view/data-scientist-at-intuit-2423162648?refId=9b63db86-dfff-42e8-8a61-c14ccd4b6290&trackingId=eUjmd4j86Vl7NbFAHAQyjQ%3D%3D&position=2&pageNum=7&trk=public_jobs_job-result-card_result-card_full-click Data Scientist\n",
      "\n",
      "Fron\n"
     ]
    },
    {
     "name": "stderr",
     "output_type": "stream",
     "text": [
      "INFO:li:scraper:('[Data Scientist][United States][171]', 'Processed')\n"
     ]
    },
    {
     "name": "stdout",
     "output_type": "stream",
     "text": [
      "[ON_DATA] Data Scientist General Mills 2021-02-11 https://www.linkedin.com/jobs/view/data-scientist-at-general-mills-2358547577?refId=9b63db86-dfff-42e8-8a61-c14ccd4b6290&trackingId=N0%2B%2Fc09h4FmG7bKyu%2BdxWw%3D%3D&position=3&pageNum=7&trk=public_jobs_job-result-card_result-card_full-click Overview\n",
      "\n",
      "Intuit is \n"
     ]
    },
    {
     "name": "stderr",
     "output_type": "stream",
     "text": [
      "INFO:li:scraper:('[Data Scientist][United States][172]', 'Processed')\n"
     ]
    },
    {
     "name": "stdout",
     "output_type": "stream",
     "text": [
      "[ON_DATA] Data Scientist I UST 2021-02-22 https://www.linkedin.com/jobs/view/data-scientist-i-at-ust-2423142708?refId=9b63db86-dfff-42e8-8a61-c14ccd4b6290&trackingId=%2BGiKQSybpmVvizsZWpd1Xw%3D%3D&position=4&pageNum=7&trk=public_jobs_job-result-card_result-card_full-click Do you see patterns \n"
     ]
    },
    {
     "name": "stderr",
     "output_type": "stream",
     "text": [
      "INFO:li:scraper:('[Data Scientist][United States][173]', 'Processed')\n"
     ]
    },
    {
     "name": "stdout",
     "output_type": "stream",
     "text": [
      "[ON_DATA] Machine Learning Engineer CircleUp 2021-02-18 https://www.linkedin.com/jobs/view/machine-learning-engineer-at-circleup-2433764234?refId=9b63db86-dfff-42e8-8a61-c14ccd4b6290&trackingId=%2FCgzkYV9Cuar%2FfQTBA9Cuw%3D%3D&position=5&pageNum=7&trk=public_jobs_job-result-card_result-card_full-click Job Description\n",
      "\n",
      "Dat\n"
     ]
    },
    {
     "name": "stderr",
     "output_type": "stream",
     "text": [
      "INFO:li:scraper:('[Data Scientist][United States][174]', 'Processed')\n"
     ]
    },
    {
     "name": "stdout",
     "output_type": "stream",
     "text": [
      "[ON_DATA] Data Scientist American Credit Acceptance 2021-02-05 https://www.linkedin.com/jobs/view/data-scientist-at-american-credit-acceptance-2410384475?refId=9b63db86-dfff-42e8-8a61-c14ccd4b6290&trackingId=1N6TQKKIw6nHjg2ryR4Wsg%3D%3D&position=6&pageNum=7&trk=public_jobs_job-result-card_result-card_full-click CircleUp harnesses t\n"
     ]
    },
    {
     "name": "stderr",
     "output_type": "stream",
     "text": [
      "INFO:li:scraper:('[Data Scientist][United States][175]', 'Processed')\n"
     ]
    },
    {
     "name": "stdout",
     "output_type": "stream",
     "text": [
      "[ON_DATA] Data Scientist Portland General Electric 2021-02-12 https://www.linkedin.com/jobs/view/data-scientist-at-portland-general-electric-2401652598?refId=9b63db86-dfff-42e8-8a61-c14ccd4b6290&trackingId=5cMMD0p0JIqj9hONyn6OyQ%3D%3D&position=7&pageNum=7&trk=public_jobs_job-result-card_result-card_full-click Job Description\n",
      "\n",
      "Ame\n"
     ]
    },
    {
     "name": "stderr",
     "output_type": "stream",
     "text": [
      "INFO:li:scraper:('[Data Scientist][United States][176]', 'Processed')\n"
     ]
    },
    {
     "name": "stdout",
     "output_type": "stream",
     "text": [
      "[ON_DATA] Data Scientist Freese and Nichols 2021-02-10 https://www.linkedin.com/jobs/view/data-scientist-at-freese-and-nichols-2418335346?refId=9b63db86-dfff-42e8-8a61-c14ccd4b6290&trackingId=hjySwlErALeNtm7pRzHszg%3D%3D&position=8&pageNum=7&trk=public_jobs_job-result-card_result-card_full-click This is an exciting \n"
     ]
    },
    {
     "name": "stderr",
     "output_type": "stream",
     "text": [
      "INFO:li:scraper:('[Data Scientist][United States][177]', 'Processed')\n"
     ]
    },
    {
     "name": "stdout",
     "output_type": "stream",
     "text": [
      "[ON_DATA] Data Scientist Nexon America 2021-02-05 https://www.linkedin.com/jobs/view/data-scientist-at-nexon-america-2396905804?refId=9b63db86-dfff-42e8-8a61-c14ccd4b6290&trackingId=3XP7e1X8HGJGOKGceDPHHQ%3D%3D&position=9&pageNum=7&trk=public_jobs_job-result-card_result-card_full-click At Freese and Nichol\n"
     ]
    },
    {
     "name": "stderr",
     "output_type": "stream",
     "text": [
      "INFO:li:scraper:('[Data Scientist][United States][178]', 'Processed')\n"
     ]
    },
    {
     "name": "stdout",
     "output_type": "stream",
     "text": [
      "[ON_DATA] Data Scientist Thermo Fisher Scientific 2021-02-18 https://www.linkedin.com/jobs/view/data-scientist-at-thermo-fisher-scientific-956600947?refId=9b63db86-dfff-42e8-8a61-c14ccd4b6290&trackingId=NRQyNEB0hWwqvLRydmN6uA%3D%3D&position=10&pageNum=7&trk=public_jobs_job-result-card_result-card_full-click Sr. Data Scientist\n",
      "\n",
      "\n"
     ]
    },
    {
     "name": "stderr",
     "output_type": "stream",
     "text": [
      "INFO:li:scraper:('[Data Scientist][United States][179]', 'Processed')\n"
     ]
    },
    {
     "name": "stdout",
     "output_type": "stream",
     "text": [
      "[ON_DATA] Data Scientist o9 Solutions, Inc. 2021-01-25 https://www.linkedin.com/jobs/view/data-scientist-at-o9-solutions-inc-2379475168?refId=9b63db86-dfff-42e8-8a61-c14ccd4b6290&trackingId=qRv5A64TjLhZpg%2FxU6l%2BQQ%3D%3D&position=11&pageNum=7&trk=public_jobs_job-result-card_result-card_full-click Great opportunity in\n"
     ]
    },
    {
     "name": "stderr",
     "output_type": "stream",
     "text": [
      "INFO:li:scraper:('[Data Scientist][United States][180]', 'Processed')\n"
     ]
    },
    {
     "name": "stdout",
     "output_type": "stream",
     "text": [
      "[ON_DATA] U.S. Sales Data Scientist Ford Motor Company 2021-02-13 https://www.linkedin.com/jobs/view/u-s-sales-data-scientist-at-ford-motor-company-2422285754?refId=9b63db86-dfff-42e8-8a61-c14ccd4b6290&trackingId=vgksomZ6X%2FO7BKDz2ipExA%3D%3D&position=12&pageNum=7&trk=public_jobs_job-result-card_result-card_full-click Who is o9?\n",
      "\n",
      "\n",
      "\n",
      "\n",
      "o9 So\n"
     ]
    },
    {
     "name": "stderr",
     "output_type": "stream",
     "text": [
      "INFO:li:scraper:('[Data Scientist][United States][181]', 'Processed')\n"
     ]
    },
    {
     "name": "stdout",
     "output_type": "stream",
     "text": [
      "[ON_DATA] Data Scientist Exponent 2021-02-03 https://www.linkedin.com/jobs/view/data-scientist-at-exponent-2393641319?refId=9b63db86-dfff-42e8-8a61-c14ccd4b6290&trackingId=9dFlG0bLmN5TdIXu7NCYsQ%3D%3D&position=13&pageNum=7&trk=public_jobs_job-result-card_result-card_full-click U.S. Sales Data Scie\n"
     ]
    },
    {
     "name": "stderr",
     "output_type": "stream",
     "text": [
      "INFO:li:scraper:('[Data Scientist][United States][182]', 'Processed')\n"
     ]
    },
    {
     "name": "stdout",
     "output_type": "stream",
     "text": [
      "[ON_DATA] Data Scientist Children's Wisconsin 2021-01-04 https://www.linkedin.com/jobs/view/data-scientist-at-children-s-wisconsin-2400547104?refId=9b63db86-dfff-42e8-8a61-c14ccd4b6290&trackingId=0rxqINJXAksEiPprq4yT2A%3D%3D&position=14&pageNum=7&trk=public_jobs_job-result-card_result-card_full-click Exponent is a leadin\n"
     ]
    },
    {
     "name": "stderr",
     "output_type": "stream",
     "text": [
      "INFO:li:scraper:('[Data Scientist][United States][183]', 'Processed')\n"
     ]
    },
    {
     "name": "stdout",
     "output_type": "stream",
     "text": [
      "[ON_DATA] Machine Learning Engineer - Data Science Systems & Technology Research 2021-02-19 https://www.linkedin.com/jobs/view/machine-learning-engineer-data-science-at-systems-technology-research-2419674842?refId=9b63db86-dfff-42e8-8a61-c14ccd4b6290&trackingId=h3h7eIxc8uUQpxu2fTpVhw%3D%3D&position=15&pageNum=7&trk=public_jobs_job-result-card_result-card_full-click Organizational Infor\n"
     ]
    },
    {
     "name": "stderr",
     "output_type": "stream",
     "text": [
      "INFO:li:scraper:('[Data Scientist][United States][184]', 'Processed')\n"
     ]
    },
    {
     "name": "stdout",
     "output_type": "stream",
     "text": [
      "[ON_DATA] Machine Learning Engineer FlexJobs 2021-01-12 https://www.linkedin.com/jobs/view/machine-learning-engineer-at-flexjobs-2377327469?refId=9b63db86-dfff-42e8-8a61-c14ccd4b6290&trackingId=sWQ8pXugOdcfpj0SdJL4kg%3D%3D&position=16&pageNum=7&trk=public_jobs_job-result-card_result-card_full-click Description\n",
      "\n",
      "About t\n"
     ]
    },
    {
     "name": "stderr",
     "output_type": "stream",
     "text": [
      "INFO:li:scraper:('[Data Scientist][United States][185]', 'Processed')\n"
     ]
    },
    {
     "name": "stdout",
     "output_type": "stream",
     "text": [
      "[ON_DATA] Data Scientist States Title 2021-02-06 https://www.linkedin.com/jobs/view/data-scientist-at-states-title-2411581598?refId=9b63db86-dfff-42e8-8a61-c14ccd4b6290&trackingId=PKOK%2F4t5LhndSa8bN4JV3g%3D%3D&position=17&pageNum=7&trk=public_jobs_job-result-card_result-card_full-click Who We Are\n",
      "\n",
      "In the p\n"
     ]
    },
    {
     "name": "stderr",
     "output_type": "stream",
     "text": [
      "INFO:li:scraper:('[Data Scientist][United States][186]', 'Processed')\n"
     ]
    },
    {
     "name": "stdout",
     "output_type": "stream",
     "text": [
      "[ON_DATA] Junior Artificial Intelligence/ Machine Learning Engineer  Modern Technology Solutions, Inc. (MTSI) 2021-02-22 https://www.linkedin.com/jobs/view/junior-artificial-intelligence-machine-learning-engineer%C2%A0-at-modern-technology-solutions-inc-mtsi-2434733322?refId=9b63db86-dfff-42e8-8a61-c14ccd4b6290&trackingId=K8x6vXInp57hO6ghPxfOgg%3D%3D&position=18&pageNum=7&trk=public_jobs_job-result-card_result-card_full-click \n",
      "Create the model th\n"
     ]
    },
    {
     "name": "stderr",
     "output_type": "stream",
     "text": [
      "INFO:li:scraper:('[Data Scientist][United States][187]', 'Processed')\n"
     ]
    },
    {
     "name": "stdout",
     "output_type": "stream",
     "text": [
      "[ON_DATA] Machine Learning Engineer Kofi Group 2021-02-07 https://www.linkedin.com/jobs/view/machine-learning-engineer-at-kofi-group-2423253797?refId=9b63db86-dfff-42e8-8a61-c14ccd4b6290&trackingId=R8JfHfqCUNnSS71plUTdkg%3D%3D&position=19&pageNum=7&trk=public_jobs_job-result-card_result-card_full-click \n",
      "\n",
      "\n",
      "\n",
      " \n",
      "\n",
      "\n",
      "\n",
      "Are you a f\n"
     ]
    },
    {
     "name": "stderr",
     "output_type": "stream",
     "text": [
      "INFO:li:scraper:('[Data Scientist][United States][188]', 'Processed')\n"
     ]
    },
    {
     "name": "stdout",
     "output_type": "stream",
     "text": [
      "[ON_DATA] Data Science Specialist Eaton 2021-02-06 https://www.linkedin.com/jobs/view/data-science-specialist-at-eaton-2399336963?refId=9b63db86-dfff-42e8-8a61-c14ccd4b6290&trackingId=f%2FuMA%2BIbRYU1E%2FmMA7fV2w%3D%3D&position=20&pageNum=7&trk=public_jobs_job-result-card_result-card_full-click Apply Now\n",
      "We're part\n"
     ]
    },
    {
     "name": "stderr",
     "output_type": "stream",
     "text": [
      "INFO:li:scraper:('[Data Scientist][United States][189]', 'Processed')\n"
     ]
    },
    {
     "name": "stdout",
     "output_type": "stream",
     "text": [
      "[ON_DATA] Data Scientist SAM Companies 2021-02-18 https://www.linkedin.com/jobs/view/data-scientist-at-sam-companies-2417232577?refId=9b63db86-dfff-42e8-8a61-c14ccd4b6290&trackingId=EsZ66P9uaNbtsRnH0jeTgA%3D%3D&position=21&pageNum=7&trk=public_jobs_job-result-card_result-card_full-click Eaton Corporation is\n"
     ]
    },
    {
     "name": "stderr",
     "output_type": "stream",
     "text": [
      "INFO:li:scraper:('[Data Scientist][United States][190]', 'Processed')\n",
      "INFO:li:scraper:('[Data Scientist][United States][190]', 'Checking for new jobs to load...')\n"
     ]
    },
    {
     "name": "stdout",
     "output_type": "stream",
     "text": [
      "[ON_DATA] Data Scientist Cherre 2021-02-17 https://www.linkedin.com/jobs/view/data-scientist-at-cherre-2426656683?refId=9b63db86-dfff-42e8-8a61-c14ccd4b6290&trackingId=p9%2FpbBWctqUmmBfnJcouxQ%3D%3D&position=22&pageNum=7&trk=public_jobs_job-result-card_result-card_full-click Who We Are\n",
      "\n",
      "SAM Comp\n"
     ]
    },
    {
     "name": "stderr",
     "output_type": "stream",
     "text": [
      "INFO:li:scraper:('[Data Scientist][United States][190]', 'Found 214 jobs')\n",
      "INFO:li:scraper:('[Data Scientist][United States][191]', 'Processed')\n"
     ]
    },
    {
     "name": "stdout",
     "output_type": "stream",
     "text": [
      "[ON_DATA] Data Scientist Wpromote 2021-02-21 https://www.linkedin.com/jobs/view/data-scientist-at-wpromote-2432355388?refId=2bf653de-5269-4c00-a071-0e0099745041&trackingId=7nkOO7Mef3Cj70HPQFwwNw%3D%3D&position=1&pageNum=8&trk=public_jobs_job-result-card_result-card_full-click Cherre provides inve\n"
     ]
    },
    {
     "name": "stderr",
     "output_type": "stream",
     "text": [
      "INFO:li:scraper:('[Data Scientist][United States][192]', 'Processed')\n"
     ]
    },
    {
     "name": "stdout",
     "output_type": "stream",
     "text": [
      "[ON_DATA] Machine Learning Engineer Metropolis 2021-01-15 https://www.linkedin.com/jobs/view/machine-learning-engineer-at-metropolis-2415499993?refId=2bf653de-5269-4c00-a071-0e0099745041&trackingId=fWjv3D2%2FRWL8JQu3%2FzJm3g%3D%3D&position=2&pageNum=8&trk=public_jobs_job-result-card_result-card_full-click The Role\n",
      "\n",
      "\n",
      "\n",
      "Wpromote\n"
     ]
    },
    {
     "name": "stderr",
     "output_type": "stream",
     "text": [
      "INFO:li:scraper:('[Data Scientist][United States][193]', 'Processed')\n"
     ]
    },
    {
     "name": "stdout",
     "output_type": "stream",
     "text": [
      "[ON_DATA] Associate Data Scientist The Home Depot 2021-01-28 https://www.linkedin.com/jobs/view/associate-data-scientist-at-the-home-depot-2418483691?refId=2bf653de-5269-4c00-a071-0e0099745041&trackingId=hPV2lUshvRLr2ADvY8FG6w%3D%3D&position=3&pageNum=8&trk=public_jobs_job-result-card_result-card_full-click The Company\n",
      "\n",
      "Metropo\n"
     ]
    },
    {
     "name": "stderr",
     "output_type": "stream",
     "text": [
      "INFO:li:scraper:('[Data Scientist][United States][194]', 'Processed')\n"
     ]
    },
    {
     "name": "stdout",
     "output_type": "stream",
     "text": [
      "[ON_DATA] Data Scientist C3 AI 2021-02-22 https://www.linkedin.com/jobs/view/data-scientist-at-c3-ai-1983096778?refId=2bf653de-5269-4c00-a071-0e0099745041&trackingId=Muhvdb%2F3FFCg6aodDhvdgw%3D%3D&position=4&pageNum=8&trk=public_jobs_job-result-card_result-card_full-click POSITION PURPOSE\n",
      "The\n"
     ]
    },
    {
     "name": "stderr",
     "output_type": "stream",
     "text": [
      "INFO:li:scraper:('[Data Scientist][United States][195]', 'Processed')\n"
     ]
    },
    {
     "name": "stdout",
     "output_type": "stream",
     "text": [
      "[ON_DATA] Data Scientist Tubi 2021-02-03 https://www.linkedin.com/jobs/view/data-scientist-at-tubi-2401654082?refId=2bf653de-5269-4c00-a071-0e0099745041&trackingId=FknbQNXUjqH2d6yLsheYeg%3D%3D&position=5&pageNum=8&trk=public_jobs_job-result-card_result-card_full-click C3.ai, Inc. (NYSE:AI\n"
     ]
    },
    {
     "name": "stderr",
     "output_type": "stream",
     "text": [
      "INFO:li:scraper:('[Data Scientist][United States][196]', 'Processed')\n"
     ]
    },
    {
     "name": "stdout",
     "output_type": "stream",
     "text": [
      "[ON_DATA] Data Scientist Intern (Remote) Vee 2021-02-16 https://www.linkedin.com/jobs/view/data-scientist-intern-remote-at-vee-2425539785?refId=2bf653de-5269-4c00-a071-0e0099745041&trackingId=CeSbHVe5TsAfJVxp9vcOOA%3D%3D&position=6&pageNum=8&trk=public_jobs_job-result-card_result-card_full-click Join Tubi, a premium\n"
     ]
    },
    {
     "name": "stderr",
     "output_type": "stream",
     "text": [
      "INFO:li:scraper:('[Data Scientist][United States][197]', 'Processed')\n"
     ]
    },
    {
     "name": "stdout",
     "output_type": "stream",
     "text": [
      "[ON_DATA] Data Scientist Saint Luke's Health System 2021-02-05 https://www.linkedin.com/jobs/view/data-scientist-at-saint-luke-s-health-system-2410657473?refId=2bf653de-5269-4c00-a071-0e0099745041&trackingId=47r98kdKPNidEItYk7R5tg%3D%3D&position=7&pageNum=8&trk=public_jobs_job-result-card_result-card_full-click Position: Data Scien\n"
     ]
    },
    {
     "name": "stderr",
     "output_type": "stream",
     "text": [
      "INFO:li:scraper:('[Data Scientist][United States][198]', 'Processed')\n"
     ]
    },
    {
     "name": "stdout",
     "output_type": "stream",
     "text": [
      "[ON_DATA] Machine Learning Engineer Andiamo 2021-02-18 https://www.linkedin.com/jobs/view/machine-learning-engineer-at-andiamo-2434946160?refId=2bf653de-5269-4c00-a071-0e0099745041&trackingId=AkGYAXzcZ1MEcNSjicRLXQ%3D%3D&position=8&pageNum=8&trk=public_jobs_job-result-card_result-card_full-click Job Description\n",
      "\n",
      "Thi\n"
     ]
    },
    {
     "name": "stderr",
     "output_type": "stream",
     "text": [
      "INFO:li:scraper:('[Data Scientist][United States][199]', 'Processed')\n"
     ]
    },
    {
     "name": "stdout",
     "output_type": "stream",
     "text": [
      "[ON_DATA] Machine Learning Engineer (Remote) Pachama 2020-10-15 https://www.linkedin.com/jobs/view/machine-learning-engineer-remote-at-pachama-2294661465?refId=2bf653de-5269-4c00-a071-0e0099745041&trackingId=IrfwsMEzre5PAP0KLkG0Eg%3D%3D&position=9&pageNum=8&trk=public_jobs_job-result-card_result-card_full-click e love programming a\n"
     ]
    },
    {
     "name": "stderr",
     "output_type": "stream",
     "text": [
      "INFO:li:scraper:('[Data Scientist][United States][200]', 'Processed')\n"
     ]
    },
    {
     "name": "stdout",
     "output_type": "stream",
     "text": [
      "[ON_DATA] Data Scientist Datadog 2021-02-13 https://www.linkedin.com/jobs/view/data-scientist-at-datadog-2360938364?refId=2bf653de-5269-4c00-a071-0e0099745041&trackingId=t%2Bp1GoAU7WfCUZ32lNTzVg%3D%3D&position=10&pageNum=8&trk=public_jobs_job-result-card_result-card_full-click We are building the \n"
     ]
    },
    {
     "name": "stderr",
     "output_type": "stream",
     "text": [
      "INFO:li:scraper:('[Data Scientist][United States][201]', 'Processed')\n"
     ]
    },
    {
     "name": "stdout",
     "output_type": "stream",
     "text": [
      "[ON_DATA] Data Scientist MightyHive 2021-02-08 https://www.linkedin.com/jobs/view/data-scientist-at-mightyhive-2321997366?refId=2bf653de-5269-4c00-a071-0e0099745041&trackingId=eqoERQWgJWPS%2FvWiAs9vcQ%3D%3D&position=11&pageNum=8&trk=public_jobs_job-result-card_result-card_full-click About Datadog\n",
      "\n",
      "We're\n"
     ]
    },
    {
     "name": "stderr",
     "output_type": "stream",
     "text": [
      "INFO:li:scraper:('[Data Scientist][United States][202]', 'Processed')\n"
     ]
    },
    {
     "name": "stdout",
     "output_type": "stream",
     "text": [
      "[ON_DATA] Machine Learning Engineer Sixgill LLC 2021-02-15 https://www.linkedin.com/jobs/view/machine-learning-engineer-at-sixgill-llc-2434768361?refId=2bf653de-5269-4c00-a071-0e0099745041&trackingId=V49uH6DlHAapADRX1cg%2FPQ%3D%3D&position=12&pageNum=8&trk=public_jobs_job-result-card_result-card_full-click The Opportunity\n",
      "\n",
      "Mig\n"
     ]
    },
    {
     "name": "stderr",
     "output_type": "stream",
     "text": [
      "INFO:li:scraper:('[Data Scientist][United States][203]', 'Processed')\n"
     ]
    },
    {
     "name": "stdout",
     "output_type": "stream",
     "text": [
      "[ON_DATA] Machine Learning Engineer Octave Bioscience 2021-02-11 https://www.linkedin.com/jobs/view/machine-learning-engineer-at-octave-bioscience-2322784494?refId=2bf653de-5269-4c00-a071-0e0099745041&trackingId=eAuWYuBOqCJpMnDKkElmuQ%3D%3D&position=13&pageNum=8&trk=public_jobs_job-result-card_result-card_full-click Sixgill provides an \n"
     ]
    },
    {
     "name": "stderr",
     "output_type": "stream",
     "text": [
      "INFO:li:scraper:('[Data Scientist][United States][204]', 'Processed')\n"
     ]
    },
    {
     "name": "stdout",
     "output_type": "stream",
     "text": [
      "[ON_DATA] Data Scientist Renew Financial 2021-02-12 https://www.linkedin.com/jobs/view/data-scientist-at-renew-financial-2408908178?refId=2bf653de-5269-4c00-a071-0e0099745041&trackingId=4wo4MjeVQw7%2BXePyTNtXYA%3D%3D&position=14&pageNum=8&trk=public_jobs_job-result-card_result-card_full-click Octave combines deep\n"
     ]
    },
    {
     "name": "stderr",
     "output_type": "stream",
     "text": [
      "INFO:li:scraper:('[Data Scientist][United States][205]', 'Processed')\n"
     ]
    },
    {
     "name": "stdout",
     "output_type": "stream",
     "text": [
      "[ON_DATA] Data and Machine Learning Engineer Flagship Pioneering 2021-02-06 https://www.linkedin.com/jobs/view/data-and-machine-learning-engineer-at-flagship-pioneering-2411566435?refId=2bf653de-5269-4c00-a071-0e0099745041&trackingId=ADhCeV6u1Z1C6Wd5WKV%2F%2Bw%3D%3D&position=15&pageNum=8&trk=public_jobs_job-result-card_result-card_full-click Renew Financial is a\n"
     ]
    },
    {
     "name": "stderr",
     "output_type": "stream",
     "text": [
      "INFO:li:scraper:('[Data Scientist][United States][206]', 'Processed')\n"
     ]
    },
    {
     "name": "stdout",
     "output_type": "stream",
     "text": [
      "[ON_DATA] Data Scientist - Discovery Roblox 2021-02-18 https://www.linkedin.com/jobs/view/data-scientist-discovery-at-roblox-2416482035?refId=2bf653de-5269-4c00-a071-0e0099745041&trackingId=02SWMqag%2FZ7PYgb2RDk%2Btw%3D%3D&position=16&pageNum=8&trk=public_jobs_job-result-card_result-card_full-click What if…you could jo\n"
     ]
    },
    {
     "name": "stderr",
     "output_type": "stream",
     "text": [
      "INFO:li:scraper:('[Data Scientist][United States][207]', 'Processed')\n"
     ]
    },
    {
     "name": "stdout",
     "output_type": "stream",
     "text": [
      "[ON_DATA] Data Scientist - Go to Market Figma 2021-01-12 https://www.linkedin.com/jobs/view/data-scientist-go-to-market-at-figma-2377344095?refId=2bf653de-5269-4c00-a071-0e0099745041&trackingId=loi%2BfQWOvcNjTANgv1gQiA%3D%3D&position=17&pageNum=8&trk=public_jobs_job-result-card_result-card_full-click WHY ROBLOX?\n",
      "\n",
      "Roblox \n"
     ]
    },
    {
     "name": "stderr",
     "output_type": "stream",
     "text": [
      "INFO:li:scraper:('[Data Scientist][United States][208]', 'Processed')\n"
     ]
    },
    {
     "name": "stdout",
     "output_type": "stream",
     "text": [
      "[ON_DATA] Data Scientist boodleAI 2021-02-22 https://www.linkedin.com/jobs/view/data-scientist-at-boodleai-2411990452?refId=2bf653de-5269-4c00-a071-0e0099745041&trackingId=BZwYVsZs6dQOo9k759PUUw%3D%3D&position=18&pageNum=8&trk=public_jobs_job-result-card_result-card_full-click Figma is adding to o\n"
     ]
    },
    {
     "name": "stderr",
     "output_type": "stream",
     "text": [
      "INFO:li:scraper:('[Data Scientist][United States][209]', 'Processed')\n"
     ]
    },
    {
     "name": "stdout",
     "output_type": "stream",
     "text": [
      "[ON_DATA] Data Scientist Sunshine 2021-02-21 https://www.linkedin.com/jobs/view/data-scientist-at-sunshine-2432575134?refId=2bf653de-5269-4c00-a071-0e0099745041&trackingId=2LtTH%2B9%2FZUcNJRRGLwPGJw%3D%3D&position=19&pageNum=8&trk=public_jobs_job-result-card_result-card_full-click About This Role\n",
      "\n",
      "boo\n"
     ]
    },
    {
     "name": "stderr",
     "output_type": "stream",
     "text": [
      "INFO:li:scraper:('[Data Scientist][United States][210]', 'Processed')\n"
     ]
    },
    {
     "name": "stdout",
     "output_type": "stream",
     "text": [
      "[ON_DATA] Data Scientist Crowdskout 2021-02-09 https://www.linkedin.com/jobs/view/data-scientist-at-crowdskout-2415713289?refId=2bf653de-5269-4c00-a071-0e0099745041&trackingId=6yJiWl8bfjuAqBwyrgZdLg%3D%3D&position=20&pageNum=8&trk=public_jobs_job-result-card_result-card_full-click You're Brilliant. We\n"
     ]
    },
    {
     "name": "stderr",
     "output_type": "stream",
     "text": [
      "INFO:li:scraper:('[Data Scientist][United States][211]', 'Processed')\n"
     ]
    },
    {
     "name": "stdout",
     "output_type": "stream",
     "text": [
      "[ON_DATA] Data Scientist, Product Analytics Oscar Health 2021-02-03 https://www.linkedin.com/jobs/view/data-scientist-product-analytics-at-oscar-health-2366686271?refId=2bf653de-5269-4c00-a071-0e0099745041&trackingId=c4z9JfeUFNRsuSO4oYpwug%3D%3D&position=21&pageNum=8&trk=public_jobs_job-result-card_result-card_full-click Crowdskout believes \n"
     ]
    },
    {
     "name": "stderr",
     "output_type": "stream",
     "text": [
      "INFO:li:scraper:('[Data Scientist][United States][212]', 'Processed')\n"
     ]
    },
    {
     "name": "stdout",
     "output_type": "stream",
     "text": [
      "[ON_DATA] Data Scientist The E.W. Scripps Company 2021-02-12 https://www.linkedin.com/jobs/view/data-scientist-at-the-e-w-scripps-company-2407651543?refId=2bf653de-5269-4c00-a071-0e0099745041&trackingId=1cb155HqmXqjr8%2BrebeXyw%3D%3D&position=22&pageNum=8&trk=public_jobs_job-result-card_result-card_full-click Hi, we're Oscar. We’\n"
     ]
    },
    {
     "name": "stderr",
     "output_type": "stream",
     "text": [
      "INFO:li:scraper:('[Data Scientist][United States][213]', 'Processed')\n"
     ]
    },
    {
     "name": "stdout",
     "output_type": "stream",
     "text": [
      "[ON_DATA] Associate Data Scientist Prognos Health 2021-02-05 https://www.linkedin.com/jobs/view/associate-data-scientist-at-prognos-health-2410439758?refId=2bf653de-5269-4c00-a071-0e0099745041&trackingId=50XqPxc7eXfb%2BH5x4jeycg%3D%3D&position=23&pageNum=8&trk=public_jobs_job-result-card_result-card_full-click E.W. Scripps is a co\n"
     ]
    },
    {
     "name": "stderr",
     "output_type": "stream",
     "text": [
      "INFO:li:scraper:('[Data Scientist][United States][214]', 'Processed')\n",
      "INFO:li:scraper:('[Data Scientist][United States][214]', 'Checking for new jobs to load...')\n"
     ]
    },
    {
     "name": "stdout",
     "output_type": "stream",
     "text": [
      "[ON_DATA] Data Scientist Bio-Techne 2021-01-25 https://www.linkedin.com/jobs/view/data-scientist-at-bio-techne-2418293276?refId=2bf653de-5269-4c00-a071-0e0099745041&trackingId=%2BkxzSzGM5GVEoGXFaAzHpA%3D%3D&position=24&pageNum=8&trk=public_jobs_job-result-card_result-card_full-click Prognos is a leading\n"
     ]
    },
    {
     "name": "stderr",
     "output_type": "stream",
     "text": [
      "INFO:li:scraper:('[Data Scientist][United States][214]', 'Found 238 jobs')\n",
      "INFO:li:scraper:('[Data Scientist][United States][215]', 'Processed')\n"
     ]
    },
    {
     "name": "stdout",
     "output_type": "stream",
     "text": [
      "[ON_DATA] Staff Data Scientist (Americas- Remote) Shopify 2021-02-22 https://www.linkedin.com/jobs/view/staff-data-scientist-americas-remote-at-shopify-2423129173?refId=43f9aacd-438a-4dc6-ae19-0cfff0f7692c&trackingId=L3WMCNefDX%2BP4HDd314iSw%3D%3D&position=1&pageNum=9&trk=public_jobs_job-result-card_result-card_full-click Description\n",
      "\n",
      "By join\n"
     ]
    },
    {
     "name": "stderr",
     "output_type": "stream",
     "text": [
      "INFO:li:scraper:('[Data Scientist][United States][216]', 'Processed')\n"
     ]
    },
    {
     "name": "stdout",
     "output_type": "stream",
     "text": [
      "[ON_DATA] Machine Learning Engineer Expedition Technology Inc 2021-01-20 https://www.linkedin.com/jobs/view/machine-learning-engineer-at-expedition-technology-inc-2423908846?refId=43f9aacd-438a-4dc6-ae19-0cfff0f7692c&trackingId=XEZv4elcjJKViLzQHXzXug%3D%3D&position=2&pageNum=9&trk=public_jobs_job-result-card_result-card_full-click Company Description\n",
      "\n"
     ]
    },
    {
     "name": "stderr",
     "output_type": "stream",
     "text": [
      "INFO:li:scraper:('[Data Scientist][United States][217]', 'Processed')\n"
     ]
    },
    {
     "name": "stdout",
     "output_type": "stream",
     "text": [
      "[ON_DATA] Associate Data Scientist BioSpace 2021-02-13 https://www.linkedin.com/jobs/view/associate-data-scientist-at-biospace-2423339011?refId=43f9aacd-438a-4dc6-ae19-0cfff0f7692c&trackingId=nGP7rqP4FqWoIj442lq7CQ%3D%3D&position=3&pageNum=9&trk=public_jobs_job-result-card_result-card_full-click Machine Learning Eng\n"
     ]
    },
    {
     "name": "stderr",
     "output_type": "stream",
     "text": [
      "INFO:li:scraper:('[Data Scientist][United States][218]', 'Processed')\n"
     ]
    },
    {
     "name": "stdout",
     "output_type": "stream",
     "text": [
      "[ON_DATA] Data Scientist First American Title 2021-01-17 https://www.linkedin.com/jobs/view/data-scientist-at-first-american-title-2419003213?refId=43f9aacd-438a-4dc6-ae19-0cfff0f7692c&trackingId=%2FpxCSUfIw5Ef%2FdJFVQD9kg%3D%3D&position=4&pageNum=9&trk=public_jobs_job-result-card_result-card_full-click Schrödinger's missio\n"
     ]
    },
    {
     "name": "stderr",
     "output_type": "stream",
     "text": [
      "INFO:li:scraper:('[Data Scientist][United States][219]', 'Processed')\n"
     ]
    },
    {
     "name": "stdout",
     "output_type": "stream",
     "text": [
      "[ON_DATA] Data Scientist - Austin Nomi Health 2021-02-13 https://www.linkedin.com/jobs/view/data-scientist-austin-at-nomi-health-2422983793?refId=43f9aacd-438a-4dc6-ae19-0cfff0f7692c&trackingId=nvLILpofY27p5X0IZr%2Fdcg%3D%3D&position=5&pageNum=9&trk=public_jobs_job-result-card_result-card_full-click Company SummaryJoin \n"
     ]
    },
    {
     "name": "stderr",
     "output_type": "stream",
     "text": [
      "INFO:li:scraper:('[Data Scientist][United States][220]', 'Processed')\n"
     ]
    },
    {
     "name": "stdout",
     "output_type": "stream",
     "text": [
      "[ON_DATA] Machine Learning Engineer - Core Engineering Goldman Sachs 2021-02-10 https://www.linkedin.com/jobs/view/machine-learning-engineer-core-engineering-at-goldman-sachs-2265943156?refId=43f9aacd-438a-4dc6-ae19-0cfff0f7692c&trackingId=PIuf3aRW6RkTArbYHR2ayQ%3D%3D&position=6&pageNum=9&trk=public_jobs_job-result-card_result-card_full-click Company Introduction\n"
     ]
    },
    {
     "name": "stderr",
     "output_type": "stream",
     "text": [
      "INFO:li:scraper:('[Data Scientist][United States][221]', 'Processed')\n"
     ]
    },
    {
     "name": "stdout",
     "output_type": "stream",
     "text": [
      "[ON_DATA] Machine Learning Engineer, Partnerships OpenAI 2021-01-24 https://www.linkedin.com/jobs/view/machine-learning-engineer-partnerships-at-openai-2417298346?refId=43f9aacd-438a-4dc6-ae19-0cfff0f7692c&trackingId=I5LAhBrf2n3KRn8SeKtExw%3D%3D&position=7&pageNum=9&trk=public_jobs_job-result-card_result-card_full-click YOUR IMPACT\n",
      "\n",
      "The fin\n"
     ]
    },
    {
     "name": "stderr",
     "output_type": "stream",
     "text": [
      "INFO:li:scraper:('[Data Scientist][United States][222]', 'Processed')\n"
     ]
    },
    {
     "name": "stdout",
     "output_type": "stream",
     "text": [
      "[ON_DATA] Data Scientist Betterworks 2021-01-20 https://www.linkedin.com/jobs/view/data-scientist-at-betterworks-2374073929?refId=43f9aacd-438a-4dc6-ae19-0cfff0f7692c&trackingId=e%2BcD0KEh9vkpBAJBPB1WEw%3D%3D&position=8&pageNum=9&trk=public_jobs_job-result-card_result-card_full-click We’re looking for a \n"
     ]
    },
    {
     "name": "stderr",
     "output_type": "stream",
     "text": [
      "INFO:li:scraper:('[Data Scientist][United States][223]', 'Processed')\n"
     ]
    },
    {
     "name": "stdout",
     "output_type": "stream",
     "text": [
      "[ON_DATA] Data Scientist Descript 2021-02-12 https://www.linkedin.com/jobs/view/data-scientist-at-descript-2420904297?refId=43f9aacd-438a-4dc6-ae19-0cfff0f7692c&trackingId=ahK1QOmKviiaFt7BQQ9V9A%3D%3D&position=9&pageNum=9&trk=public_jobs_job-result-card_result-card_full-click About Bettworks\n",
      "\n",
      "Bet\n"
     ]
    },
    {
     "name": "stderr",
     "output_type": "stream",
     "text": [
      "INFO:li:scraper:('[Data Scientist][United States][224]', 'Processed')\n"
     ]
    },
    {
     "name": "stdout",
     "output_type": "stream",
     "text": [
      "[ON_DATA] Machine Learning Engineer WeRide.ai 2020-10-05 https://www.linkedin.com/jobs/view/machine-learning-engineer-at-weride-ai-2256293921?refId=43f9aacd-438a-4dc6-ae19-0cfff0f7692c&trackingId=8c3ulyW7scQWb2zacldkxw%3D%3D&position=10&pageNum=9&trk=public_jobs_job-result-card_result-card_full-click Our vision is to bui\n"
     ]
    },
    {
     "name": "stderr",
     "output_type": "stream",
     "text": [
      "INFO:li:scraper:('[Data Scientist][United States][225]', 'Processed')\n"
     ]
    },
    {
     "name": "stdout",
     "output_type": "stream",
     "text": [
      "[ON_DATA] Data Scientist Machine Learning Plastpro,Inc 2021-02-05 https://www.linkedin.com/jobs/view/data-scientist-machine-learning-at-plastpro-inc-2410045211?refId=43f9aacd-438a-4dc6-ae19-0cfff0f7692c&trackingId=IO5BSrsof6aA2xHY%2BilcuA%3D%3D&position=11&pageNum=9&trk=public_jobs_job-result-card_result-card_full-click WeRide is a smart mo\n"
     ]
    },
    {
     "name": "stderr",
     "output_type": "stream",
     "text": [
      "INFO:li:scraper:('[Data Scientist][United States][226]', 'Processed')\n"
     ]
    },
    {
     "name": "stdout",
     "output_type": "stream",
     "text": [
      "[ON_DATA] Data Scientist II WHOOP 2021-02-22 https://www.linkedin.com/jobs/view/data-scientist-ii-at-whoop-2353877330?refId=43f9aacd-438a-4dc6-ae19-0cfff0f7692c&trackingId=nPhwSbqNPenkEF0LKMt%2Bmw%3D%3D&position=12&pageNum=9&trk=public_jobs_job-result-card_result-card_full-click SUMMARY The Data Sci\n"
     ]
    },
    {
     "name": "stderr",
     "output_type": "stream",
     "text": [
      "INFO:li:scraper:('[Data Scientist][United States][227]', 'Processed')\n"
     ]
    },
    {
     "name": "stdout",
     "output_type": "stream",
     "text": [
      "[ON_DATA] Data Scientist Praxair Distribution, Inc. 2021-02-13 https://www.linkedin.com/jobs/view/data-scientist-at-praxair-distribution-inc-2435127314?refId=43f9aacd-438a-4dc6-ae19-0cfff0f7692c&trackingId=rOSVbmgnk3FRkKCDner8zw%3D%3D&position=13&pageNum=9&trk=public_jobs_job-result-card_result-card_full-click At WHOOP, we're on a\n"
     ]
    },
    {
     "name": "stderr",
     "output_type": "stream",
     "text": [
      "INFO:li:scraper:('[Data Scientist][United States][228]', 'Processed')\n"
     ]
    },
    {
     "name": "stdout",
     "output_type": "stream",
     "text": [
      "[ON_DATA] Data Scientist - Analytics OkCupid 2021-01-06 https://www.linkedin.com/jobs/view/data-scientist-analytics-at-okcupid-2376301123?refId=43f9aacd-438a-4dc6-ae19-0cfff0f7692c&trackingId=Y%2B4Q82ah9UVxlf%2BaiabhUw%3D%3D&position=14&pageNum=9&trk=public_jobs_job-result-card_result-card_full-click Description\n",
      "\n",
      "Praxair\n"
     ]
    },
    {
     "name": "stderr",
     "output_type": "stream",
     "text": [
      "INFO:li:scraper:('[Data Scientist][United States][229]', 'Processed')\n"
     ]
    },
    {
     "name": "stdout",
     "output_type": "stream",
     "text": [
      "[ON_DATA] Data Scientist Albertsons Companies 2020-12-25 https://www.linkedin.com/jobs/view/data-scientist-at-albertsons-companies-2344179940?refId=43f9aacd-438a-4dc6-ae19-0cfff0f7692c&trackingId=pDoSHAkt2aBaRzOYIpi6bQ%3D%3D&position=15&pageNum=9&trk=public_jobs_job-result-card_result-card_full-click OkCupid is looking f\n"
     ]
    },
    {
     "name": "stderr",
     "output_type": "stream",
     "text": [
      "INFO:li:scraper:('[Data Scientist][United States][230]', 'Processed')\n"
     ]
    },
    {
     "name": "stdout",
     "output_type": "stream",
     "text": [
      "[ON_DATA] Data Scientist Eaze 2020-10-13 https://www.linkedin.com/jobs/view/data-scientist-at-eaze-2287364681?refId=43f9aacd-438a-4dc6-ae19-0cfff0f7692c&trackingId=hjpiXW%2BvhlGtSVhoW8PnnQ%3D%3D&position=16&pageNum=9&trk=public_jobs_job-result-card_result-card_full-click Albertsons Companies\n"
     ]
    },
    {
     "name": "stderr",
     "output_type": "stream",
     "text": [
      "INFO:li:scraper:('[Data Scientist][United States][231]', 'Processed')\n"
     ]
    },
    {
     "name": "stdout",
     "output_type": "stream",
     "text": [
      "[ON_DATA] Data Scientist EDO, Inc. 2021-02-02 https://www.linkedin.com/jobs/view/data-scientist-at-edo-inc-2404953162?refId=43f9aacd-438a-4dc6-ae19-0cfff0f7692c&trackingId=cdJG%2BmZBZOX6kxn81fhKFg%3D%3D&position=17&pageNum=9&trk=public_jobs_job-result-card_result-card_full-click Who we are\n",
      "\n",
      "Eaze is \n"
     ]
    },
    {
     "name": "stderr",
     "output_type": "stream",
     "text": [
      "INFO:li:scraper:('[Data Scientist][United States][232]', 'Processed')\n"
     ]
    },
    {
     "name": "stdout",
     "output_type": "stream",
     "text": [
      "[ON_DATA] Data Scientist Tata Consultancy Services 2021-02-16 https://www.linkedin.com/jobs/view/data-scientist-at-tata-consultancy-services-2414702565?refId=43f9aacd-438a-4dc6-ae19-0cfff0f7692c&trackingId=NhazOfMygxE%2FEZ6VSMbdiQ%3D%3D&position=18&pageNum=9&trk=public_jobs_job-result-card_result-card_full-click Data Scientist at ED\n"
     ]
    },
    {
     "name": "stderr",
     "output_type": "stream",
     "text": [
      "INFO:li:scraper:('[Data Scientist][United States][233]', 'Processed')\n"
     ]
    },
    {
     "name": "stdout",
     "output_type": "stream",
     "text": [
      "[ON_DATA] Intern Data Scientist Pacific Gas and Electric Company 2021-02-17 https://www.linkedin.com/jobs/view/intern-data-scientist-at-pacific-gas-and-electric-company-2426997424?refId=43f9aacd-438a-4dc6-ae19-0cfff0f7692c&trackingId=6v0pcxezrceZfIzTQuIyLg%3D%3D&position=19&pageNum=9&trk=public_jobs_job-result-card_result-card_full-click Job Title Data Scien\n"
     ]
    },
    {
     "name": "stderr",
     "output_type": "stream",
     "text": [
      "INFO:li:scraper:('[Data Scientist][United States][234]', 'Processed')\n"
     ]
    },
    {
     "name": "stdout",
     "output_type": "stream",
     "text": [
      "[ON_DATA] Machine Learning Engineer: Search Team Constructor 2021-01-23 https://www.linkedin.com/jobs/view/machine-learning-engineer-search-team-at-constructor-2391942576?refId=43f9aacd-438a-4dc6-ae19-0cfff0f7692c&trackingId=TAkru5ZPTfaRvgVtPLy%2BCw%3D%3D&position=20&pageNum=9&trk=public_jobs_job-result-card_result-card_full-click Requisition ID # 813\n"
     ]
    },
    {
     "name": "stderr",
     "output_type": "stream",
     "text": [
      "INFO:li:scraper:('[Data Scientist][United States][235]', 'Processed')\n"
     ]
    },
    {
     "name": "stdout",
     "output_type": "stream",
     "text": [
      "[ON_DATA] Data Scientist I The Trade Desk 2021-02-20 https://www.linkedin.com/jobs/view/data-scientist-i-at-the-trade-desk-2420526206?refId=43f9aacd-438a-4dc6-ae19-0cfff0f7692c&trackingId=J7d%2BHHgI0xrhxKcZ0ZgzfA%3D%3D&position=21&pageNum=9&trk=public_jobs_job-result-card_result-card_full-click You’re a machine lea\n"
     ]
    },
    {
     "name": "stderr",
     "output_type": "stream",
     "text": [
      "INFO:li:scraper:('[Data Scientist][United States][236]', 'Processed')\n"
     ]
    },
    {
     "name": "stdout",
     "output_type": "stream",
     "text": [
      "[ON_DATA] Data Scientist Advisor FedEx Services 2021-02-22 https://www.linkedin.com/jobs/view/data-scientist-advisor-at-fedex-services-2422807788?refId=43f9aacd-438a-4dc6-ae19-0cfff0f7692c&trackingId=tryRDJqaVDrWz5z7os%2BRlQ%3D%3D&position=22&pageNum=9&trk=public_jobs_job-result-card_result-card_full-click The Trade Desk is a \n"
     ]
    },
    {
     "name": "stderr",
     "output_type": "stream",
     "text": [
      "INFO:li:scraper:('[Data Scientist][United States][237]', 'Processed')\n"
     ]
    },
    {
     "name": "stdout",
     "output_type": "stream",
     "text": [
      "[ON_DATA] Data Scientists Analysts Altair 2021-02-18 https://www.linkedin.com/jobs/view/data-scientists-analysts-at-altair-2429644552?refId=43f9aacd-438a-4dc6-ae19-0cfff0f7692c&trackingId=L2kNDp7VPs25%2BkDSe9gQTw%3D%3D&position=23&pageNum=9&trk=public_jobs_job-result-card_result-card_full-click Company: FedEx Servi\n"
     ]
    },
    {
     "name": "stderr",
     "output_type": "stream",
     "text": [
      "INFO:li:scraper:('[Data Scientist][United States][238]', 'Processed')\n",
      "INFO:li:scraper:('[Data Scientist][United States][238]', 'Checking for new jobs to load...')\n"
     ]
    },
    {
     "name": "stdout",
     "output_type": "stream",
     "text": [
      "[ON_DATA] Data & Analytics / Scientist THREAD 2021-01-09 https://www.linkedin.com/jobs/view/data-analytics-scientist-at-thread-2374805721?refId=43f9aacd-438a-4dc6-ae19-0cfff0f7692c&trackingId=MaDGkCvvkAI8ODMwCnePwA%3D%3D&position=24&pageNum=9&trk=public_jobs_job-result-card_result-card_full-click Transforming the Fut\n"
     ]
    },
    {
     "name": "stderr",
     "output_type": "stream",
     "text": [
      "INFO:li:scraper:('[Data Scientist][United States][238]', 'Found 263 jobs')\n",
      "INFO:li:scraper:('[Data Scientist][United States][239]', 'Processed')\n"
     ]
    },
    {
     "name": "stdout",
     "output_type": "stream",
     "text": [
      "[ON_DATA] Intern, Data Scientist CoreLogic 2021-01-27 https://www.linkedin.com/jobs/view/intern-data-scientist-at-corelogic-2397070126?refId=19b7f6ff-9fbb-44d2-bec8-a0fd96c71226&trackingId=TfQs0fArHX%2B2xlSbYQ6Y%2FA%3D%3D&position=1&pageNum=10&trk=public_jobs_job-result-card_result-card_full-click Overview\n",
      "\n",
      "THREAD is \n"
     ]
    },
    {
     "name": "stderr",
     "output_type": "stream",
     "text": [
      "INFO:li:scraper:('[Data Scientist][United States][240]', 'Processed')\n"
     ]
    },
    {
     "name": "stdout",
     "output_type": "stream",
     "text": [
      "[ON_DATA] Data Scientist IV Credit Karma 2021-01-21 https://www.linkedin.com/jobs/view/data-scientist-iv-at-credit-karma-2411729671?refId=19b7f6ff-9fbb-44d2-bec8-a0fd96c71226&trackingId=b7pxwi8%2FKCimDwhfkQmI6A%3D%3D&position=2&pageNum=10&trk=public_jobs_job-result-card_result-card_full-click Join the team that p\n"
     ]
    },
    {
     "name": "stderr",
     "output_type": "stream",
     "text": [
      "INFO:li:scraper:('[Data Scientist][United States][241]', 'Processed')\n"
     ]
    },
    {
     "name": "stdout",
     "output_type": "stream",
     "text": [
      "[ON_DATA] Data Scientist (Bioinformatics) Bio-Rad Laboratories 2021-01-28 https://www.linkedin.com/jobs/view/data-scientist-bioinformatics-at-bio-rad-laboratories-2378217138?refId=19b7f6ff-9fbb-44d2-bec8-a0fd96c71226&trackingId=MWVwv9kmeZI%2B3EBU8cp8sA%3D%3D&position=3&pageNum=10&trk=public_jobs_job-result-card_result-card_full-click Credit Karma is a mi\n"
     ]
    },
    {
     "name": "stderr",
     "output_type": "stream",
     "text": [
      "INFO:li:scraper:('[Data Scientist][United States][242]', 'Processed')\n"
     ]
    },
    {
     "name": "stdout",
     "output_type": "stream",
     "text": [
      "[ON_DATA] Data Scientist Klaviyo 2021-01-28 https://www.linkedin.com/jobs/view/data-scientist-at-klaviyo-2360315359?refId=19b7f6ff-9fbb-44d2-bec8-a0fd96c71226&trackingId=qtMB4iAdG1EKJrqx5IzXnQ%3D%3D&position=4&pageNum=10&trk=public_jobs_job-result-card_result-card_full-click Who We Are And What \n"
     ]
    },
    {
     "name": "stderr",
     "output_type": "stream",
     "text": [
      "INFO:li:scraper:('[Data Scientist][United States][243]', 'Processed')\n"
     ]
    },
    {
     "name": "stdout",
     "output_type": "stream",
     "text": [
      "[ON_DATA] Data Scientist McGraw Hill 2021-02-18 https://www.linkedin.com/jobs/view/data-scientist-at-mcgraw-hill-2416497959?refId=19b7f6ff-9fbb-44d2-bec8-a0fd96c71226&trackingId=PmUZE0hVT32%2F7Fl1cUHd9w%3D%3D&position=5&pageNum=10&trk=public_jobs_job-result-card_result-card_full-click Klaviyo is growing f\n"
     ]
    },
    {
     "name": "stderr",
     "output_type": "stream",
     "text": [
      "INFO:li:scraper:('[Data Scientist][United States][244]', 'Processed')\n"
     ]
    },
    {
     "name": "stdout",
     "output_type": "stream",
     "text": [
      "[ON_DATA] Data Scientist / Data Engineer Intellipro Group Inc 2020-12-17 https://www.linkedin.com/jobs/view/data-scientist-data-engineer-at-intellipro-group-inc-2348191034?refId=19b7f6ff-9fbb-44d2-bec8-a0fd96c71226&trackingId=Dnx0CMVZ4OocrQrNd0Cezg%3D%3D&position=6&pageNum=10&trk=public_jobs_job-result-card_result-card_full-click Build the Future\n",
      "\n",
      "Do\n"
     ]
    },
    {
     "name": "stderr",
     "output_type": "stream",
     "text": [
      "INFO:li:scraper:('[Data Scientist][United States][245]', 'Processed')\n"
     ]
    },
    {
     "name": "stdout",
     "output_type": "stream",
     "text": [
      "[ON_DATA] Data Scientist - Work at Home Lumen Technologies 2021-02-18 https://www.linkedin.com/jobs/view/data-scientist-work-at-home-at-lumen-technologies-2430482258?refId=19b7f6ff-9fbb-44d2-bec8-a0fd96c71226&trackingId=jpiJ0SHmL1%2B1oMtSZw78qg%3D%3D&position=7&pageNum=10&trk=public_jobs_job-result-card_result-card_full-click Company Background\n",
      "\n",
      "\n"
     ]
    },
    {
     "name": "stderr",
     "output_type": "stream",
     "text": [
      "INFO:li:scraper:('[Data Scientist][United States][246]', 'Processed')\n"
     ]
    },
    {
     "name": "stdout",
     "output_type": "stream",
     "text": [
      "[ON_DATA] Associate Data Scientist Fifth Third Bank 2021-02-13 https://www.linkedin.com/jobs/view/associate-data-scientist-at-fifth-third-bank-2344453034?refId=19b7f6ff-9fbb-44d2-bec8-a0fd96c71226&trackingId=9im3Ty26nry%2BaujF9V%2BwFA%3D%3D&position=8&pageNum=10&trk=public_jobs_job-result-card_result-card_full-click About Lumen\n",
      "\n",
      "Lumen i\n"
     ]
    },
    {
     "name": "stderr",
     "output_type": "stream",
     "text": [
      "INFO:li:scraper:('[Data Scientist][United States][247]', 'Processed')\n"
     ]
    },
    {
     "name": "stdout",
     "output_type": "stream",
     "text": [
      "[ON_DATA] Data Scientist Northwestern Mutual 2021-02-11 https://www.linkedin.com/jobs/view/data-scientist-at-northwestern-mutual-2416490650?refId=19b7f6ff-9fbb-44d2-bec8-a0fd96c71226&trackingId=NjOEHw63ycqUEas2aHZUfw%3D%3D&position=9&pageNum=10&trk=public_jobs_job-result-card_result-card_full-click Make banking a Fifth\n"
     ]
    },
    {
     "name": "stderr",
     "output_type": "stream",
     "text": [
      "INFO:li:scraper:('[Data Scientist][United States][248]', 'Processed')\n"
     ]
    },
    {
     "name": "stdout",
     "output_type": "stream",
     "text": [
      "[ON_DATA] Data Scientist Medium 2021-01-18 https://www.linkedin.com/jobs/view/data-scientist-at-medium-2421452539?refId=19b7f6ff-9fbb-44d2-bec8-a0fd96c71226&trackingId=j2CtNiLGwnAvmQnHBREV0A%3D%3D&position=10&pageNum=10&trk=public_jobs_job-result-card_result-card_full-click At Northwestern Mutu\n"
     ]
    },
    {
     "name": "stderr",
     "output_type": "stream",
     "text": [
      "INFO:li:scraper:('[Data Scientist][United States][249]', 'Processed')\n"
     ]
    },
    {
     "name": "stdout",
     "output_type": "stream",
     "text": [
      "[ON_DATA] Data Scientist Surveying and Mapping 2021-02-18 https://www.linkedin.com/jobs/view/data-scientist-at-surveying-and-mapping-2428918171?refId=19b7f6ff-9fbb-44d2-bec8-a0fd96c71226&trackingId=P%2FxeyqXWtiqsPQ%2Bm8SW7aA%3D%3D&position=11&pageNum=10&trk=public_jobs_job-result-card_result-card_full-click Medium’s mission is \n"
     ]
    },
    {
     "name": "stderr",
     "output_type": "stream",
     "text": [
      "INFO:li:scraper:('[Data Scientist][United States][250]', 'Processed')\n"
     ]
    },
    {
     "name": "stdout",
     "output_type": "stream",
     "text": [
      "[ON_DATA] Data Scientist Charles River Associates 2021-02-17 https://www.linkedin.com/jobs/view/data-scientist-at-charles-river-associates-2426657213?refId=19b7f6ff-9fbb-44d2-bec8-a0fd96c71226&trackingId=CzC78rusmeLn4DmC%2ByeRZw%3D%3D&position=12&pageNum=10&trk=public_jobs_job-result-card_result-card_full-click Who We Are\n",
      "\n",
      "SAM Comp\n"
     ]
    },
    {
     "name": "stderr",
     "output_type": "stream",
     "text": [
      "INFO:li:scraper:('[Data Scientist][United States][251]', 'Processed')\n"
     ]
    },
    {
     "name": "stdout",
     "output_type": "stream",
     "text": [
      "[ON_DATA] Data Scientist Interrn Verizon Media 2021-02-16 https://www.linkedin.com/jobs/view/data-scientist-interrn-at-verizon-media-2408028571?refId=19b7f6ff-9fbb-44d2-bec8-a0fd96c71226&trackingId=9vIbsPL%2Bclg2NJd7qz1Jbg%3D%3D&position=13&pageNum=10&trk=public_jobs_job-result-card_result-card_full-click Data Analyst\n",
      "\n",
      "About \n"
     ]
    },
    {
     "name": "stderr",
     "output_type": "stream",
     "text": [
      "INFO:li:scraper:('[Data Scientist][United States][252]', 'Processed')\n"
     ]
    },
    {
     "name": "stdout",
     "output_type": "stream",
     "text": [
      "[ON_DATA] Data Scientist The Center 2021-01-31 https://www.linkedin.com/jobs/view/data-scientist-at-the-center-2403318364?refId=19b7f6ff-9fbb-44d2-bec8-a0fd96c71226&trackingId=URFy3XV%2FN%2B0ndgOafN8eLA%3D%3D&position=14&pageNum=10&trk=public_jobs_job-result-card_result-card_full-click It takes powerful te\n"
     ]
    },
    {
     "name": "stderr",
     "output_type": "stream",
     "text": [
      "INFO:li:scraper:('[Data Scientist][United States][253]', 'Processed')\n"
     ]
    },
    {
     "name": "stdout",
     "output_type": "stream",
     "text": [
      "[ON_DATA] Entry Level Data Analyst / Machine Learning Engineer Enhance IT 2021-02-22 https://www.linkedin.com/jobs/view/entry-level-data-analyst-machine-learning-engineer-at-enhance-it-2434451383?refId=19b7f6ff-9fbb-44d2-bec8-a0fd96c71226&trackingId=eYfV7pk%2Bl0aNyDkXb9jQCw%3D%3D&position=15&pageNum=10&trk=public_jobs_job-result-card_result-card_full-click Exponent is a leadin\n"
     ]
    },
    {
     "name": "stderr",
     "output_type": "stream",
     "text": [
      "WARNING:li:scraper:('[Data Scientist][United States]', 'Error in response', 'request_id=21972.1633581 status=404 type=XHR mime_type=text/html url=https://www.linkedin.com/jobs-guest/jobs/api/jobPosting/2434451383?refId=19b7f6ff-9fbb-44d2-bec8-a0fd96c71226&trackingId=eYfV7pk%2Bl0aNyDkXb9jQCw%3D%3D')\n",
      "INFO:li:scraper:('[Data Scientist][United States][254]', 'Processed')\n"
     ]
    },
    {
     "name": "stdout",
     "output_type": "stream",
     "text": [
      "[ON_DATA] Data Scientist LogRocket 2021-02-18 https://www.linkedin.com/jobs/view/data-scientist-at-logrocket-2433767387?refId=19b7f6ff-9fbb-44d2-bec8-a0fd96c71226&trackingId=J%2Bo3iJBAdIddFG%2FHaDAtfg%3D%3D&position=16&pageNum=10&trk=public_jobs_job-result-card_result-card_full-click Exponent is a leadin\n"
     ]
    },
    {
     "name": "stderr",
     "output_type": "stream",
     "text": [
      "INFO:li:scraper:('[Data Scientist][United States][255]', 'Processed')\n"
     ]
    },
    {
     "name": "stdout",
     "output_type": "stream",
     "text": [
      "[ON_DATA] Data Scientist Elligo Health Research 2021-02-12 https://www.linkedin.com/jobs/view/data-scientist-at-elligo-health-research-2421983788?refId=19b7f6ff-9fbb-44d2-bec8-a0fd96c71226&trackingId=sG82ZnHDrNMYK5qtrO%2FK6Q%3D%3D&position=17&pageNum=10&trk=public_jobs_job-result-card_result-card_full-click Job Summary\n",
      "\n",
      "The Dat\n"
     ]
    },
    {
     "name": "stderr",
     "output_type": "stream",
     "text": [
      "INFO:li:scraper:('[Data Scientist][United States][256]', 'Processed')\n"
     ]
    },
    {
     "name": "stdout",
     "output_type": "stream",
     "text": [
      "[ON_DATA] Data Scientist - Remote kWh Analytics 2021-02-04 https://www.linkedin.com/jobs/view/data-scientist-remote-at-kwh-analytics-2408744822?refId=19b7f6ff-9fbb-44d2-bec8-a0fd96c71226&trackingId=7ULC4Fjr4flBCwynNU9Q%2Bg%3D%3D&position=18&pageNum=10&trk=public_jobs_job-result-card_result-card_full-click Job Summary\n",
      "\n",
      "The Dat\n"
     ]
    },
    {
     "name": "stderr",
     "output_type": "stream",
     "text": [
      "INFO:li:scraper:('[Data Scientist][United States][257]', 'Processed')\n"
     ]
    },
    {
     "name": "stdout",
     "output_type": "stream",
     "text": [
      "[ON_DATA] Data Scientist One Drop 2020-10-05 https://www.linkedin.com/jobs/view/data-scientist-at-one-drop-2258368975?refId=19b7f6ff-9fbb-44d2-bec8-a0fd96c71226&trackingId=cdnVnXEt5IYC5ZI3cKpBPw%3D%3D&position=19&pageNum=10&trk=public_jobs_job-result-card_result-card_full-click LOCATION: REMOTE, AN\n"
     ]
    },
    {
     "name": "stderr",
     "output_type": "stream",
     "text": [
      "INFO:li:scraper:('[Data Scientist][United States][258]', 'Processed')\n"
     ]
    },
    {
     "name": "stdout",
     "output_type": "stream",
     "text": [
      "[ON_DATA] Machine Learning Engineer Sisu 2020-10-05 https://www.linkedin.com/jobs/view/machine-learning-engineer-at-sisu-2256260571?refId=19b7f6ff-9fbb-44d2-bec8-a0fd96c71226&trackingId=Vxoa1xGBiFzi73tvkn6Akw%3D%3D&position=20&pageNum=10&trk=public_jobs_job-result-card_result-card_full-click We’re seeing a passi\n"
     ]
    },
    {
     "name": "stderr",
     "output_type": "stream",
     "text": [
      "INFO:li:scraper:('[Data Scientist][United States][259]', 'Processed')\n"
     ]
    },
    {
     "name": "stdout",
     "output_type": "stream",
     "text": [
      "[ON_DATA] Data Scientist Tala 2021-02-02 https://www.linkedin.com/jobs/view/data-scientist-at-tala-2404976827?refId=19b7f6ff-9fbb-44d2-bec8-a0fd96c71226&trackingId=XV5RvhGgu9eGQECpGJRX5w%3D%3D&position=21&pageNum=10&trk=public_jobs_job-result-card_result-card_full-click At Sisu, we're build\n"
     ]
    },
    {
     "name": "stderr",
     "output_type": "stream",
     "text": [
      "INFO:li:scraper:('[Data Scientist][United States][260]', 'Processed')\n"
     ]
    },
    {
     "name": "stdout",
     "output_type": "stream",
     "text": [
      "[ON_DATA] Data Scientist Extend 2021-01-07 https://www.linkedin.com/jobs/view/data-scientist-at-extend-2403636447?refId=19b7f6ff-9fbb-44d2-bec8-a0fd96c71226&trackingId=T4Egvmo8%2FzoGi2sUU7aZ%2Bg%3D%3D&position=22&pageNum=10&trk=public_jobs_job-result-card_result-card_full-click Tala was named one o\n"
     ]
    },
    {
     "name": "stderr",
     "output_type": "stream",
     "text": [
      "INFO:li:scraper:('[Data Scientist][United States][261]', 'Processed')\n"
     ]
    },
    {
     "name": "stdout",
     "output_type": "stream",
     "text": [
      "[ON_DATA] Data Scientist II Banner Health 2021-02-19 https://www.linkedin.com/jobs/view/data-scientist-ii-at-banner-health-2419600047?refId=19b7f6ff-9fbb-44d2-bec8-a0fd96c71226&trackingId=OqKaRKpcUugEWzLb1yKyow%3D%3D&position=23&pageNum=10&trk=public_jobs_job-result-card_result-card_full-click About Extend\n",
      "\n",
      "Extend\n"
     ]
    },
    {
     "name": "stderr",
     "output_type": "stream",
     "text": [
      "INFO:li:scraper:('[Data Scientist][United States][262]', 'Processed')\n"
     ]
    },
    {
     "name": "stdout",
     "output_type": "stream",
     "text": [
      "[ON_DATA] Data Scientist Highmark Health 2020-12-22 https://www.linkedin.com/jobs/view/data-scientist-at-highmark-health-2355960716?refId=19b7f6ff-9fbb-44d2-bec8-a0fd96c71226&trackingId=UElSvc5CUR6CuOfDV1qhSg%3D%3D&position=24&pageNum=10&trk=public_jobs_job-result-card_result-card_full-click Primary City/State\n",
      "\n",
      "\n"
     ]
    },
    {
     "name": "stderr",
     "output_type": "stream",
     "text": [
      "INFO:li:scraper:('[Data Scientist][United States][263]', 'Processed')\n",
      "INFO:li:scraper:('[Data Scientist][United States][263]', 'Checking for new jobs to load...')\n"
     ]
    },
    {
     "name": "stdout",
     "output_type": "stream",
     "text": [
      "[ON_DATA] Data Scientist Natera 2021-01-11 https://www.linkedin.com/jobs/view/data-scientist-at-natera-2384578463?refId=19b7f6ff-9fbb-44d2-bec8-a0fd96c71226&trackingId=wylDJLaYqZ3VDsK3P2JpiQ%3D%3D&position=25&pageNum=10&trk=public_jobs_job-result-card_result-card_full-click Company\n",
      "\n",
      "Highmark He\n"
     ]
    },
    {
     "name": "stderr",
     "output_type": "stream",
     "text": [
      "INFO:li:scraper:('[Data Scientist][United States][263]', 'Found 287 jobs')\n",
      "INFO:li:scraper:('[Data Scientist][United States][264]', 'Processed')\n"
     ]
    },
    {
     "name": "stdout",
     "output_type": "stream",
     "text": [
      "[ON_DATA] Data Scientist (Machine Learning and Automation, Financial Solutions Group) Roche 2021-02-12 https://www.linkedin.com/jobs/view/data-scientist-machine-learning-and-automation-financial-solutions-group-at-roche-2408911687?refId=71a1f912-27fe-4124-8e96-3b98f18bf6d1&trackingId=fo8Z%2FvtsJapFaQdemNE6Fg%3D%3D&position=1&pageNum=11&trk=public_jobs_job-result-card_result-card_full-click Position Summary\n",
      "\n",
      "Th\n"
     ]
    },
    {
     "name": "stderr",
     "output_type": "stream",
     "text": [
      "INFO:li:scraper:('[Data Scientist][United States][265]', 'Processed')\n"
     ]
    },
    {
     "name": "stdout",
     "output_type": "stream",
     "text": [
      "[ON_DATA] Data Scientist Abiomed 2021-02-17 https://www.linkedin.com/jobs/view/data-scientist-at-abiomed-2427394924?refId=71a1f912-27fe-4124-8e96-3b98f18bf6d1&trackingId=VImI91GabbMAF8A%2BI6VYoA%3D%3D&position=2&pageNum=11&trk=public_jobs_job-result-card_result-card_full-click As a Data Scientist \n"
     ]
    },
    {
     "name": "stderr",
     "output_type": "stream",
     "text": [
      "INFO:li:scraper:('[Data Scientist][United States][266]', 'Processed')\n"
     ]
    },
    {
     "name": "stdout",
     "output_type": "stream",
     "text": [
      "[ON_DATA] Machine Learning Engineer Leading Path Consulting 2021-02-19 https://www.linkedin.com/jobs/view/machine-learning-engineer-at-leading-path-consulting-2415656871?refId=71a1f912-27fe-4124-8e96-3b98f18bf6d1&trackingId=5p4ezWsC8HtbmdP%2FGkgXQw%3D%3D&position=3&pageNum=11&trk=public_jobs_job-result-card_result-card_full-click Abiomed is a pioneer\n"
     ]
    },
    {
     "name": "stderr",
     "output_type": "stream",
     "text": [
      "INFO:li:scraper:('[Data Scientist][United States][267]', 'Processed')\n"
     ]
    },
    {
     "name": "stdout",
     "output_type": "stream",
     "text": [
      "[ON_DATA] Machine Learning Engineer Avnet 2021-02-15 https://www.linkedin.com/jobs/view/machine-learning-engineer-at-avnet-2408011142?refId=71a1f912-27fe-4124-8e96-3b98f18bf6d1&trackingId=NcrM47zHFzRMmh9AK8CULg%3D%3D&position=4&pageNum=11&trk=public_jobs_job-result-card_result-card_full-click Machine Learning Eng\n"
     ]
    },
    {
     "name": "stderr",
     "output_type": "stream",
     "text": [
      "INFO:li:scraper:('[Data Scientist][United States][268]', 'Processed')\n"
     ]
    },
    {
     "name": "stdout",
     "output_type": "stream",
     "text": [
      "[ON_DATA] Machine Learning Engineer FLYR Labs (We're Hiring) 2021-01-16 https://www.linkedin.com/jobs/view/machine-learning-engineer-at-flyr-labs-we-re-hiring-2383775373?refId=71a1f912-27fe-4124-8e96-3b98f18bf6d1&trackingId=xPiQpTQlpzy3kItA%2BNOFnA%3D%3D&position=5&pageNum=11&trk=public_jobs_job-result-card_result-card_full-click Job Summary\n",
      "\n",
      "As part\n"
     ]
    },
    {
     "name": "stderr",
     "output_type": "stream",
     "text": [
      "INFO:li:scraper:('[Data Scientist][United States][269]', 'Processed')\n"
     ]
    },
    {
     "name": "stdout",
     "output_type": "stream",
     "text": [
      "[ON_DATA] Data Scientist Insurify 2020-12-16 https://www.linkedin.com/jobs/view/data-scientist-at-insurify-2346056795?refId=71a1f912-27fe-4124-8e96-3b98f18bf6d1&trackingId=ugWha5hz3LytMk7UgkoOUQ%3D%3D&position=6&pageNum=11&trk=public_jobs_job-result-card_result-card_full-click Our Vision\n",
      "\n",
      "We are o\n"
     ]
    },
    {
     "name": "stderr",
     "output_type": "stream",
     "text": [
      "INFO:li:scraper:('[Data Scientist][United States][270]', 'Processed')\n"
     ]
    },
    {
     "name": "stdout",
     "output_type": "stream",
     "text": [
      "[ON_DATA] Data Scientist - Junior Lukos 2021-02-13 https://www.linkedin.com/jobs/view/data-scientist-junior-at-lukos-2422937612?refId=71a1f912-27fe-4124-8e96-3b98f18bf6d1&trackingId=tnplLhTSbdDSZNgSASP3cw%3D%3D&position=7&pageNum=11&trk=public_jobs_job-result-card_result-card_full-click Do you want to be pa\n"
     ]
    },
    {
     "name": "stderr",
     "output_type": "stream",
     "text": [
      "INFO:li:scraper:('[Data Scientist][United States][271]', 'Processed')\n"
     ]
    },
    {
     "name": "stdout",
     "output_type": "stream",
     "text": [
      "[ON_DATA] Data Scientist, Consultant Guidehouse 2021-02-22 https://www.linkedin.com/jobs/view/data-scientist-consultant-at-guidehouse-2434939480?refId=71a1f912-27fe-4124-8e96-3b98f18bf6d1&trackingId=2Vuez18LpFpCgVIOmlzZOA%3D%3D&position=8&pageNum=11&trk=public_jobs_job-result-card_result-card_full-click Data Scientist - Jun\n"
     ]
    },
    {
     "name": "stderr",
     "output_type": "stream",
     "text": [
      "INFO:li:scraper:('[Data Scientist][United States][272]', 'Processed')\n"
     ]
    },
    {
     "name": "stdout",
     "output_type": "stream",
     "text": [
      "[ON_DATA] Data Scientist | MA - Wellesley HopHR 2021-02-23 https://www.linkedin.com/jobs/view/data-scientist-ma-wellesley-at-hophr-2435123623?refId=71a1f912-27fe-4124-8e96-3b98f18bf6d1&trackingId=wACqlmZYxxCWHJqyOVZCPg%3D%3D&position=9&pageNum=11&trk=public_jobs_job-result-card_result-card_full-click Overview\n",
      "\n",
      "Guidehouse\n"
     ]
    },
    {
     "name": "stderr",
     "output_type": "stream",
     "text": [
      "INFO:li:scraper:('[Data Scientist][United States][273]', 'Processed')\n"
     ]
    },
    {
     "name": "stdout",
     "output_type": "stream",
     "text": [
      "[ON_DATA] Data Scientist CDPHP 2021-01-28 https://www.linkedin.com/jobs/view/data-scientist-at-cdphp-2423871544?refId=71a1f912-27fe-4124-8e96-3b98f18bf6d1&trackingId=HGFsaBEY8ISIeagjTVxX2g%3D%3D&position=10&pageNum=11&trk=public_jobs_job-result-card_result-card_full-click Position Summary\n",
      "\n",
      "Lo\n"
     ]
    },
    {
     "name": "stderr",
     "output_type": "stream",
     "text": [
      "INFO:li:scraper:('[Data Scientist][United States][274]', 'Processed')\n"
     ]
    },
    {
     "name": "stdout",
     "output_type": "stream",
     "text": [
      "[ON_DATA] Data Scientist Intern Henkel 2021-01-22 https://www.linkedin.com/jobs/view/data-scientist-intern-at-henkel-2412509070?refId=71a1f912-27fe-4124-8e96-3b98f18bf6d1&trackingId=j1Ysi2Aa5Q5Xcf7PX6tZbw%3D%3D&position=11&pageNum=11&trk=public_jobs_job-result-card_result-card_full-click For more than 35 yea\n"
     ]
    },
    {
     "name": "stderr",
     "output_type": "stream",
     "text": [
      "INFO:li:scraper:('[Data Scientist][United States][275]', 'Processed')\n"
     ]
    },
    {
     "name": "stdout",
     "output_type": "stream",
     "text": [
      "[ON_DATA] Data Scientist Centauri 2021-02-23 https://www.linkedin.com/jobs/view/data-scientist-at-centauri-2424208505?refId=71a1f912-27fe-4124-8e96-3b98f18bf6d1&trackingId=d4zN%2BBhCEuS%2FJ0eYwvlj0g%3D%3D&position=12&pageNum=11&trk=public_jobs_job-result-card_result-card_full-click HENKEL IS FOR THOSE \n"
     ]
    },
    {
     "name": "stderr",
     "output_type": "stream",
     "text": [
      "INFO:li:scraper:('[Data Scientist][United States][276]', 'Processed')\n"
     ]
    },
    {
     "name": "stdout",
     "output_type": "stream",
     "text": [
      "[ON_DATA] Data Scientist AvantStay 2021-02-05 https://www.linkedin.com/jobs/view/data-scientist-at-avantstay-2430124561?refId=71a1f912-27fe-4124-8e96-3b98f18bf6d1&trackingId=HAY18CXML72TI%2B2geHl%2BEw%3D%3D&position=13&pageNum=11&trk=public_jobs_job-result-card_result-card_full-click KBR-Centauri needs a\n"
     ]
    },
    {
     "name": "stderr",
     "output_type": "stream",
     "text": [
      "INFO:li:scraper:('[Data Scientist][United States][277]', 'Processed')\n"
     ]
    },
    {
     "name": "stdout",
     "output_type": "stream",
     "text": [
      "[ON_DATA] Data Scientist Eversource Energy 2021-02-19 https://www.linkedin.com/jobs/view/data-scientist-at-eversource-energy-2420501298?refId=71a1f912-27fe-4124-8e96-3b98f18bf6d1&trackingId=TtFpSr2ockFW%2FPtKyJSWlg%3D%3D&position=14&pageNum=11&trk=public_jobs_job-result-card_result-card_full-click Who We Are...\n",
      "\n",
      "Avant\n"
     ]
    },
    {
     "name": "stderr",
     "output_type": "stream",
     "text": [
      "INFO:li:scraper:('[Data Scientist][United States][278]', 'Processed')\n"
     ]
    },
    {
     "name": "stdout",
     "output_type": "stream",
     "text": [
      "[ON_DATA] Data Scientist Cambia Health Solutions 2021-02-06 https://www.linkedin.com/jobs/view/data-scientist-at-cambia-health-solutions-2399389179?refId=71a1f912-27fe-4124-8e96-3b98f18bf6d1&trackingId=%2FVg38S9peVC6FeyJV96y%2BA%3D%3D&position=15&pageNum=11&trk=public_jobs_job-result-card_result-card_full-click Check out this video\n"
     ]
    },
    {
     "name": "stderr",
     "output_type": "stream",
     "text": [
      "INFO:li:scraper:('[Data Scientist][United States][279]', 'Processed')\n"
     ]
    },
    {
     "name": "stdout",
     "output_type": "stream",
     "text": [
      "[ON_DATA] Data Scientist-Python Corestaff Services 2021-02-16 https://www.linkedin.com/jobs/view/data-scientist-python-at-corestaff-services-2412593984?refId=71a1f912-27fe-4124-8e96-3b98f18bf6d1&trackingId=5OzqgyTXo7kgyzN%2FCjDEwA%3D%3D&position=16&pageNum=11&trk=public_jobs_job-result-card_result-card_full-click Primary Job Purpose\n",
      "\n"
     ]
    },
    {
     "name": "stderr",
     "output_type": "stream",
     "text": [
      "INFO:li:scraper:('[Data Scientist][United States][280]', 'Processed')\n"
     ]
    },
    {
     "name": "stdout",
     "output_type": "stream",
     "text": [
      "[ON_DATA] Machine Learning Engineer ACV Auctions 2021-02-11 https://www.linkedin.com/jobs/view/machine-learning-engineer-at-acv-auctions-2365160012?refId=71a1f912-27fe-4124-8e96-3b98f18bf6d1&trackingId=CpIlGnqN91t8DOuaoyiuHQ%3D%3D&position=17&pageNum=11&trk=public_jobs_job-result-card_result-card_full-click Job Overview\n",
      "\n",
      "Data S\n"
     ]
    },
    {
     "name": "stderr",
     "output_type": "stream",
     "text": [
      "INFO:li:scraper:('[Data Scientist][United States][281]', 'Processed')\n"
     ]
    },
    {
     "name": "stdout",
     "output_type": "stream",
     "text": [
      "[ON_DATA] Data Engineer/Scientist RIIM 2021-02-21 https://www.linkedin.com/jobs/view/data-engineer-scientist-at-riim-2432337457?refId=71a1f912-27fe-4124-8e96-3b98f18bf6d1&trackingId=%2FJ8f5Wi5wqLFRbf0aH2ndA%3D%3D&position=18&pageNum=11&trk=public_jobs_job-result-card_result-card_full-click ACV Auctions is the \n"
     ]
    },
    {
     "name": "stderr",
     "output_type": "stream",
     "text": [
      "INFO:li:scraper:('[Data Scientist][United States][282]', 'Processed')\n"
     ]
    },
    {
     "name": "stdout",
     "output_type": "stream",
     "text": [
      "[ON_DATA] Data Scientist SetSail 2021-02-09 https://www.linkedin.com/jobs/view/data-scientist-at-setsail-2430282379?refId=71a1f912-27fe-4124-8e96-3b98f18bf6d1&trackingId=o5CxCWS5Bfa559oiTMshmw%3D%3D&position=19&pageNum=11&trk=public_jobs_job-result-card_result-card_full-click Requirement Expert i\n"
     ]
    },
    {
     "name": "stderr",
     "output_type": "stream",
     "text": [
      "INFO:li:scraper:('[Data Scientist][United States][283]', 'Processed')\n"
     ]
    },
    {
     "name": "stdout",
     "output_type": "stream",
     "text": [
      "[ON_DATA] Data Scientist Shelf Engine 2021-01-08 https://www.linkedin.com/jobs/view/data-scientist-at-shelf-engine-2404967796?refId=71a1f912-27fe-4124-8e96-3b98f18bf6d1&trackingId=vF6SsUTloUPkborA3Jl5YA%3D%3D&position=20&pageNum=11&trk=public_jobs_job-result-card_result-card_full-click About SetSail\n",
      "\n",
      "Our m\n"
     ]
    },
    {
     "name": "stderr",
     "output_type": "stream",
     "text": [
      "INFO:li:scraper:('[Data Scientist][United States][284]', 'Processed')\n"
     ]
    },
    {
     "name": "stdout",
     "output_type": "stream",
     "text": [
      "[ON_DATA] Data Scientist Afiniti 2021-02-10 https://www.linkedin.com/jobs/view/data-scientist-at-afiniti-2419935021?refId=71a1f912-27fe-4124-8e96-3b98f18bf6d1&trackingId=%2BezUz%2FY6aeCIRgnZoErlog%3D%3D&position=21&pageNum=11&trk=public_jobs_job-result-card_result-card_full-click Be one of the first \n"
     ]
    },
    {
     "name": "stderr",
     "output_type": "stream",
     "text": [
      "ERROR:li:scraper:('[Data Scientist][United States][285]', TimeoutException('timeout: Timed out receiving message from renderer: 20.000\\n  (Session info: headless chrome=88.0.4324.182)', None, None), 'Traceback (most recent call last):\\n  File \"C:\\\\Users\\\\duong\\\\anaconda3\\\\envs\\\\tf\\\\lib\\\\site-packages\\\\linkedin_jobs_scraper\\\\strategies\\\\anonymous_strategy.py\", line 198, in run\\n    job_id, job_title, job_company, job_place, job_date = driver.execute_script(\\n  File \"C:\\\\Users\\\\duong\\\\anaconda3\\\\envs\\\\tf\\\\lib\\\\site-packages\\\\selenium\\\\webdriver\\\\remote\\\\webdriver.py\", line 634, in execute_script\\n    return self.execute(command, {\\n  File \"C:\\\\Users\\\\duong\\\\anaconda3\\\\envs\\\\tf\\\\lib\\\\site-packages\\\\selenium\\\\webdriver\\\\remote\\\\webdriver.py\", line 321, in execute\\n    self.error_handler.check_response(response)\\n  File \"C:\\\\Users\\\\duong\\\\anaconda3\\\\envs\\\\tf\\\\lib\\\\site-packages\\\\selenium\\\\webdriver\\\\remote\\\\errorhandler.py\", line 242, in check_response\\n    raise exception_class(message, screen, stacktrace)\\nselenium.common.exceptions.TimeoutException: Message: timeout: Timed out receiving message from renderer: 20.000\\n  (Session info: headless chrome=88.0.4324.182)\\n\\n')\n",
      "Traceback (most recent call last):\n",
      "  File \"C:\\Users\\duong\\anaconda3\\envs\\tf\\lib\\site-packages\\linkedin_jobs_scraper\\strategies\\anonymous_strategy.py\", line 198, in run\n",
      "    job_id, job_title, job_company, job_place, job_date = driver.execute_script(\n",
      "  File \"C:\\Users\\duong\\anaconda3\\envs\\tf\\lib\\site-packages\\selenium\\webdriver\\remote\\webdriver.py\", line 634, in execute_script\n",
      "    return self.execute(command, {\n",
      "  File \"C:\\Users\\duong\\anaconda3\\envs\\tf\\lib\\site-packages\\selenium\\webdriver\\remote\\webdriver.py\", line 321, in execute\n",
      "    self.error_handler.check_response(response)\n",
      "  File \"C:\\Users\\duong\\anaconda3\\envs\\tf\\lib\\site-packages\\selenium\\webdriver\\remote\\errorhandler.py\", line 242, in check_response\n",
      "    raise exception_class(message, screen, stacktrace)\n",
      "selenium.common.exceptions.TimeoutException: Message: timeout: Timed out receiving message from renderer: 20.000\n",
      "  (Session info: headless chrome=88.0.4324.182)\n",
      "\n"
     ]
    },
    {
     "name": "stdout",
     "output_type": "stream",
     "text": [
      "[ON_ERROR] Message: timeout: Timed out receiving message from renderer: 20.000\n",
      "  (Session info: headless chrome=88.0.4324.182)\n",
      "\n",
      "Traceback (most recent call last):\n",
      "  File \"C:\\Users\\duong\\anaconda3\\envs\\tf\\lib\\site-packages\\linkedin_jobs_scraper\\strategies\\anonymous_strategy.py\", line 198, in run\n",
      "    job_id, job_title, job_company, job_place, job_date = driver.execute_script(\n",
      "  File \"C:\\Users\\duong\\anaconda3\\envs\\tf\\lib\\site-packages\\selenium\\webdriver\\remote\\webdriver.py\", line 634, in execute_script\n",
      "    return self.execute(command, {\n",
      "  File \"C:\\Users\\duong\\anaconda3\\envs\\tf\\lib\\site-packages\\selenium\\webdriver\\remote\\webdriver.py\", line 321, in execute\n",
      "    self.error_handler.check_response(response)\n",
      "  File \"C:\\Users\\duong\\anaconda3\\envs\\tf\\lib\\site-packages\\selenium\\webdriver\\remote\\errorhandler.py\", line 242, in check_response\n",
      "    raise exception_class(message, screen, stacktrace)\n",
      "selenium.common.exceptions.TimeoutException: Message: timeout: Timed out receiving message from renderer: 20.000\n",
      "  (Session info: headless chrome=88.0.4324.182)\n",
      "\n",
      "\n"
     ]
    },
    {
     "name": "stderr",
     "output_type": "stream",
     "text": [
      "INFO:li:scraper:('[Data Scientist][United States][285]', 'Processed')\n"
     ]
    },
    {
     "name": "stdout",
     "output_type": "stream",
     "text": [
      "[ON_DATA] Research Data Scientist TRM Labs 2021-01-28 https://www.linkedin.com/jobs/view/research-data-scientist-at-trm-labs-2434107971?refId=71a1f912-27fe-4124-8e96-3b98f18bf6d1&trackingId=Yle%2FC0w5EipmtE29FmRl5g%3D%3D&position=23&pageNum=11&trk=public_jobs_job-result-card_result-card_full-click Who are we?\n",
      "Afiniti \n"
     ]
    },
    {
     "name": "stderr",
     "output_type": "stream",
     "text": [
      "INFO:li:scraper:('[Data Scientist][United States][286]', 'Processed')\n",
      "INFO:li:scraper:('[Data Scientist][United States][286]', 'Checking for new jobs to load...')\n"
     ]
    },
    {
     "name": "stdout",
     "output_type": "stream",
     "text": [
      "[ON_DATA] Machine Learning Engineer NTENT 2021-02-03 https://www.linkedin.com/jobs/view/machine-learning-engineer-at-ntent-2422797709?refId=71a1f912-27fe-4124-8e96-3b98f18bf6d1&trackingId=p9tGpXBK4ap0lBeMf8QlXA%3D%3D&position=24&pageNum=11&trk=public_jobs_job-result-card_result-card_full-click Data Science is at t\n"
     ]
    },
    {
     "name": "stderr",
     "output_type": "stream",
     "text": [
      "INFO:li:scraper:('[Data Scientist][United States][286]', 'Found 310 jobs')\n",
      "INFO:li:scraper:('[Data Scientist][United States][287]', 'Processed')\n"
     ]
    },
    {
     "name": "stdout",
     "output_type": "stream",
     "text": [
      "[ON_DATA] Data Scientist - Boston Collage.com 2021-01-27 https://www.linkedin.com/jobs/view/data-scientist-boston-at-collage-com-2397553215?refId=a28369e6-05d2-4f46-8da4-14683a1c1188&trackingId=df5tPCgptvX%2F677ohi6DQQ%3D%3D&position=1&pageNum=12&trk=public_jobs_job-result-card_result-card_full-click Responsibilities\n",
      "\n",
      "De\n"
     ]
    },
    {
     "name": "stderr",
     "output_type": "stream",
     "text": [
      "INFO:li:scraper:('[Data Scientist][United States][288]', 'Processed')\n"
     ]
    },
    {
     "name": "stdout",
     "output_type": "stream",
     "text": [
      "[ON_DATA] Machine Learning Engineer VanderHouwen 2021-02-01 https://www.linkedin.com/jobs/view/machine-learning-engineer-at-vanderhouwen-2392305521?refId=a28369e6-05d2-4f46-8da4-14683a1c1188&trackingId=zX77rzzGdVBqCh5AkM3%2B4g%3D%3D&position=2&pageNum=12&trk=public_jobs_job-result-card_result-card_full-click Responsibilities\n",
      "\n",
      "De\n"
     ]
    },
    {
     "name": "stderr",
     "output_type": "stream",
     "text": [
      "INFO:li:scraper:('[Data Scientist][United States][289]', 'Processed')\n"
     ]
    },
    {
     "name": "stdout",
     "output_type": "stream",
     "text": [
      "[ON_DATA] Data Scientist Rocket Auto 2021-02-05 https://www.linkedin.com/jobs/view/data-scientist-at-rocket-auto-2410398627?refId=a28369e6-05d2-4f46-8da4-14683a1c1188&trackingId=Ye%2FxNIceTSD%2FoP3NHVUE%2Fw%3D%3D&position=3&pageNum=12&trk=public_jobs_job-result-card_result-card_full-click Description\n",
      "\n",
      "Job ID:\n"
     ]
    },
    {
     "name": "stderr",
     "output_type": "stream",
     "text": [
      "INFO:li:scraper:('[Data Scientist][United States][290]', 'Processed')\n"
     ]
    },
    {
     "name": "stdout",
     "output_type": "stream",
     "text": [
      "[ON_DATA] Data Scientist Syngenta 2021-01-29 https://www.linkedin.com/jobs/view/data-scientist-at-syngenta-2379742542?refId=a28369e6-05d2-4f46-8da4-14683a1c1188&trackingId=bqWeIXq5e%2B1s9R2jI0gfOg%3D%3D&position=4&pageNum=12&trk=public_jobs_job-result-card_result-card_full-click Job ID: R-060877\n",
      "\n",
      "Mi\n"
     ]
    },
    {
     "name": "stderr",
     "output_type": "stream",
     "text": [
      "INFO:li:scraper:('[Data Scientist][United States][291]', 'Processed')\n"
     ]
    },
    {
     "name": "stdout",
     "output_type": "stream",
     "text": [
      "[ON_DATA] Decision Support Systems Data Scientist Carvana 2021-02-19 https://www.linkedin.com/jobs/view/decision-support-systems-data-scientist-at-carvana-2419655704?refId=a28369e6-05d2-4f46-8da4-14683a1c1188&trackingId=vAzZnIO8G4AS0ELMZ4ESQQ%3D%3D&position=5&pageNum=12&trk=public_jobs_job-result-card_result-card_full-click Description\n",
      "\n",
      "About S\n"
     ]
    },
    {
     "name": "stderr",
     "output_type": "stream",
     "text": [
      "INFO:li:scraper:('[Data Scientist][United States][292]', 'Processed')\n"
     ]
    },
    {
     "name": "stdout",
     "output_type": "stream",
     "text": [
      "[ON_DATA] Machine Learning Engineer West Creek 2021-02-03 https://www.linkedin.com/jobs/view/machine-learning-engineer-at-west-creek-2434549303?refId=a28369e6-05d2-4f46-8da4-14683a1c1188&trackingId=GgmLbuqXbIPTxdSCUgSqSw%3D%3D&position=6&pageNum=12&trk=public_jobs_job-result-card_result-card_full-click About Carvana\n",
      "\n",
      "If yo\n"
     ]
    },
    {
     "name": "stderr",
     "output_type": "stream",
     "text": [
      "INFO:li:scraper:('[Data Scientist][United States][293]', 'Processed')\n"
     ]
    },
    {
     "name": "stdout",
     "output_type": "stream",
     "text": [
      "[ON_DATA] Data Scientist Nutrien 2021-02-05 https://www.linkedin.com/jobs/view/data-scientist-at-nutrien-2410302310?refId=a28369e6-05d2-4f46-8da4-14683a1c1188&trackingId=MQ01vqwdZvjemQJe9%2BpGig%3D%3D&position=7&pageNum=12&trk=public_jobs_job-result-card_result-card_full-click Machine Learning Eng\n"
     ]
    },
    {
     "name": "stderr",
     "output_type": "stream",
     "text": [
      "INFO:li:scraper:('[Data Scientist][United States][294]', 'Processed')\n"
     ]
    },
    {
     "name": "stdout",
     "output_type": "stream",
     "text": [
      "[ON_DATA] Applied Data Scientist 2 Discovery Inc 2020-10-16 https://www.linkedin.com/jobs/view/applied-data-scientist-2-at-discovery-inc-2261024431?refId=a28369e6-05d2-4f46-8da4-14683a1c1188&trackingId=2lskzrjcej1Y1af7vvHnug%3D%3D&position=8&pageNum=12&trk=public_jobs_job-result-card_result-card_full-click Discovery hires the \n"
     ]
    },
    {
     "name": "stderr",
     "output_type": "stream",
     "text": [
      "INFO:li:scraper:('[Data Scientist][United States][295]', 'Processed')\n"
     ]
    },
    {
     "name": "stdout",
     "output_type": "stream",
     "text": [
      "[ON_DATA] Data Scientist, Business Analytics & Forecasting Bayer 2021-01-12 https://www.linkedin.com/jobs/view/data-scientist-business-analytics-forecasting-at-bayer-2392752670?refId=a28369e6-05d2-4f46-8da4-14683a1c1188&trackingId=2WDBnNpIhsV%2BBI1G0Wd8vQ%3D%3D&position=9&pageNum=12&trk=public_jobs_job-result-card_result-card_full-click Discovery hires the \n"
     ]
    },
    {
     "name": "stderr",
     "output_type": "stream",
     "text": [
      "INFO:li:scraper:('[Data Scientist][United States][296]', 'Processed')\n"
     ]
    },
    {
     "name": "stdout",
     "output_type": "stream",
     "text": [
      "[ON_DATA] Data Scientist I Crowley 2021-02-20 https://www.linkedin.com/jobs/view/data-scientist-i-at-crowley-2367077636?refId=a28369e6-05d2-4f46-8da4-14683a1c1188&trackingId=T88SoyGLIIJjfEH5eAFmDw%3D%3D&position=10&pageNum=12&trk=public_jobs_job-result-card_result-card_full-click Our People\n",
      "Crowley i\n"
     ]
    },
    {
     "name": "stderr",
     "output_type": "stream",
     "text": [
      "INFO:li:scraper:('[Data Scientist][United States][297]', 'Processed')\n"
     ]
    },
    {
     "name": "stdout",
     "output_type": "stream",
     "text": [
      "[ON_DATA] Data Scientist The Mosaic Company 2021-02-05 https://www.linkedin.com/jobs/view/data-scientist-at-the-mosaic-company-2391432736?refId=a28369e6-05d2-4f46-8da4-14683a1c1188&trackingId=WDMKkMTcm%2FkxEpzLTKjMKg%3D%3D&position=11&pageNum=12&trk=public_jobs_job-result-card_result-card_full-click Our People\n",
      "Crowley i\n"
     ]
    },
    {
     "name": "stderr",
     "output_type": "stream",
     "text": [
      "INFO:li:scraper:('[Data Scientist][United States][298]', 'Processed')\n"
     ]
    },
    {
     "name": "stdout",
     "output_type": "stream",
     "text": [
      "[ON_DATA] Machine Learning Engineer OtterTune 2020-10-14 https://www.linkedin.com/jobs/view/machine-learning-engineer-at-ottertune-2289505040?refId=a28369e6-05d2-4f46-8da4-14683a1c1188&trackingId=XVS1Z7e82IDnwxgQoVscyw%3D%3D&position=12&pageNum=12&trk=public_jobs_job-result-card_result-card_full-click Are you our next Dat\n"
     ]
    },
    {
     "name": "stderr",
     "output_type": "stream",
     "text": [
      "INFO:li:scraper:('[Data Scientist][United States][299]', 'Processed')\n"
     ]
    },
    {
     "name": "stdout",
     "output_type": "stream",
     "text": [
      "[ON_DATA] Data Scientist ServiceChannel 2021-02-14 https://www.linkedin.com/jobs/view/data-scientist-at-servicechannel-2411159612?refId=a28369e6-05d2-4f46-8da4-14683a1c1188&trackingId=iNPGP29uSHcwNbHkmYVQxw%3D%3D&position=13&pageNum=12&trk=public_jobs_job-result-card_result-card_full-click ServiceChannel is th\n"
     ]
    },
    {
     "name": "stderr",
     "output_type": "stream",
     "text": [
      "INFO:li:scraper:('[Data Scientist][United States][300]', 'Processed')\n"
     ]
    },
    {
     "name": "stdout",
     "output_type": "stream",
     "text": [
      "[ON_DATA] Machine Learning Engineer Rue Gilt Groupe 2021-02-03 https://www.linkedin.com/jobs/view/machine-learning-engineer-at-rue-gilt-groupe-2332178450?refId=a28369e6-05d2-4f46-8da4-14683a1c1188&trackingId=L8MililEjUtZw2fKg9Qp1g%3D%3D&position=14&pageNum=12&trk=public_jobs_job-result-card_result-card_full-click ServiceChannel is th\n"
     ]
    },
    {
     "name": "stderr",
     "output_type": "stream",
     "text": [
      "INFO:li:scraper:('[Data Scientist][United States][301]', 'Processed')\n"
     ]
    },
    {
     "name": "stdout",
     "output_type": "stream",
     "text": [
      "[ON_DATA] Data Scientist - Telecommute U.S. Bank 2021-01-24 https://www.linkedin.com/jobs/view/data-scientist-telecommute-at-u-s-bank-2416489821?refId=a28369e6-05d2-4f46-8da4-14683a1c1188&trackingId=3kq75in%2B7bHNJgnJCLzOUA%3D%3D&position=15&pageNum=12&trk=public_jobs_job-result-card_result-card_full-click Join our industry le\n"
     ]
    },
    {
     "name": "stderr",
     "output_type": "stream",
     "text": [
      "INFO:li:scraper:('[Data Scientist][United States][302]', 'Processed')\n"
     ]
    },
    {
     "name": "stdout",
     "output_type": "stream",
     "text": [
      "[ON_DATA] Data Scientist (Remote - US) Lucidworks 2020-10-14 https://www.linkedin.com/jobs/view/data-scientist-remote-us-at-lucidworks-2289456997?refId=a28369e6-05d2-4f46-8da4-14683a1c1188&trackingId=XvFvNrRTob0Krz8dhZEyeg%3D%3D&position=16&pageNum=12&trk=public_jobs_job-result-card_result-card_full-click At U.S. Bank, we're \n"
     ]
    },
    {
     "name": "stderr",
     "output_type": "stream",
     "text": [
      "INFO:li:scraper:('[Data Scientist][United States][303]', 'Processed')\n"
     ]
    },
    {
     "name": "stdout",
     "output_type": "stream",
     "text": [
      "[ON_DATA] Data Scientist Weber-Stephen Products LLC 2020-10-29 https://www.linkedin.com/jobs/view/data-scientist-at-weber-stephen-products-llc-2298897509?refId=a28369e6-05d2-4f46-8da4-14683a1c1188&trackingId=j7kHV8ZDNTUkk3OzhcxpVg%3D%3D&position=17&pageNum=12&trk=public_jobs_job-result-card_result-card_full-click About The Team\n",
      "\n",
      "The \n"
     ]
    },
    {
     "name": "stderr",
     "output_type": "stream",
     "text": [
      "INFO:li:scraper:('[Data Scientist][United States][304]', 'Processed')\n"
     ]
    },
    {
     "name": "stdout",
     "output_type": "stream",
     "text": [
      "[ON_DATA] Data Scientist RA 2021-01-29 https://www.linkedin.com/jobs/view/data-scientist-at-ra-2431783721?refId=a28369e6-05d2-4f46-8da4-14683a1c1188&trackingId=%2Fyv5tqHGE9VNZ0phbJ%2BylQ%3D%3D&position=18&pageNum=12&trk=public_jobs_job-result-card_result-card_full-click At Weber, grilling i\n"
     ]
    },
    {
     "name": "stderr",
     "output_type": "stream",
     "text": [
      "INFO:li:scraper:('[Data Scientist][United States][305]', 'Processed')\n"
     ]
    },
    {
     "name": "stdout",
     "output_type": "stream",
     "text": [
      "[ON_DATA] Machine Learning Engineer Zipari 2021-01-06 https://www.linkedin.com/jobs/view/machine-learning-engineer-at-zipari-2402624779?refId=a28369e6-05d2-4f46-8da4-14683a1c1188&trackingId=3ugabQ2rFv97LfiKWkDCDg%3D%3D&position=19&pageNum=12&trk=public_jobs_job-result-card_result-card_full-click Job Description\n",
      "\n",
      "Job\n"
     ]
    },
    {
     "name": "stderr",
     "output_type": "stream",
     "text": [
      "INFO:li:scraper:('[Data Scientist][United States][306]', 'Processed')\n"
     ]
    },
    {
     "name": "stdout",
     "output_type": "stream",
     "text": [
      "[ON_DATA] Data Scientist II Grubhub 2021-02-05 https://www.linkedin.com/jobs/view/data-scientist-ii-at-grubhub-2396995064?refId=a28369e6-05d2-4f46-8da4-14683a1c1188&trackingId=i0gIXLKS%2BijJZnA0L4Yuug%3D%3D&position=20&pageNum=12&trk=public_jobs_job-result-card_result-card_full-click Machine Learning Eng\n"
     ]
    },
    {
     "name": "stderr",
     "output_type": "stream",
     "text": [
      "INFO:li:scraper:('[Data Scientist][United States][307]', 'Processed')\n"
     ]
    },
    {
     "name": "stdout",
     "output_type": "stream",
     "text": [
      "[ON_DATA] Data Scientist - CV/NLP Ancestry 2021-02-18 https://www.linkedin.com/jobs/view/data-scientist-cv-nlp-at-ancestry-2418208760?refId=a28369e6-05d2-4f46-8da4-14683a1c1188&trackingId=BjBd8W7E0PdkX107WrNqBQ%3D%3D&position=21&pageNum=12&trk=public_jobs_job-result-card_result-card_full-click About The Opportunit\n"
     ]
    },
    {
     "name": "stderr",
     "output_type": "stream",
     "text": [
      "INFO:li:scraper:('[Data Scientist][United States][308]', 'Processed')\n"
     ]
    },
    {
     "name": "stdout",
     "output_type": "stream",
     "text": [
      "[ON_DATA] Data Scientist OneSignal 2021-02-05 https://www.linkedin.com/jobs/view/data-scientist-at-onesignal-2409909217?refId=a28369e6-05d2-4f46-8da4-14683a1c1188&trackingId=uH3HhXPqWz1nEbGFS%2BKoKQ%3D%3D&position=22&pageNum=12&trk=public_jobs_job-result-card_result-card_full-click About Ancestry:\n",
      "\n",
      "Whe\n"
     ]
    },
    {
     "name": "stderr",
     "output_type": "stream",
     "text": [
      "INFO:li:scraper:('[Data Scientist][United States][309]', 'Processed')\n",
      "INFO:li:scraper:('[Data Scientist][United States][309]', 'Checking for new jobs to load...')\n"
     ]
    },
    {
     "name": "stdout",
     "output_type": "stream",
     "text": [
      "[ON_DATA] Data Science Position [various levels] Royal Caribbean Cruises Ltd. 2021-01-27 https://www.linkedin.com/jobs/view/data-science-position-various-levels-at-royal-caribbean-cruises-ltd-2421645235?refId=a28369e6-05d2-4f46-8da4-14683a1c1188&trackingId=Gc7r9j7tIRhOQmB0BsUD8w%3D%3D&position=23&pageNum=12&trk=public_jobs_job-result-card_result-card_full-click 1m+ mobile app devel\n"
     ]
    },
    {
     "name": "stderr",
     "output_type": "stream",
     "text": [
      "INFO:li:scraper:('[Data Scientist][United States][309]', 'Found 335 jobs')\n",
      "INFO:li:scraper:('[Data Scientist][United States][310]', 'Processed')\n"
     ]
    },
    {
     "name": "stdout",
     "output_type": "stream",
     "text": [
      "[ON_DATA] Data Science Position [various levels] Royal Caribbean Cruises Ltd. 2021-01-27 https://www.linkedin.com/jobs/view/data-science-position-various-levels-at-royal-caribbean-cruises-ltd-2421645235?refId=4ebebc47-abee-4760-8217-dafe0bd90785&trackingId=Yr4VXMrq%2Fch7Us5ONbuXDg%3D%3D&position=1&pageNum=13&trk=public_jobs_job-result-card_result-card_full-click Job Description\n",
      "\n",
      "Jou\n"
     ]
    },
    {
     "name": "stderr",
     "output_type": "stream",
     "text": [
      "INFO:li:scraper:('[Data Scientist][United States][311]', 'Processed')\n"
     ]
    },
    {
     "name": "stdout",
     "output_type": "stream",
     "text": [
      "[ON_DATA] Machine Learning Engineer Major League Baseball 2021-01-19 https://www.linkedin.com/jobs/view/machine-learning-engineer-at-major-league-baseball-2373196201?refId=4ebebc47-abee-4760-8217-dafe0bd90785&trackingId=g2Py5jJlhlRnkwH3XRmoNQ%3D%3D&position=2&pageNum=13&trk=public_jobs_job-result-card_result-card_full-click Job Description\n",
      "\n",
      "Jou\n"
     ]
    },
    {
     "name": "stderr",
     "output_type": "stream",
     "text": [
      "INFO:li:scraper:('[Data Scientist][United States][312]', 'Processed')\n"
     ]
    },
    {
     "name": "stdout",
     "output_type": "stream",
     "text": [
      "[ON_DATA] Data Scientist - Analytics Product Group F5 2021-01-29 https://www.linkedin.com/jobs/view/data-scientist-analytics-product-group-at-f5-2391096709?refId=4ebebc47-abee-4760-8217-dafe0bd90785&trackingId=Fh1uH%2BL4epfXIaLbEBvJpQ%3D%3D&position=3&pageNum=13&trk=public_jobs_job-result-card_result-card_full-click Major League Basebal\n"
     ]
    },
    {
     "name": "stderr",
     "output_type": "stream",
     "text": [
      "INFO:li:scraper:('[Data Scientist][United States][313]', 'Processed')\n"
     ]
    },
    {
     "name": "stdout",
     "output_type": "stream",
     "text": [
      "[ON_DATA] Data Scientist Innovation Credit Union 2021-02-10 https://www.linkedin.com/jobs/view/data-scientist-at-innovation-credit-union-2421860216?refId=4ebebc47-abee-4760-8217-dafe0bd90785&trackingId=c%2B3iunpqK1EPtc9askoIOQ%3D%3D&position=4&pageNum=13&trk=public_jobs_job-result-card_result-card_full-click Job Details\n",
      "\n",
      "Descrip\n"
     ]
    },
    {
     "name": "stderr",
     "output_type": "stream",
     "text": [
      "INFO:li:scraper:('[Data Scientist][United States][314]', 'Processed')\n"
     ]
    },
    {
     "name": "stdout",
     "output_type": "stream",
     "text": [
      "[ON_DATA] Data Scientist Advocado 2021-02-16 https://www.linkedin.com/jobs/view/data-scientist-at-advocado-2374459824?refId=4ebebc47-abee-4760-8217-dafe0bd90785&trackingId=NYtR0jGEG66M7qCWRV4%2FpQ%3D%3D&position=5&pageNum=13&trk=public_jobs_job-result-card_result-card_full-click Job Details\n",
      "\n",
      "Descrip\n"
     ]
    },
    {
     "name": "stderr",
     "output_type": "stream",
     "text": [
      "INFO:li:scraper:('[Data Scientist][United States][315]', 'Processed')\n"
     ]
    },
    {
     "name": "stdout",
     "output_type": "stream",
     "text": [
      "[ON_DATA] Machine Learning Engineer Berkeley Lab 2021-01-29 https://www.linkedin.com/jobs/view/machine-learning-engineer-at-berkeley-lab-2424253520?refId=4ebebc47-abee-4760-8217-dafe0bd90785&trackingId=5TGepnz0QjftpZZF9VkAiQ%3D%3D&position=6&pageNum=13&trk=public_jobs_job-result-card_result-card_full-click Overview\n",
      "\n",
      "Are you an\n"
     ]
    },
    {
     "name": "stderr",
     "output_type": "stream",
     "text": [
      "INFO:li:scraper:('[Data Scientist][United States][316]', 'Processed')\n"
     ]
    },
    {
     "name": "stdout",
     "output_type": "stream",
     "text": [
      "[ON_DATA] Data Scientist NextMed 2021-02-10 https://www.linkedin.com/jobs/view/data-scientist-at-nextmed-2426530221?refId=4ebebc47-abee-4760-8217-dafe0bd90785&trackingId=0BJHZobUb33xJK%2BUUumLcA%3D%3D&position=7&pageNum=13&trk=public_jobs_job-result-card_result-card_full-click The National Energy \n"
     ]
    },
    {
     "name": "stderr",
     "output_type": "stream",
     "text": [
      "INFO:li:scraper:('[Data Scientist][United States][317]', 'Processed')\n"
     ]
    },
    {
     "name": "stdout",
     "output_type": "stream",
     "text": [
      "[ON_DATA] Machine Learning Engineer isee ai 2020-10-04 https://www.linkedin.com/jobs/view/machine-learning-engineer-at-isee-ai-2251913060?refId=4ebebc47-abee-4760-8217-dafe0bd90785&trackingId=gqbywmY6LlPkgxe3meTwlg%3D%3D&position=8&pageNum=13&trk=public_jobs_job-result-card_result-card_full-click Data Scientist\n",
      "\n",
      "At T\n"
     ]
    },
    {
     "name": "stderr",
     "output_type": "stream",
     "text": [
      "INFO:li:scraper:('[Data Scientist][United States][318]', 'Processed')\n"
     ]
    },
    {
     "name": "stdout",
     "output_type": "stream",
     "text": [
      "[ON_DATA] Machine Learning Engineer Hyperscience 2020-10-07 https://www.linkedin.com/jobs/view/machine-learning-engineer-at-hyperscience-2264777208?refId=4ebebc47-abee-4760-8217-dafe0bd90785&trackingId=DtM%2BBUaDTwb4oeLVffehpQ%3D%3D&position=9&pageNum=13&trk=public_jobs_job-result-card_result-card_full-click ISEE is seeking a fu\n"
     ]
    },
    {
     "name": "stderr",
     "output_type": "stream",
     "text": [
      "INFO:li:scraper:('[Data Scientist][United States][319]', 'Processed')\n"
     ]
    },
    {
     "name": "stdout",
     "output_type": "stream",
     "text": [
      "[ON_DATA] Data Scientist - Lumedic Lumedic 2021-02-19 https://www.linkedin.com/jobs/view/data-scientist-lumedic-at-lumedic-2430850130?refId=4ebebc47-abee-4760-8217-dafe0bd90785&trackingId=iAW20IQaFCs8fOwZlwlduQ%3D%3D&position=10&pageNum=13&trk=public_jobs_job-result-card_result-card_full-click Company Description\n",
      "\n"
     ]
    },
    {
     "name": "stderr",
     "output_type": "stream",
     "text": [
      "INFO:li:scraper:('[Data Scientist][United States][320]', 'Processed')\n"
     ]
    },
    {
     "name": "stdout",
     "output_type": "stream",
     "text": [
      "[ON_DATA] Machine Learning Engineer Embark Trucks 2021-01-28 https://www.linkedin.com/jobs/view/machine-learning-engineer-at-embark-trucks-2434125686?refId=4ebebc47-abee-4760-8217-dafe0bd90785&trackingId=8HXHJu9g%2B80gAOWOm9pVMg%3D%3D&position=11&pageNum=13&trk=public_jobs_job-result-card_result-card_full-click Description\n",
      "\n",
      "Provide\n"
     ]
    },
    {
     "name": "stderr",
     "output_type": "stream",
     "text": [
      "INFO:li:scraper:('[Data Scientist][United States][321]', 'Processed')\n"
     ]
    },
    {
     "name": "stdout",
     "output_type": "stream",
     "text": [
      "[ON_DATA] Data Scientist, manufacturing Gallin Associates 2021-02-15 https://www.linkedin.com/jobs/view/data-scientist-manufacturing-at-gallin-associates-2425558481?refId=4ebebc47-abee-4760-8217-dafe0bd90785&trackingId=HEHBYjEBEiJYyydDu7E%2Bfg%3D%3D&position=12&pageNum=13&trk=public_jobs_job-result-card_result-card_full-click Embark Trucks is a l\n"
     ]
    },
    {
     "name": "stderr",
     "output_type": "stream",
     "text": [
      "INFO:li:scraper:('[Data Scientist][United States][322]', 'Processed')\n"
     ]
    },
    {
     "name": "stdout",
     "output_type": "stream",
     "text": [
      "[ON_DATA] Machine Learning Engineer Xandr 2021-02-11 https://www.linkedin.com/jobs/view/machine-learning-engineer-at-xandr-2420253345?refId=4ebebc47-abee-4760-8217-dafe0bd90785&trackingId=cp%2BeJJXdrDZYf%2BQ6JoOUZg%3D%3D&position=13&pageNum=13&trk=public_jobs_job-result-card_result-card_full-click The Data Scientist (\n"
     ]
    },
    {
     "name": "stderr",
     "output_type": "stream",
     "text": [
      "INFO:li:scraper:('[Data Scientist][United States][323]', 'Processed')\n"
     ]
    },
    {
     "name": "stdout",
     "output_type": "stream",
     "text": [
      "[ON_DATA] Machine Learning Engineer Perpay Inc. 2020-10-08 https://www.linkedin.com/jobs/view/machine-learning-engineer-at-perpay-inc-2268544467?refId=4ebebc47-abee-4760-8217-dafe0bd90785&trackingId=xpsA3e4O2qG6%2BP1fhqQW0w%3D%3D&position=14&pageNum=13&trk=public_jobs_job-result-card_result-card_full-click About The Team\n",
      "\n",
      "Xand\n"
     ]
    },
    {
     "name": "stderr",
     "output_type": "stream",
     "text": [
      "INFO:li:scraper:('[Data Scientist][United States][324]', 'Processed')\n"
     ]
    },
    {
     "name": "stdout",
     "output_type": "stream",
     "text": [
      "[ON_DATA] Data Science/Analytics - New Graduate ManTech 2021-02-14 https://www.linkedin.com/jobs/view/data-science-analytics-new-graduate-at-mantech-2405286219?refId=4ebebc47-abee-4760-8217-dafe0bd90785&trackingId=oRj4xONx66voX6bu08KNAQ%3D%3D&position=15&pageNum=13&trk=public_jobs_job-result-card_result-card_full-click Nearly half of U.S. \n"
     ]
    },
    {
     "name": "stderr",
     "output_type": "stream",
     "text": [
      "INFO:li:scraper:('[Data Scientist][United States][325]', 'Processed')\n"
     ]
    },
    {
     "name": "stdout",
     "output_type": "stream",
     "text": [
      "[ON_DATA] Data Scientist - Networking Plume Design, Inc 2021-02-09 https://www.linkedin.com/jobs/view/data-scientist-networking-at-plume-design-inc-2403537284?refId=4ebebc47-abee-4760-8217-dafe0bd90785&trackingId=jz%2BHHsvjilH%2BfSs2zifUvQ%3D%3D&position=16&pageNum=13&trk=public_jobs_job-result-card_result-card_full-click Secure our Nation, I\n"
     ]
    },
    {
     "name": "stderr",
     "output_type": "stream",
     "text": [
      "INFO:li:scraper:('[Data Scientist][United States][326]', 'Processed')\n"
     ]
    },
    {
     "name": "stdout",
     "output_type": "stream",
     "text": [
      "[ON_DATA] Data Scientist - Engineering Confluent 2021-02-11 https://www.linkedin.com/jobs/view/data-scientist-engineering-at-confluent-2401640397?refId=4ebebc47-abee-4760-8217-dafe0bd90785&trackingId=wWmArNmWRp1AThbt%2FJD4MA%3D%3D&position=17&pageNum=13&trk=public_jobs_job-result-card_result-card_full-click The mission of the D\n"
     ]
    },
    {
     "name": "stderr",
     "output_type": "stream",
     "text": [
      "INFO:li:scraper:('[Data Scientist][United States][327]', 'Processed')\n"
     ]
    },
    {
     "name": "stdout",
     "output_type": "stream",
     "text": [
      "[ON_DATA] Data Scientist – Service Demand Planning Rivian 2021-02-15 https://www.linkedin.com/jobs/view/data-scientist-%E2%80%93-service-demand-planning-at-rivian-2369695049?refId=4ebebc47-abee-4760-8217-dafe0bd90785&trackingId=9V0ivSgc0qXAET2HEEny1A%3D%3D&position=18&pageNum=13&trk=public_jobs_job-result-card_result-card_full-click At Confluent, we’re \n"
     ]
    },
    {
     "name": "stderr",
     "output_type": "stream",
     "text": [
      "INFO:li:scraper:('[Data Scientist][United States][328]', 'Processed')\n"
     ]
    },
    {
     "name": "stdout",
     "output_type": "stream",
     "text": [
      "[ON_DATA] Data Scientist COMPASS Pathways plc 2021-02-17 https://www.linkedin.com/jobs/view/data-scientist-at-compass-pathways-plc-2415387773?refId=4ebebc47-abee-4760-8217-dafe0bd90785&trackingId=rEZgw0DIAv1i%2FKCNSlBvhA%3D%3D&position=19&pageNum=13&trk=public_jobs_job-result-card_result-card_full-click Rivian is on a missi\n"
     ]
    },
    {
     "name": "stderr",
     "output_type": "stream",
     "text": [
      "INFO:li:scraper:('[Data Scientist][United States][329]', 'Processed')\n"
     ]
    },
    {
     "name": "stdout",
     "output_type": "stream",
     "text": [
      "[ON_DATA] Data Scientist (Security Research) ServiceNow 2021-02-23 https://www.linkedin.com/jobs/view/data-scientist-security-research-at-servicenow-2435194111?refId=4ebebc47-abee-4760-8217-dafe0bd90785&trackingId=4Y8x8bSvEGeLy2mhVrqkvg%3D%3D&position=20&pageNum=13&trk=public_jobs_job-result-card_result-card_full-click Job overview\n",
      "\n",
      "The Da\n"
     ]
    },
    {
     "name": "stderr",
     "output_type": "stream",
     "text": [
      "INFO:li:scraper:('[Data Scientist][United States][330]', 'Processed')\n"
     ]
    },
    {
     "name": "stdout",
     "output_type": "stream",
     "text": [
      "[ON_DATA] Data Scientist - New York Embroker 2021-02-18 https://www.linkedin.com/jobs/view/data-scientist-new-york-at-embroker-2429542120?refId=4ebebc47-abee-4760-8217-dafe0bd90785&trackingId=ek%2BJIH%2FfTwMS%2BI0N8UKvGA%3D%3D&position=21&pageNum=13&trk=public_jobs_job-result-card_result-card_full-click Job Title: Data Scie\n"
     ]
    },
    {
     "name": "stderr",
     "output_type": "stream",
     "text": [
      "INFO:li:scraper:('[Data Scientist][United States][331]', 'Processed')\n"
     ]
    },
    {
     "name": "stdout",
     "output_type": "stream",
     "text": [
      "[ON_DATA] Associate Data Scientist Florida Power & Light Company 2021-01-09 https://www.linkedin.com/jobs/view/associate-data-scientist-at-florida-power-light-company-2407279891?refId=4ebebc47-abee-4760-8217-dafe0bd90785&trackingId=fvaC%2BRw8Z8JjTSq8aJTk6A%3D%3D&position=22&pageNum=13&trk=public_jobs_job-result-card_result-card_full-click Who we are at Embrok\n"
     ]
    },
    {
     "name": "stderr",
     "output_type": "stream",
     "text": [
      "INFO:li:scraper:('[Data Scientist][United States][332]', 'Processed')\n"
     ]
    },
    {
     "name": "stdout",
     "output_type": "stream",
     "text": [
      "[ON_DATA] Data Scientist Avetta 2021-01-31 https://www.linkedin.com/jobs/view/data-scientist-at-avetta-2226376513?refId=4ebebc47-abee-4760-8217-dafe0bd90785&trackingId=f2V5J%2BadLhTi%2Fhz0RpmYDg%3D%3D&position=23&pageNum=13&trk=public_jobs_job-result-card_result-card_full-click Our reliability is o\n"
     ]
    },
    {
     "name": "stderr",
     "output_type": "stream",
     "text": [
      "INFO:li:scraper:('[Data Scientist][United States][333]', 'Processed')\n"
     ]
    },
    {
     "name": "stdout",
     "output_type": "stream",
     "text": [
      "[ON_DATA] Data Scientist BoomTown - Real Estate Platform 2021-02-11 https://www.linkedin.com/jobs/view/data-scientist-at-boomtown-real-estate-platform-2420692827?refId=4ebebc47-abee-4760-8217-dafe0bd90785&trackingId=MzJEYSJ5d6TS5L5pjBcw7g%3D%3D&position=24&pageNum=13&trk=public_jobs_job-result-card_result-card_full-click Data Scientist\n",
      "\n",
      "Repo\n"
     ]
    },
    {
     "name": "stderr",
     "output_type": "stream",
     "text": [
      "INFO:li:scraper:('[Data Scientist][United States][334]', 'Processed')\n",
      "INFO:li:scraper:('[Data Scientist][United States][334]', 'Checking for new jobs to load...')\n"
     ]
    },
    {
     "name": "stdout",
     "output_type": "stream",
     "text": [
      "[ON_DATA] Data Scientist Digital Turbine 2021-01-18 https://www.linkedin.com/jobs/view/data-scientist-at-digital-turbine-2420971279?refId=4ebebc47-abee-4760-8217-dafe0bd90785&trackingId=7jh51gyYzoXQWrY7OaofCQ%3D%3D&position=25&pageNum=13&trk=public_jobs_job-result-card_result-card_full-click BoomTown is looking \n"
     ]
    },
    {
     "name": "stderr",
     "output_type": "stream",
     "text": [
      "INFO:li:scraper:('[Data Scientist][United States][334]', 'Found 360 jobs')\n",
      "INFO:li:scraper:('[Data Scientist][United States][335]', 'Processed')\n"
     ]
    },
    {
     "name": "stdout",
     "output_type": "stream",
     "text": [
      "[ON_DATA] Data Scientist II Cleveland Clinic 2021-02-20 https://www.linkedin.com/jobs/view/data-scientist-ii-at-cleveland-clinic-2420574359?refId=efde9f40-674c-4d53-92f7-e24e2e55128d&trackingId=a8zqDAzsPB4eB3ld5J7sFA%3D%3D&position=1&pageNum=14&trk=public_jobs_job-result-card_result-card_full-click The Data Scientist p\n"
     ]
    },
    {
     "name": "stderr",
     "output_type": "stream",
     "text": [
      "INFO:li:scraper:('[Data Scientist][United States][336]', 'Processed')\n"
     ]
    },
    {
     "name": "stdout",
     "output_type": "stream",
     "text": [
      "[ON_DATA] Machine Learning Engineer Dialexa 2020-10-16 https://www.linkedin.com/jobs/view/machine-learning-engineer-at-dialexa-2296172480?refId=efde9f40-674c-4d53-92f7-e24e2e55128d&trackingId=WRG1eFH7ZjrCdHfmtZvxXQ%3D%3D&position=2&pageNum=14&trk=public_jobs_job-result-card_result-card_full-click Job Responsibilities\n"
     ]
    },
    {
     "name": "stderr",
     "output_type": "stream",
     "text": [
      "INFO:li:scraper:('[Data Scientist][United States][337]', 'Processed')\n"
     ]
    },
    {
     "name": "stdout",
     "output_type": "stream",
     "text": [
      "[ON_DATA] Machine Learning Engineer UnifyID 2021-01-08 https://www.linkedin.com/jobs/view/machine-learning-engineer-at-unifyid-2380502052?refId=efde9f40-674c-4d53-92f7-e24e2e55128d&trackingId=UZ6x9%2BqKTmZP1IP2nANrLQ%3D%3D&position=3&pageNum=14&trk=public_jobs_job-result-card_result-card_full-click Dialexa is expanding\n"
     ]
    },
    {
     "name": "stderr",
     "output_type": "stream",
     "text": [
      "INFO:li:scraper:('[Data Scientist][United States][338]', 'Processed')\n"
     ]
    },
    {
     "name": "stdout",
     "output_type": "stream",
     "text": [
      "[ON_DATA] Data Engineer Uplight 2021-02-23 https://www.linkedin.com/jobs/view/data-engineer-at-uplight-2435014750?refId=efde9f40-674c-4d53-92f7-e24e2e55128d&trackingId=8vraRLnu7WrmU5I5w3BPEw%3D%3D&position=4&pageNum=14&trk=public_jobs_job-result-card_result-card_full-click We live in the era o\n"
     ]
    },
    {
     "name": "stderr",
     "output_type": "stream",
     "text": [
      "INFO:li:scraper:('[Data Scientist][United States][339]', 'Processed')\n"
     ]
    },
    {
     "name": "stdout",
     "output_type": "stream",
     "text": [
      "[ON_DATA] Data Scientist Inspire11 2021-02-11 https://www.linkedin.com/jobs/view/data-scientist-at-inspire11-2419209603?refId=efde9f40-674c-4d53-92f7-e24e2e55128d&trackingId=C1WD9ak9OuoVlVmKz6cfjQ%3D%3D&position=5&pageNum=14&trk=public_jobs_job-result-card_result-card_full-click Description\n",
      "\n",
      "The Pos\n"
     ]
    },
    {
     "name": "stderr",
     "output_type": "stream",
     "text": [
      "INFO:li:scraper:('[Data Scientist][United States][340]', 'Processed')\n"
     ]
    },
    {
     "name": "stdout",
     "output_type": "stream",
     "text": [
      "[ON_DATA] Machine Learning Engineer Cadent 2020-12-17 https://www.linkedin.com/jobs/view/machine-learning-engineer-at-cadent-2347974605?refId=efde9f40-674c-4d53-92f7-e24e2e55128d&trackingId=ERxPg10mT1GWDMKNTotVYw%3D%3D&position=6&pageNum=14&trk=public_jobs_job-result-card_result-card_full-click Cadent powers the ev\n"
     ]
    },
    {
     "name": "stderr",
     "output_type": "stream",
     "text": [
      "INFO:li:scraper:('[Data Scientist][United States][341]', 'Processed')\n"
     ]
    },
    {
     "name": "stdout",
     "output_type": "stream",
     "text": [
      "[ON_DATA] Data Scientist MITRE 2021-01-23 https://www.linkedin.com/jobs/view/data-scientist-at-mitre-2427369815?refId=efde9f40-674c-4d53-92f7-e24e2e55128d&trackingId=3MJlPKbpDH9FrfIDHhzbIA%3D%3D&position=7&pageNum=14&trk=public_jobs_job-result-card_result-card_full-click Cadent powers the ev\n"
     ]
    },
    {
     "name": "stderr",
     "output_type": "stream",
     "text": [
      "INFO:li:scraper:('[Data Scientist][United States][342]', 'Processed')\n"
     ]
    },
    {
     "name": "stdout",
     "output_type": "stream",
     "text": [
      "[ON_DATA] Data Scientist Slickdeals 2021-02-18 https://www.linkedin.com/jobs/view/data-scientist-at-slickdeals-2412197912?refId=efde9f40-674c-4d53-92f7-e24e2e55128d&trackingId=7Y0fFMUrYNTF%2BX9LqomzdA%3D%3D&position=8&pageNum=14&trk=public_jobs_job-result-card_result-card_full-click Why choose between d\n"
     ]
    },
    {
     "name": "stderr",
     "output_type": "stream",
     "text": [
      "INFO:li:scraper:('[Data Scientist][United States][343]', 'Processed')\n"
     ]
    },
    {
     "name": "stdout",
     "output_type": "stream",
     "text": [
      "[ON_DATA] Data Scientist Leidos 2021-02-04 https://www.linkedin.com/jobs/view/data-scientist-at-leidos-2411103003?refId=efde9f40-674c-4d53-92f7-e24e2e55128d&trackingId=dREG8Tbv3a9K7aMP1V9L7A%3D%3D&position=9&pageNum=14&trk=public_jobs_job-result-card_result-card_full-click The Purpose\n",
      "\n",
      "Slickde\n"
     ]
    },
    {
     "name": "stderr",
     "output_type": "stream",
     "text": [
      "INFO:li:scraper:('[Data Scientist][United States][344]', 'Processed')\n"
     ]
    },
    {
     "name": "stdout",
     "output_type": "stream",
     "text": [
      "[ON_DATA] Data Scientist (Remote) Niagara Bottling 2020-12-20 https://www.linkedin.com/jobs/view/data-scientist-remote-at-niagara-bottling-2360913791?refId=efde9f40-674c-4d53-92f7-e24e2e55128d&trackingId=Mvn6pBISNaWhSDGGLl%2Fmog%3D%3D&position=10&pageNum=14&trk=public_jobs_job-result-card_result-card_full-click Description\n",
      "\n",
      "Job Des\n"
     ]
    },
    {
     "name": "stderr",
     "output_type": "stream",
     "text": [
      "INFO:li:scraper:('[Data Scientist][United States][345]', 'Processed')\n"
     ]
    },
    {
     "name": "stdout",
     "output_type": "stream",
     "text": [
      "[ON_DATA] Data Scientist Jabil 2021-01-28 https://www.linkedin.com/jobs/view/data-scientist-at-jabil-2421543377?refId=efde9f40-674c-4d53-92f7-e24e2e55128d&trackingId=WcN9vmGamQqQz8BOD4agbw%3D%3D&position=11&pageNum=14&trk=public_jobs_job-result-card_result-card_full-click At Niagara, we’re lo\n"
     ]
    },
    {
     "name": "stderr",
     "output_type": "stream",
     "text": [
      "INFO:li:scraper:('[Data Scientist][United States][346]', 'Processed')\n"
     ]
    },
    {
     "name": "stdout",
     "output_type": "stream",
     "text": [
      "[ON_DATA] Data Scientist University of Pennsylvania 2021-01-16 https://www.linkedin.com/jobs/view/data-scientist-at-university-of-pennsylvania-2400005823?refId=efde9f40-674c-4d53-92f7-e24e2e55128d&trackingId=XvxF03e0OxZdWniphV5U2Q%3D%3D&position=12&pageNum=14&trk=public_jobs_job-result-card_result-card_full-click At Jabil, we empower\n"
     ]
    },
    {
     "name": "stderr",
     "output_type": "stream",
     "text": [
      "INFO:li:scraper:('[Data Scientist][United States][347]', 'Processed')\n"
     ]
    },
    {
     "name": "stdout",
     "output_type": "stream",
     "text": [
      "[ON_DATA] Research Data Scientist Arrowstreet Capital, Limited Partnership 2020-10-03 https://www.linkedin.com/jobs/view/research-data-scientist-at-arrowstreet-capital-limited-partnership-2250909104?refId=efde9f40-674c-4d53-92f7-e24e2e55128d&trackingId=FBJux6onzbL2YljwOQl2Hw%3D%3D&position=13&pageNum=14&trk=public_jobs_job-result-card_result-card_full-click University Overview\n",
      "\n"
     ]
    },
    {
     "name": "stderr",
     "output_type": "stream",
     "text": [
      "INFO:li:scraper:('[Data Scientist][United States][348]', 'Processed')\n"
     ]
    },
    {
     "name": "stdout",
     "output_type": "stream",
     "text": [
      "[ON_DATA] Principal Data Scientist, NLP Evisort 2021-02-22 https://www.linkedin.com/jobs/view/principal-data-scientist-nlp-at-evisort-2421684032?refId=efde9f40-674c-4d53-92f7-e24e2e55128d&trackingId=wS9rDPGnjhPtMu4LcpUxVA%3D%3D&position=14&pageNum=14&trk=public_jobs_job-result-card_result-card_full-click Research Data Scient\n"
     ]
    },
    {
     "name": "stderr",
     "output_type": "stream",
     "text": [
      "INFO:li:scraper:('[Data Scientist][United States][349]', 'Processed')\n"
     ]
    },
    {
     "name": "stdout",
     "output_type": "stream",
     "text": [
      "[ON_DATA] Machine Learning Engineer, Models Rebellion Defense 2020-12-27 https://www.linkedin.com/jobs/view/machine-learning-engineer-models-at-rebellion-defense-2376317310?refId=efde9f40-674c-4d53-92f7-e24e2e55128d&trackingId=O95mFZzcgJgQaBND5Gc58Q%3D%3D&position=15&pageNum=14&trk=public_jobs_job-result-card_result-card_full-click Evisort is on a miss\n"
     ]
    },
    {
     "name": "stderr",
     "output_type": "stream",
     "text": [
      "INFO:li:scraper:('[Data Scientist][United States][350]', 'Processed')\n"
     ]
    },
    {
     "name": "stdout",
     "output_type": "stream",
     "text": [
      "[ON_DATA] AI/ML Data Scientist Dematic 2021-02-11 https://www.linkedin.com/jobs/view/ai-ml-data-scientist-at-dematic-2358540283?refId=efde9f40-674c-4d53-92f7-e24e2e55128d&trackingId=66Wjb2SlZs1KElAZSMv5Ug%3D%3D&position=16&pageNum=14&trk=public_jobs_job-result-card_result-card_full-click We are seeking a Sen\n"
     ]
    },
    {
     "name": "stderr",
     "output_type": "stream",
     "text": [
      "INFO:li:scraper:('[Data Scientist][United States][351]', 'Processed')\n"
     ]
    },
    {
     "name": "stdout",
     "output_type": "stream",
     "text": [
      "[ON_DATA] Data Scientist, Game / Social Analytics Niantic, Inc. 2021-02-17 https://www.linkedin.com/jobs/view/data-scientist-game-social-analytics-at-niantic-inc-2421636750?refId=efde9f40-674c-4d53-92f7-e24e2e55128d&trackingId=WEfb6zNMAVRMDHuJIBYT9Q%3D%3D&position=17&pageNum=14&trk=public_jobs_job-result-card_result-card_full-click Do you want to help \n"
     ]
    },
    {
     "name": "stderr",
     "output_type": "stream",
     "text": [
      "INFO:li:scraper:('[Data Scientist][United States][352]', 'Processed')\n"
     ]
    },
    {
     "name": "stdout",
     "output_type": "stream",
     "text": [
      "[ON_DATA] Machine Learning Engineer orangepeople 2021-02-15 https://www.linkedin.com/jobs/view/machine-learning-engineer-at-orangepeople-2426406216?refId=efde9f40-674c-4d53-92f7-e24e2e55128d&trackingId=mUoPwnC6v%2F%2BWkbNa6%2FQfXA%3D%3D&position=18&pageNum=14&trk=public_jobs_job-result-card_result-card_full-click Do you want to help \n"
     ]
    },
    {
     "name": "stderr",
     "output_type": "stream",
     "text": [
      "INFO:li:scraper:('[Data Scientist][United States][353]', 'Processed')\n"
     ]
    },
    {
     "name": "stdout",
     "output_type": "stream",
     "text": [
      "[ON_DATA] Machine Learning Engineer WorkFusion 2020-12-11 https://www.linkedin.com/jobs/view/machine-learning-engineer-at-workfusion-2323998920?refId=efde9f40-674c-4d53-92f7-e24e2e55128d&trackingId=Zw6g%2F09ub9U8Hh24yxd1tw%3D%3D&position=19&pageNum=14&trk=public_jobs_job-result-card_result-card_full-click Do you have a passio\n"
     ]
    },
    {
     "name": "stderr",
     "output_type": "stream",
     "text": [
      "INFO:li:scraper:('[Data Scientist][United States][354]', 'Processed')\n"
     ]
    },
    {
     "name": "stdout",
     "output_type": "stream",
     "text": [
      "[ON_DATA] Machine Learning Engineer VoxelCloud 2021-01-24 https://www.linkedin.com/jobs/view/machine-learning-engineer-at-voxelcloud-2427914074?refId=efde9f40-674c-4d53-92f7-e24e2e55128d&trackingId=QeefyJQnwSv2OUO%2BfHfQBQ%3D%3D&position=20&pageNum=14&trk=public_jobs_job-result-card_result-card_full-click About Us\n",
      "\n",
      "At WorkFus\n"
     ]
    },
    {
     "name": "stderr",
     "output_type": "stream",
     "text": [
      "INFO:li:scraper:('[Data Scientist][United States][355]', 'Processed')\n"
     ]
    },
    {
     "name": "stdout",
     "output_type": "stream",
     "text": [
      "[ON_DATA] Machine Learning Engineer TSYS 2021-02-09 https://www.linkedin.com/jobs/view/machine-learning-engineer-at-tsys-2402790704?refId=efde9f40-674c-4d53-92f7-e24e2e55128d&trackingId=g11tKpVZSuSF3R1hrjZ9eQ%3D%3D&position=21&pageNum=14&trk=public_jobs_job-result-card_result-card_full-click Company Description\n",
      "\n"
     ]
    },
    {
     "name": "stderr",
     "output_type": "stream",
     "text": [
      "INFO:li:scraper:('[Data Scientist][United States][356]', 'Processed')\n"
     ]
    },
    {
     "name": "stdout",
     "output_type": "stream",
     "text": [
      "[ON_DATA] Data Scientist, manufacturing Retail Options 2021-02-15 https://www.linkedin.com/jobs/view/data-scientist-manufacturing-at-retail-options-2411993832?refId=efde9f40-674c-4d53-92f7-e24e2e55128d&trackingId=CEruRbJk1v5PJc1JWBONvg%3D%3D&position=22&pageNum=14&trk=public_jobs_job-result-card_result-card_full-click Every day, Global Pa\n"
     ]
    },
    {
     "name": "stderr",
     "output_type": "stream",
     "text": [
      "INFO:li:scraper:('[Data Scientist][United States][357]', 'Processed')\n"
     ]
    },
    {
     "name": "stdout",
     "output_type": "stream",
     "text": [
      "[ON_DATA] Principal Data Scientist Kellogg Company 2021-02-15 https://www.linkedin.com/jobs/view/principal-data-scientist-at-kellogg-company-2408014552?refId=efde9f40-674c-4d53-92f7-e24e2e55128d&trackingId=kThi9XaNKNKYvYpc9nFCUA%3D%3D&position=23&pageNum=14&trk=public_jobs_job-result-card_result-card_full-click The Data Scientist (\n"
     ]
    },
    {
     "name": "stderr",
     "output_type": "stream",
     "text": [
      "INFO:li:scraper:('[Data Scientist][United States][358]', 'Processed')\n"
     ]
    },
    {
     "name": "stdout",
     "output_type": "stream",
     "text": [
      "[ON_DATA] Data Scientist MobiTV 2021-01-25 https://www.linkedin.com/jobs/view/data-scientist-at-mobitv-2430682612?refId=efde9f40-674c-4d53-92f7-e24e2e55128d&trackingId=X8j6FXxEG2utqsC1%2FBjaAA%3D%3D&position=24&pageNum=14&trk=public_jobs_job-result-card_result-card_full-click Join our dynamic, pr\n"
     ]
    },
    {
     "name": "stderr",
     "output_type": "stream",
     "text": [
      "INFO:li:scraper:('[Data Scientist][United States][359]', 'Processed')\n",
      "INFO:li:scraper:('[Data Scientist][United States][359]', 'Checking for new jobs to load...')\n"
     ]
    },
    {
     "name": "stdout",
     "output_type": "stream",
     "text": [
      "[ON_DATA] Data Scientist Money Mart Financial Services 2021-02-22 https://www.linkedin.com/jobs/view/data-scientist-at-money-mart-financial-services-2228758836?refId=efde9f40-674c-4d53-92f7-e24e2e55128d&trackingId=cjJUJMMOFDmrF2mlLR75Zw%3D%3D&position=25&pageNum=14&trk=public_jobs_job-result-card_result-card_full-click MobiTV is a video de\n"
     ]
    },
    {
     "name": "stderr",
     "output_type": "stream",
     "text": [
      "INFO:li:scraper:('[Data Scientist][United States][359]', 'Found 384 jobs')\n",
      "INFO:li:scraper:('[Data Scientist][United States][360]', 'Processed')\n"
     ]
    },
    {
     "name": "stdout",
     "output_type": "stream",
     "text": [
      "[ON_DATA] Machine Learning Engineer HUMAC INC 2021-02-21 https://www.linkedin.com/jobs/view/machine-learning-engineer-at-humac-inc-2432334699?refId=fdee15aa-89e5-4bf1-a3f4-1fa41908614f&trackingId=VUNNCyzCuuUTCWW3vNSEIA%3D%3D&position=1&pageNum=15&trk=public_jobs_job-result-card_result-card_full-click Machine Learning-Pyt\n"
     ]
    },
    {
     "name": "stderr",
     "output_type": "stream",
     "text": [
      "INFO:li:scraper:('[Data Scientist][United States][361]', 'Processed')\n"
     ]
    },
    {
     "name": "stdout",
     "output_type": "stream",
     "text": [
      "[ON_DATA] Machine Learning Engineer Roberts Recruiting, LLC 2020-10-18 https://www.linkedin.com/jobs/view/machine-learning-engineer-at-roberts-recruiting-llc-2304185170?refId=fdee15aa-89e5-4bf1-a3f4-1fa41908614f&trackingId=r8IvVFmhPansmpomt%2F%2BpVA%3D%3D&position=2&pageNum=15&trk=public_jobs_job-result-card_result-card_full-click We're looking for a \n"
     ]
    },
    {
     "name": "stderr",
     "output_type": "stream",
     "text": [
      "INFO:li:scraper:('[Data Scientist][United States][362]', 'Processed')\n"
     ]
    },
    {
     "name": "stdout",
     "output_type": "stream",
     "text": [
      "[ON_DATA] Machine Learning Engineer Hiretual 2020-12-07 https://www.linkedin.com/jobs/view/machine-learning-engineer-at-hiretual-2364428903?refId=fdee15aa-89e5-4bf1-a3f4-1fa41908614f&trackingId=TCBEyUPeczanhqik5%2B4rqQ%3D%3D&position=3&pageNum=15&trk=public_jobs_job-result-card_result-card_full-click We're looking for a \n"
     ]
    },
    {
     "name": "stderr",
     "output_type": "stream",
     "text": [
      "INFO:li:scraper:('[Data Scientist][United States][363]', 'Processed')\n"
     ]
    },
    {
     "name": "stdout",
     "output_type": "stream",
     "text": [
      "[ON_DATA] Data Scientist, Machine Learning Engineer AAA Life Insurance Company 2021-01-28 https://www.linkedin.com/jobs/view/data-scientist-machine-learning-engineer-at-aaa-life-insurance-company-2398728888?refId=fdee15aa-89e5-4bf1-a3f4-1fa41908614f&trackingId=hTK7BbIErB9%2F7q3BqtS3qw%3D%3D&position=4&pageNum=15&trk=public_jobs_job-result-card_result-card_full-click Hiretual is an AI-po\n"
     ]
    },
    {
     "name": "stderr",
     "output_type": "stream",
     "text": [
      "INFO:li:scraper:('[Data Scientist][United States][364]', 'Processed')\n"
     ]
    },
    {
     "name": "stdout",
     "output_type": "stream",
     "text": [
      "[ON_DATA] Data Scientist Game Circus 2021-01-29 https://www.linkedin.com/jobs/view/data-scientist-at-game-circus-2408594391?refId=fdee15aa-89e5-4bf1-a3f4-1fa41908614f&trackingId=36jKXYRluXBtGhhdFdoIFQ%3D%3D&position=5&pageNum=15&trk=public_jobs_job-result-card_result-card_full-click Game Circus LLC Data\n"
     ]
    },
    {
     "name": "stderr",
     "output_type": "stream",
     "text": [
      "INFO:li:scraper:('[Data Scientist][United States][365]', 'Processed')\n"
     ]
    },
    {
     "name": "stdout",
     "output_type": "stream",
     "text": [
      "[ON_DATA] Data Scientist Beyond Limits 2021-02-18 https://www.linkedin.com/jobs/view/data-scientist-at-beyond-limits-2429503406?refId=fdee15aa-89e5-4bf1-a3f4-1fa41908614f&trackingId=%2BeHTrQ7NzMFX2sZLypAJrA%3D%3D&position=6&pageNum=15&trk=public_jobs_job-result-card_result-card_full-click Game Circus LLC Data\n"
     ]
    },
    {
     "name": "stderr",
     "output_type": "stream",
     "text": [
      "INFO:li:scraper:('[Data Scientist][United States][366]', 'Processed')\n"
     ]
    },
    {
     "name": "stdout",
     "output_type": "stream",
     "text": [
      "[ON_DATA] Data Scientist (Services) Primer.ai 2020-11-26 https://www.linkedin.com/jobs/view/data-scientist-services-at-primer-ai-2344771009?refId=fdee15aa-89e5-4bf1-a3f4-1fa41908614f&trackingId=SmYtFIo4c4YQNJ%2FSsdWY2A%3D%3D&position=7&pageNum=15&trk=public_jobs_job-result-card_result-card_full-click Description\n",
      "\n",
      "Positio\n"
     ]
    },
    {
     "name": "stderr",
     "output_type": "stream",
     "text": [
      "INFO:li:scraper:('[Data Scientist][United States][367]', 'Processed')\n"
     ]
    },
    {
     "name": "stdout",
     "output_type": "stream",
     "text": [
      "[ON_DATA] Data Scientist Walker & Dunlop 2021-02-18 https://www.linkedin.com/jobs/view/data-scientist-at-walker-dunlop-2434050859?refId=fdee15aa-89e5-4bf1-a3f4-1fa41908614f&trackingId=YNNOR%2FCrN7%2BW6Hvoikc1Rg%3D%3D&position=8&pageNum=15&trk=public_jobs_job-result-card_result-card_full-click The world is changin\n"
     ]
    },
    {
     "name": "stderr",
     "output_type": "stream",
     "text": [
      "INFO:li:scraper:('[Data Scientist][United States][368]', 'Processed')\n"
     ]
    },
    {
     "name": "stdout",
     "output_type": "stream",
     "text": [
      "[ON_DATA] Applied AI, Data Science, Python for next generation health application Azumio Inc. 2021-02-13 https://www.linkedin.com/jobs/view/applied-ai-data-science-python-for-next-generation-health-application-at-azumio-inc-744283584?refId=fdee15aa-89e5-4bf1-a3f4-1fa41908614f&trackingId=baE5ImjxkTccxbdWKT5cLA%3D%3D&position=9&pageNum=15&trk=public_jobs_job-result-card_result-card_full-click Department\n",
      "\n",
      "Informat\n"
     ]
    },
    {
     "name": "stderr",
     "output_type": "stream",
     "text": [
      "INFO:li:scraper:('[Data Scientist][United States][369]', 'Processed')\n"
     ]
    },
    {
     "name": "stdout",
     "output_type": "stream",
     "text": [
      "[ON_DATA] Data Scientist (Global Data and Analytics) Circle K 2021-01-26 https://www.linkedin.com/jobs/view/data-scientist-global-data-and-analytics-at-circle-k-2431755082?refId=fdee15aa-89e5-4bf1-a3f4-1fa41908614f&trackingId=2cC0CNnb1eoCj7XeYepHnw%3D%3D&position=10&pageNum=15&trk=public_jobs_job-result-card_result-card_full-click We are working on a \n"
     ]
    },
    {
     "name": "stderr",
     "output_type": "stream",
     "text": [
      "INFO:li:scraper:('[Data Scientist][United States][370]', 'Processed')\n"
     ]
    },
    {
     "name": "stdout",
     "output_type": "stream",
     "text": [
      "[ON_DATA] Data Scientist, Generalist Sunbasket 2021-02-06 https://www.linkedin.com/jobs/view/data-scientist-generalist-at-sunbasket-2411579926?refId=fdee15aa-89e5-4bf1-a3f4-1fa41908614f&trackingId=XFdAZV4L%2FKIR1EF5UfKREQ%3D%3D&position=11&pageNum=15&trk=public_jobs_job-result-card_result-card_full-click Job Description\n",
      "\n",
      "As \n"
     ]
    },
    {
     "name": "stderr",
     "output_type": "stream",
     "text": [
      "INFO:li:scraper:('[Data Scientist][United States][371]', 'Processed')\n"
     ]
    },
    {
     "name": "stdout",
     "output_type": "stream",
     "text": [
      "[ON_DATA] Data Scientist - Atlanta Ace Technologies 2021-02-18 https://www.linkedin.com/jobs/view/data-scientist-atlanta-at-ace-technologies-2429173573?refId=fdee15aa-89e5-4bf1-a3f4-1fa41908614f&trackingId=BR9OcHWn4PAudONYDdL7oA%3D%3D&position=12&pageNum=15&trk=public_jobs_job-result-card_result-card_full-click Sunbasket is the #1 \n"
     ]
    },
    {
     "name": "stderr",
     "output_type": "stream",
     "text": [
      "ERROR:li:scraper:('[Data Scientist][United States][372]', TimeoutException('timeout: Timed out receiving message from renderer: 20.000\\n  (Session info: headless chrome=88.0.4324.182)', None, None), 'Traceback (most recent call last):\\n  File \"C:\\\\Users\\\\duong\\\\anaconda3\\\\envs\\\\tf\\\\lib\\\\site-packages\\\\linkedin_jobs_scraper\\\\strategies\\\\anonymous_strategy.py\", line 198, in run\\n    job_id, job_title, job_company, job_place, job_date = driver.execute_script(\\n  File \"C:\\\\Users\\\\duong\\\\anaconda3\\\\envs\\\\tf\\\\lib\\\\site-packages\\\\selenium\\\\webdriver\\\\remote\\\\webdriver.py\", line 634, in execute_script\\n    return self.execute(command, {\\n  File \"C:\\\\Users\\\\duong\\\\anaconda3\\\\envs\\\\tf\\\\lib\\\\site-packages\\\\selenium\\\\webdriver\\\\remote\\\\webdriver.py\", line 321, in execute\\n    self.error_handler.check_response(response)\\n  File \"C:\\\\Users\\\\duong\\\\anaconda3\\\\envs\\\\tf\\\\lib\\\\site-packages\\\\selenium\\\\webdriver\\\\remote\\\\errorhandler.py\", line 242, in check_response\\n    raise exception_class(message, screen, stacktrace)\\nselenium.common.exceptions.TimeoutException: Message: timeout: Timed out receiving message from renderer: 20.000\\n  (Session info: headless chrome=88.0.4324.182)\\n\\n')\n",
      "Traceback (most recent call last):\n",
      "  File \"C:\\Users\\duong\\anaconda3\\envs\\tf\\lib\\site-packages\\linkedin_jobs_scraper\\strategies\\anonymous_strategy.py\", line 198, in run\n",
      "    job_id, job_title, job_company, job_place, job_date = driver.execute_script(\n",
      "  File \"C:\\Users\\duong\\anaconda3\\envs\\tf\\lib\\site-packages\\selenium\\webdriver\\remote\\webdriver.py\", line 634, in execute_script\n",
      "    return self.execute(command, {\n",
      "  File \"C:\\Users\\duong\\anaconda3\\envs\\tf\\lib\\site-packages\\selenium\\webdriver\\remote\\webdriver.py\", line 321, in execute\n",
      "    self.error_handler.check_response(response)\n",
      "  File \"C:\\Users\\duong\\anaconda3\\envs\\tf\\lib\\site-packages\\selenium\\webdriver\\remote\\errorhandler.py\", line 242, in check_response\n",
      "    raise exception_class(message, screen, stacktrace)\n",
      "selenium.common.exceptions.TimeoutException: Message: timeout: Timed out receiving message from renderer: 20.000\n",
      "  (Session info: headless chrome=88.0.4324.182)\n",
      "\n"
     ]
    },
    {
     "name": "stdout",
     "output_type": "stream",
     "text": [
      "[ON_ERROR] Message: timeout: Timed out receiving message from renderer: 20.000\n",
      "  (Session info: headless chrome=88.0.4324.182)\n",
      "\n",
      "Traceback (most recent call last):\n",
      "  File \"C:\\Users\\duong\\anaconda3\\envs\\tf\\lib\\site-packages\\linkedin_jobs_scraper\\strategies\\anonymous_strategy.py\", line 198, in run\n",
      "    job_id, job_title, job_company, job_place, job_date = driver.execute_script(\n",
      "  File \"C:\\Users\\duong\\anaconda3\\envs\\tf\\lib\\site-packages\\selenium\\webdriver\\remote\\webdriver.py\", line 634, in execute_script\n",
      "    return self.execute(command, {\n",
      "  File \"C:\\Users\\duong\\anaconda3\\envs\\tf\\lib\\site-packages\\selenium\\webdriver\\remote\\webdriver.py\", line 321, in execute\n",
      "    self.error_handler.check_response(response)\n",
      "  File \"C:\\Users\\duong\\anaconda3\\envs\\tf\\lib\\site-packages\\selenium\\webdriver\\remote\\errorhandler.py\", line 242, in check_response\n",
      "    raise exception_class(message, screen, stacktrace)\n",
      "selenium.common.exceptions.TimeoutException: Message: timeout: Timed out receiving message from renderer: 20.000\n",
      "  (Session info: headless chrome=88.0.4324.182)\n",
      "\n",
      "\n"
     ]
    },
    {
     "name": "stderr",
     "output_type": "stream",
     "text": [
      "INFO:li:scraper:('[Data Scientist][United States][372]', 'Processed')\n"
     ]
    },
    {
     "name": "stdout",
     "output_type": "stream",
     "text": [
      "[ON_DATA] Machine Learning Engineer Global Payments Inc. 2021-02-18 https://www.linkedin.com/jobs/view/machine-learning-engineer-at-global-payments-inc-2417237638?refId=fdee15aa-89e5-4bf1-a3f4-1fa41908614f&trackingId=bC%2FxbvWwVijGMCXKq1rTRw%3D%3D&position=14&pageNum=15&trk=public_jobs_job-result-card_result-card_full-click Every day, Global Pa\n"
     ]
    },
    {
     "name": "stderr",
     "output_type": "stream",
     "text": [
      "INFO:li:scraper:('[Data Scientist][United States][373]', 'Processed')\n"
     ]
    },
    {
     "name": "stdout",
     "output_type": "stream",
     "text": [
      "[ON_DATA] Data Scientist, CLM DocuSign 2021-02-01 https://www.linkedin.com/jobs/view/data-scientist-clm-at-docusign-2391012172?refId=fdee15aa-89e5-4bf1-a3f4-1fa41908614f&trackingId=m08QHYA94Yyq0fyciS03Dg%3D%3D&position=15&pageNum=15&trk=public_jobs_job-result-card_result-card_full-click Data Scientist, CLM\n",
      "\n"
     ]
    },
    {
     "name": "stderr",
     "output_type": "stream",
     "text": [
      "INFO:li:scraper:('[Data Scientist][United States][374]', 'Processed')\n"
     ]
    },
    {
     "name": "stdout",
     "output_type": "stream",
     "text": [
      "[ON_DATA] Data Scientist Massachusetts General Hospital 2021-02-04 https://www.linkedin.com/jobs/view/data-scientist-at-massachusetts-general-hospital-2389703312?refId=fdee15aa-89e5-4bf1-a3f4-1fa41908614f&trackingId=1mAEQnLEGGMLHfU9yo6xQg%3D%3D&position=16&pageNum=15&trk=public_jobs_job-result-card_result-card_full-click Data Scientist, CLM\n",
      "\n"
     ]
    },
    {
     "name": "stderr",
     "output_type": "stream",
     "text": [
      "INFO:li:scraper:('[Data Scientist][United States][375]', 'Processed')\n"
     ]
    },
    {
     "name": "stdout",
     "output_type": "stream",
     "text": [
      "[ON_DATA] Data Scientist ACI Worldwide 2021-02-09 https://www.linkedin.com/jobs/view/data-scientist-at-aci-worldwide-2415200480?refId=fdee15aa-89e5-4bf1-a3f4-1fa41908614f&trackingId=5fhgURJ%2BJOMstBOfkXVqMw%3D%3D&position=17&pageNum=15&trk=public_jobs_job-result-card_result-card_full-click We are looking for a\n"
     ]
    },
    {
     "name": "stderr",
     "output_type": "stream",
     "text": [
      "INFO:li:scraper:('[Data Scientist][United States][376]', 'Processed')\n"
     ]
    },
    {
     "name": "stdout",
     "output_type": "stream",
     "text": [
      "[ON_DATA] Data Scientist, Product Moveworks 2021-01-28 https://www.linkedin.com/jobs/view/data-scientist-product-at-moveworks-2385515224?refId=fdee15aa-89e5-4bf1-a3f4-1fa41908614f&trackingId=0pZDqIxu%2FWLhOcGEBe4EYQ%3D%3D&position=18&pageNum=15&trk=public_jobs_job-result-card_result-card_full-click Job Description\n",
      "\n",
      "Joi\n"
     ]
    },
    {
     "name": "stderr",
     "output_type": "stream",
     "text": [
      "INFO:li:scraper:('[Data Scientist][United States][377]', 'Processed')\n"
     ]
    },
    {
     "name": "stdout",
     "output_type": "stream",
     "text": [
      "[ON_DATA] Data Scientist I Sovrn Holdings, Inc. 2021-01-21 https://www.linkedin.com/jobs/view/data-scientist-i-at-sovrn-holdings-inc-2410399125?refId=fdee15aa-89e5-4bf1-a3f4-1fa41908614f&trackingId=yYqkWJTIOERymZ5xSyNoUg%3D%3D&position=19&pageNum=15&trk=public_jobs_job-result-card_result-card_full-click Data Scientist, Prod\n"
     ]
    },
    {
     "name": "stderr",
     "output_type": "stream",
     "text": [
      "INFO:li:scraper:('[Data Scientist][United States][378]', 'Processed')\n"
     ]
    },
    {
     "name": "stdout",
     "output_type": "stream",
     "text": [
      "[ON_DATA] Data Scientist 6sense 2021-02-11 https://www.linkedin.com/jobs/view/data-scientist-at-6sense-2364182141?refId=fdee15aa-89e5-4bf1-a3f4-1fa41908614f&trackingId=Ig6OmfJPjbL9ku5V08G%2BtQ%3D%3D&position=20&pageNum=15&trk=public_jobs_job-result-card_result-card_full-click About The Team\n",
      "\n",
      "The \n"
     ]
    },
    {
     "name": "stderr",
     "output_type": "stream",
     "text": [
      "INFO:li:scraper:('[Data Scientist][United States][379]', 'Processed')\n"
     ]
    },
    {
     "name": "stdout",
     "output_type": "stream",
     "text": [
      "[ON_DATA] Jr. Data Scientist Reflex Media Inc 2021-01-06 https://www.linkedin.com/jobs/view/jr-data-scientist-at-reflex-media-inc-2370094746?refId=fdee15aa-89e5-4bf1-a3f4-1fa41908614f&trackingId=pp2ID0r4Lw0otOutGF4a9w%3D%3D&position=21&pageNum=15&trk=public_jobs_job-result-card_result-card_full-click Role: Data Scientist\n"
     ]
    },
    {
     "name": "stderr",
     "output_type": "stream",
     "text": [
      "INFO:li:scraper:('[Data Scientist][United States][380]', 'Processed')\n"
     ]
    },
    {
     "name": "stdout",
     "output_type": "stream",
     "text": [
      "[ON_DATA] Data Scientist - Clinical Analytics - Evernorth Cigna 2021-01-26 https://www.linkedin.com/jobs/view/data-scientist-clinical-analytics-evernorth-at-cigna-2397493811?refId=fdee15aa-89e5-4bf1-a3f4-1fa41908614f&trackingId=LAQfwtG%2B8BfYYZgiiwh6Uw%3D%3D&position=22&pageNum=15&trk=public_jobs_job-result-card_result-card_full-click Who We Are\n",
      "\n",
      "Reflex M\n"
     ]
    },
    {
     "name": "stderr",
     "output_type": "stream",
     "text": [
      "INFO:li:scraper:('[Data Scientist][United States][381]', 'Processed')\n"
     ]
    },
    {
     "name": "stdout",
     "output_type": "stream",
     "text": [
      "[ON_DATA] Data Scientist EVTechnologies, a division of VedaPointe. 2021-02-17 https://www.linkedin.com/jobs/view/data-scientist-at-evtechnologies-a-division-of-vedapointe-2427658529?refId=fdee15aa-89e5-4bf1-a3f4-1fa41908614f&trackingId=2HgE5vSleRtMwKf%2BVi7MAA%3D%3D&position=23&pageNum=15&trk=public_jobs_job-result-card_result-card_full-click EV Technologies seek\n"
     ]
    },
    {
     "name": "stderr",
     "output_type": "stream",
     "text": [
      "INFO:li:scraper:('[Data Scientist][United States][382]', 'Processed')\n",
      "INFO:li:scraper:('[Data Scientist][United States][382]', 'Checking for new jobs to load...')\n"
     ]
    },
    {
     "name": "stdout",
     "output_type": "stream",
     "text": [
      "[ON_DATA] Data Scientist, Consumer Activation & Personalization Mars 2021-01-24 https://www.linkedin.com/jobs/view/data-scientist-consumer-activation-personalization-at-mars-2427687459?refId=fdee15aa-89e5-4bf1-a3f4-1fa41908614f&trackingId=KlLiw3H2CbY3IwalWVaCZA%3D%3D&position=24&pageNum=15&trk=public_jobs_job-result-card_result-card_full-click EV Technologies seek\n"
     ]
    },
    {
     "name": "stderr",
     "output_type": "stream",
     "text": [
      "INFO:li:scraper:('[Data Scientist][United States][382]', \"Couldn't find more jobs for the running query\")\n"
     ]
    },
    {
     "name": "stdout",
     "output_type": "stream",
     "text": [
      "[ON_END]\n",
      "Wall time: 55min 43s\n"
     ]
    }
   ],
   "source": [
    "%%time\n",
    "title = 'Data Scientist'\n",
    "scrap2df(scrap_speed = 7, job_title = title, n_records= 1000).to_csv(title+'.csv',index=False)"
   ]
  }
 ],
 "metadata": {
  "kernelspec": {
   "display_name": "Python 3",
   "language": "python",
   "name": "python3"
  },
  "language_info": {
   "codemirror_mode": {
    "name": "ipython",
    "version": 3
   },
   "file_extension": ".py",
   "mimetype": "text/x-python",
   "name": "python",
   "nbconvert_exporter": "python",
   "pygments_lexer": "ipython3",
   "version": "3.8.5"
  }
 },
 "nbformat": 4,
 "nbformat_minor": 4
}
