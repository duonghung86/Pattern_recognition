{
 "cells": [
  {
   "cell_type": "code",
   "execution_count": 1,
   "metadata": {},
   "outputs": [
    {
     "name": "stderr",
     "output_type": "stream",
     "text": [
      "[nltk_data] Downloading package punkt to\n",
      "[nltk_data]     C:\\Users\\duong\\AppData\\Roaming\\nltk_data...\n",
      "[nltk_data]   Package punkt is already up-to-date!\n"
     ]
    },
    {
     "data": {
      "text/plain": [
       "True"
      ]
     },
     "execution_count": 1,
     "metadata": {},
     "output_type": "execute_result"
    }
   ],
   "source": [
    "import pandas as pd\n",
    "import nltk\n",
    "nltk.download('punkt')"
   ]
  },
  {
   "cell_type": "code",
   "execution_count": 2,
   "metadata": {},
   "outputs": [
    {
     "name": "stdout",
     "output_type": "stream",
     "text": [
      "<class 'pandas.core.frame.DataFrame'>\n",
      "RangeIndex: 977 entries, 0 to 976\n",
      "Data columns (total 11 columns):\n",
      " #   Column           Non-Null Count  Dtype \n",
      "---  ------           --------------  ----- \n",
      " 0   title            977 non-null    object\n",
      " 1   place            977 non-null    object\n",
      " 2   company          977 non-null    object\n",
      " 3   posting_date     977 non-null    object\n",
      " 4   link             977 non-null    object\n",
      " 5   job_description  977 non-null    object\n",
      " 6   jd_html          977 non-null    object\n",
      " 7   seniority_level  977 non-null    object\n",
      " 8   job_function     977 non-null    object\n",
      " 9   employment_type  977 non-null    object\n",
      " 10  industries       977 non-null    object\n",
      "dtypes: object(11)\n",
      "memory usage: 84.1+ KB\n"
     ]
    },
    {
     "data": {
      "text/html": [
       "<div>\n",
       "<style scoped>\n",
       "    .dataframe tbody tr th:only-of-type {\n",
       "        vertical-align: middle;\n",
       "    }\n",
       "\n",
       "    .dataframe tbody tr th {\n",
       "        vertical-align: top;\n",
       "    }\n",
       "\n",
       "    .dataframe thead th {\n",
       "        text-align: right;\n",
       "    }\n",
       "</style>\n",
       "<table border=\"1\" class=\"dataframe\">\n",
       "  <thead>\n",
       "    <tr style=\"text-align: right;\">\n",
       "      <th></th>\n",
       "      <th>title</th>\n",
       "      <th>place</th>\n",
       "      <th>company</th>\n",
       "      <th>posting_date</th>\n",
       "      <th>link</th>\n",
       "      <th>job_description</th>\n",
       "      <th>jd_html</th>\n",
       "      <th>seniority_level</th>\n",
       "      <th>job_function</th>\n",
       "      <th>employment_type</th>\n",
       "      <th>industries</th>\n",
       "    </tr>\n",
       "  </thead>\n",
       "  <tbody>\n",
       "    <tr>\n",
       "      <th>0</th>\n",
       "      <td>Machine Learning &amp; Data Engineer</td>\n",
       "      <td>Plano, TX</td>\n",
       "      <td>JPMorgan Chase &amp; Co.</td>\n",
       "      <td>2021-02-22</td>\n",
       "      <td>https://www.linkedin.com/jobs/view/machine-lea...</td>\n",
       "      <td>Corporate Banking Technology is hiring a multi...</td>\n",
       "      <td>&lt;div class=\"description__text description__tex...</td>\n",
       "      <td>Entry level</td>\n",
       "      <td>Engineering, Information Technology</td>\n",
       "      <td>Full-time</td>\n",
       "      <td>Banking</td>\n",
       "    </tr>\n",
       "    <tr>\n",
       "      <th>1</th>\n",
       "      <td>Machine Learning Engineer — Computer Vision</td>\n",
       "      <td>Richardson, TX</td>\n",
       "      <td>Honeywell</td>\n",
       "      <td>2020-12-21</td>\n",
       "      <td>https://www.linkedin.com/jobs/view/machine-lea...</td>\n",
       "      <td>Corporate Banking Technology is hiring a multi...</td>\n",
       "      <td>&lt;div class=\"description__text description__tex...</td>\n",
       "      <td>Entry level</td>\n",
       "      <td>Engineering, Information Technology</td>\n",
       "      <td>Full-time</td>\n",
       "      <td>Banking</td>\n",
       "    </tr>\n",
       "    <tr>\n",
       "      <th>2</th>\n",
       "      <td>Software and Machine Learning Engineer</td>\n",
       "      <td>Cambridge, MA</td>\n",
       "      <td>Massachusetts Institute of Technology</td>\n",
       "      <td>2021-01-08</td>\n",
       "      <td>https://www.linkedin.com/jobs/view/software-an...</td>\n",
       "      <td>Join a team recognized for leadership, innovat...</td>\n",
       "      <td>&lt;div class=\"description__text description__tex...</td>\n",
       "      <td>Entry level</td>\n",
       "      <td>Engineering, Information Technology</td>\n",
       "      <td>Full-time</td>\n",
       "      <td>Staffing and Recruiting, Human Resources, Acco...</td>\n",
       "    </tr>\n",
       "    <tr>\n",
       "      <th>3</th>\n",
       "      <td>Machine Learning Engineer</td>\n",
       "      <td>Greater Syracuse-Auburn Area</td>\n",
       "      <td>Oracle</td>\n",
       "      <td>2021-01-21</td>\n",
       "      <td>https://www.linkedin.com/jobs/view/machine-lea...</td>\n",
       "      <td>\\nWorking at MIT offers opportunities, an envi...</td>\n",
       "      <td>&lt;div class=\"description__text description__tex...</td>\n",
       "      <td>Entry level</td>\n",
       "      <td>Engineering, Information Technology</td>\n",
       "      <td>Full-time</td>\n",
       "      <td>Nonprofit Organization Management, Internet, I...</td>\n",
       "    </tr>\n",
       "    <tr>\n",
       "      <th>4</th>\n",
       "      <td>Machine Learning Engineer</td>\n",
       "      <td>Hillsboro, OR</td>\n",
       "      <td>Intel Corporation</td>\n",
       "      <td>2020-10-15</td>\n",
       "      <td>https://www.linkedin.com/jobs/view/machine-lea...</td>\n",
       "      <td>Design, develop, troubleshoot and debug softwa...</td>\n",
       "      <td>&lt;div class=\"description__text description__tex...</td>\n",
       "      <td>Entry level</td>\n",
       "      <td>Engineering, Information Technology</td>\n",
       "      <td>Full-time</td>\n",
       "      <td>Information Technology and Services, Internet,...</td>\n",
       "    </tr>\n",
       "  </tbody>\n",
       "</table>\n",
       "</div>"
      ],
      "text/plain": [
       "                                         title                         place  \\\n",
       "0             Machine Learning & Data Engineer                     Plano, TX   \n",
       "1  Machine Learning Engineer — Computer Vision                Richardson, TX   \n",
       "2       Software and Machine Learning Engineer                 Cambridge, MA   \n",
       "3                    Machine Learning Engineer  Greater Syracuse-Auburn Area   \n",
       "4                    Machine Learning Engineer                 Hillsboro, OR   \n",
       "\n",
       "                                 company posting_date  \\\n",
       "0                   JPMorgan Chase & Co.   2021-02-22   \n",
       "1                              Honeywell   2020-12-21   \n",
       "2  Massachusetts Institute of Technology   2021-01-08   \n",
       "3                                 Oracle   2021-01-21   \n",
       "4                      Intel Corporation   2020-10-15   \n",
       "\n",
       "                                                link  \\\n",
       "0  https://www.linkedin.com/jobs/view/machine-lea...   \n",
       "1  https://www.linkedin.com/jobs/view/machine-lea...   \n",
       "2  https://www.linkedin.com/jobs/view/software-an...   \n",
       "3  https://www.linkedin.com/jobs/view/machine-lea...   \n",
       "4  https://www.linkedin.com/jobs/view/machine-lea...   \n",
       "\n",
       "                                     job_description  \\\n",
       "0  Corporate Banking Technology is hiring a multi...   \n",
       "1  Corporate Banking Technology is hiring a multi...   \n",
       "2  Join a team recognized for leadership, innovat...   \n",
       "3  \\nWorking at MIT offers opportunities, an envi...   \n",
       "4  Design, develop, troubleshoot and debug softwa...   \n",
       "\n",
       "                                             jd_html seniority_level  \\\n",
       "0  <div class=\"description__text description__tex...     Entry level   \n",
       "1  <div class=\"description__text description__tex...     Entry level   \n",
       "2  <div class=\"description__text description__tex...     Entry level   \n",
       "3  <div class=\"description__text description__tex...     Entry level   \n",
       "4  <div class=\"description__text description__tex...     Entry level   \n",
       "\n",
       "                          job_function employment_type  \\\n",
       "0  Engineering, Information Technology       Full-time   \n",
       "1  Engineering, Information Technology       Full-time   \n",
       "2  Engineering, Information Technology       Full-time   \n",
       "3  Engineering, Information Technology       Full-time   \n",
       "4  Engineering, Information Technology       Full-time   \n",
       "\n",
       "                                          industries  \n",
       "0                                            Banking  \n",
       "1                                            Banking  \n",
       "2  Staffing and Recruiting, Human Resources, Acco...  \n",
       "3  Nonprofit Organization Management, Internet, I...  \n",
       "4  Information Technology and Services, Internet,...  "
      ]
     },
     "execution_count": 2,
     "metadata": {},
     "output_type": "execute_result"
    }
   ],
   "source": [
    "df = pd.read_csv('Machine learning Engineer.csv')\n",
    "df.info()\n",
    "df.head()"
   ]
  },
  {
   "cell_type": "code",
   "execution_count": 5,
   "metadata": {},
   "outputs": [
    {
     "data": {
      "text/plain": [
       "186"
      ]
     },
     "execution_count": 5,
     "metadata": {},
     "output_type": "execute_result"
    }
   ],
   "source": [
    "df.job_description.duplicated().sum()"
   ]
  },
  {
   "cell_type": "code",
   "execution_count": 7,
   "metadata": {},
   "outputs": [
    {
     "data": {
      "text/plain": [
       "['Eighty', 'seven', 'miles', 'to', 'go', 'yet', 'Onward']"
      ]
     },
     "execution_count": 7,
     "metadata": {},
     "output_type": "execute_result"
    }
   ],
   "source": [
    "from nltk.tokenize import RegexpTokenizer\n",
    "\n",
    "tokenizer = RegexpTokenizer(r'\\w+')\n",
    "tokenizer.tokenize('Eighty-seven miles to go, yet.  Onward!')"
   ]
  },
  {
   "cell_type": "code",
   "execution_count": 8,
   "metadata": {},
   "outputs": [
    {
     "data": {
      "text/plain": [
       "0      [As, a, Data, Scientist, you, will, be, workin...\n",
       "1      [Job, Summary, Applies, data, analysis, tools,...\n",
       "2      [If, you, have, an, autism, diagnosis, and, ar...\n",
       "3      [Childhood, Cancer, Data, Lab, Overview, Alex,...\n",
       "4      [ECS, is, seeking, a, Data, Scientist, to, wor...\n",
       "                             ...                        \n",
       "715    [We, are, looking, for, someone, with, strong,...\n",
       "716    [Friday, May, 1, 2020, Job, Type, Post, Doc, J...\n",
       "717    [Title, Molecular, Data, Scientist, Supporting...\n",
       "718    [Summary, Posted, Feb, 24, 2021, Weekly, Hours...\n",
       "719    [PRINCIPAL, DATA, SCIENTIST, Michigan, or, Chi...\n",
       "Name: description, Length: 720, dtype: object"
      ]
     },
     "execution_count": 8,
     "metadata": {},
     "output_type": "execute_result"
    }
   ],
   "source": [
    "# word tokenize\n",
    "df['description'] = df.description.apply(tokenizer.tokenize)\n",
    "df.description"
   ]
  },
  {
   "cell_type": "code",
   "execution_count": 9,
   "metadata": {},
   "outputs": [
    {
     "name": "stderr",
     "output_type": "stream",
     "text": [
      "[nltk_data] Downloading package stopwords to\n",
      "[nltk_data]     C:\\Users\\duong\\AppData\\Roaming\\nltk_data...\n",
      "[nltk_data]   Package stopwords is already up-to-date!\n"
     ]
    },
    {
     "data": {
      "text/plain": [
       "True"
      ]
     },
     "execution_count": 9,
     "metadata": {},
     "output_type": "execute_result"
    }
   ],
   "source": [
    "# remove stopwords\n",
    "from nltk.corpus import stopwords\n",
    "nltk.download('stopwords')"
   ]
  },
  {
   "cell_type": "code",
   "execution_count": 10,
   "metadata": {},
   "outputs": [
    {
     "data": {
      "text/plain": [
       "['i', 'me']"
      ]
     },
     "execution_count": 10,
     "metadata": {},
     "output_type": "execute_result"
    }
   ],
   "source": [
    "all_stopwords = stopwords.words('english')\n",
    "all_stopwords[:2]"
   ]
  },
  {
   "cell_type": "code",
   "execution_count": 11,
   "metadata": {},
   "outputs": [
    {
     "data": {
      "text/plain": [
       "0      [As, Data, Scientist, working, consulting, sid...\n",
       "1      [Job, Summary, Applies, data, analysis, tools,...\n",
       "2      [If, autism, diagnosis, looking, career, tech,...\n",
       "3      [Childhood, Cancer, Data, Lab, Overview, Alex,...\n",
       "4      [ECS, seeking, Data, Scientist, work, Memphis,...\n",
       "                             ...                        \n",
       "715    [We, looking, someone, strong, skills, data, a...\n",
       "716    [Friday, May, 1, 2020, Job, Type, Post, Doc, J...\n",
       "717    [Title, Molecular, Data, Scientist, Supporting...\n",
       "718    [Summary, Posted, Feb, 24, 2021, Weekly, Hours...\n",
       "719    [PRINCIPAL, DATA, SCIENTIST, Michigan, Chicago...\n",
       "Name: description, Length: 720, dtype: object"
      ]
     },
     "execution_count": 11,
     "metadata": {},
     "output_type": "execute_result"
    }
   ],
   "source": [
    "df['description'] = df.description.apply(lambda text: [w for w in text if w not in all_stopwords])\n",
    "df.description"
   ]
  },
  {
   "cell_type": "code",
   "execution_count": 13,
   "metadata": {},
   "outputs": [
    {
     "name": "stdout",
     "output_type": "stream",
     "text": [
      "['As', 'Data', 'Scientist', 'working', 'consulting', 'side', 'business', 'You', 'responsible', 'analyzing', 'large', 'complex', 'datasets', 'identify', 'meaningful', 'patterns', 'lead', 'actionable', 'recommendations', 'You']\n",
      "['As', 'data', 'scientist', 'work', 'consult', 'side', 'busi', 'you', 'respons', 'analyz', 'larg', 'complex', 'dataset', 'identifi', 'meaning', 'pattern', 'lead', 'action', 'recommend', 'you']\n",
      "['As', 'Data', 'Scientist', 'working', 'consulting', 'side', 'business', 'You', 'responsible', 'analyzing', 'large', 'complex', 'datasets', 'identify', 'meaningful', 'pattern', 'lead', 'actionable', 'recommendation', 'You']\n"
     ]
    }
   ],
   "source": [
    "porter = nltk.PorterStemmer()\n",
    "print(df.description[0][:20])\n",
    "print([porter.stem(t) for t in df.description[0][:20]])\n",
    "wnl = nltk.WordNetLemmatizer()\n",
    "print([wnl.lemmatize(t) for t in df.description[0][:20]])"
   ]
  },
  {
   "cell_type": "code",
   "execution_count": 14,
   "metadata": {},
   "outputs": [
    {
     "data": {
      "text/plain": [
       "0      [As, Data, Scientist, working, consulting, sid...\n",
       "1      [Job, Summary, Applies, data, analysis, tool, ...\n",
       "2      [If, autism, diagnosis, looking, career, tech,...\n",
       "3      [Childhood, Cancer, Data, Lab, Overview, Alex,...\n",
       "4      [ECS, seeking, Data, Scientist, work, Memphis,...\n",
       "                             ...                        \n",
       "715    [We, looking, someone, strong, skill, data, an...\n",
       "716    [Friday, May, 1, 2020, Job, Type, Post, Doc, J...\n",
       "717    [Title, Molecular, Data, Scientist, Supporting...\n",
       "718    [Summary, Posted, Feb, 24, 2021, Weekly, Hours...\n",
       "719    [PRINCIPAL, DATA, SCIENTIST, Michigan, Chicago...\n",
       "Name: description, Length: 720, dtype: object"
      ]
     },
     "execution_count": 14,
     "metadata": {},
     "output_type": "execute_result"
    }
   ],
   "source": [
    "df['description'] = df.description.apply(lambda text: [wnl.lemmatize(t) for t in text])\n",
    "df.description"
   ]
  },
  {
   "cell_type": "code",
   "execution_count": 15,
   "metadata": {},
   "outputs": [],
   "source": [
    "from nltk.util import ngrams\n",
    "from collections import Counter\n"
   ]
  },
  {
   "cell_type": "code",
   "execution_count": 16,
   "metadata": {},
   "outputs": [
    {
     "name": "stdout",
     "output_type": "stream",
     "text": [
      "81\n"
     ]
    },
    {
     "data": {
      "text/plain": [
       "277591"
      ]
     },
     "execution_count": 16,
     "metadata": {},
     "output_type": "execute_result"
    }
   ],
   "source": [
    "print(len(df.description[0]))\n",
    "len(df.description.sum())"
   ]
  },
  {
   "cell_type": "code",
   "execution_count": 17,
   "metadata": {},
   "outputs": [
    {
     "data": {
      "text/plain": [
       "FreqDist({'data': 6230, 'experience': 2238, 'team': 2191, 'business': 2124, 'Data': 1685, 'We': 1589, 'work': 1566, 'analysis': 1507, 'model': 1479, 'Experience': 1465, ...})"
      ]
     },
     "execution_count": 17,
     "metadata": {},
     "output_type": "execute_result"
    }
   ],
   "source": [
    "#Create your bigrams\n",
    "#ugs = nltk.unigrams(df.job_description.sum())\n",
    "\n",
    "#compute frequency distribution for all the bigrams in the text\n",
    "fdist = nltk.FreqDist(df.description.sum())\n",
    "fdist"
   ]
  },
  {
   "cell_type": "code",
   "execution_count": 18,
   "metadata": {},
   "outputs": [
    {
     "data": {
      "text/plain": [
       "[('data', 6230),\n",
       " ('experience', 2238),\n",
       " ('team', 2191),\n",
       " ('business', 2124),\n",
       " ('Data', 1685),\n",
       " ('We', 1589),\n",
       " ('work', 1566),\n",
       " ('analysis', 1507),\n",
       " ('model', 1479),\n",
       " ('Experience', 1465),\n",
       " ('learning', 1427),\n",
       " ('product', 1225),\n",
       " ('skill', 1170),\n",
       " ('The', 1148),\n",
       " ('science', 1116),\n",
       " ('machine', 1067),\n",
       " ('year', 1045),\n",
       " ('solution', 1010),\n",
       " ('You', 990),\n",
       " ('analytics', 973),\n",
       " ('statistical', 907),\n",
       " ('problem', 894),\n",
       " ('opportunity', 879),\n",
       " ('customer', 843),\n",
       " ('project', 827),\n",
       " ('new', 820),\n",
       " ('including', 806),\n",
       " ('tool', 797),\n",
       " ('using', 785),\n",
       " ('working', 773),\n",
       " ('development', 743),\n",
       " ('Scientist', 721),\n",
       " ('Python', 719),\n",
       " ('technology', 718),\n",
       " ('technical', 716),\n",
       " ('insight', 713),\n",
       " ('Science', 711),\n",
       " ('information', 698),\n",
       " ('technique', 688),\n",
       " ('process', 668),\n",
       " ('company', 666),\n",
       " ('support', 660),\n",
       " ('status', 641),\n",
       " ('related', 633),\n",
       " ('environment', 631),\n",
       " ('research', 625),\n",
       " ('help', 621),\n",
       " ('world', 592),\n",
       " ('field', 588),\n",
       " ('role', 586),\n",
       " ('R', 582),\n",
       " ('ability', 580),\n",
       " ('people', 580),\n",
       " ('across', 578),\n",
       " ('time', 575),\n",
       " ('algorithm', 570),\n",
       " ('modeling', 565),\n",
       " ('degree', 565),\n",
       " ('decision', 561),\n",
       " ('service', 556),\n",
       " ('large', 552),\n",
       " ('complex', 548),\n",
       " ('SQL', 547),\n",
       " ('based', 538),\n",
       " ('knowledge', 528),\n",
       " ('system', 527),\n",
       " ('application', 522),\n",
       " ('This', 515),\n",
       " ('analytical', 515),\n",
       " ('need', 515),\n",
       " ('position', 512),\n",
       " ('employee', 511),\n",
       " ('build', 503),\n",
       " ('develop', 495),\n",
       " ('design', 477),\n",
       " ('disability', 477),\n",
       " ('client', 476),\n",
       " ('method', 466),\n",
       " ('software', 466),\n",
       " ('result', 463),\n",
       " ('gender', 462),\n",
       " ('management', 461),\n",
       " ('Our', 455),\n",
       " ('predictive', 449),\n",
       " ('language', 449),\n",
       " ('Ability', 446),\n",
       " ('etc', 444),\n",
       " ('set', 439),\n",
       " ('Strong', 439),\n",
       " ('use', 439),\n",
       " ('make', 437),\n",
       " ('industry', 436),\n",
       " ('advanced', 429),\n",
       " ('communication', 426),\n",
       " ('building', 421),\n",
       " ('u', 421),\n",
       " ('required', 415),\n",
       " ('organization', 412),\n",
       " ('Qualifications', 411),\n",
       " ('drive', 411)]"
      ]
     },
     "execution_count": 18,
     "metadata": {},
     "output_type": "execute_result"
    }
   ],
   "source": [
    "sorted(fdist.items(), key=lambda item: item[1],reverse=True)[:100]"
   ]
  },
  {
   "cell_type": "code",
   "execution_count": 19,
   "metadata": {},
   "outputs": [
    {
     "data": {
      "text/plain": [
       "[(('machine', 'learning'), 1023),\n",
       " (('data', 'science'), 782),\n",
       " (('Data', 'Scientist'), 683),\n",
       " (('year', 'experience'), 419),\n",
       " (('Data', 'Science'), 351),\n",
       " (('e', 'g'), 333),\n",
       " (('data', 'analysis'), 327),\n",
       " (('sexual', 'orientation'), 302),\n",
       " (('data', 'set'), 290),\n",
       " (('national', 'origin'), 290),\n",
       " (('Computer', 'Science'), 287),\n",
       " (('data', 'scientist'), 286),\n",
       " (('gender', 'identity'), 263),\n",
       " (('communication', 'skill'), 246),\n",
       " (('veteran', 'status'), 243),\n",
       " (('3', 'year'), 207),\n",
       " (('related', 'field'), 202),\n",
       " (('race', 'color'), 194),\n",
       " (('Machine', 'Learning'), 194),\n",
       " (('equal', 'opportunity'), 190),\n",
       " (('without', 'regard'), 187),\n",
       " (('orientation', 'gender'), 187),\n",
       " (('Python', 'R'), 186),\n",
       " (('data', 'mining'), 180),\n",
       " (('business', 'problem'), 180),\n",
       " (('2', 'year'), 180),\n",
       " (('data', 'visualization'), 179),\n",
       " (('data', 'source'), 179),\n",
       " (('data', 'driven'), 179),\n",
       " (('We', 'looking'), 170),\n",
       " (('decision', 'making'), 165),\n",
       " (('team', 'member'), 164),\n",
       " (('color', 'religion'), 161),\n",
       " (('R', 'Python'), 159),\n",
       " (('data', 'analytics'), 158),\n",
       " (('learning', 'model'), 158),\n",
       " (('big', 'data'), 156),\n",
       " (('deep', 'learning'), 153),\n",
       " (('regard', 'race'), 153),\n",
       " (('cross', 'functional'), 152),\n",
       " (('5', 'year'), 151),\n",
       " (('statistical', 'analysis'), 148),\n",
       " (('computer', 'science'), 148),\n",
       " (('qualified', 'applicant'), 146),\n",
       " (('problem', 'solving'), 145),\n",
       " (('Equal', 'Opportunity'), 145),\n",
       " (('opportunity', 'employer'), 144),\n",
       " (('Experience', 'working'), 142),\n",
       " (('The', 'Data'), 140),\n",
       " (('programming', 'language'), 136),\n",
       " (('predictive', 'model'), 129),\n",
       " (('Master', 'degree'), 129),\n",
       " (('U', 'S'), 128),\n",
       " (('Bachelor', 'degree'), 125),\n",
       " (('large', 'data'), 125),\n",
       " (('This', 'position'), 123),\n",
       " (('best', 'practice'), 122),\n",
       " (('protected', 'veteran'), 116),\n",
       " (('non', 'technical'), 116),\n",
       " (('marital', 'status'), 115),\n",
       " (('quantitative', 'field'), 113),\n",
       " (('employment', 'without'), 111),\n",
       " (('predictive', 'modeling'), 108),\n",
       " (('learning', 'technique'), 108),\n",
       " (('experience', 'data'), 108),\n",
       " (('Opportunity', 'Employer'), 106),\n",
       " (('learning', 'algorithm'), 105),\n",
       " (('functional', 'team'), 105),\n",
       " (('skill', 'ability'), 105),\n",
       " (('fast', 'paced'), 104),\n",
       " (('United', 'States'), 103),\n",
       " (('religion', 'sex'), 103),\n",
       " (('unstructured', 'data'), 100),\n",
       " (('work', 'experience'), 100),\n",
       " (('large', 'scale'), 98),\n",
       " (('receive', 'consideration'), 98),\n",
       " (('structured', 'unstructured'), 97),\n",
       " (('genetic', 'information'), 97),\n",
       " (('predictive', 'analytics'), 96),\n",
       " (('internal', 'external'), 95),\n",
       " (('real', 'world'), 93),\n",
       " (('experience', 'working'), 91),\n",
       " (('advanced', 'analytics'), 90),\n",
       " (('consideration', 'employment'), 89),\n",
       " (('reasonable', 'accommodation'), 89),\n",
       " (('applicant', 'receive'), 87),\n",
       " (('around', 'world'), 86),\n",
       " (('This', 'role'), 86),\n",
       " (('identity', 'expression'), 85),\n",
       " (('individual', 'disability'), 84),\n",
       " (('Job', 'Description'), 83),\n",
       " (('cutting', 'edge'), 82),\n",
       " (('Preferred', 'Qualifications'), 81),\n",
       " (('artificial', 'intelligence'), 79),\n",
       " (('written', 'verbal'), 79),\n",
       " (('actionable', 'insight'), 79),\n",
       " (('In', 'role'), 78),\n",
       " (('time', 'series'), 78),\n",
       " (('visualization', 'tool'), 78),\n",
       " (('using', 'data'), 78)]"
      ]
     },
     "execution_count": 19,
     "metadata": {},
     "output_type": "execute_result"
    }
   ],
   "source": [
    "#Create your bigrams\n",
    "bgs = nltk.bigrams(df.description.sum())\n",
    "\n",
    "#compute frequency distribution for all the bigrams in the text\n",
    "fdist = nltk.FreqDist(bgs)\n",
    "sorted(fdist.items(), key=lambda item: item[1],reverse=True)[:100]"
   ]
  },
  {
   "cell_type": "code",
   "execution_count": 20,
   "metadata": {},
   "outputs": [
    {
     "data": {
      "text/plain": [
       "[(('sexual', 'orientation', 'gender'), 187),\n",
       " (('orientation', 'gender', 'identity'), 169),\n",
       " (('without', 'regard', 'race'), 153),\n",
       " (('race', 'color', 'religion'), 152),\n",
       " (('equal', 'opportunity', 'employer'), 141),\n",
       " (('regard', 'race', 'color'), 129),\n",
       " (('machine', 'learning', 'model'), 128),\n",
       " (('The', 'Data', 'Scientist'), 111),\n",
       " (('employment', 'without', 'regard'), 108),\n",
       " (('large', 'data', 'set'), 106),\n",
       " (('machine', 'learning', 'technique'), 102),\n",
       " (('Equal', 'Opportunity', 'Employer'), 102),\n",
       " (('protected', 'veteran', 'status'), 101),\n",
       " (('3', 'year', 'experience'), 96),\n",
       " (('machine', 'learning', 'algorithm'), 92),\n",
       " (('2', 'year', 'experience'), 90),\n",
       " (('receive', 'consideration', 'employment'), 86),\n",
       " (('applicant', 'receive', 'consideration'), 85),\n",
       " (('consideration', 'employment', 'without'), 85),\n",
       " (('gender', 'identity', 'expression'), 83),\n",
       " (('qualified', 'applicant', 'receive'), 79),\n",
       " (('structured', 'unstructured', 'data'), 77),\n",
       " (('sex', 'sexual', 'orientation'), 76),\n",
       " (('cross', 'functional', 'team'), 76),\n",
       " (('problem', 'solving', 'skill'), 75),\n",
       " (('color', 'religion', 'sex'), 75),\n",
       " (('All', 'qualified', 'applicant'), 70),\n",
       " (('5', 'year', 'experience'), 66),\n",
       " (('Data', 'Scientist', 'join'), 63),\n",
       " (('As', 'Data', 'Scientist'), 61),\n",
       " (('non', 'technical', 'audience'), 60),\n",
       " (('state', 'local', 'law'), 58),\n",
       " (('Data', 'Science', 'team'), 58),\n",
       " (('color', 'national', 'origin'), 58),\n",
       " (('The', 'ideal', 'candidate'), 56),\n",
       " (('natural', 'language', 'processing'), 55),\n",
       " (('Senior', 'Data', 'Scientist'), 54),\n",
       " (('federal', 'state', 'local'), 53),\n",
       " (('written', 'verbal', 'communication'), 53),\n",
       " (('statistical', 'machine', 'learning'), 53),\n",
       " (('race', 'religion', 'color'), 53),\n",
       " (('status', 'protected', 'veteran'), 50),\n",
       " (('technical', 'non', 'technical'), 50),\n",
       " (('verbal', 'communication', 'skill'), 49),\n",
       " (('communication', 'skill', 'ability'), 49),\n",
       " (('written', 'communication', 'skill'), 48),\n",
       " (('disability', 'veteran', 'status'), 48),\n",
       " (('looking', 'Data', 'Scientist'), 48),\n",
       " (('data', 'visualization', 'tool'), 48),\n",
       " (('gender', 'identity', 'gender'), 47),\n",
       " (('identity', 'gender', 'expression'), 47),\n",
       " (('equal', 'employment', 'opportunity'), 46),\n",
       " (('science', 'machine', 'learning'), 45),\n",
       " (('religion', 'color', 'national'), 44),\n",
       " (('fast', 'paced', 'environment'), 44),\n",
       " (('data', 'driven', 'decision'), 44),\n",
       " (('national', 'origin', 'disability'), 42),\n",
       " (('experience', 'data', 'science'), 42),\n",
       " (('gender', 'gender', 'identity'), 42),\n",
       " (('Computer', 'Science', 'related'), 42),\n",
       " (('year', 'experience', 'data'), 42),\n",
       " (('Computer', 'Science', 'Engineering'), 41),\n",
       " (('machine', 'learning', 'deep'), 41),\n",
       " (('learning', 'deep', 'learning'), 41),\n",
       " (('data', 'science', 'team'), 41),\n",
       " (('religion', 'sex', 'sexual'), 41),\n",
       " (('gender', 'sexual', 'orientation'), 41),\n",
       " (('national', 'origin', 'gender'), 41),\n",
       " (('sex', 'national', 'origin'), 40),\n",
       " (('data', 'science', 'project'), 40),\n",
       " (('religion', 'national', 'origin'), 40),\n",
       " (('machine', 'learning', 'data'), 39),\n",
       " (('Science', 'related', 'field'), 39),\n",
       " (('physical', 'mental', 'disability'), 39),\n",
       " (('characteristic', 'protected', 'law'), 39),\n",
       " (('degree', 'Computer', 'Science'), 39),\n",
       " (('national', 'origin', 'age'), 39),\n",
       " (('data', 'science', 'machine'), 38),\n",
       " (('gender', 'identity', 'national'), 38),\n",
       " (('subject', 'matter', 'expert'), 38),\n",
       " (('veteran', 'status', 'disability'), 38),\n",
       " (('The', 'successful', 'candidate'), 38),\n",
       " (('identity', 'national', 'origin'), 37),\n",
       " (('1', 'year', 'experience'), 37),\n",
       " (('data', 'science', 'method'), 37),\n",
       " (('Equal', 'Employment', 'Opportunity'), 36),\n",
       " (('Statistics', 'Computer', 'Science'), 35),\n",
       " (('We', 'looking', 'Data'), 35),\n",
       " (('color', 'religion', 'national'), 35),\n",
       " (('religion', 'sex', 'national'), 34),\n",
       " (('A', 'B', 'testing'), 34),\n",
       " (('4', 'year', 'experience'), 34),\n",
       " (('Opportunity', 'Affirmative', 'Action'), 34),\n",
       " (('status', 'sexual', 'orientation'), 33),\n",
       " (('employer', 'All', 'qualified'), 33),\n",
       " (('statistic', 'machine', 'learning'), 33),\n",
       " (('language', 'e', 'g'), 33),\n",
       " (('data', 'science', 'solution'), 32),\n",
       " (('complex', 'business', 'problem'), 32),\n",
       " (('machine', 'learning', 'method'), 32)]"
      ]
     },
     "execution_count": 20,
     "metadata": {},
     "output_type": "execute_result"
    }
   ],
   "source": [
    "tgs=ngrams(df.description.sum(),3)\n",
    "fdist = nltk.FreqDist(tgs)\n",
    "sorted(fdist.items(), key=lambda item: item[1],reverse=True)[:100]"
   ]
  }
 ],
 "metadata": {
  "kernelspec": {
   "display_name": "Python 3",
   "language": "python",
   "name": "python3"
  },
  "language_info": {
   "codemirror_mode": {
    "name": "ipython",
    "version": 3
   },
   "file_extension": ".py",
   "mimetype": "text/x-python",
   "name": "python",
   "nbconvert_exporter": "python",
   "pygments_lexer": "ipython3",
   "version": "3.8.5"
  }
 },
 "nbformat": 4,
 "nbformat_minor": 4
}
