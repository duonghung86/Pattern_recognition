{
 "cells": [
  {
   "cell_type": "code",
   "execution_count": 5,
   "metadata": {},
   "outputs": [],
   "source": [
    "import pandas as pd\n",
    "import re"
   ]
  },
  {
   "cell_type": "code",
   "execution_count": 2,
   "metadata": {},
   "outputs": [
    {
     "name": "stdout",
     "output_type": "stream",
     "text": [
      "<class 'pandas.core.frame.DataFrame'>\n",
      "RangeIndex: 959 entries, 0 to 958\n",
      "Data columns (total 16 columns):\n",
      " #   Column                         Non-Null Count  Dtype \n",
      "---  ------                         --------------  ----- \n",
      " 0   datePosted                     959 non-null    object\n",
      " 1   description                    959 non-null    object\n",
      " 2   employmentType                 959 non-null    object\n",
      " 3   experienceRequirements         959 non-null    object\n",
      " 4   hiringOrganization             959 non-null    object\n",
      " 5   identifier                     959 non-null    object\n",
      " 6   industry                       958 non-null    object\n",
      " 7   jobLocation                    959 non-null    object\n",
      " 8   skills                         5 non-null      object\n",
      " 9   title                          959 non-null    object\n",
      " 10  validThrough                   959 non-null    object\n",
      " 11  jobLocationType                128 non-null    object\n",
      " 12  applicantLocationRequirements  128 non-null    object\n",
      " 13  estimatedSalary                276 non-null    object\n",
      " 14  baseSalary                     28 non-null     object\n",
      " 15  desc_html                      959 non-null    object\n",
      "dtypes: object(16)\n",
      "memory usage: 120.0+ KB\n"
     ]
    },
    {
     "data": {
      "text/html": [
       "<div>\n",
       "<style scoped>\n",
       "    .dataframe tbody tr th:only-of-type {\n",
       "        vertical-align: middle;\n",
       "    }\n",
       "\n",
       "    .dataframe tbody tr th {\n",
       "        vertical-align: top;\n",
       "    }\n",
       "\n",
       "    .dataframe thead th {\n",
       "        text-align: right;\n",
       "    }\n",
       "</style>\n",
       "<table border=\"1\" class=\"dataframe\">\n",
       "  <thead>\n",
       "    <tr style=\"text-align: right;\">\n",
       "      <th></th>\n",
       "      <th>datePosted</th>\n",
       "      <th>description</th>\n",
       "      <th>employmentType</th>\n",
       "      <th>experienceRequirements</th>\n",
       "      <th>hiringOrganization</th>\n",
       "      <th>identifier</th>\n",
       "      <th>industry</th>\n",
       "      <th>jobLocation</th>\n",
       "      <th>skills</th>\n",
       "      <th>title</th>\n",
       "      <th>validThrough</th>\n",
       "      <th>jobLocationType</th>\n",
       "      <th>applicantLocationRequirements</th>\n",
       "      <th>estimatedSalary</th>\n",
       "      <th>baseSalary</th>\n",
       "      <th>desc_html</th>\n",
       "    </tr>\n",
       "  </thead>\n",
       "  <tbody>\n",
       "    <tr>\n",
       "      <th>0</th>\n",
       "      <td>2021-03-23T16:03:21.000Z</td>\n",
       "      <td>Genuent is hiring a Data Scientist/Data Engine...</td>\n",
       "      <td>FULL_TIME</td>\n",
       "      <td>Mid-Senior level</td>\n",
       "      <td>{'@type': 'Organization', 'name': 'Genuent', '...</td>\n",
       "      <td>{'@type': 'PropertyValue', 'name': 'Genuent', ...</td>\n",
       "      <td>Staffing and Recruiting</td>\n",
       "      <td>{'@type': 'Place', 'address': {'@type': 'Posta...</td>\n",
       "      <td>NaN</td>\n",
       "      <td>Data Scientist - REMOTE</td>\n",
       "      <td>2021-04-22T16:03:20.000Z</td>\n",
       "      <td>NaN</td>\n",
       "      <td>NaN</td>\n",
       "      <td>NaN</td>\n",
       "      <td>NaN</td>\n",
       "      <td>&lt;p&gt;Genuent is hiring a Data Scientist/Data Eng...</td>\n",
       "    </tr>\n",
       "    <tr>\n",
       "      <th>1</th>\n",
       "      <td>2021-03-23T17:02:32.000Z</td>\n",
       "      <td>Ayata is developing its Prescriptive Analytics...</td>\n",
       "      <td>FULL_TIME</td>\n",
       "      <td>Entry level</td>\n",
       "      <td>{'@type': 'Organization', 'name': 'Ayata', 'sa...</td>\n",
       "      <td>{'@type': 'PropertyValue', 'name': 'Ayata', 'v...</td>\n",
       "      <td>Information Technology and Services,Computer S...</td>\n",
       "      <td>{'@type': 'Place', 'address': {'@type': 'Posta...</td>\n",
       "      <td>NaN</td>\n",
       "      <td>ML/AI/NLP Data Scientist</td>\n",
       "      <td>2021-04-22T17:02:32.000Z</td>\n",
       "      <td>NaN</td>\n",
       "      <td>NaN</td>\n",
       "      <td>NaN</td>\n",
       "      <td>NaN</td>\n",
       "      <td>Ayata is developing its Prescriptive Analytics...</td>\n",
       "    </tr>\n",
       "    <tr>\n",
       "      <th>2</th>\n",
       "      <td>2021-03-23T14:35:46.000Z</td>\n",
       "      <td>Our team, part of the Customer Success Enginee...</td>\n",
       "      <td>FULL_TIME</td>\n",
       "      <td>Not Applicable</td>\n",
       "      <td>{'@type': 'Organization', 'name': 'Microsoft',...</td>\n",
       "      <td>{'@type': 'PropertyValue', 'name': 'Microsoft'...</td>\n",
       "      <td>Computer Hardware,Computer Software,Informatio...</td>\n",
       "      <td>{'@type': 'Place', 'address': {'@type': 'Posta...</td>\n",
       "      <td>NaN</td>\n",
       "      <td>Data &amp; Applied Scientist</td>\n",
       "      <td>2021-04-22T14:35:45.000Z</td>\n",
       "      <td>NaN</td>\n",
       "      <td>NaN</td>\n",
       "      <td>NaN</td>\n",
       "      <td>NaN</td>\n",
       "      <td>Our team, part of the Customer Success Enginee...</td>\n",
       "    </tr>\n",
       "    <tr>\n",
       "      <th>3</th>\n",
       "      <td>2021-03-22T20:24:23.000Z</td>\n",
       "      <td>Headspace is looking for a Data Scientist to h...</td>\n",
       "      <td>FULL_TIME</td>\n",
       "      <td>Entry level</td>\n",
       "      <td>{'@type': 'Organization', 'name': 'Headspace I...</td>\n",
       "      <td>{'@type': 'PropertyValue', 'name': 'Headspace ...</td>\n",
       "      <td>Marketing and Advertising,Computer Software,In...</td>\n",
       "      <td>{'@type': 'Place', 'address': {'@type': 'Posta...</td>\n",
       "      <td>NaN</td>\n",
       "      <td>Data Scientist (Remote)</td>\n",
       "      <td>2021-04-21T20:24:22.000Z</td>\n",
       "      <td>TELECOMMUTE</td>\n",
       "      <td>{'@type': 'Country', 'name': 'United States'}</td>\n",
       "      <td>NaN</td>\n",
       "      <td>NaN</td>\n",
       "      <td>&lt;em&gt;Headspace is looking for a Data Scientist ...</td>\n",
       "    </tr>\n",
       "    <tr>\n",
       "      <th>4</th>\n",
       "      <td>2021-03-23T09:07:02.000Z</td>\n",
       "      <td>DescriptionThe AWS Applications team builds po...</td>\n",
       "      <td>FULL_TIME</td>\n",
       "      <td>Not Applicable</td>\n",
       "      <td>{'@type': 'Organization', 'name': 'Amazon Web ...</td>\n",
       "      <td>{'@type': 'PropertyValue', 'name': 'Amazon Web...</td>\n",
       "      <td>Computer Software,Information Technology and S...</td>\n",
       "      <td>{'@type': 'Place', 'address': {'@type': 'Posta...</td>\n",
       "      <td>NaN</td>\n",
       "      <td>Data Scientist</td>\n",
       "      <td>2021-04-22T09:07:01.000Z</td>\n",
       "      <td>NaN</td>\n",
       "      <td>NaN</td>\n",
       "      <td>{'@type': 'MonetaryAmount', 'currency': 'USD',...</td>\n",
       "      <td>NaN</td>\n",
       "      <td>&lt;strong&gt;&lt;u&gt;Description&lt;br&gt;&lt;br&gt;&lt;/u&gt;&lt;/strong&gt;The...</td>\n",
       "    </tr>\n",
       "  </tbody>\n",
       "</table>\n",
       "</div>"
      ],
      "text/plain": [
       "                 datePosted  \\\n",
       "0  2021-03-23T16:03:21.000Z   \n",
       "1  2021-03-23T17:02:32.000Z   \n",
       "2  2021-03-23T14:35:46.000Z   \n",
       "3  2021-03-22T20:24:23.000Z   \n",
       "4  2021-03-23T09:07:02.000Z   \n",
       "\n",
       "                                         description employmentType  \\\n",
       "0  Genuent is hiring a Data Scientist/Data Engine...      FULL_TIME   \n",
       "1  Ayata is developing its Prescriptive Analytics...      FULL_TIME   \n",
       "2  Our team, part of the Customer Success Enginee...      FULL_TIME   \n",
       "3  Headspace is looking for a Data Scientist to h...      FULL_TIME   \n",
       "4  DescriptionThe AWS Applications team builds po...      FULL_TIME   \n",
       "\n",
       "  experienceRequirements                                 hiringOrganization  \\\n",
       "0       Mid-Senior level  {'@type': 'Organization', 'name': 'Genuent', '...   \n",
       "1            Entry level  {'@type': 'Organization', 'name': 'Ayata', 'sa...   \n",
       "2         Not Applicable  {'@type': 'Organization', 'name': 'Microsoft',...   \n",
       "3            Entry level  {'@type': 'Organization', 'name': 'Headspace I...   \n",
       "4         Not Applicable  {'@type': 'Organization', 'name': 'Amazon Web ...   \n",
       "\n",
       "                                          identifier  \\\n",
       "0  {'@type': 'PropertyValue', 'name': 'Genuent', ...   \n",
       "1  {'@type': 'PropertyValue', 'name': 'Ayata', 'v...   \n",
       "2  {'@type': 'PropertyValue', 'name': 'Microsoft'...   \n",
       "3  {'@type': 'PropertyValue', 'name': 'Headspace ...   \n",
       "4  {'@type': 'PropertyValue', 'name': 'Amazon Web...   \n",
       "\n",
       "                                            industry  \\\n",
       "0                            Staffing and Recruiting   \n",
       "1  Information Technology and Services,Computer S...   \n",
       "2  Computer Hardware,Computer Software,Informatio...   \n",
       "3  Marketing and Advertising,Computer Software,In...   \n",
       "4  Computer Software,Information Technology and S...   \n",
       "\n",
       "                                         jobLocation skills  \\\n",
       "0  {'@type': 'Place', 'address': {'@type': 'Posta...    NaN   \n",
       "1  {'@type': 'Place', 'address': {'@type': 'Posta...    NaN   \n",
       "2  {'@type': 'Place', 'address': {'@type': 'Posta...    NaN   \n",
       "3  {'@type': 'Place', 'address': {'@type': 'Posta...    NaN   \n",
       "4  {'@type': 'Place', 'address': {'@type': 'Posta...    NaN   \n",
       "\n",
       "                      title              validThrough jobLocationType  \\\n",
       "0   Data Scientist - REMOTE  2021-04-22T16:03:20.000Z             NaN   \n",
       "1  ML/AI/NLP Data Scientist  2021-04-22T17:02:32.000Z             NaN   \n",
       "2  Data & Applied Scientist  2021-04-22T14:35:45.000Z             NaN   \n",
       "3   Data Scientist (Remote)  2021-04-21T20:24:22.000Z     TELECOMMUTE   \n",
       "4            Data Scientist  2021-04-22T09:07:01.000Z             NaN   \n",
       "\n",
       "                   applicantLocationRequirements  \\\n",
       "0                                            NaN   \n",
       "1                                            NaN   \n",
       "2                                            NaN   \n",
       "3  {'@type': 'Country', 'name': 'United States'}   \n",
       "4                                            NaN   \n",
       "\n",
       "                                     estimatedSalary baseSalary  \\\n",
       "0                                                NaN        NaN   \n",
       "1                                                NaN        NaN   \n",
       "2                                                NaN        NaN   \n",
       "3                                                NaN        NaN   \n",
       "4  {'@type': 'MonetaryAmount', 'currency': 'USD',...        NaN   \n",
       "\n",
       "                                           desc_html  \n",
       "0  <p>Genuent is hiring a Data Scientist/Data Eng...  \n",
       "1  Ayata is developing its Prescriptive Analytics...  \n",
       "2  Our team, part of the Customer Success Enginee...  \n",
       "3  <em>Headspace is looking for a Data Scientist ...  \n",
       "4  <strong><u>Description<br><br></u></strong>The...  "
      ]
     },
     "execution_count": 2,
     "metadata": {},
     "output_type": "execute_result"
    }
   ],
   "source": [
    "df = pd.read_csv('DS data 032321.csv')\n",
    "df.info()\n",
    "df.head()"
   ]
  },
  {
   "cell_type": "code",
   "execution_count": 234,
   "metadata": {},
   "outputs": [
    {
     "data": {
      "text/plain": [
       "'Genuent is hiring a Data Scientist/Data Engineer. This would be a long term contract opportunity located in Houston, TX. If this is something you might be interested in, please send your updated resume to Mike Sabo: MSabo@genuent.com\\xa0**Due to client restrictions, we are only accepting those authorized to work in the US without visa sponsorship now or in the future**We are looking for a Data Scientist to build econometric models and apply economic theory to solve business problems to support our enterprise strategic initiatives. Reporting to the Director of Data Science, this person will be the SME in developing complete analytical solutions, mining extensive data sets for insights, building scalable models, and enabling the overall Data Science capability. This person will also\\xa0drive the optimization of how we predict market demand pricing, and marketing mix to support both the business lines of service. This person will help build a brand new data science organization.Responsibilities:Build long-term causal estimation models using a combination of econometrics, machine learning and predictive statistics to drive thought leadership around Real Estate, Merchandizing, Pricing, and Marketing, among others.Partner with our Data Engineering team to guide and build the data infrastructure needed to begin applying supervised and unsupervised modeling techniques to generate predictions and uncover patterns.Develop hypothesis statements and apply statistical testing to determine causality and generalize observationsModel Assessment & Validation: Identify the model evaluation metrics and apply best practice techniques for model testing and tuning to assess accuracy, fit, validity, and robustness for multi-stage models and model ensembles.Model Deployment & Scaling: Support efforts to ensure that analytical models and techniques used can be deployed into production. Support evaluation of the analytical model and the scalability and sustainability of analytical models.Code Development & Testing: Write code to develop the required solution and application features by using the recommended programming language and leveraging business, technical, and data requirements. Test the code using the recommended testing approach.Data Visualization: Generate appropriate graphical representations of data and model outcomes. Understand customer requirements to design appropriate data representation for multiple data sets.Support the leadership team in developing long-term goals and roadmaps.Technical Skills & Qualifications:Strong background in econometrics (e.g., program evaluation, forecasting, time series, panel data, and/or high dimensional problems), economic theory, and quantitative methods.Demonstrated understanding of financial levers related to merchandising, planning and allocation, marketing, pricing & promotions.6+ years of applied advanced analytics, statistics and/or data science experience, using R and/or Python, to solve business problems.Experience with price optimization and demand forecasting.Marketing industry knowledge and previous experience in working on marketing mix modelingCan effectively and succinctly decompose highly complex findings to non-technical audiences.Excellent data visualization skills, able to determine the appropriate visualization for a variety of data types and create compelling stories with data.A proven track record of leading successful projects and driving measurable, viable results using Data Science techniques. Education:Masters Degree or PhD. in a Data Science, Applied Mathematics, Computer Science or otherwise research-based field; 5-7 years of related experience and/or training; or equivalent combination of education and experience'"
      ]
     },
     "execution_count": 234,
     "metadata": {},
     "output_type": "execute_result"
    }
   ],
   "source": [
    "df.description[0]"
   ]
  },
  {
   "cell_type": "code",
   "execution_count": 184,
   "metadata": {},
   "outputs": [
    {
     "name": "stdout",
     "output_type": "stream",
     "text": [
      "None\n",
      "None\n"
     ]
    }
   ],
   "source": [
    "p = re.compile('\\d+')\n",
    "print(p.match('asr56'))\n",
    "print(p.match(df.description[0]))"
   ]
  },
  {
   "cell_type": "code",
   "execution_count": 239,
   "metadata": {},
   "outputs": [
    {
     "data": {
      "text/plain": [
       "['observationsModel', 'modelingCan']"
      ]
     },
     "execution_count": 239,
     "metadata": {},
     "output_type": "execute_result"
    }
   ],
   "source": [
    "p = re.compile('\\s([a-z]+[A-Z]{1}[a-z]+)')\n",
    "result = p.search('dsfsdf asdTtrt ')\n",
    "result = p.findall(df.description[0])\n",
    "result"
   ]
  },
  {
   "cell_type": "code",
   "execution_count": 226,
   "metadata": {},
   "outputs": [],
   "source": [
    "p.match(df.description[861])"
   ]
  },
  {
   "cell_type": "markdown",
   "metadata": {},
   "source": [
    "## Separate the job requirements"
   ]
  },
  {
   "cell_type": "code",
   "execution_count": 158,
   "metadata": {},
   "outputs": [],
   "source": [
    "kws = ['Responsibilities','Qualifications','responsibilities',\n",
    "      'What You','qualification','requirement','Requirements',\n",
    "       \"What you\",\"About You\",\"How You’ll Have An Impact\",\n",
    "      'Knowledge And Skills',\"QUALIFICATIONS\",'What skills do I need',\n",
    "      'Like You To Have',\"Ideal Candidate\",'if you have',\"The Essentials\",\n",
    "       \"How You Can Set Yourself Apart\",'You have',\"need to have\",\"Who is expert in\",\n",
    "       \"Key Skills\", \"Knowledge/Experience\",'Job Requirements',\n",
    "       'We’re Looking For', \"Successful candidate\", \"Desired Skills\"\n",
    "      ]"
   ]
  },
  {
   "cell_type": "code",
   "execution_count": 159,
   "metadata": {},
   "outputs": [
    {
     "data": {
      "text/html": [
       "<div>\n",
       "<style scoped>\n",
       "    .dataframe tbody tr th:only-of-type {\n",
       "        vertical-align: middle;\n",
       "    }\n",
       "\n",
       "    .dataframe tbody tr th {\n",
       "        vertical-align: top;\n",
       "    }\n",
       "\n",
       "    .dataframe thead th {\n",
       "        text-align: right;\n",
       "    }\n",
       "</style>\n",
       "<table border=\"1\" class=\"dataframe\">\n",
       "  <thead>\n",
       "    <tr style=\"text-align: right;\">\n",
       "      <th></th>\n",
       "      <th>description</th>\n",
       "      <th>description</th>\n",
       "      <th>description</th>\n",
       "      <th>description</th>\n",
       "      <th>description</th>\n",
       "      <th>description</th>\n",
       "      <th>description</th>\n",
       "      <th>description</th>\n",
       "      <th>description</th>\n",
       "      <th>description</th>\n",
       "      <th>...</th>\n",
       "      <th>description</th>\n",
       "      <th>description</th>\n",
       "      <th>description</th>\n",
       "      <th>description</th>\n",
       "      <th>description</th>\n",
       "      <th>description</th>\n",
       "      <th>description</th>\n",
       "      <th>description</th>\n",
       "      <th>description</th>\n",
       "      <th>description</th>\n",
       "    </tr>\n",
       "  </thead>\n",
       "  <tbody>\n",
       "    <tr>\n",
       "      <th>0</th>\n",
       "      <td>984</td>\n",
       "      <td>2529</td>\n",
       "      <td>-1</td>\n",
       "      <td>-1</td>\n",
       "      <td>-1</td>\n",
       "      <td>2179</td>\n",
       "      <td>-1</td>\n",
       "      <td>-1</td>\n",
       "      <td>-1</td>\n",
       "      <td>-1</td>\n",
       "      <td>...</td>\n",
       "      <td>-1</td>\n",
       "      <td>-1</td>\n",
       "      <td>-1</td>\n",
       "      <td>-1</td>\n",
       "      <td>-1</td>\n",
       "      <td>-1</td>\n",
       "      <td>-1</td>\n",
       "      <td>-1</td>\n",
       "      <td>-1</td>\n",
       "      <td>-1</td>\n",
       "    </tr>\n",
       "    <tr>\n",
       "      <th>1</th>\n",
       "      <td>551</td>\n",
       "      <td>1829</td>\n",
       "      <td>-1</td>\n",
       "      <td>-1</td>\n",
       "      <td>-1</td>\n",
       "      <td>1091</td>\n",
       "      <td>1553</td>\n",
       "      <td>-1</td>\n",
       "      <td>-1</td>\n",
       "      <td>-1</td>\n",
       "      <td>...</td>\n",
       "      <td>-1</td>\n",
       "      <td>-1</td>\n",
       "      <td>-1</td>\n",
       "      <td>-1</td>\n",
       "      <td>-1</td>\n",
       "      <td>-1</td>\n",
       "      <td>-1</td>\n",
       "      <td>-1</td>\n",
       "      <td>-1</td>\n",
       "      <td>-1</td>\n",
       "    </tr>\n",
       "    <tr>\n",
       "      <th>2</th>\n",
       "      <td>911</td>\n",
       "      <td>1285</td>\n",
       "      <td>-1</td>\n",
       "      <td>-1</td>\n",
       "      <td>-1</td>\n",
       "      <td>2085</td>\n",
       "      <td>-1</td>\n",
       "      <td>-1</td>\n",
       "      <td>-1</td>\n",
       "      <td>-1</td>\n",
       "      <td>...</td>\n",
       "      <td>-1</td>\n",
       "      <td>-1</td>\n",
       "      <td>-1</td>\n",
       "      <td>-1</td>\n",
       "      <td>-1</td>\n",
       "      <td>-1</td>\n",
       "      <td>-1</td>\n",
       "      <td>-1</td>\n",
       "      <td>-1</td>\n",
       "      <td>-1</td>\n",
       "    </tr>\n",
       "    <tr>\n",
       "      <th>3</th>\n",
       "      <td>-1</td>\n",
       "      <td>-1</td>\n",
       "      <td>-1</td>\n",
       "      <td>2005</td>\n",
       "      <td>3921</td>\n",
       "      <td>-1</td>\n",
       "      <td>-1</td>\n",
       "      <td>-1</td>\n",
       "      <td>-1</td>\n",
       "      <td>-1</td>\n",
       "      <td>...</td>\n",
       "      <td>-1</td>\n",
       "      <td>-1</td>\n",
       "      <td>-1</td>\n",
       "      <td>-1</td>\n",
       "      <td>-1</td>\n",
       "      <td>-1</td>\n",
       "      <td>-1</td>\n",
       "      <td>-1</td>\n",
       "      <td>-1</td>\n",
       "      <td>-1</td>\n",
       "    </tr>\n",
       "    <tr>\n",
       "      <th>4</th>\n",
       "      <td>1753</td>\n",
       "      <td>4637</td>\n",
       "      <td>1823</td>\n",
       "      <td>-1</td>\n",
       "      <td>-1</td>\n",
       "      <td>5053</td>\n",
       "      <td>-1</td>\n",
       "      <td>1115</td>\n",
       "      <td>-1</td>\n",
       "      <td>-1</td>\n",
       "      <td>...</td>\n",
       "      <td>-1</td>\n",
       "      <td>-1</td>\n",
       "      <td>-1</td>\n",
       "      <td>-1</td>\n",
       "      <td>-1</td>\n",
       "      <td>-1</td>\n",
       "      <td>-1</td>\n",
       "      <td>-1</td>\n",
       "      <td>-1</td>\n",
       "      <td>-1</td>\n",
       "    </tr>\n",
       "    <tr>\n",
       "      <th>...</th>\n",
       "      <td>...</td>\n",
       "      <td>...</td>\n",
       "      <td>...</td>\n",
       "      <td>...</td>\n",
       "      <td>...</td>\n",
       "      <td>...</td>\n",
       "      <td>...</td>\n",
       "      <td>...</td>\n",
       "      <td>...</td>\n",
       "      <td>...</td>\n",
       "      <td>...</td>\n",
       "      <td>...</td>\n",
       "      <td>...</td>\n",
       "      <td>...</td>\n",
       "      <td>...</td>\n",
       "      <td>...</td>\n",
       "      <td>...</td>\n",
       "      <td>...</td>\n",
       "      <td>...</td>\n",
       "      <td>...</td>\n",
       "      <td>...</td>\n",
       "    </tr>\n",
       "    <tr>\n",
       "      <th>954</th>\n",
       "      <td>940</td>\n",
       "      <td>-1</td>\n",
       "      <td>-1</td>\n",
       "      <td>-1</td>\n",
       "      <td>-1</td>\n",
       "      <td>1187</td>\n",
       "      <td>530</td>\n",
       "      <td>-1</td>\n",
       "      <td>-1</td>\n",
       "      <td>-1</td>\n",
       "      <td>...</td>\n",
       "      <td>-1</td>\n",
       "      <td>-1</td>\n",
       "      <td>-1</td>\n",
       "      <td>-1</td>\n",
       "      <td>-1</td>\n",
       "      <td>-1</td>\n",
       "      <td>-1</td>\n",
       "      <td>-1</td>\n",
       "      <td>-1</td>\n",
       "      <td>-1</td>\n",
       "    </tr>\n",
       "    <tr>\n",
       "      <th>955</th>\n",
       "      <td>1734</td>\n",
       "      <td>-1</td>\n",
       "      <td>1242</td>\n",
       "      <td>-1</td>\n",
       "      <td>-1</td>\n",
       "      <td>1364</td>\n",
       "      <td>-1</td>\n",
       "      <td>-1</td>\n",
       "      <td>-1</td>\n",
       "      <td>-1</td>\n",
       "      <td>...</td>\n",
       "      <td>-1</td>\n",
       "      <td>-1</td>\n",
       "      <td>-1</td>\n",
       "      <td>-1</td>\n",
       "      <td>-1</td>\n",
       "      <td>-1</td>\n",
       "      <td>-1</td>\n",
       "      <td>-1</td>\n",
       "      <td>-1</td>\n",
       "      <td>-1</td>\n",
       "    </tr>\n",
       "    <tr>\n",
       "      <th>956</th>\n",
       "      <td>2350</td>\n",
       "      <td>-1</td>\n",
       "      <td>-1</td>\n",
       "      <td>-1</td>\n",
       "      <td>5941</td>\n",
       "      <td>-1</td>\n",
       "      <td>-1</td>\n",
       "      <td>-1</td>\n",
       "      <td>-1</td>\n",
       "      <td>-1</td>\n",
       "      <td>...</td>\n",
       "      <td>-1</td>\n",
       "      <td>-1</td>\n",
       "      <td>-1</td>\n",
       "      <td>-1</td>\n",
       "      <td>-1</td>\n",
       "      <td>-1</td>\n",
       "      <td>-1</td>\n",
       "      <td>-1</td>\n",
       "      <td>-1</td>\n",
       "      <td>-1</td>\n",
       "    </tr>\n",
       "    <tr>\n",
       "      <th>957</th>\n",
       "      <td>-1</td>\n",
       "      <td>2323</td>\n",
       "      <td>-1</td>\n",
       "      <td>-1</td>\n",
       "      <td>-1</td>\n",
       "      <td>-1</td>\n",
       "      <td>-1</td>\n",
       "      <td>-1</td>\n",
       "      <td>-1</td>\n",
       "      <td>-1</td>\n",
       "      <td>...</td>\n",
       "      <td>-1</td>\n",
       "      <td>-1</td>\n",
       "      <td>-1</td>\n",
       "      <td>-1</td>\n",
       "      <td>-1</td>\n",
       "      <td>-1</td>\n",
       "      <td>-1</td>\n",
       "      <td>-1</td>\n",
       "      <td>-1</td>\n",
       "      <td>-1</td>\n",
       "    </tr>\n",
       "    <tr>\n",
       "      <th>958</th>\n",
       "      <td>-1</td>\n",
       "      <td>-1</td>\n",
       "      <td>-1</td>\n",
       "      <td>256</td>\n",
       "      <td>-1</td>\n",
       "      <td>-1</td>\n",
       "      <td>-1</td>\n",
       "      <td>-1</td>\n",
       "      <td>-1</td>\n",
       "      <td>-1</td>\n",
       "      <td>...</td>\n",
       "      <td>-1</td>\n",
       "      <td>-1</td>\n",
       "      <td>-1</td>\n",
       "      <td>-1</td>\n",
       "      <td>-1</td>\n",
       "      <td>-1</td>\n",
       "      <td>-1</td>\n",
       "      <td>-1</td>\n",
       "      <td>-1</td>\n",
       "      <td>-1</td>\n",
       "    </tr>\n",
       "  </tbody>\n",
       "</table>\n",
       "<p>959 rows × 27 columns</p>\n",
       "</div>"
      ],
      "text/plain": [
       "     description  description  description  description  description  \\\n",
       "0            984         2529           -1           -1           -1   \n",
       "1            551         1829           -1           -1           -1   \n",
       "2            911         1285           -1           -1           -1   \n",
       "3             -1           -1           -1         2005         3921   \n",
       "4           1753         4637         1823           -1           -1   \n",
       "..           ...          ...          ...          ...          ...   \n",
       "954          940           -1           -1           -1           -1   \n",
       "955         1734           -1         1242           -1           -1   \n",
       "956         2350           -1           -1           -1         5941   \n",
       "957           -1         2323           -1           -1           -1   \n",
       "958           -1           -1           -1          256           -1   \n",
       "\n",
       "     description  description  description  description  description  ...  \\\n",
       "0           2179           -1           -1           -1           -1  ...   \n",
       "1           1091         1553           -1           -1           -1  ...   \n",
       "2           2085           -1           -1           -1           -1  ...   \n",
       "3             -1           -1           -1           -1           -1  ...   \n",
       "4           5053           -1         1115           -1           -1  ...   \n",
       "..           ...          ...          ...          ...          ...  ...   \n",
       "954         1187          530           -1           -1           -1  ...   \n",
       "955         1364           -1           -1           -1           -1  ...   \n",
       "956           -1           -1           -1           -1           -1  ...   \n",
       "957           -1           -1           -1           -1           -1  ...   \n",
       "958           -1           -1           -1           -1           -1  ...   \n",
       "\n",
       "     description  description  description  description  description  \\\n",
       "0             -1           -1           -1           -1           -1   \n",
       "1             -1           -1           -1           -1           -1   \n",
       "2             -1           -1           -1           -1           -1   \n",
       "3             -1           -1           -1           -1           -1   \n",
       "4             -1           -1           -1           -1           -1   \n",
       "..           ...          ...          ...          ...          ...   \n",
       "954           -1           -1           -1           -1           -1   \n",
       "955           -1           -1           -1           -1           -1   \n",
       "956           -1           -1           -1           -1           -1   \n",
       "957           -1           -1           -1           -1           -1   \n",
       "958           -1           -1           -1           -1           -1   \n",
       "\n",
       "     description  description  description  description  description  \n",
       "0             -1           -1           -1           -1           -1  \n",
       "1             -1           -1           -1           -1           -1  \n",
       "2             -1           -1           -1           -1           -1  \n",
       "3             -1           -1           -1           -1           -1  \n",
       "4             -1           -1           -1           -1           -1  \n",
       "..           ...          ...          ...          ...          ...  \n",
       "954           -1           -1           -1           -1           -1  \n",
       "955           -1           -1           -1           -1           -1  \n",
       "956           -1           -1           -1           -1           -1  \n",
       "957           -1           -1           -1           -1           -1  \n",
       "958           -1           -1           -1           -1           -1  \n",
       "\n",
       "[959 rows x 27 columns]"
      ]
     },
     "execution_count": 159,
     "metadata": {},
     "output_type": "execute_result"
    }
   ],
   "source": [
    "de = pd.DataFrame()\n",
    "for kw in kws:\n",
    "    des_ind = df.description.str.find(kw)\n",
    "    de = pd.concat((de,des_ind),axis =1)\n",
    "de"
   ]
  },
  {
   "cell_type": "code",
   "execution_count": 160,
   "metadata": {},
   "outputs": [
    {
     "data": {
      "text/plain": [
       "19     The Operations Analysis & Performance (OAP) te...\n",
       "123    The Trade Desk is a global technology company ...\n",
       "128    We believe that the way consumers and business...\n",
       "155    Do you have experience deploying machine learn...\n",
       "173    Cushion is looking for a stellar Machine Learn...\n",
       "                             ...                        \n",
       "820    AppZen is the leader in AI software for financ...\n",
       "826    We are actively recruiting for a Data Science ...\n",
       "829    DATA SCIENTIST, CUSTOMER ANALYTICS AND DATA SC...\n",
       "895    Fueled by a fundamental belief that having acc...\n",
       "910    Designs, develops and programs methods, proces...\n",
       "Name: description, Length: 76, dtype: object"
      ]
     },
     "execution_count": 160,
     "metadata": {},
     "output_type": "execute_result"
    }
   ],
   "source": [
    "df[(de == -1).all(axis=1)].description"
   ]
  },
  {
   "cell_type": "code",
   "execution_count": 157,
   "metadata": {},
   "outputs": [
    {
     "data": {
      "text/plain": [
       "'Day to Day:Insight Global is a multi-national staffing agency placing over 50,000 Consultants every year. Our Clients and Consultants span a wide range of industries across North America. Our team receives hundreds of thousands of openings from our customers every year and our recruiting teams speak to over 2Million candidates annually. Based on our 20 years of data on matching candidates to jobs, we are building an Artificial Intelligence and Machine Learning matching engine with the primary purpose of allowing our recruiters and account managers to match resumes to jobs, jobs to resumes. This tool will be built in R and Python drawing on candidate databases and proprietary applications written in Java, NoSQL, Mongo and Elasticsearch.Desired Skills / Experience:5 years of experience in enterprise Artificial Intelligence and Machine Learning developmentExpertise in building applications from scratch in Python and RExperience building data pipelines integrating Input Data, Test Data, and Feedback DataExperience building platforms matching written word data sets (such as Resumes to Job Descriptions)Experience with ElasticsearchStrong team skills and communicationPlusses:-\\xa0\\xa0\\xa0\\xa0\\xa0\\xa0\\xa0\\xa0\\xa0Experience building AI platforms for job boards or in employment landscapes'"
      ]
     },
     "execution_count": 157,
     "metadata": {},
     "output_type": "execute_result"
    }
   ],
   "source": [
    "df.description[861]"
   ]
  },
  {
   "cell_type": "code",
   "execution_count": 77,
   "metadata": {},
   "outputs": [
    {
     "data": {
      "text/plain": [
       "\"Coinbase has built the world's leading compliant cryptocurrency platform serving over 30 million accounts in more than 100 countries. With multiple successful products, and our vocal advocacy for blockchain technology, we have played a major part in mainstream awareness and adoption of cryptocurrency. We are proud to offer an entire suite of products that are helping build the cryptoeconomy and increase economic freedom around the world.There are a few things we look for across all hires we make at Coinbase, regardless of role or team. First, we look for signals that a candidate will thrive in a culture like ours, where we default to trust, embrace feedback, disrupt ourselves, and expect sustained high performance because we play as a championship team. Second, we expect all employees to commit to our mission-focused approach to our work. Finally, we seek people with the desire and capacity to build and share expertise in the frontier technologies of crypto and blockchain, in whatever way is most relevant to their role.At Coinbase, our vision is to build an open financial system for the world, and to get there we’ll need to continually learn from our data. Data scientists are focused on this critical step of converting data into learning.You’ll spend part of your time collaborating closely with business partners in product, engineering, finance and marketing teams — to ensure we’re focused on the biggest opportunities and interpreting our data correctly. And you’ll spend the other part of your time with the Data team building analytics models and systems that help scale our insights more broadly, both throughout the company and directly in the product. We expect you to demonstrate clear communication, strong desire to execute and best-in-class craftsmanship.What You’ll Be Doing (ie. Job Duties) Measure business performance, develop core metrics and create dashboards to track and understand them. Identify data, metrics and analyses needs for business partners; Initiate, develop and maintain data pipelines and data models that powers dashboards and data products with outstanding craftsmanship.  Perform deep analyses and build models to understand customer behavior, and extract key insights that impact product decisions. Synthesize data learnings into compelling stories and communicate them throughout Coinbase. Act as a strategic partner to functional teams and Coinbase executives; initiate and execute on data-driven analyses to help prioritize opportunities and provide actionable recommendations  Prototype new analytics & machine learning models that improve both our insights and the product directly. Work across multiple subject matter experts to drive new data initiatives, automation of reports, establish best practices and mentor junior members in the team. Lead analytics projects to completion. Work with the broader Data team to find ways to scale our insights through better systems and automation. What We Look For In You (ie. Job Requirements) 5+ years relevant experience Demonstrate our core cultural values: clear communication, positive energy, continuous learning, and efficient execution. Understanding of statistical concepts and experience in applying them. Experience in data analyses using SQL. Experience in at least one programming language (e.g. R, Python, Java, Ruby, Scala/Spark, or Perl). Be able to independently create plans for analytics projects and build collaboration within the team. BA / BS degree or equivalent practical experience Nice To Haves Be able to proactively manage prioritization of work and deliver work with great quality and influence the broader team in creating leverage. Previous experience working with financial services data is a plus. Experience with Looker, Tableau or other business intelligence platforms. Domain experience in product, marketing, growth, or other business analytics areas. Experience manipulating large amounts of structured and unstructured data.\""
      ]
     },
     "execution_count": 77,
     "metadata": {},
     "output_type": "execute_result"
    }
   ],
   "source": [
    "df[~(des_res|des_qua)].description[9]"
   ]
  },
  {
   "cell_type": "code",
   "execution_count": 73,
   "metadata": {},
   "outputs": [
    {
     "data": {
      "text/plain": [
       "106"
      ]
     },
     "execution_count": 73,
     "metadata": {},
     "output_type": "execute_result"
    }
   ],
   "source": [
    "des_res = df.description.str.find('responsibilities')!=-1\n",
    "sum(des_res)"
   ]
  },
  {
   "cell_type": "code",
   "execution_count": 75,
   "metadata": {},
   "outputs": [
    {
     "data": {
      "text/plain": [
       "158"
      ]
     },
     "execution_count": 75,
     "metadata": {},
     "output_type": "execute_result"
    }
   ],
   "source": [
    "sum(df.description.str.find('What You')!=-1)"
   ]
  },
  {
   "cell_type": "code",
   "execution_count": 76,
   "metadata": {},
   "outputs": [
    {
     "data": {
      "text/plain": [
       "87"
      ]
     },
     "execution_count": 76,
     "metadata": {},
     "output_type": "execute_result"
    }
   ],
   "source": [
    "sum(df.description.str.find('qualification')!=-1)"
   ]
  },
  {
   "cell_type": "code",
   "execution_count": null,
   "metadata": {},
   "outputs": [],
   "source": []
  },
  {
   "cell_type": "code",
   "execution_count": 78,
   "metadata": {},
   "outputs": [
    {
     "data": {
      "text/plain": [
       "264"
      ]
     },
     "execution_count": 78,
     "metadata": {},
     "output_type": "execute_result"
    }
   ],
   "source": [
    "sum(df.description.str.find('requirement')!=-1)"
   ]
  },
  {
   "cell_type": "code",
   "execution_count": 71,
   "metadata": {
    "collapsed": false,
    "jupyter": {
     "outputs_hidden": false
    },
    "pycharm": {
     "name": "#%%\n"
    }
   },
   "outputs": [],
   "source": [
    "data.to_csv('prepDS.csv',index=False)"
   ]
  },
  {
   "cell_type": "code",
   "execution_count": null,
   "metadata": {},
   "outputs": [],
   "source": []
  }
 ],
 "metadata": {
  "kernelspec": {
   "display_name": "Python 3",
   "language": "python",
   "name": "python3"
  },
  "language_info": {
   "codemirror_mode": {
    "name": "ipython",
    "version": 3
   },
   "file_extension": ".py",
   "mimetype": "text/x-python",
   "name": "python",
   "nbconvert_exporter": "python",
   "pygments_lexer": "ipython3",
   "version": "3.8.5"
  }
 },
 "nbformat": 4,
 "nbformat_minor": 4
}
