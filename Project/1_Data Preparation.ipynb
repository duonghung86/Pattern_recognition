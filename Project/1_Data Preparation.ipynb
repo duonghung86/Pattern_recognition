{
 "cells": [
  {
   "cell_type": "code",
   "execution_count": 16,
   "metadata": {},
   "outputs": [
    {
     "name": "stderr",
     "output_type": "stream",
     "text": [
      "[nltk_data] Downloading package punkt to\n",
      "[nltk_data]     C:\\Users\\duong\\AppData\\Roaming\\nltk_data...\n",
      "[nltk_data]   Package punkt is already up-to-date!\n"
     ]
    }
   ],
   "source": [
    "import pandas as pd\n",
    "import json"
   ]
  },
  {
   "cell_type": "code",
   "execution_count": 4,
   "metadata": {},
   "outputs": [
    {
     "name": "stdout",
     "output_type": "stream",
     "text": [
      "<class 'pandas.core.frame.DataFrame'>\n",
      "RangeIndex: 517 entries, 0 to 516\n",
      "Data columns (total 9 columns):\n",
      " #   Column       Non-Null Count  Dtype \n",
      "---  ------       --------------  ----- \n",
      " 0   title        517 non-null    object\n",
      " 1   location     517 non-null    object\n",
      " 2   script       517 non-null    object\n",
      " 3   company      517 non-null    object\n",
      " 4   description  517 non-null    object\n",
      " 5   level        517 non-null    object\n",
      " 6   type         517 non-null    object\n",
      " 7   function     517 non-null    object\n",
      " 8   industry     517 non-null    object\n",
      "dtypes: object(9)\n",
      "memory usage: 36.5+ KB\n"
     ]
    },
    {
     "data": {
      "text/plain": "                                  title     location  \\\n0                        Data Scientist  Seattle, WA   \n1                 Senior Data Scientist   Austin, TX   \n2                        Data Scientist  Fremont, CA   \n3  Machine Learning Engineer, Apple Pay   Austin, TX   \n4                        Data Scientist   McLean, VA   \n\n                                              script   company  \\\n0  {\"@context\":\"http://schema.org\",\"@type\":\"JobPo...    Amazon   \n1  {\"@context\":\"http://schema.org\",\"@type\":\"JobPo...    GitHub   \n2  {\"@context\":\"http://schema.org\",\"@type\":\"JobPo...  Facebook   \n3  {\"@context\":\"http://schema.org\",\"@type\":\"JobPo...     Apple   \n4  {\"@context\":\"http://schema.org\",\"@type\":\"JobPo...   Stem IT   \n\n                                         description             level  \\\n0  DescriptionThe Amazon Devices-Demand Planning ...    Not Applicable   \n1  GitHub helps companies, organizations, and gro...  Mid-Senior level   \n2  Facebook's mission is to give people the power...    Not Applicable   \n3  Summary Join the team that provides software s...    Not Applicable   \n4  R&D division of a prominent DARPA partner, is ...  Mid-Senior level   \n\n        type     function                                           industry  \n0  Full-time  Engineering  Computer Software, Information Technology and ...  \n1  Full-time        Other                                  Computer Software  \n2  Full-time  Engineering                                           Internet  \n3  Full-time  Engineering                               Consumer Electronics  \n4  Full-time  Engineering  Financial Services, Capital Markets, Computer ...  ",
      "text/html": "<div>\n<style scoped>\n    .dataframe tbody tr th:only-of-type {\n        vertical-align: middle;\n    }\n\n    .dataframe tbody tr th {\n        vertical-align: top;\n    }\n\n    .dataframe thead th {\n        text-align: right;\n    }\n</style>\n<table border=\"1\" class=\"dataframe\">\n  <thead>\n    <tr style=\"text-align: right;\">\n      <th></th>\n      <th>title</th>\n      <th>location</th>\n      <th>script</th>\n      <th>company</th>\n      <th>description</th>\n      <th>level</th>\n      <th>type</th>\n      <th>function</th>\n      <th>industry</th>\n    </tr>\n  </thead>\n  <tbody>\n    <tr>\n      <th>0</th>\n      <td>Data Scientist</td>\n      <td>Seattle, WA</td>\n      <td>{\"@context\":\"http://schema.org\",\"@type\":\"JobPo...</td>\n      <td>Amazon</td>\n      <td>DescriptionThe Amazon Devices-Demand Planning ...</td>\n      <td>Not Applicable</td>\n      <td>Full-time</td>\n      <td>Engineering</td>\n      <td>Computer Software, Information Technology and ...</td>\n    </tr>\n    <tr>\n      <th>1</th>\n      <td>Senior Data Scientist</td>\n      <td>Austin, TX</td>\n      <td>{\"@context\":\"http://schema.org\",\"@type\":\"JobPo...</td>\n      <td>GitHub</td>\n      <td>GitHub helps companies, organizations, and gro...</td>\n      <td>Mid-Senior level</td>\n      <td>Full-time</td>\n      <td>Other</td>\n      <td>Computer Software</td>\n    </tr>\n    <tr>\n      <th>2</th>\n      <td>Data Scientist</td>\n      <td>Fremont, CA</td>\n      <td>{\"@context\":\"http://schema.org\",\"@type\":\"JobPo...</td>\n      <td>Facebook</td>\n      <td>Facebook's mission is to give people the power...</td>\n      <td>Not Applicable</td>\n      <td>Full-time</td>\n      <td>Engineering</td>\n      <td>Internet</td>\n    </tr>\n    <tr>\n      <th>3</th>\n      <td>Machine Learning Engineer, Apple Pay</td>\n      <td>Austin, TX</td>\n      <td>{\"@context\":\"http://schema.org\",\"@type\":\"JobPo...</td>\n      <td>Apple</td>\n      <td>Summary Join the team that provides software s...</td>\n      <td>Not Applicable</td>\n      <td>Full-time</td>\n      <td>Engineering</td>\n      <td>Consumer Electronics</td>\n    </tr>\n    <tr>\n      <th>4</th>\n      <td>Data Scientist</td>\n      <td>McLean, VA</td>\n      <td>{\"@context\":\"http://schema.org\",\"@type\":\"JobPo...</td>\n      <td>Stem IT</td>\n      <td>R&amp;D division of a prominent DARPA partner, is ...</td>\n      <td>Mid-Senior level</td>\n      <td>Full-time</td>\n      <td>Engineering</td>\n      <td>Financial Services, Capital Markets, Computer ...</td>\n    </tr>\n  </tbody>\n</table>\n</div>"
     },
     "execution_count": 4,
     "metadata": {},
     "output_type": "execute_result"
    }
   ],
   "source": [
    "df = pd.read_csv('DS data.csv')\n",
    "df.info()\n",
    "df.head()"
   ]
  },
  {
   "cell_type": "markdown",
   "metadata": {
    "pycharm": {
     "name": "#%% md\n"
    }
   },
   "source": [
    "# Retrieve more information from the **script** feature\n",
    "\n",
    "We will extract the following in features from the `script` column:\n",
    "- datePosted\n",
    "- validThrough\n",
    "- employmentType\n",
    "- experienceRequirements\n",
    "- industry\n",
    "- skills\n",
    "- title\n",
    "- jobLocation\n",
    " - addressLocality\n",
    " - addressRegion\n",
    " - postalCode\n",
    "- estimatedSalary\n",
    " - minValue\n",
    " - maxValue"
   ]
  },
  {
   "cell_type": "code",
   "execution_count": 8,
   "outputs": [
    {
     "data": {
      "text/plain": "{'@context': 'http://schema.org',\n '@type': 'JobPosting',\n 'datePosted': '2021-03-17T15:24:00.000Z',\n 'description': \"<strong><u>Description<br><br></u></strong>The Amazon Devices-Demand Planning team is seeking an outstanding scientist with strong analytical and communication skills to help with demand forecasting and supply optimization for the entire Amazon device family of products and accessories. We develop scalable and robust state-of-the-art solutions that involve learning from different data sources. This role is central to the continued growth of Amazon Device division as we have grown from the first Kindle E-Reader to a vast portfolio of Echo, Fire TV, Fire Tablet, E-Reader, Ring and many other devices. With better forecasts we drive down supply chain costs, enabling the offer of lower prices and better in-stock selection for our customers.<br>In this role, you will have an opportunity to both develop advanced scientific solutions and drive critical customer and business impacts. You will play a key role to drive end-to-end solutions from understanding our business requirements, exploring a large amount of historical data, building prototypes and exploring conceptually new solutions, to working with partner teams for prod deployment. You will collaborate closely with engineering peers as well as business stakeholders. You will be at the heart of a growing and exciting focus area for Amazon Devices.<br><br>You are an individual with outstanding analytical abilities, excellent communication skills, and are comfortable working with cross-functional teams and systems. You will be responsible for researching, prototyping, experimenting, and analyzing predictive models.<br><br><strong><u>Key Responsibilities<br></u></strong><ul><li> Research and develop new methodologies for demand forecasting and price modeling.</li><li> Improve upon existing methodologies by adding new data sources and implementing model enhancements.</li><li> Drive scalable solutions.</li><li> Create and track accuracy and performance metrics (both technical and business metrics).</li><li> Create, enhance, and maintain technical documentation, and present to other scientists, engineers and business leaders.</li><li> Drive best practices on the team; mentor and guide junior members to achieve their career growth potential.<br><br></li></ul><strong><u>Basic Qualifications<br></u></strong><ul><li> PhD or equivalent Master's Degree plus 4+ years of experience in a quantitative field.</li><li> Strong analytical skills.</li><li> 2+ years of experience of building predictive models for business and proficiency in model development and model validation.</li><li> Experience in efficiently handling large data sets, e.g., by using SQL, and databases in a business environment.</li><li> Experience with R, Python, Matlab or other scripting languages.<br></li></ul><strong><u>Preferred Qualifications<br></u></strong><ul><li> Experience with time series modeling and machine learning forecasting.</li><li> Experience with price modeling.<br><br></li></ul><strong>Company</strong> - Amazon.com Services LLC<br>Job ID: A1150842\",\n 'employmentType': 'FULL_TIME',\n 'experienceRequirements': 'Not Applicable',\n 'hiringOrganization': {'@type': 'Organization',\n  'name': 'Amazon',\n  'sameAs': 'https://www.linkedin.com/company/amazon',\n  'logo': 'https://media-exp1.licdn.com/dms/image/C560BAQHTvZwCx4p2Qg/company-logo_200_200/0/1612205615891?e=1623888000&v=beta&t=ONuILZrxsg59IlYfXLSRpQZOzxBFl5zOjcjrLr7aqgc'},\n 'identifier': {'@type': 'PropertyValue',\n  'name': 'Amazon',\n  'value': '1150842'},\n 'image': 'https://media-exp1.licdn.com/dms/image/C560BAQHTvZwCx4p2Qg/company-logo_100_100/0/1612205615891?e=1623888000&v=beta&t=ROjO0agMkoom8nzBag5wrXdmWq1VeiNlYFaQTb6B3jI',\n 'industry': 'Computer Software,Information Technology and Services,Internet',\n 'jobLocation': {'@type': 'Place',\n  'address': {'@type': 'PostalAddress',\n   'streetAddress': None,\n   'addressLocality': 'Seattle',\n   'addressRegion': 'WA',\n   'postalCode': '98164',\n   'addressCountry': 'US'}},\n 'skills': '',\n 'title': 'Data Scientist',\n 'validThrough': '2021-04-16T15:23:58.000Z',\n 'estimatedSalary': {'@type': 'MonetaryAmount',\n  'currency': 'USD',\n  'value': {'@type': 'QuantitativeValue',\n   'minValue': 110000,\n   'maxValue': 150000,\n   'unitText': 'YEAR'}}}"
     },
     "execution_count": 8,
     "metadata": {},
     "output_type": "execute_result"
    }
   ],
   "source": [
    "json.loads(df.script[0])"
   ],
   "metadata": {
    "collapsed": false,
    "pycharm": {
     "name": "#%%\n"
    }
   }
  },
  {
   "cell_type": "code",
   "execution_count": 10,
   "outputs": [
    {
     "name": "stdout",
     "output_type": "stream",
     "text": [
      "<class 'pandas.core.frame.DataFrame'>\n",
      "RangeIndex: 517 entries, 0 to 516\n",
      "Data columns (total 13 columns):\n",
      " #   Column                         Non-Null Count  Dtype \n",
      "---  ------                         --------------  ----- \n",
      " 0   datePosted                     517 non-null    object\n",
      " 1   description                    517 non-null    object\n",
      " 2   employmentType                 517 non-null    object\n",
      " 3   experienceRequirements         517 non-null    object\n",
      " 4   industry                       517 non-null    object\n",
      " 5   jobLocation                    517 non-null    object\n",
      " 6   skills                         517 non-null    object\n",
      " 7   title                          517 non-null    object\n",
      " 8   validThrough                   517 non-null    object\n",
      " 9   estimatedSalary                103 non-null    object\n",
      " 10  jobLocationType                52 non-null     object\n",
      " 11  applicantLocationRequirements  52 non-null     object\n",
      " 12  baseSalary                     10 non-null     object\n",
      "dtypes: object(13)\n",
      "memory usage: 52.6+ KB\n"
     ]
    },
    {
     "data": {
      "text/plain": "                 datePosted  \\\n0  2021-03-17T15:24:00.000Z   \n1  2021-03-18T00:09:18.000Z   \n2  2021-03-17T06:24:32.000Z   \n\n                                         description employmentType  \\\n0  <strong><u>Description<br><br></u></strong>The...      FULL_TIME   \n1  <br>GitHub helps companies, organizations, and...      FULL_TIME   \n2  Facebook's mission is to give people the power...      FULL_TIME   \n\n  experienceRequirements                                           industry  \\\n0         Not Applicable  Computer Software,Information Technology and S...   \n1       Mid-Senior level                                  Computer Software   \n2         Not Applicable                                           Internet   \n\n                                         jobLocation skills  \\\n0  {'@type': 'Place', 'address': {'@type': 'Posta...          \n1  {'@type': 'Place', 'address': {'@type': 'Posta...          \n2  {'@type': 'Place', 'address': {'@type': 'Posta...          \n\n                   title              validThrough  \\\n0         Data Scientist  2021-04-16T15:23:58.000Z   \n1  Senior Data Scientist  2021-04-17T00:09:18.000Z   \n2         Data Scientist  2021-04-16T06:24:31.000Z   \n\n                                     estimatedSalary jobLocationType  \\\n0  {'@type': 'MonetaryAmount', 'currency': 'USD',...             NaN   \n1                                                NaN             NaN   \n2  {'@type': 'MonetaryAmount', 'currency': 'USD',...             NaN   \n\n  applicantLocationRequirements baseSalary  \n0                           NaN        NaN  \n1                           NaN        NaN  \n2                           NaN        NaN  ",
      "text/html": "<div>\n<style scoped>\n    .dataframe tbody tr th:only-of-type {\n        vertical-align: middle;\n    }\n\n    .dataframe tbody tr th {\n        vertical-align: top;\n    }\n\n    .dataframe thead th {\n        text-align: right;\n    }\n</style>\n<table border=\"1\" class=\"dataframe\">\n  <thead>\n    <tr style=\"text-align: right;\">\n      <th></th>\n      <th>datePosted</th>\n      <th>description</th>\n      <th>employmentType</th>\n      <th>experienceRequirements</th>\n      <th>industry</th>\n      <th>jobLocation</th>\n      <th>skills</th>\n      <th>title</th>\n      <th>validThrough</th>\n      <th>estimatedSalary</th>\n      <th>jobLocationType</th>\n      <th>applicantLocationRequirements</th>\n      <th>baseSalary</th>\n    </tr>\n  </thead>\n  <tbody>\n    <tr>\n      <th>0</th>\n      <td>2021-03-17T15:24:00.000Z</td>\n      <td>&lt;strong&gt;&lt;u&gt;Description&lt;br&gt;&lt;br&gt;&lt;/u&gt;&lt;/strong&gt;The...</td>\n      <td>FULL_TIME</td>\n      <td>Not Applicable</td>\n      <td>Computer Software,Information Technology and S...</td>\n      <td>{'@type': 'Place', 'address': {'@type': 'Posta...</td>\n      <td></td>\n      <td>Data Scientist</td>\n      <td>2021-04-16T15:23:58.000Z</td>\n      <td>{'@type': 'MonetaryAmount', 'currency': 'USD',...</td>\n      <td>NaN</td>\n      <td>NaN</td>\n      <td>NaN</td>\n    </tr>\n    <tr>\n      <th>1</th>\n      <td>2021-03-18T00:09:18.000Z</td>\n      <td>&lt;br&gt;GitHub helps companies, organizations, and...</td>\n      <td>FULL_TIME</td>\n      <td>Mid-Senior level</td>\n      <td>Computer Software</td>\n      <td>{'@type': 'Place', 'address': {'@type': 'Posta...</td>\n      <td></td>\n      <td>Senior Data Scientist</td>\n      <td>2021-04-17T00:09:18.000Z</td>\n      <td>NaN</td>\n      <td>NaN</td>\n      <td>NaN</td>\n      <td>NaN</td>\n    </tr>\n    <tr>\n      <th>2</th>\n      <td>2021-03-17T06:24:32.000Z</td>\n      <td>Facebook's mission is to give people the power...</td>\n      <td>FULL_TIME</td>\n      <td>Not Applicable</td>\n      <td>Internet</td>\n      <td>{'@type': 'Place', 'address': {'@type': 'Posta...</td>\n      <td></td>\n      <td>Data Scientist</td>\n      <td>2021-04-16T06:24:31.000Z</td>\n      <td>{'@type': 'MonetaryAmount', 'currency': 'USD',...</td>\n      <td>NaN</td>\n      <td>NaN</td>\n      <td>NaN</td>\n    </tr>\n  </tbody>\n</table>\n</div>"
     },
     "execution_count": 10,
     "metadata": {},
     "output_type": "execute_result"
    }
   ],
   "source": [
    "data = []\n",
    "unusedItem = ['@context','@type','hiringOrganization',\n",
    "              'identifier','image']\n",
    "for script in df.script:\n",
    "    record = json.loads(script)\n",
    "    for item in unusedItem:\n",
    "        del record[item]\n",
    "    data.append(record)\n",
    "data = pd.DataFrame.from_dict(data)\n",
    "data.info()\n",
    "data.head(3)"
   ],
   "metadata": {
    "collapsed": false,
    "pycharm": {
     "name": "#%%\n"
    }
   }
  },
  {
   "cell_type": "code",
   "execution_count": 14,
   "outputs": [
    {
     "name": "stdout",
     "output_type": "stream",
     "text": [
      "                                                                                                                                                                   515\n",
      "Analytical Skills,Python (Programming Language),Machine Learning,Public Sector,Data Science,Problem Solving,Stage Management,Engineering,Programming,Commercial      2\n",
      "Name: skills, dtype: int64\n"
     ]
    },
    {
     "data": {
      "text/plain": "Index(['datePosted', 'description', 'employmentType', 'experienceRequirements',\n       'industry', 'jobLocation', 'title', 'validThrough', 'estimatedSalary',\n       'jobLocationType', 'applicantLocationRequirements', 'baseSalary'],\n      dtype='object')"
     },
     "execution_count": 14,
     "metadata": {},
     "output_type": "execute_result"
    }
   ],
   "source": [
    "# skills\n",
    "print(data.skills.value_counts())\n",
    "# it contains mostly empty string value so we will drop it\n",
    "data = data.drop(columns=['skills'])\n",
    "data.columns"
   ],
   "metadata": {
    "collapsed": false,
    "pycharm": {
     "name": "#%%\n"
    }
   }
  },
  {
   "cell_type": "code",
   "execution_count": 19,
   "outputs": [],
   "source": [
    "# description column is in HTML format, while we already has it from df\n",
    "# we will use the df description\n",
    "data['description'] = df.description"
   ],
   "metadata": {
    "collapsed": false,
    "pycharm": {
     "name": "#%%\n"
    }
   }
  },
  {
   "cell_type": "code",
   "execution_count": 20,
   "outputs": [
    {
     "name": "stdout",
     "output_type": "stream",
     "text": [
      "<class 'pandas.core.frame.DataFrame'>\n",
      "RangeIndex: 517 entries, 0 to 516\n",
      "Data columns (total 6 columns):\n",
      " #   Column           Non-Null Count  Dtype \n",
      "---  ------           --------------  ----- \n",
      " 0   @type            517 non-null    object\n",
      " 1   streetAddress    0 non-null      object\n",
      " 2   addressLocality  513 non-null    object\n",
      " 3   addressRegion    513 non-null    object\n",
      " 4   postalCode       517 non-null    object\n",
      " 5   addressCountry   517 non-null    object\n",
      "dtypes: object(6)\n",
      "memory usage: 24.4+ KB\n"
     ]
    },
    {
     "data": {
      "text/plain": "           @type streetAddress addressLocality addressRegion postalCode  \\\n0  PostalAddress          None         Seattle            WA      98164   \n1  PostalAddress          None          Austin            TX      78746   \n2  PostalAddress          None         Fremont            CA      94537   \n\n  addressCountry  \n0             US  \n1             US  \n2             US  ",
      "text/html": "<div>\n<style scoped>\n    .dataframe tbody tr th:only-of-type {\n        vertical-align: middle;\n    }\n\n    .dataframe tbody tr th {\n        vertical-align: top;\n    }\n\n    .dataframe thead th {\n        text-align: right;\n    }\n</style>\n<table border=\"1\" class=\"dataframe\">\n  <thead>\n    <tr style=\"text-align: right;\">\n      <th></th>\n      <th>@type</th>\n      <th>streetAddress</th>\n      <th>addressLocality</th>\n      <th>addressRegion</th>\n      <th>postalCode</th>\n      <th>addressCountry</th>\n    </tr>\n  </thead>\n  <tbody>\n    <tr>\n      <th>0</th>\n      <td>PostalAddress</td>\n      <td>None</td>\n      <td>Seattle</td>\n      <td>WA</td>\n      <td>98164</td>\n      <td>US</td>\n    </tr>\n    <tr>\n      <th>1</th>\n      <td>PostalAddress</td>\n      <td>None</td>\n      <td>Austin</td>\n      <td>TX</td>\n      <td>78746</td>\n      <td>US</td>\n    </tr>\n    <tr>\n      <th>2</th>\n      <td>PostalAddress</td>\n      <td>None</td>\n      <td>Fremont</td>\n      <td>CA</td>\n      <td>94537</td>\n      <td>US</td>\n    </tr>\n  </tbody>\n</table>\n</div>"
     },
     "execution_count": 20,
     "metadata": {},
     "output_type": "execute_result"
    }
   ],
   "source": [
    "# jobLocation\n",
    "locs = []\n",
    "for loc in data.jobLocation:\n",
    "    loc = loc['address']\n",
    "    locs.append(loc)\n",
    "locs = pd.DataFrame.from_dict(locs)\n",
    "locs.info()\n",
    "locs.head(3)"
   ],
   "metadata": {
    "collapsed": false,
    "pycharm": {
     "name": "#%%\n"
    }
   }
  },
  {
   "cell_type": "code",
   "execution_count": 21,
   "outputs": [
    {
     "data": {
      "text/plain": "Index(['addressLocality', 'addressRegion', 'postalCode'], dtype='object')"
     },
     "execution_count": 21,
     "metadata": {},
     "output_type": "execute_result"
    }
   ],
   "source": [
    "# drop unused columns\n",
    "locs = locs.drop(columns=['@type','streetAddress','addressCountry'])\n",
    "locs.columns"
   ],
   "metadata": {
    "collapsed": false,
    "pycharm": {
     "name": "#%%\n"
    }
   }
  },
  {
   "cell_type": "code",
   "execution_count": 24,
   "outputs": [
    {
     "data": {
      "text/plain": "                 datePosted  \\\n0  2021-03-17T15:24:00.000Z   \n1  2021-03-18T00:09:18.000Z   \n2  2021-03-17T06:24:32.000Z   \n\n                                         description employmentType  \\\n0  DescriptionThe Amazon Devices-Demand Planning ...      FULL_TIME   \n1  GitHub helps companies, organizations, and gro...      FULL_TIME   \n2  Facebook's mission is to give people the power...      FULL_TIME   \n\n  experienceRequirements                                           industry  \\\n0         Not Applicable  Computer Software,Information Technology and S...   \n1       Mid-Senior level                                  Computer Software   \n2         Not Applicable                                           Internet   \n\n                                         jobLocation                  title  \\\n0  {'@type': 'Place', 'address': {'@type': 'Posta...         Data Scientist   \n1  {'@type': 'Place', 'address': {'@type': 'Posta...  Senior Data Scientist   \n2  {'@type': 'Place', 'address': {'@type': 'Posta...         Data Scientist   \n\n               validThrough  \\\n0  2021-04-16T15:23:58.000Z   \n1  2021-04-17T00:09:18.000Z   \n2  2021-04-16T06:24:31.000Z   \n\n                                     estimatedSalary jobLocationType  \\\n0  {'@type': 'MonetaryAmount', 'currency': 'USD',...             NaN   \n1                                                NaN             NaN   \n2  {'@type': 'MonetaryAmount', 'currency': 'USD',...             NaN   \n\n  applicantLocationRequirements baseSalary addressLocality addressRegion  \\\n0                           NaN        NaN         Seattle            WA   \n1                           NaN        NaN          Austin            TX   \n2                           NaN        NaN         Fremont            CA   \n\n  postalCode  \n0      98164  \n1      78746  \n2      94537  ",
      "text/html": "<div>\n<style scoped>\n    .dataframe tbody tr th:only-of-type {\n        vertical-align: middle;\n    }\n\n    .dataframe tbody tr th {\n        vertical-align: top;\n    }\n\n    .dataframe thead th {\n        text-align: right;\n    }\n</style>\n<table border=\"1\" class=\"dataframe\">\n  <thead>\n    <tr style=\"text-align: right;\">\n      <th></th>\n      <th>datePosted</th>\n      <th>description</th>\n      <th>employmentType</th>\n      <th>experienceRequirements</th>\n      <th>industry</th>\n      <th>jobLocation</th>\n      <th>title</th>\n      <th>validThrough</th>\n      <th>estimatedSalary</th>\n      <th>jobLocationType</th>\n      <th>applicantLocationRequirements</th>\n      <th>baseSalary</th>\n      <th>addressLocality</th>\n      <th>addressRegion</th>\n      <th>postalCode</th>\n    </tr>\n  </thead>\n  <tbody>\n    <tr>\n      <th>0</th>\n      <td>2021-03-17T15:24:00.000Z</td>\n      <td>DescriptionThe Amazon Devices-Demand Planning ...</td>\n      <td>FULL_TIME</td>\n      <td>Not Applicable</td>\n      <td>Computer Software,Information Technology and S...</td>\n      <td>{'@type': 'Place', 'address': {'@type': 'Posta...</td>\n      <td>Data Scientist</td>\n      <td>2021-04-16T15:23:58.000Z</td>\n      <td>{'@type': 'MonetaryAmount', 'currency': 'USD',...</td>\n      <td>NaN</td>\n      <td>NaN</td>\n      <td>NaN</td>\n      <td>Seattle</td>\n      <td>WA</td>\n      <td>98164</td>\n    </tr>\n    <tr>\n      <th>1</th>\n      <td>2021-03-18T00:09:18.000Z</td>\n      <td>GitHub helps companies, organizations, and gro...</td>\n      <td>FULL_TIME</td>\n      <td>Mid-Senior level</td>\n      <td>Computer Software</td>\n      <td>{'@type': 'Place', 'address': {'@type': 'Posta...</td>\n      <td>Senior Data Scientist</td>\n      <td>2021-04-17T00:09:18.000Z</td>\n      <td>NaN</td>\n      <td>NaN</td>\n      <td>NaN</td>\n      <td>NaN</td>\n      <td>Austin</td>\n      <td>TX</td>\n      <td>78746</td>\n    </tr>\n    <tr>\n      <th>2</th>\n      <td>2021-03-17T06:24:32.000Z</td>\n      <td>Facebook's mission is to give people the power...</td>\n      <td>FULL_TIME</td>\n      <td>Not Applicable</td>\n      <td>Internet</td>\n      <td>{'@type': 'Place', 'address': {'@type': 'Posta...</td>\n      <td>Data Scientist</td>\n      <td>2021-04-16T06:24:31.000Z</td>\n      <td>{'@type': 'MonetaryAmount', 'currency': 'USD',...</td>\n      <td>NaN</td>\n      <td>NaN</td>\n      <td>NaN</td>\n      <td>Fremont</td>\n      <td>CA</td>\n      <td>94537</td>\n    </tr>\n  </tbody>\n</table>\n</div>"
     },
     "execution_count": 24,
     "metadata": {},
     "output_type": "execute_result"
    }
   ],
   "source": [
    "# merge to data\n",
    "data = pd.concat((data,locs),axis=1)\n",
    "data.head(3)"
   ],
   "metadata": {
    "collapsed": false,
    "pycharm": {
     "name": "#%%\n"
    }
   }
  },
  {
   "cell_type": "code",
   "execution_count": 30,
   "outputs": [
    {
     "data": {
      "text/plain": "Index(['datePosted', 'description', 'employmentType', 'experienceRequirements',\n       'industry', 'jobLocation', 'title', 'validThrough', 'jobLocationType',\n       'applicantLocationRequirements', 'baseSalary', 'addressLocality',\n       'addressRegion', 'postalCode'],\n      dtype='object')"
     },
     "execution_count": 30,
     "metadata": {},
     "output_type": "execute_result"
    }
   ],
   "source": [
    "# estimatedSalary\n",
    "data.estimatedSalary.isna().sum()\n",
    "# because estimated Salary columns has too many Nan values, we will drop them\n",
    "data = data.drop(columns=['estimatedSalary'])\n",
    "data.columns"
   ],
   "metadata": {
    "collapsed": false,
    "pycharm": {
     "name": "#%%\n"
    }
   }
  },
  {
   "cell_type": "code",
   "execution_count": 32,
   "outputs": [
    {
     "data": {
      "text/plain": "                   datePosted              validThrough         duration\n0   2021-03-17 15:24:00+00:00 2021-04-16 15:23:58+00:00 29 days 23:59:58\n1   2021-03-18 00:09:18+00:00 2021-04-17 00:09:18+00:00 30 days 00:00:00\n2   2021-03-17 06:24:32+00:00 2021-04-16 06:24:31+00:00 29 days 23:59:59\n3   2021-03-17 19:19:01+00:00 2021-04-17 02:15:16+00:00 30 days 06:56:15\n4   2021-03-17 20:45:56+00:00 2021-04-16 20:45:56+00:00 30 days 00:00:00\n..                        ...                       ...              ...\n512 2021-02-10 19:16:42+00:00 2021-04-17 00:48:52+00:00 65 days 05:32:10\n513 2021-03-08 19:23:26+00:00 2021-04-07 19:23:26+00:00 30 days 00:00:00\n514 2021-03-09 04:26:03+00:00 2021-04-08 04:26:03+00:00 30 days 00:00:00\n515 2021-02-25 15:54:02+00:00 2021-04-15 17:37:56+00:00 49 days 01:43:54\n516 2021-03-17 11:49:46+00:00 2021-04-16 11:49:46+00:00 30 days 00:00:00\n\n[517 rows x 3 columns]",
      "text/html": "<div>\n<style scoped>\n    .dataframe tbody tr th:only-of-type {\n        vertical-align: middle;\n    }\n\n    .dataframe tbody tr th {\n        vertical-align: top;\n    }\n\n    .dataframe thead th {\n        text-align: right;\n    }\n</style>\n<table border=\"1\" class=\"dataframe\">\n  <thead>\n    <tr style=\"text-align: right;\">\n      <th></th>\n      <th>datePosted</th>\n      <th>validThrough</th>\n      <th>duration</th>\n    </tr>\n  </thead>\n  <tbody>\n    <tr>\n      <th>0</th>\n      <td>2021-03-17 15:24:00+00:00</td>\n      <td>2021-04-16 15:23:58+00:00</td>\n      <td>29 days 23:59:58</td>\n    </tr>\n    <tr>\n      <th>1</th>\n      <td>2021-03-18 00:09:18+00:00</td>\n      <td>2021-04-17 00:09:18+00:00</td>\n      <td>30 days 00:00:00</td>\n    </tr>\n    <tr>\n      <th>2</th>\n      <td>2021-03-17 06:24:32+00:00</td>\n      <td>2021-04-16 06:24:31+00:00</td>\n      <td>29 days 23:59:59</td>\n    </tr>\n    <tr>\n      <th>3</th>\n      <td>2021-03-17 19:19:01+00:00</td>\n      <td>2021-04-17 02:15:16+00:00</td>\n      <td>30 days 06:56:15</td>\n    </tr>\n    <tr>\n      <th>4</th>\n      <td>2021-03-17 20:45:56+00:00</td>\n      <td>2021-04-16 20:45:56+00:00</td>\n      <td>30 days 00:00:00</td>\n    </tr>\n    <tr>\n      <th>...</th>\n      <td>...</td>\n      <td>...</td>\n      <td>...</td>\n    </tr>\n    <tr>\n      <th>512</th>\n      <td>2021-02-10 19:16:42+00:00</td>\n      <td>2021-04-17 00:48:52+00:00</td>\n      <td>65 days 05:32:10</td>\n    </tr>\n    <tr>\n      <th>513</th>\n      <td>2021-03-08 19:23:26+00:00</td>\n      <td>2021-04-07 19:23:26+00:00</td>\n      <td>30 days 00:00:00</td>\n    </tr>\n    <tr>\n      <th>514</th>\n      <td>2021-03-09 04:26:03+00:00</td>\n      <td>2021-04-08 04:26:03+00:00</td>\n      <td>30 days 00:00:00</td>\n    </tr>\n    <tr>\n      <th>515</th>\n      <td>2021-02-25 15:54:02+00:00</td>\n      <td>2021-04-15 17:37:56+00:00</td>\n      <td>49 days 01:43:54</td>\n    </tr>\n    <tr>\n      <th>516</th>\n      <td>2021-03-17 11:49:46+00:00</td>\n      <td>2021-04-16 11:49:46+00:00</td>\n      <td>30 days 00:00:00</td>\n    </tr>\n  </tbody>\n</table>\n<p>517 rows × 3 columns</p>\n</div>"
     },
     "execution_count": 32,
     "metadata": {},
     "output_type": "execute_result"
    }
   ],
   "source": [
    "# time objects\n",
    "data['datePosted'] = pd.to_datetime(data.datePosted)\n",
    "data['validThrough'] = pd.to_datetime(data.validThrough)\n",
    "data['duration'] = data['validThrough'] - data['datePosted']\n",
    "data[['datePosted','validThrough','duration']]"
   ],
   "metadata": {
    "collapsed": false,
    "pycharm": {
     "name": "#%%\n"
    }
   }
  },
  {
   "cell_type": "code",
   "execution_count": 60,
   "outputs": [
    {
     "data": {
      "text/plain": "0      29.999977\n1      30.000000\n2      29.999988\n3      30.289062\n4      30.000000\n         ...    \n512    65.230671\n513    30.000000\n514    30.000000\n515    49.072153\n516    30.000000\nName: duration, Length: 517, dtype: float64"
     },
     "execution_count": 60,
     "metadata": {},
     "output_type": "execute_result"
    }
   ],
   "source": [
    "data['duration'] = data['duration'].dt.total_seconds()/(3600*24)\n",
    "data['duration']"
   ],
   "metadata": {
    "collapsed": false,
    "pycharm": {
     "name": "#%%\n"
    }
   }
  },
  {
   "cell_type": "markdown",
   "source": [
    "## Finalize the data preparation"
   ],
   "metadata": {
    "collapsed": false,
    "pycharm": {
     "name": "#%% md\n"
    }
   }
  },
  {
   "cell_type": "code",
   "execution_count": 62,
   "outputs": [
    {
     "name": "stdout",
     "output_type": "stream",
     "text": [
      "<class 'pandas.core.frame.DataFrame'>\n",
      "RangeIndex: 517 entries, 0 to 516\n",
      "Data columns (total 15 columns):\n",
      " #   Column                         Non-Null Count  Dtype              \n",
      "---  ------                         --------------  -----              \n",
      " 0   datePosted                     517 non-null    datetime64[ns, UTC]\n",
      " 1   description                    517 non-null    object             \n",
      " 2   employmentType                 517 non-null    object             \n",
      " 3   experienceRequirements         517 non-null    object             \n",
      " 4   industry                       517 non-null    object             \n",
      " 5   jobLocation                    517 non-null    object             \n",
      " 6   title                          517 non-null    object             \n",
      " 7   validThrough                   517 non-null    datetime64[ns, UTC]\n",
      " 8   jobLocationType                52 non-null     object             \n",
      " 9   applicantLocationRequirements  52 non-null     object             \n",
      " 10  baseSalary                     10 non-null     object             \n",
      " 11  addressLocality                513 non-null    object             \n",
      " 12  addressRegion                  513 non-null    object             \n",
      " 13  postalCode                     517 non-null    object             \n",
      " 14  duration                       517 non-null    float64            \n",
      "dtypes: datetime64[ns, UTC](2), float64(1), object(12)\n",
      "memory usage: 60.7+ KB\n"
     ]
    }
   ],
   "source": [
    "data.info()"
   ],
   "metadata": {
    "collapsed": false,
    "pycharm": {
     "name": "#%%\n"
    }
   }
  },
  {
   "cell_type": "code",
   "execution_count": 63,
   "outputs": [
    {
     "data": {
      "text/plain": "Index(['datePosted', 'description', 'employmentType', 'experienceRequirements',\n       'industry', 'title', 'validThrough', 'addressLocality', 'addressRegion',\n       'postalCode', 'duration'],\n      dtype='object')"
     },
     "execution_count": 63,
     "metadata": {},
     "output_type": "execute_result"
    }
   ],
   "source": [
    "data = data.drop(columns=['jobLocation','jobLocationType',\n",
    "                          'applicantLocationRequirements',\n",
    "                          'baseSalary'])\n",
    "data.columns"
   ],
   "metadata": {
    "collapsed": false,
    "pycharm": {
     "name": "#%%\n"
    }
   }
  },
  {
   "cell_type": "code",
   "execution_count": 65,
   "outputs": [
    {
     "data": {
      "text/plain": "Index(['datePosted', 'description', 'employmentType', 'experienceRequirements',\n       'industry', 'title', 'validThrough', 'addressLocality', 'addressRegion',\n       'postalCode', 'duration', 'company', 'function'],\n      dtype='object')"
     },
     "execution_count": 65,
     "metadata": {},
     "output_type": "execute_result"
    }
   ],
   "source": [
    "data['company'] = df.company\n",
    "data['function'] = df.function\n",
    "data.columns"
   ],
   "metadata": {
    "collapsed": false,
    "pycharm": {
     "name": "#%%\n"
    }
   }
  },
  {
   "cell_type": "code",
   "execution_count": 68,
   "outputs": [
    {
     "data": {
      "text/plain": "Index(['title', 'company', 'datePosted', 'validThrough', 'duration',\n       'addressLocality', 'addressRegion', 'postalCode', 'employmentType',\n       'experienceRequirements', 'function', 'industry', 'description'],\n      dtype='object')"
     },
     "execution_count": 68,
     "metadata": {},
     "output_type": "execute_result"
    }
   ],
   "source": [
    "# rearrange columns\n",
    "data = data.reindex(columns= ['title', 'company','datePosted',\n",
    "                       'validThrough','duration','addressLocality',\n",
    "                       'addressRegion','postalCode','employmentType',\n",
    "                       'experienceRequirements', 'function',\n",
    "                       'industry', 'description'\n",
    "                       ])\n",
    "data.columns"
   ],
   "metadata": {
    "collapsed": false,
    "pycharm": {
     "name": "#%%\n"
    }
   }
  },
  {
   "cell_type": "code",
   "execution_count": 70,
   "outputs": [
    {
     "name": "stdout",
     "output_type": "stream",
     "text": [
      "<class 'pandas.core.frame.DataFrame'>\n",
      "Int64Index: 513 entries, 0 to 516\n",
      "Data columns (total 13 columns):\n",
      " #   Column                  Non-Null Count  Dtype              \n",
      "---  ------                  --------------  -----              \n",
      " 0   title                   513 non-null    object             \n",
      " 1   company                 513 non-null    object             \n",
      " 2   datePosted              513 non-null    datetime64[ns, UTC]\n",
      " 3   validThrough            513 non-null    datetime64[ns, UTC]\n",
      " 4   duration                513 non-null    float64            \n",
      " 5   addressLocality         513 non-null    object             \n",
      " 6   addressRegion           513 non-null    object             \n",
      " 7   postalCode              513 non-null    object             \n",
      " 8   employmentType          513 non-null    object             \n",
      " 9   experienceRequirements  513 non-null    object             \n",
      " 10  function                513 non-null    object             \n",
      " 11  industry                513 non-null    object             \n",
      " 12  description             513 non-null    object             \n",
      "dtypes: datetime64[ns, UTC](2), float64(1), object(10)\n",
      "memory usage: 56.1+ KB\n"
     ]
    }
   ],
   "source": [
    "data.dropna(inplace = True)\n",
    "data.info()"
   ],
   "metadata": {
    "collapsed": false,
    "pycharm": {
     "name": "#%%\n"
    }
   }
  },
  {
   "cell_type": "code",
   "execution_count": 71,
   "outputs": [],
   "source": [
    "data.to_csv('prepDS.csv',index=False)\n"
   ],
   "metadata": {
    "collapsed": false,
    "pycharm": {
     "name": "#%%\n"
    }
   }
  }
 ],
 "metadata": {
  "kernelspec": {
   "display_name": "Python 3",
   "language": "python",
   "name": "python3"
  },
  "language_info": {
   "codemirror_mode": {
    "name": "ipython",
    "version": 3
   },
   "file_extension": ".py",
   "mimetype": "text/x-python",
   "name": "python",
   "nbconvert_exporter": "python",
   "pygments_lexer": "ipython3",
   "version": "3.8.5"
  }
 },
 "nbformat": 4,
 "nbformat_minor": 4
}