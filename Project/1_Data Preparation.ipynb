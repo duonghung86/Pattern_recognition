{
 "cells": [
  {
   "cell_type": "code",
   "execution_count": 1,
   "metadata": {},
   "outputs": [
    {
     "name": "stderr",
     "output_type": "stream",
     "text": [
      "[nltk_data] Downloading package punkt to\n",
      "[nltk_data]     C:\\Users\\duong\\AppData\\Roaming\\nltk_data...\n",
      "[nltk_data]   Package punkt is already up-to-date!\n"
     ]
    },
    {
     "data": {
      "text/plain": [
       "True"
      ]
     },
     "execution_count": 1,
     "metadata": {},
     "output_type": "execute_result"
    }
   ],
   "source": [
    "import pandas as pd\n",
    "import nltk\n",
    "nltk.download('punkt')"
   ]
  },
  {
   "cell_type": "code",
   "execution_count": 2,
   "metadata": {},
   "outputs": [
    {
     "name": "stdout",
     "output_type": "stream",
     "text": [
      "<class 'pandas.core.frame.DataFrame'>\n",
      "RangeIndex: 977 entries, 0 to 976\n",
      "Data columns (total 11 columns):\n",
      " #   Column           Non-Null Count  Dtype \n",
      "---  ------           --------------  ----- \n",
      " 0   title            977 non-null    object\n",
      " 1   place            977 non-null    object\n",
      " 2   company          977 non-null    object\n",
      " 3   posting_date     977 non-null    object\n",
      " 4   link             977 non-null    object\n",
      " 5   job_description  977 non-null    object\n",
      " 6   jd_html          977 non-null    object\n",
      " 7   seniority_level  977 non-null    object\n",
      " 8   job_function     977 non-null    object\n",
      " 9   employment_type  977 non-null    object\n",
      " 10  industries       977 non-null    object\n",
      "dtypes: object(11)\n",
      "memory usage: 84.1+ KB\n"
     ]
    },
    {
     "data": {
      "text/html": [
       "<div>\n",
       "<style scoped>\n",
       "    .dataframe tbody tr th:only-of-type {\n",
       "        vertical-align: middle;\n",
       "    }\n",
       "\n",
       "    .dataframe tbody tr th {\n",
       "        vertical-align: top;\n",
       "    }\n",
       "\n",
       "    .dataframe thead th {\n",
       "        text-align: right;\n",
       "    }\n",
       "</style>\n",
       "<table border=\"1\" class=\"dataframe\">\n",
       "  <thead>\n",
       "    <tr style=\"text-align: right;\">\n",
       "      <th></th>\n",
       "      <th>title</th>\n",
       "      <th>place</th>\n",
       "      <th>company</th>\n",
       "      <th>posting_date</th>\n",
       "      <th>link</th>\n",
       "      <th>job_description</th>\n",
       "      <th>jd_html</th>\n",
       "      <th>seniority_level</th>\n",
       "      <th>job_function</th>\n",
       "      <th>employment_type</th>\n",
       "      <th>industries</th>\n",
       "    </tr>\n",
       "  </thead>\n",
       "  <tbody>\n",
       "    <tr>\n",
       "      <th>0</th>\n",
       "      <td>Machine Learning &amp; Data Engineer</td>\n",
       "      <td>Plano, TX</td>\n",
       "      <td>JPMorgan Chase &amp; Co.</td>\n",
       "      <td>2021-02-22</td>\n",
       "      <td>https://www.linkedin.com/jobs/view/machine-lea...</td>\n",
       "      <td>Corporate Banking Technology is hiring a multi...</td>\n",
       "      <td>&lt;div class=\"description__text description__tex...</td>\n",
       "      <td>Entry level</td>\n",
       "      <td>Engineering, Information Technology</td>\n",
       "      <td>Full-time</td>\n",
       "      <td>Banking</td>\n",
       "    </tr>\n",
       "    <tr>\n",
       "      <th>1</th>\n",
       "      <td>Machine Learning Engineer — Computer Vision</td>\n",
       "      <td>Richardson, TX</td>\n",
       "      <td>Honeywell</td>\n",
       "      <td>2020-12-21</td>\n",
       "      <td>https://www.linkedin.com/jobs/view/machine-lea...</td>\n",
       "      <td>Corporate Banking Technology is hiring a multi...</td>\n",
       "      <td>&lt;div class=\"description__text description__tex...</td>\n",
       "      <td>Entry level</td>\n",
       "      <td>Engineering, Information Technology</td>\n",
       "      <td>Full-time</td>\n",
       "      <td>Banking</td>\n",
       "    </tr>\n",
       "    <tr>\n",
       "      <th>2</th>\n",
       "      <td>Software and Machine Learning Engineer</td>\n",
       "      <td>Cambridge, MA</td>\n",
       "      <td>Massachusetts Institute of Technology</td>\n",
       "      <td>2021-01-08</td>\n",
       "      <td>https://www.linkedin.com/jobs/view/software-an...</td>\n",
       "      <td>Join a team recognized for leadership, innovat...</td>\n",
       "      <td>&lt;div class=\"description__text description__tex...</td>\n",
       "      <td>Entry level</td>\n",
       "      <td>Engineering, Information Technology</td>\n",
       "      <td>Full-time</td>\n",
       "      <td>Staffing and Recruiting, Human Resources, Acco...</td>\n",
       "    </tr>\n",
       "    <tr>\n",
       "      <th>3</th>\n",
       "      <td>Machine Learning Engineer</td>\n",
       "      <td>Greater Syracuse-Auburn Area</td>\n",
       "      <td>Oracle</td>\n",
       "      <td>2021-01-21</td>\n",
       "      <td>https://www.linkedin.com/jobs/view/machine-lea...</td>\n",
       "      <td>\\nWorking at MIT offers opportunities, an envi...</td>\n",
       "      <td>&lt;div class=\"description__text description__tex...</td>\n",
       "      <td>Entry level</td>\n",
       "      <td>Engineering, Information Technology</td>\n",
       "      <td>Full-time</td>\n",
       "      <td>Nonprofit Organization Management, Internet, I...</td>\n",
       "    </tr>\n",
       "    <tr>\n",
       "      <th>4</th>\n",
       "      <td>Machine Learning Engineer</td>\n",
       "      <td>Hillsboro, OR</td>\n",
       "      <td>Intel Corporation</td>\n",
       "      <td>2020-10-15</td>\n",
       "      <td>https://www.linkedin.com/jobs/view/machine-lea...</td>\n",
       "      <td>Design, develop, troubleshoot and debug softwa...</td>\n",
       "      <td>&lt;div class=\"description__text description__tex...</td>\n",
       "      <td>Entry level</td>\n",
       "      <td>Engineering, Information Technology</td>\n",
       "      <td>Full-time</td>\n",
       "      <td>Information Technology and Services, Internet,...</td>\n",
       "    </tr>\n",
       "  </tbody>\n",
       "</table>\n",
       "</div>"
      ],
      "text/plain": [
       "                                         title                         place  \\\n",
       "0             Machine Learning & Data Engineer                     Plano, TX   \n",
       "1  Machine Learning Engineer — Computer Vision                Richardson, TX   \n",
       "2       Software and Machine Learning Engineer                 Cambridge, MA   \n",
       "3                    Machine Learning Engineer  Greater Syracuse-Auburn Area   \n",
       "4                    Machine Learning Engineer                 Hillsboro, OR   \n",
       "\n",
       "                                 company posting_date  \\\n",
       "0                   JPMorgan Chase & Co.   2021-02-22   \n",
       "1                              Honeywell   2020-12-21   \n",
       "2  Massachusetts Institute of Technology   2021-01-08   \n",
       "3                                 Oracle   2021-01-21   \n",
       "4                      Intel Corporation   2020-10-15   \n",
       "\n",
       "                                                link  \\\n",
       "0  https://www.linkedin.com/jobs/view/machine-lea...   \n",
       "1  https://www.linkedin.com/jobs/view/machine-lea...   \n",
       "2  https://www.linkedin.com/jobs/view/software-an...   \n",
       "3  https://www.linkedin.com/jobs/view/machine-lea...   \n",
       "4  https://www.linkedin.com/jobs/view/machine-lea...   \n",
       "\n",
       "                                     job_description  \\\n",
       "0  Corporate Banking Technology is hiring a multi...   \n",
       "1  Corporate Banking Technology is hiring a multi...   \n",
       "2  Join a team recognized for leadership, innovat...   \n",
       "3  \\nWorking at MIT offers opportunities, an envi...   \n",
       "4  Design, develop, troubleshoot and debug softwa...   \n",
       "\n",
       "                                             jd_html seniority_level  \\\n",
       "0  <div class=\"description__text description__tex...     Entry level   \n",
       "1  <div class=\"description__text description__tex...     Entry level   \n",
       "2  <div class=\"description__text description__tex...     Entry level   \n",
       "3  <div class=\"description__text description__tex...     Entry level   \n",
       "4  <div class=\"description__text description__tex...     Entry level   \n",
       "\n",
       "                          job_function employment_type  \\\n",
       "0  Engineering, Information Technology       Full-time   \n",
       "1  Engineering, Information Technology       Full-time   \n",
       "2  Engineering, Information Technology       Full-time   \n",
       "3  Engineering, Information Technology       Full-time   \n",
       "4  Engineering, Information Technology       Full-time   \n",
       "\n",
       "                                          industries  \n",
       "0                                            Banking  \n",
       "1                                            Banking  \n",
       "2  Staffing and Recruiting, Human Resources, Acco...  \n",
       "3  Nonprofit Organization Management, Internet, I...  \n",
       "4  Information Technology and Services, Internet,...  "
      ]
     },
     "execution_count": 2,
     "metadata": {},
     "output_type": "execute_result"
    }
   ],
   "source": [
    "df = pd.read_csv('Data Scientist.csv')\n",
    "df.info()\n",
    "df.head()"
   ]
  },
  {
   "cell_type": "markdown",
   "metadata": {},
   "source": [
    "## 1. Duplication in job description"
   ]
  },
  {
   "cell_type": "code",
   "execution_count": 5,
   "metadata": {},
   "outputs": [
    {
     "data": {
      "text/plain": [
       "186"
      ]
     },
     "execution_count": 5,
     "metadata": {},
     "output_type": "execute_result"
    }
   ],
   "source": [
    "df.job_description.duplicated().sum()"
   ]
  },
  {
   "cell_type": "markdown",
   "metadata": {},
   "source": [
    "There are 186 dupicated description among 977 entries. For some reasons, the scraper packages retreived incorrect description\n",
    "My task is now correct the link between job and job description"
   ]
  },
  {
   "cell_type": "code",
   "execution_count": 14,
   "metadata": {
    "scrolled": true
   },
   "outputs": [
    {
     "name": "stdout",
     "output_type": "stream",
     "text": [
      "Join a team recognized for leadership, innovation and diversity\n",
      "\n",
      "Honeywell is a Fortune 100 company with global sales surpassing $40B and has been one of Fortune’s Most Admired Companies for over a decade. Through innovation, the Company brings together the physical and digital world to tackle some of the toughest societal and business problems – making the world a more productive, safe, and sustainable place.\n",
      "\n",
      "We’re looking for a new senior team member who is motivated by cracking tough challenges with data, trained in problem solving, and with an unending thirst for learning.\n",
      "\n",
      "Have endless opportunities to progress your career as you develop new offerings that impact a wide range of industries, improve the quality of life, and truly change the world.\n",
      "\n",
      "As a Machine Learning Engineer with Honeywell, this is your opportunity to develop machine learning models for computer vision applications to address unique and complex problems for the variety of breakthrough solutions.\n",
      "\n",
      "Responsibilities\n",
      "\n",
      "\n",
      "Design, develop and deploy experiments to improve efficiency of machine vision algorithms.\n",
      "Extend and enrich existing ML model pipelines for data ingestion, processing, training, deployment.\n",
      "Explore and visualize data for better understanding of outcomes of training experiments.\n",
      "\n",
      "\n",
      "YOU MUST HAVE\n",
      "\n",
      "\n",
      "Master's degree in Computer Science, Engineering, Applied Mathematics or related field.\n",
      "At least 3+ years practical experience in machine learning algorithm development within computer vision domain — key areas of interest include any of the following: object detection and instance segmentation, object tracking, activity recognition, multiple view geometry, 3D computer vision.\n",
      "At least 3+ years of experience programming in Python.\n",
      "\n",
      "\n",
      "WE VALUE\n",
      "\n",
      "\n",
      "PhD degree in Computer Science, Engineering, Applied Mathematics or related field.\n",
      "Experience with database management systems, data platforms (e.g. Streaming Data Platform, Kafka, Logstash, Teradata, Hadoop, etc.), and data formats (e.g. SQL, NoSQL, AWS S3, JSON, Redis, neo4j, etc.) for efficient ML feature extraction and data transformations.\n",
      "A strong understanding of big data concepts and knowledge of big data languages/tools.\n",
      "Exceptional data science skills, including a strong understanding of statistics, probability, and algorithms that enable you to quickly come up with solutions that combine multiple information streams.\n",
      "Experience in automation and build infrastructure in distributed environment.\n",
      "Previous experience moving prototypes to production environment and optimizing models in production environment.\n",
      "Ability to stay abreast of current and emerging technologies in support of new concept development.\n",
      "Result-driven, positive “can-do” attitude.\n",
      "Ability to work collaboratively with development/implementation staff through the design and build of new business processes and systems.\n",
      "\n",
      "\n",
      "Additional Information\n",
      "\n",
      "JOB ID: req256023\n",
      "Category: Engineering\n",
      "Location: 830 E Arapaho Rd,Richardson,Texas,75081,United States\n",
      "Exempt\n",
      "\n",
      "Engineering (GLOBAL)\n",
      "\n",
      "Honeywell is an equal opportunity employer. Qualified applicants will be considered without regard to age, race, creed, color, national origin, ancestry, marital status, affectional or sexual orientation, gender identity or expression, disability, nationality, sex, or veteran status.\n",
      "Show moreShow less\n"
     ]
    }
   ],
   "source": [
    "# For example, description #2 is belong to the job # 1\n",
    "print(df.job_description[2])"
   ]
  },
  {
   "cell_type": "code",
   "execution_count": 8,
   "metadata": {},
   "outputs": [
    {
     "data": {
      "text/plain": [
       "0"
      ]
     },
     "execution_count": 8,
     "metadata": {},
     "output_type": "execute_result"
    }
   ],
   "source": [
    "df.job_description[0].find(df.job_description[0])"
   ]
  },
  {
   "cell_type": "code",
   "execution_count": 81,
   "metadata": {},
   "outputs": [
    {
     "data": {
      "text/html": [
       "<div>\n",
       "<style scoped>\n",
       "    .dataframe tbody tr th:only-of-type {\n",
       "        vertical-align: middle;\n",
       "    }\n",
       "\n",
       "    .dataframe tbody tr th {\n",
       "        vertical-align: top;\n",
       "    }\n",
       "\n",
       "    .dataframe thead th {\n",
       "        text-align: right;\n",
       "    }\n",
       "</style>\n",
       "<table border=\"1\" class=\"dataframe\">\n",
       "  <thead>\n",
       "    <tr style=\"text-align: right;\">\n",
       "      <th></th>\n",
       "      <th>title</th>\n",
       "      <th>place</th>\n",
       "      <th>company</th>\n",
       "      <th>posting_date</th>\n",
       "      <th>link</th>\n",
       "      <th>job_description</th>\n",
       "      <th>jd_html</th>\n",
       "      <th>seniority_level</th>\n",
       "      <th>job_function</th>\n",
       "      <th>employment_type</th>\n",
       "      <th>industries</th>\n",
       "    </tr>\n",
       "  </thead>\n",
       "  <tbody>\n",
       "    <tr>\n",
       "      <th>0</th>\n",
       "      <td>Data Engineer</td>\n",
       "      <td>Los Angeles, CA</td>\n",
       "      <td>Snap Inc.</td>\n",
       "      <td>2021-02-19</td>\n",
       "      <td>https://www.linkedin.com/jobs/view/data-engine...</td>\n",
       "      <td>snap inc. is a camera company. we believe that...</td>\n",
       "      <td>&lt;div class=\"description__text description__tex...</td>\n",
       "      <td>Entry level</td>\n",
       "      <td>Information Technology</td>\n",
       "      <td>Full-time</td>\n",
       "      <td>Marketing and Advertising, Computer Software, ...</td>\n",
       "    </tr>\n",
       "    <tr>\n",
       "      <th>1</th>\n",
       "      <td>Data Engineer</td>\n",
       "      <td>New York, NY</td>\n",
       "      <td>DigitalOcean</td>\n",
       "      <td>2021-02-18</td>\n",
       "      <td>https://www.linkedin.com/jobs/view/data-engine...</td>\n",
       "      <td>have you ever wondered what happens inside the...</td>\n",
       "      <td>&lt;div class=\"description__text description__tex...</td>\n",
       "      <td>Entry level</td>\n",
       "      <td>Information Technology</td>\n",
       "      <td>Full-time</td>\n",
       "      <td>Marketing and Advertising, Computer Software, ...</td>\n",
       "    </tr>\n",
       "    <tr>\n",
       "      <th>2</th>\n",
       "      <td>Data Engineer</td>\n",
       "      <td>Remote, OR</td>\n",
       "      <td>Roofstock</td>\n",
       "      <td>2021-02-18</td>\n",
       "      <td>https://www.linkedin.com/jobs/view/data-engine...</td>\n",
       "      <td>roofstock is the leading marketplace for inves...</td>\n",
       "      <td>&lt;div class=\"description__text description__tex...</td>\n",
       "      <td>Entry level</td>\n",
       "      <td>Information Technology, Engineering</td>\n",
       "      <td>Full-time</td>\n",
       "      <td>Information Technology and Services, Computer ...</td>\n",
       "    </tr>\n",
       "  </tbody>\n",
       "</table>\n",
       "</div>"
      ],
      "text/plain": [
       "           title            place       company posting_date  \\\n",
       "0  Data Engineer  Los Angeles, CA     Snap Inc.   2021-02-19   \n",
       "1  Data Engineer     New York, NY  DigitalOcean   2021-02-18   \n",
       "2  Data Engineer       Remote, OR     Roofstock   2021-02-18   \n",
       "\n",
       "                                                link  \\\n",
       "0  https://www.linkedin.com/jobs/view/data-engine...   \n",
       "1  https://www.linkedin.com/jobs/view/data-engine...   \n",
       "2  https://www.linkedin.com/jobs/view/data-engine...   \n",
       "\n",
       "                                     job_description  \\\n",
       "0  snap inc. is a camera company. we believe that...   \n",
       "1  have you ever wondered what happens inside the...   \n",
       "2  roofstock is the leading marketplace for inves...   \n",
       "\n",
       "                                             jd_html seniority_level  \\\n",
       "0  <div class=\"description__text description__tex...     Entry level   \n",
       "1  <div class=\"description__text description__tex...     Entry level   \n",
       "2  <div class=\"description__text description__tex...     Entry level   \n",
       "\n",
       "                          job_function employment_type  \\\n",
       "0               Information Technology       Full-time   \n",
       "1               Information Technology       Full-time   \n",
       "2  Information Technology, Engineering       Full-time   \n",
       "\n",
       "                                          industries  \n",
       "0  Marketing and Advertising, Computer Software, ...  \n",
       "1  Marketing and Advertising, Computer Software, ...  \n",
       "2  Information Technology and Services, Computer ...  "
      ]
     },
     "execution_count": 81,
     "metadata": {},
     "output_type": "execute_result"
    }
   ],
   "source": [
    "# Lower all strings\n",
    "df['job_description'] = df.job_description.str.lower()\n",
    "df.dropna(inplace=True)\n",
    "df.head(3)"
   ]
  },
  {
   "cell_type": "code",
   "execution_count": 82,
   "metadata": {},
   "outputs": [
    {
     "name": "stdout",
     "output_type": "stream",
     "text": [
      "roofstock is the leading marketplace for investing in single-family rental homes. our mission is to make real estate investing radically accessible, cost effective and simple. we want to use technology to transform the way real estate is bought and sold and make real estate investing as simple as investing in stocks. simply put, we are passionate about helping our customers build wealth through real estate.\n",
      "\n",
      "roofstock has been recognized as a great workplace great place to work® and have been recently named to the forbes fintech 50 and the red herring 100 lists of most innovative companies. roofstock has raised over $135m to date, is based in oakland, ca and dallas,tx with approximately 180 people and is growing rapidly. check out our reviews and see why our employees love working here!\n",
      "\n",
      "we've built an amazing culture where everyone has a voice. we're nice. we get things done. we have fun. we believe in work-life balance (yes, you can really take a vacation). and our values are pretty b.a.d.a.s.s.\n",
      "\n",
      "be customer obsessed.\n",
      "\n",
      "act like an owner, because you are one.\n",
      "\n",
      "don't be afraid to break things in the pursuit of better.\n",
      "\n",
      "all of us are empowered to do the right thing.\n",
      "\n",
      "stay curious and create what's next. fast.\n",
      "\n",
      "seriously. no jerks.\n",
      "\n",
      "analytics at roofstock is a two way street: sure you use data to answer questions posed by others, but you also formulate and test your own hypothesis, and use you data sense to inform and influence the process. a key outcome of your analysis are the datasets you assemble, focusing on foresight, quality and maintainability are paramount to enable future re-use. you will generate insights from data and build reports/dashboards/visualizations to communicate your results and to encourage future self-serve by our partners.\n",
      "\n",
      "this is an excellent opportunity to join our established, small but quickly growing company, working on a wide range of data projects in close collaboration with other data engineers, data analysts, and data scientists, in an integrated data team. we use a modern all-cloud data stack including airflow, docker, dbt, python, snowflake, tableau, sigma, and our old friend sql.\n",
      "\n",
      "we care you about your career growth so you’ll have opportunities to develop along at least three paths in addition to maturing as an analyst and data architect: data engineering (more data processing and computational systems), data science (more modeling, ml and algorithms) or product (more business). if you thrive in a team environment, are willing to pitch in wherever needed to help the team succeed, are passionate about data and excited about empowering users with data to drive decision making, this is the place for you.\n",
      "\n",
      "what you will do\n",
      "\n",
      "build code to gather, refine, and transform large diverse datasets into simplified, meaningful, and actionable aggregations\n",
      "\n",
      "analyze data, to provide information that supports decision making across the company\n",
      "\n",
      "develop reporting workbooks and dashboards in tableau (and others)\n",
      "\n",
      "write robust sql and sometimes python code, operating on a modern cloud stack (snowflake, aws, azure)\n",
      "\n",
      "some analyses will require basic statistical tests, and prototypes may occasionally involve building basic statistical and machine learning models (regression, random forests, etc.)\n",
      "\n",
      "collaborate with cross-functional teams to understand data flows and processes to enable design and creation of the best possible solutions\n",
      "\n",
      "be responsible for data accuracy and integrity, implement data quality processes, create data dictionaries and data governance policies.\n",
      "\n",
      "what you bring with you\n",
      "\n",
      "bs or ms in computer science, analytics, statistics, economics, engineering, operations research or computational field\n",
      "\n",
      "3+ years of industry experience writing advanced sql, developing complicated analysis and creating advanced dashboards in tableau or other bi/viz tools\n",
      "\n",
      "familiar with python\n",
      "\n",
      "bonus skill sets: intermediate/advanced data modeling, r\n",
      "\n",
      "structured approach to problem-solving, ability to take a broad challenge and break it down into solvable components, accounting for confounding variables and statistical challenges\n",
      "\n",
      "demonstrated ability to work independently, prototype rapidly, iterate quickly and meet deadlines in a fast-paced environment\n",
      "\n",
      "strong communication and collaboration skills to effectively explain, influence, and advise with interdisciplinary partners\n",
      "\n",
      "experience in data warehousing, dimensional data modeling and tools like airflow and dbt is a plus\n",
      "\n",
      "what we offer\n",
      "\n",
      "competitive compensation\n",
      "medical, vision and dental for you (95%) and your dependents (65%)\n",
      "401k\n",
      "flexible time off and sick days\n",
      "supplemental bonus to support \"work from home\" office needs\n",
      "equity incentives to give you a stake in the company’s future\n",
      "as a remote team we are an upbeat and collaborative work culture\n",
      "virtual company-sponsored outings\n",
      "\n",
      "roofstock is an equal opportunity employer. in keeping with the values of roofstock, we make all employment decisions including hiring, evaluation, termination, promotional and training opportunities, without regard to race, religion, color, sex, age, national origin, ancestry, sexual orientation, physical handicap, mental disability, medical condition, disability, gender or identity or expression, pregnancy or pregnancy-related condition, marital status, height and/or weight.\n",
      "show moreshow less\n"
     ]
    }
   ],
   "source": [
    "print(df.job_description[2])"
   ]
  },
  {
   "cell_type": "markdown",
   "metadata": {},
   "source": [
    "tokenize → remove stopword, special characters → Stemming → Filter → Find common unigrams, bigrams, trigrams\n",
    "\n",
    "Frequency, PCA or SVD, Fourier TF?, classification entry vs intern, neural network"
   ]
  },
  {
   "cell_type": "code",
   "execution_count": 83,
   "metadata": {},
   "outputs": [],
   "source": [
    "df.dropna(inplace=True)"
   ]
  },
  {
   "cell_type": "code",
   "execution_count": 84,
   "metadata": {},
   "outputs": [
    {
     "data": {
      "text/plain": [
       "['Eighty', 'seven', 'miles', 'to', 'go', 'yet', 'Onward']"
      ]
     },
     "execution_count": 84,
     "metadata": {},
     "output_type": "execute_result"
    }
   ],
   "source": [
    "from nltk.tokenize import RegexpTokenizer\n",
    "\n",
    "tokenizer = RegexpTokenizer(r'\\w+')\n",
    "tokenizer.tokenize('Eighty-seven miles to go, yet.  Onward!')"
   ]
  },
  {
   "cell_type": "code",
   "execution_count": 85,
   "metadata": {},
   "outputs": [
    {
     "data": {
      "text/plain": [
       "0      [snap, inc, is, a, camera, company, we, believ...\n",
       "1      [have, you, ever, wondered, what, happens, ins...\n",
       "2      [roofstock, is, the, leading, marketplace, for...\n",
       "3      [the, data, engineer, is, responsible, for, pr...\n",
       "4      [locations, tx, plano, united, states, of, ame...\n",
       "                             ...                        \n",
       "321    [feedback, loop, feedbackloop, com, is, a, gro...\n",
       "322    [do, you, believe, that, creators, should, hav...\n",
       "323    [embark, trucks, is, a, leading, self, driving...\n",
       "324    [why, choose, between, doing, meaningful, work...\n",
       "325    [about, may, mobility, may, mobility, is, a, s...\n",
       "Name: job_description, Length: 326, dtype: object"
      ]
     },
     "execution_count": 85,
     "metadata": {},
     "output_type": "execute_result"
    }
   ],
   "source": [
    "# word tokenize\n",
    "df['job_description'] = df.job_description.apply(tokenizer.tokenize)\n",
    "df.job_description"
   ]
  },
  {
   "cell_type": "code",
   "execution_count": 65,
   "metadata": {},
   "outputs": [
    {
     "name": "stderr",
     "output_type": "stream",
     "text": [
      "[nltk_data] Downloading package stopwords to\n",
      "[nltk_data]     C:\\Users\\duong\\AppData\\Roaming\\nltk_data...\n",
      "[nltk_data]   Package stopwords is already up-to-date!\n"
     ]
    },
    {
     "data": {
      "text/plain": [
       "True"
      ]
     },
     "execution_count": 65,
     "metadata": {},
     "output_type": "execute_result"
    }
   ],
   "source": [
    "# remove stopwords\n",
    "from nltk.corpus import stopwords\n",
    "nltk.download('stopwords')"
   ]
  },
  {
   "cell_type": "code",
   "execution_count": 86,
   "metadata": {},
   "outputs": [
    {
     "data": {
      "text/plain": [
       "['i', 'me']"
      ]
     },
     "execution_count": 86,
     "metadata": {},
     "output_type": "execute_result"
    }
   ],
   "source": [
    "all_stopwords = stopwords.words('english')\n",
    "all_stopwords[:2]"
   ]
  },
  {
   "cell_type": "code",
   "execution_count": 93,
   "metadata": {},
   "outputs": [
    {
     "data": {
      "text/plain": [
       "0      [snap, inc, camera, company, believe, reinvent...\n",
       "1      [ever, wondered, happens, inside, cloud, based...\n",
       "2      [roofstock, leading, marketplace, investing, s...\n",
       "3      [data, engineer, responsible, processing, stru...\n",
       "4      [locations, tx, plano, united, states, america...\n",
       "                             ...                        \n",
       "321    [feedback, loop, feedbackloop, com, growth, st...\n",
       "322    [believe, creators, ability, get, paid, value,...\n",
       "323    [embark, trucks, leading, self, driving, truck...\n",
       "324    [choose, meaningful, work, fulfilling, life, m...\n",
       "325    [may, mobility, may, mobility, self, driving, ...\n",
       "Name: job_description, Length: 326, dtype: object"
      ]
     },
     "execution_count": 93,
     "metadata": {},
     "output_type": "execute_result"
    }
   ],
   "source": [
    "df['job_description'] = df.job_description.apply(lambda text: [w for w in text if w not in all_stopwords])\n",
    "df.job_description"
   ]
  },
  {
   "cell_type": "code",
   "execution_count": 101,
   "metadata": {},
   "outputs": [
    {
     "name": "stdout",
     "output_type": "stream",
     "text": [
      "['snap', 'inc', 'camera', 'company', 'believe', 'reinventing', 'camera', 'represents', 'greatest', 'opportunity', 'improve', 'way', 'people', 'live', 'communicate', 'products', 'empower', 'people', 'express', 'live']\n",
      "['snap', 'inc', 'camera', 'compani', 'believ', 'reinvent', 'camera', 'repres', 'greatest', 'opportun', 'improv', 'way', 'peopl', 'live', 'commun', 'product', 'empow', 'peopl', 'express', 'live']\n",
      "['snap', 'inc', 'camera', 'company', 'believe', 'reinventing', 'camera', 'represents', 'greatest', 'opportunity', 'improve', 'way', 'people', 'live', 'communicate', 'product', 'empower', 'people', 'express', 'live']\n"
     ]
    }
   ],
   "source": [
    "porter = nltk.PorterStemmer()\n",
    "print(df.job_description[0][:20])\n",
    "print([porter.stem(t) for t in df.job_description[0][:20]])\n",
    "wnl = nltk.WordNetLemmatizer()\n",
    "print([wnl.lemmatize(t) for t in df.job_description[0][:20]])"
   ]
  },
  {
   "cell_type": "code",
   "execution_count": 102,
   "metadata": {},
   "outputs": [
    {
     "data": {
      "text/plain": [
       "0      [snap, inc, camera, company, believe, reinvent...\n",
       "1      [ever, wondered, happens, inside, cloud, based...\n",
       "2      [roofstock, leading, marketplace, investing, s...\n",
       "3      [data, engineer, responsible, processing, stru...\n",
       "4      [location, tx, plano, united, state, america, ...\n",
       "                             ...                        \n",
       "321    [feedback, loop, feedbackloop, com, growth, st...\n",
       "322    [believe, creator, ability, get, paid, value, ...\n",
       "323    [embark, truck, leading, self, driving, truck,...\n",
       "324    [choose, meaningful, work, fulfilling, life, m...\n",
       "325    [may, mobility, may, mobility, self, driving, ...\n",
       "Name: job_description, Length: 326, dtype: object"
      ]
     },
     "execution_count": 102,
     "metadata": {},
     "output_type": "execute_result"
    }
   ],
   "source": [
    "df['job_description'] = df.job_description.apply(lambda text: [wnl.lemmatize(t) for t in text])\n",
    "df.job_description"
   ]
  },
  {
   "cell_type": "code",
   "execution_count": 40,
   "metadata": {},
   "outputs": [],
   "source": [
    "from nltk.util import ngrams\n",
    "from collections import Counter\n"
   ]
  },
  {
   "cell_type": "code",
   "execution_count": 107,
   "metadata": {},
   "outputs": [
    {
     "name": "stdout",
     "output_type": "stream",
     "text": [
      "318\n"
     ]
    },
    {
     "data": {
      "text/plain": [
       "126043"
      ]
     },
     "execution_count": 107,
     "metadata": {},
     "output_type": "execute_result"
    }
   ],
   "source": [
    "print(len(df.job_description[0]))\n",
    "len(df.job_description.sum())"
   ]
  },
  {
   "cell_type": "code",
   "execution_count": 113,
   "metadata": {},
   "outputs": [
    {
     "data": {
      "text/plain": [
       "FreqDist({'data': 4808, 'experience': 1965, 'team': 1264, 'work': 1046, 'business': 944, 'year': 596, 'company': 585, 'technology': 576, 'skill': 568, 'tool': 567, ...})"
      ]
     },
     "execution_count": 113,
     "metadata": {},
     "output_type": "execute_result"
    }
   ],
   "source": [
    "#Create your bigrams\n",
    "#ugs = nltk.unigrams(df.job_description.sum())\n",
    "\n",
    "#compute frequency distribution for all the bigrams in the text\n",
    "fdist = nltk.FreqDist(df.job_description.sum())\n",
    "fdist"
   ]
  },
  {
   "cell_type": "code",
   "execution_count": 121,
   "metadata": {},
   "outputs": [
    {
     "data": {
      "text/plain": [
       "[('data', 4808),\n",
       " ('experience', 1965),\n",
       " ('team', 1264),\n",
       " ('work', 1046),\n",
       " ('business', 944),\n",
       " ('year', 596),\n",
       " ('company', 585),\n",
       " ('technology', 576),\n",
       " ('skill', 568),\n",
       " ('tool', 567),\n",
       " ('product', 546),\n",
       " ('solution', 545),\n",
       " ('development', 530),\n",
       " ('working', 525),\n",
       " ('science', 523),\n",
       " ('engineering', 521),\n",
       " ('engineer', 514),\n",
       " ('analytics', 510),\n",
       " ('python', 487),\n",
       " ('opportunity', 470),\n",
       " ('process', 451),\n",
       " ('sql', 450),\n",
       " ('learning', 446),\n",
       " ('new', 441),\n",
       " ('system', 436),\n",
       " ('design', 427),\n",
       " ('support', 413),\n",
       " ('build', 411),\n",
       " ('ability', 411),\n",
       " ('using', 408),\n",
       " ('model', 390),\n",
       " ('technical', 388),\n",
       " ('pipeline', 377),\n",
       " ('customer', 371),\n",
       " ('including', 369),\n",
       " ('environment', 361),\n",
       " ('building', 361),\n",
       " ('software', 360),\n",
       " ('analysis', 360),\n",
       " ('platform', 359),\n",
       " ('u', 356),\n",
       " ('service', 350),\n",
       " ('employee', 350),\n",
       " ('strong', 346),\n",
       " ('machine', 343),\n",
       " ('status', 340),\n",
       " ('le', 340),\n",
       " ('show', 336),\n",
       " ('time', 335),\n",
       " ('role', 330),\n",
       " ('help', 328),\n",
       " ('knowledge', 326),\n",
       " ('moreshow', 326),\n",
       " ('project', 321),\n",
       " ('application', 320),\n",
       " ('database', 320),\n",
       " ('develop', 318),\n",
       " ('problem', 316),\n",
       " ('information', 314),\n",
       " ('job', 301),\n",
       " ('requirement', 300),\n",
       " ('across', 295),\n",
       " ('need', 287),\n",
       " ('management', 271),\n",
       " ('people', 270),\n",
       " ('etc', 269),\n",
       " ('client', 269),\n",
       " ('value', 262),\n",
       " ('make', 259),\n",
       " ('degree', 258),\n",
       " ('scientist', 249),\n",
       " ('best', 248),\n",
       " ('benefit', 244),\n",
       " ('world', 243),\n",
       " ('cloud', 241),\n",
       " ('computer', 240),\n",
       " ('language', 238),\n",
       " ('based', 238),\n",
       " ('etl', 234),\n",
       " ('related', 233),\n",
       " ('disability', 233),\n",
       " ('required', 233),\n",
       " ('source', 232),\n",
       " ('industry', 231),\n",
       " ('provide', 223),\n",
       " ('one', 222),\n",
       " ('responsibility', 222),\n",
       " ('employment', 220),\n",
       " ('use', 220),\n",
       " ('decision', 219),\n",
       " ('employer', 215),\n",
       " ('large', 214),\n",
       " ('equal', 214),\n",
       " ('looking', 212),\n",
       " ('architecture', 212),\n",
       " ('gender', 212),\n",
       " ('aws', 210),\n",
       " ('quality', 209),\n",
       " ('high', 209),\n",
       " ('candidate', 206)]"
      ]
     },
     "execution_count": 121,
     "metadata": {},
     "output_type": "execute_result"
    }
   ],
   "source": [
    "sorted(fdist.items(), key=lambda item: item[1],reverse=True)[:100]"
   ]
  },
  {
   "cell_type": "code",
   "execution_count": 122,
   "metadata": {},
   "outputs": [
    {
     "data": {
      "text/plain": [
       "[(('machine', 'learning'), 328),\n",
       " (('show', 'moreshow'), 326),\n",
       " (('moreshow', 'le'), 326),\n",
       " (('data', 'engineer'), 302),\n",
       " (('data', 'science'), 286),\n",
       " (('year', 'experience'), 242),\n",
       " (('data', 'scientist'), 229),\n",
       " (('data', 'pipeline'), 222),\n",
       " (('computer', 'science'), 186),\n",
       " (('data', 'engineering'), 165),\n",
       " (('equal', 'opportunity'), 163),\n",
       " (('experience', 'working'), 155),\n",
       " (('big', 'data'), 153),\n",
       " (('sexual', 'orientation'), 149),\n",
       " (('2', 'year'), 145),\n",
       " (('national', 'origin'), 145),\n",
       " (('data', 'set'), 136),\n",
       " (('opportunity', 'employer'), 130),\n",
       " (('experience', 'data'), 120),\n",
       " (('gender', 'identity'), 115),\n",
       " (('veteran', 'status'), 115),\n",
       " (('communication', 'skill'), 109),\n",
       " (('data', 'analytics'), 109),\n",
       " (('data', 'warehouse'), 109),\n",
       " (('3', 'year'), 107),\n",
       " (('bachelor', 'degree'), 106),\n",
       " (('e', 'g'), 101),\n",
       " (('team', 'member'), 99),\n",
       " (('data', 'source'), 96),\n",
       " (('engineering', 'team'), 93),\n",
       " (('race', 'color'), 89),\n",
       " (('data', 'model'), 87),\n",
       " (('best', 'practice'), 86),\n",
       " (('data', 'visualization'), 86),\n",
       " (('problem', 'solving'), 85),\n",
       " (('experience', 'building'), 84),\n",
       " (('business', 'intelligence'), 81),\n",
       " (('real', 'time'), 80),\n",
       " (('data', 'platform'), 80),\n",
       " (('marital', 'status'), 78),\n",
       " (('data', 'analysis'), 78),\n",
       " (('data', 'driven'), 77),\n",
       " (('degree', 'computer'), 77),\n",
       " (('without', 'regard'), 77),\n",
       " (('color', 'religion'), 76),\n",
       " (('programming', 'language'), 75),\n",
       " (('5', 'year'), 72),\n",
       " (('data', 'warehousing'), 72),\n",
       " (('data', 'modeling'), 71),\n",
       " (('data', 'processing'), 69),\n",
       " (('ability', 'work'), 65),\n",
       " (('data', 'architecture'), 64),\n",
       " (('qualified', 'applicant'), 64),\n",
       " (('orientation', 'gender'), 64),\n",
       " (('related', 'field'), 63),\n",
       " (('fast', 'paced'), 62),\n",
       " (('cross', 'functional'), 61),\n",
       " (('regard', 'race'), 61),\n",
       " (('1', 'year'), 61),\n",
       " (('data', 'infrastructure'), 60),\n",
       " (('large', 'scale'), 58),\n",
       " (('data', 'quality'), 57),\n",
       " (('experience', 'using'), 57),\n",
       " (('data', 'lake'), 57),\n",
       " (('data', 'solution'), 57),\n",
       " (('skill', 'ability'), 56),\n",
       " (('decision', 'making'), 56),\n",
       " (('internal', 'external'), 55),\n",
       " (('end', 'end'), 55),\n",
       " (('dental', 'vision'), 54),\n",
       " (('sql', 'server'), 54),\n",
       " (('design', 'implement'), 54),\n",
       " (('hand', 'experience'), 53),\n",
       " (('functional', 'team'), 53),\n",
       " (('relational', 'database'), 52),\n",
       " (('job', 'description'), 51),\n",
       " (('software', 'engineering'), 50),\n",
       " (('software', 'development'), 50),\n",
       " (('united', 'state'), 49),\n",
       " (('data', 'technology'), 49),\n",
       " (('master', 'degree'), 49),\n",
       " (('etc', 'experience'), 49),\n",
       " (('work', 'closely'), 48),\n",
       " (('experience', 'developing'), 48),\n",
       " (('new', 'york'), 48),\n",
       " (('real', 'estate'), 48),\n",
       " (('ideal', 'candidate'), 48),\n",
       " (('new', 'data'), 47),\n",
       " (('large', 'data'), 47),\n",
       " (('data', 'product'), 46),\n",
       " (('business', 'requirement'), 46),\n",
       " (('looking', 'data'), 45),\n",
       " (('employment', 'opportunity'), 45),\n",
       " (('new', 'technology'), 45),\n",
       " (('data', 'mining'), 45),\n",
       " (('python', 'r'), 45),\n",
       " (('genetic', 'information'), 44),\n",
       " (('skill', 'experience'), 44),\n",
       " (('work', 'experience'), 44),\n",
       " (('protected', 'veteran'), 44)]"
      ]
     },
     "execution_count": 122,
     "metadata": {},
     "output_type": "execute_result"
    }
   ],
   "source": [
    "#Create your bigrams\n",
    "bgs = nltk.bigrams(df.job_description.sum())\n",
    "\n",
    "#compute frequency distribution for all the bigrams in the text\n",
    "fdist = nltk.FreqDist(bgs)\n",
    "sorted(fdist.items(), key=lambda item: item[1],reverse=True)[:100]"
   ]
  },
  {
   "cell_type": "code",
   "execution_count": 123,
   "metadata": {},
   "outputs": [
    {
     "data": {
      "text/plain": [
       "[(('show', 'moreshow', 'le'), 326),\n",
       " (('equal', 'opportunity', 'employer'), 125),\n",
       " (('2', 'year', 'experience'), 78),\n",
       " (('degree', 'computer', 'science'), 77),\n",
       " (('race', 'color', 'religion'), 66),\n",
       " (('sexual', 'orientation', 'gender'), 64),\n",
       " (('without', 'regard', 'race'), 61),\n",
       " (('orientation', 'gender', 'identity'), 58),\n",
       " (('3', 'year', 'experience'), 49),\n",
       " (('bachelor', 'degree', 'computer'), 46),\n",
       " (('regard', 'race', 'color'), 45),\n",
       " (('cross', 'functional', 'team'), 44),\n",
       " (('employment', 'without', 'regard'), 41),\n",
       " (('large', 'data', 'set'), 41),\n",
       " (('gender', 'identity', 'expression'), 39),\n",
       " (('equal', 'employment', 'opportunity'), 39),\n",
       " (('5', 'year', 'experience'), 38),\n",
       " (('problem', 'solving', 'skill'), 38),\n",
       " (('medical', 'dental', 'vision'), 38),\n",
       " (('machine', 'learning', 'model'), 33),\n",
       " (('1', 'year', 'experience'), 33),\n",
       " (('color', 'religion', 'sex'), 33),\n",
       " (('year', 'experience', 'data'), 33),\n",
       " (('data', 'engineering', 'team'), 32),\n",
       " (('protected', 'veteran', 'status'), 32),\n",
       " (('gender', 'sexual', 'orientation'), 31),\n",
       " (('receive', 'consideration', 'employment'), 31),\n",
       " (('consideration', 'employment', 'without'), 31),\n",
       " (('computer', 'science', 'related'), 30),\n",
       " (('computer', 'science', 'engineering'), 30),\n",
       " (('qualified', 'applicant', 'receive'), 29),\n",
       " (('applicant', 'receive', 'consideration'), 29),\n",
       " (('data', 'science', 'team'), 29),\n",
       " (('national', 'origin', 'age'), 29),\n",
       " (('state', 'local', 'law'), 28),\n",
       " (('federal', 'state', 'local'), 27),\n",
       " (('veteran', 'status', 'disability'), 27),\n",
       " (('year', 'experience', 'working'), 27),\n",
       " (('moreshow', 'le', 'job'), 27),\n",
       " (('color', 'national', 'origin'), 26),\n",
       " (('data', 'engineer', 'join'), 26),\n",
       " (('race', 'religion', 'color'), 26),\n",
       " (('data', 'pipeline', 'architecture'), 26),\n",
       " (('color', 'religion', 'gender'), 26),\n",
       " (('age', 'marital', 'status'), 25),\n",
       " (('fast', 'paced', 'environment'), 25),\n",
       " (('structured', 'unstructured', 'data'), 25),\n",
       " (('big', 'data', 'technology'), 25),\n",
       " (('characteristic', 'protected', 'law'), 25),\n",
       " (('status', 'veteran', 'status'), 24),\n",
       " (('large', 'scale', 'data'), 24),\n",
       " (('verbal', 'communication', 'skill'), 24),\n",
       " (('national', 'origin', 'gender'), 23),\n",
       " (('sexual', 'orientation', 'age'), 23),\n",
       " (('science', 'machine', 'learning'), 23),\n",
       " (('sex', 'national', 'origin'), 23),\n",
       " (('looking', 'data', 'engineer'), 23),\n",
       " (('data', 'scientist', 'data'), 23),\n",
       " (('sex', 'sexual', 'orientation'), 23),\n",
       " (('data', 'driven', 'decision'), 23),\n",
       " (('written', 'verbal', 'communication'), 23),\n",
       " (('experience', 'data', 'engineer'), 23),\n",
       " (('religion', 'color', 'national'), 22),\n",
       " (('science', 'related', 'field'), 22),\n",
       " (('qualification', 'bachelor', 'degree'), 22),\n",
       " (('employer', 'qualified', 'applicant'), 22),\n",
       " (('data', 'visualization', 'tool'), 22),\n",
       " (('affirmative', 'action', 'employer'), 22),\n",
       " (('gender', 'gender', 'identity'), 21),\n",
       " (('law', 'show', 'moreshow'), 21),\n",
       " (('proud', 'equal', 'opportunity'), 20),\n",
       " (('status', 'disability', 'status'), 20),\n",
       " (('data', 'science', 'machine'), 20),\n",
       " (('le', 'job', 'description'), 20),\n",
       " (('communication', 'skill', 'ability'), 20),\n",
       " (('natural', 'language', 'processing'), 20),\n",
       " (('identify', 'design', 'implement'), 20),\n",
       " (('variety', 'data', 'source'), 19),\n",
       " (('marital', 'status', 'veteran'), 19),\n",
       " (('analyst', 'data', 'scientist'), 19),\n",
       " (('experience', 'big', 'data'), 19),\n",
       " (('discriminate', 'basis', 'race'), 18),\n",
       " (('internal', 'external', 'data'), 18),\n",
       " (('moreshow', 'le', 'description'), 18),\n",
       " (('machine', 'learning', 'technique'), 18),\n",
       " (('national', 'origin', 'disability'), 18),\n",
       " (('data', 'engineer', 'work'), 18),\n",
       " (('physical', 'mental', 'disability'), 18),\n",
       " (('sexual', 'orientation', 'national'), 18),\n",
       " (('orientation', 'national', 'origin'), 18),\n",
       " (('machine', 'learning', 'algorithm'), 18),\n",
       " (('status', 'sexual', 'orientation'), 18),\n",
       " (('written', 'communication', 'skill'), 18),\n",
       " (('design', 'implement', 'internal'), 18),\n",
       " (('implement', 'internal', 'process'), 18),\n",
       " (('year', 'industry', 'experience'), 17),\n",
       " (('experience', 'machine', 'learning'), 17),\n",
       " (('data', 'science', 'analytics'), 17),\n",
       " (('tool', 'e', 'g'), 17),\n",
       " (('best', 'place', 'work'), 17)]"
      ]
     },
     "execution_count": 123,
     "metadata": {},
     "output_type": "execute_result"
    }
   ],
   "source": [
    "tgs=ngrams(df.job_description.sum(),3)\n",
    "fdist = nltk.FreqDist(tgs)\n",
    "sorted(fdist.items(), key=lambda item: item[1],reverse=True)[:100]"
   ]
  }
 ],
 "metadata": {
  "kernelspec": {
   "display_name": "Python 3",
   "language": "python",
   "name": "python3"
  },
  "language_info": {
   "codemirror_mode": {
    "name": "ipython",
    "version": 3
   },
   "file_extension": ".py",
   "mimetype": "text/x-python",
   "name": "python",
   "nbconvert_exporter": "python",
   "pygments_lexer": "ipython3",
   "version": "3.8.5"
  }
 },
 "nbformat": 4,
 "nbformat_minor": 4
}
