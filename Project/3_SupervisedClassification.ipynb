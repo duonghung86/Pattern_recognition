{
 "cells": [
  {
   "cell_type": "code",
   "execution_count": 1,
   "metadata": {},
   "outputs": [],
   "source": [
    "import pandas as pd\n",
    "import time\n",
    "import numpy as np\n",
    "import matplotlib.pyplot as plt\n",
    "import seaborn as sns\n",
    "from sklearn.preprocessing import LabelEncoder\n",
    "\n",
    "from sklearn.model_selection import train_test_split\n",
    "from sklearn.decomposition import TruncatedSVD\n",
    "from sklearn.pipeline import make_pipeline\n",
    "from sklearn.preprocessing import Normalizer\n",
    "from sklearn.feature_extraction.text import TfidfVectorizer\n",
    "\n",
    "from sklearn.linear_model import RidgeClassifier\n",
    "\n",
    "from mpl_toolkits.mplot3d import Axes3D\n",
    "from matplotlib import animation"
   ]
  },
  {
   "cell_type": "code",
   "execution_count": 2,
   "metadata": {
    "collapsed": false,
    "jupyter": {
     "outputs_hidden": false
    },
    "pycharm": {
     "name": "#%%\n"
    }
   },
   "outputs": [
    {
     "name": "stdout",
     "output_type": "stream",
     "text": [
      "<class 'pandas.core.frame.DataFrame'>\n",
      "RangeIndex: 912 entries, 0 to 911\n",
      "Data columns (total 17 columns):\n",
      " #   Column                         Non-Null Count  Dtype \n",
      "---  ------                         --------------  ----- \n",
      " 0   datePosted                     912 non-null    object\n",
      " 1   description                    912 non-null    object\n",
      " 2   employmentType                 912 non-null    object\n",
      " 3   experienceRequirements         912 non-null    object\n",
      " 4   hiringOrganization             912 non-null    object\n",
      " 5   identifier                     912 non-null    object\n",
      " 6   industry                       911 non-null    object\n",
      " 7   jobLocation                    912 non-null    object\n",
      " 8   skills                         5 non-null      object\n",
      " 9   title                          912 non-null    object\n",
      " 10  validThrough                   912 non-null    object\n",
      " 11  jobLocationType                122 non-null    object\n",
      " 12  applicantLocationRequirements  122 non-null    object\n",
      " 13  estimatedSalary                270 non-null    object\n",
      " 14  baseSalary                     24 non-null     object\n",
      " 15  desc_html                      912 non-null    object\n",
      " 16  desc                           912 non-null    object\n",
      "dtypes: object(17)\n",
      "memory usage: 121.2+ KB\n"
     ]
    },
    {
     "data": {
      "text/html": [
       "<div>\n",
       "<style scoped>\n",
       "    .dataframe tbody tr th:only-of-type {\n",
       "        vertical-align: middle;\n",
       "    }\n",
       "\n",
       "    .dataframe tbody tr th {\n",
       "        vertical-align: top;\n",
       "    }\n",
       "\n",
       "    .dataframe thead th {\n",
       "        text-align: right;\n",
       "    }\n",
       "</style>\n",
       "<table border=\"1\" class=\"dataframe\">\n",
       "  <thead>\n",
       "    <tr style=\"text-align: right;\">\n",
       "      <th></th>\n",
       "      <th>datePosted</th>\n",
       "      <th>description</th>\n",
       "      <th>employmentType</th>\n",
       "      <th>experienceRequirements</th>\n",
       "      <th>hiringOrganization</th>\n",
       "      <th>identifier</th>\n",
       "      <th>industry</th>\n",
       "      <th>jobLocation</th>\n",
       "      <th>skills</th>\n",
       "      <th>title</th>\n",
       "      <th>validThrough</th>\n",
       "      <th>jobLocationType</th>\n",
       "      <th>applicantLocationRequirements</th>\n",
       "      <th>estimatedSalary</th>\n",
       "      <th>baseSalary</th>\n",
       "      <th>desc_html</th>\n",
       "      <th>desc</th>\n",
       "    </tr>\n",
       "  </thead>\n",
       "  <tbody>\n",
       "    <tr>\n",
       "      <th>0</th>\n",
       "      <td>2021-03-23T16:03:21.000Z</td>\n",
       "      <td>Genuent is hiring a Data Scientist/Data Engine...</td>\n",
       "      <td>FULL_TIME</td>\n",
       "      <td>Mid-Senior level</td>\n",
       "      <td>{'@type': 'Organization', 'name': 'Genuent', '...</td>\n",
       "      <td>{'@type': 'PropertyValue', 'name': 'Genuent', ...</td>\n",
       "      <td>Staffing and Recruiting</td>\n",
       "      <td>{'@type': 'Place', 'address': {'@type': 'Posta...</td>\n",
       "      <td>NaN</td>\n",
       "      <td>Data Scientist - REMOTE</td>\n",
       "      <td>2021-04-22T16:03:20.000Z</td>\n",
       "      <td>NaN</td>\n",
       "      <td>NaN</td>\n",
       "      <td>NaN</td>\n",
       "      <td>NaN</td>\n",
       "      <td>&lt;p&gt;Genuent is hiring a Data Scientist/Data Eng...</td>\n",
       "      <td>responsibilities build long term causal estima...</td>\n",
       "    </tr>\n",
       "    <tr>\n",
       "      <th>1</th>\n",
       "      <td>2021-03-23T17:02:32.000Z</td>\n",
       "      <td>Ayata is developing its Prescriptive Analytics...</td>\n",
       "      <td>FULL_TIME</td>\n",
       "      <td>Entry level</td>\n",
       "      <td>{'@type': 'Organization', 'name': 'Ayata', 'sa...</td>\n",
       "      <td>{'@type': 'PropertyValue', 'name': 'Ayata', 'v...</td>\n",
       "      <td>Information Technology and Services,Computer S...</td>\n",
       "      <td>{'@type': 'Place', 'address': {'@type': 'Posta...</td>\n",
       "      <td>NaN</td>\n",
       "      <td>ML/AI/NLP Data Scientist</td>\n",
       "      <td>2021-04-22T17:02:32.000Z</td>\n",
       "      <td>NaN</td>\n",
       "      <td>NaN</td>\n",
       "      <td>NaN</td>\n",
       "      <td>NaN</td>\n",
       "      <td>Ayata is developing its Prescriptive Analytics...</td>\n",
       "      <td>responsibilities and duties ayata is looking f...</td>\n",
       "    </tr>\n",
       "    <tr>\n",
       "      <th>2</th>\n",
       "      <td>2021-03-23T14:35:46.000Z</td>\n",
       "      <td>Our team, part of the Customer Success Enginee...</td>\n",
       "      <td>FULL_TIME</td>\n",
       "      <td>Not Applicable</td>\n",
       "      <td>{'@type': 'Organization', 'name': 'Microsoft',...</td>\n",
       "      <td>{'@type': 'PropertyValue', 'name': 'Microsoft'...</td>\n",
       "      <td>Computer Hardware,Computer Software,Informatio...</td>\n",
       "      <td>{'@type': 'Place', 'address': {'@type': 'Posta...</td>\n",
       "      <td>NaN</td>\n",
       "      <td>Data &amp; Applied Scientist</td>\n",
       "      <td>2021-04-22T14:35:45.000Z</td>\n",
       "      <td>NaN</td>\n",
       "      <td>NaN</td>\n",
       "      <td>NaN</td>\n",
       "      <td>NaN</td>\n",
       "      <td>Our team, part of the Customer Success Enginee...</td>\n",
       "      <td>responsibilities responsibilities being one of...</td>\n",
       "    </tr>\n",
       "    <tr>\n",
       "      <th>3</th>\n",
       "      <td>2021-03-22T20:24:23.000Z</td>\n",
       "      <td>Headspace is looking for a Data Scientist to h...</td>\n",
       "      <td>FULL_TIME</td>\n",
       "      <td>Entry level</td>\n",
       "      <td>{'@type': 'Organization', 'name': 'Headspace I...</td>\n",
       "      <td>{'@type': 'PropertyValue', 'name': 'Headspace ...</td>\n",
       "      <td>Marketing and Advertising,Computer Software,In...</td>\n",
       "      <td>{'@type': 'Place', 'address': {'@type': 'Posta...</td>\n",
       "      <td>NaN</td>\n",
       "      <td>Data Scientist (Remote)</td>\n",
       "      <td>2021-04-21T20:24:22.000Z</td>\n",
       "      <td>TELECOMMUTE</td>\n",
       "      <td>{'@type': 'Country', 'name': 'United States'}</td>\n",
       "      <td>NaN</td>\n",
       "      <td>NaN</td>\n",
       "      <td>&lt;em&gt;Headspace is looking for a Data Scientist ...</td>\n",
       "      <td>successful candidate should love complex busin...</td>\n",
       "    </tr>\n",
       "    <tr>\n",
       "      <th>4</th>\n",
       "      <td>2021-03-23T09:07:02.000Z</td>\n",
       "      <td>DescriptionThe AWS Applications team builds po...</td>\n",
       "      <td>FULL_TIME</td>\n",
       "      <td>Not Applicable</td>\n",
       "      <td>{'@type': 'Organization', 'name': 'Amazon Web ...</td>\n",
       "      <td>{'@type': 'PropertyValue', 'name': 'Amazon Web...</td>\n",
       "      <td>Computer Software,Information Technology and S...</td>\n",
       "      <td>{'@type': 'Place', 'address': {'@type': 'Posta...</td>\n",
       "      <td>NaN</td>\n",
       "      <td>Data Scientist</td>\n",
       "      <td>2021-04-22T09:07:01.000Z</td>\n",
       "      <td>NaN</td>\n",
       "      <td>NaN</td>\n",
       "      <td>{'@type': 'MonetaryAmount', 'currency': 'USD',...</td>\n",
       "      <td>NaN</td>\n",
       "      <td>&lt;strong&gt;&lt;u&gt;Description&lt;br&gt;&lt;br&gt;&lt;/u&gt;&lt;/strong&gt;The...</td>\n",
       "      <td>what you will do here we are looking for a sea...</td>\n",
       "    </tr>\n",
       "  </tbody>\n",
       "</table>\n",
       "</div>"
      ],
      "text/plain": [
       "                 datePosted  \\\n",
       "0  2021-03-23T16:03:21.000Z   \n",
       "1  2021-03-23T17:02:32.000Z   \n",
       "2  2021-03-23T14:35:46.000Z   \n",
       "3  2021-03-22T20:24:23.000Z   \n",
       "4  2021-03-23T09:07:02.000Z   \n",
       "\n",
       "                                         description employmentType  \\\n",
       "0  Genuent is hiring a Data Scientist/Data Engine...      FULL_TIME   \n",
       "1  Ayata is developing its Prescriptive Analytics...      FULL_TIME   \n",
       "2  Our team, part of the Customer Success Enginee...      FULL_TIME   \n",
       "3  Headspace is looking for a Data Scientist to h...      FULL_TIME   \n",
       "4  DescriptionThe AWS Applications team builds po...      FULL_TIME   \n",
       "\n",
       "  experienceRequirements                                 hiringOrganization  \\\n",
       "0       Mid-Senior level  {'@type': 'Organization', 'name': 'Genuent', '...   \n",
       "1            Entry level  {'@type': 'Organization', 'name': 'Ayata', 'sa...   \n",
       "2         Not Applicable  {'@type': 'Organization', 'name': 'Microsoft',...   \n",
       "3            Entry level  {'@type': 'Organization', 'name': 'Headspace I...   \n",
       "4         Not Applicable  {'@type': 'Organization', 'name': 'Amazon Web ...   \n",
       "\n",
       "                                          identifier  \\\n",
       "0  {'@type': 'PropertyValue', 'name': 'Genuent', ...   \n",
       "1  {'@type': 'PropertyValue', 'name': 'Ayata', 'v...   \n",
       "2  {'@type': 'PropertyValue', 'name': 'Microsoft'...   \n",
       "3  {'@type': 'PropertyValue', 'name': 'Headspace ...   \n",
       "4  {'@type': 'PropertyValue', 'name': 'Amazon Web...   \n",
       "\n",
       "                                            industry  \\\n",
       "0                            Staffing and Recruiting   \n",
       "1  Information Technology and Services,Computer S...   \n",
       "2  Computer Hardware,Computer Software,Informatio...   \n",
       "3  Marketing and Advertising,Computer Software,In...   \n",
       "4  Computer Software,Information Technology and S...   \n",
       "\n",
       "                                         jobLocation skills  \\\n",
       "0  {'@type': 'Place', 'address': {'@type': 'Posta...    NaN   \n",
       "1  {'@type': 'Place', 'address': {'@type': 'Posta...    NaN   \n",
       "2  {'@type': 'Place', 'address': {'@type': 'Posta...    NaN   \n",
       "3  {'@type': 'Place', 'address': {'@type': 'Posta...    NaN   \n",
       "4  {'@type': 'Place', 'address': {'@type': 'Posta...    NaN   \n",
       "\n",
       "                      title              validThrough jobLocationType  \\\n",
       "0   Data Scientist - REMOTE  2021-04-22T16:03:20.000Z             NaN   \n",
       "1  ML/AI/NLP Data Scientist  2021-04-22T17:02:32.000Z             NaN   \n",
       "2  Data & Applied Scientist  2021-04-22T14:35:45.000Z             NaN   \n",
       "3   Data Scientist (Remote)  2021-04-21T20:24:22.000Z     TELECOMMUTE   \n",
       "4            Data Scientist  2021-04-22T09:07:01.000Z             NaN   \n",
       "\n",
       "                   applicantLocationRequirements  \\\n",
       "0                                            NaN   \n",
       "1                                            NaN   \n",
       "2                                            NaN   \n",
       "3  {'@type': 'Country', 'name': 'United States'}   \n",
       "4                                            NaN   \n",
       "\n",
       "                                     estimatedSalary baseSalary  \\\n",
       "0                                                NaN        NaN   \n",
       "1                                                NaN        NaN   \n",
       "2                                                NaN        NaN   \n",
       "3                                                NaN        NaN   \n",
       "4  {'@type': 'MonetaryAmount', 'currency': 'USD',...        NaN   \n",
       "\n",
       "                                           desc_html  \\\n",
       "0  <p>Genuent is hiring a Data Scientist/Data Eng...   \n",
       "1  Ayata is developing its Prescriptive Analytics...   \n",
       "2  Our team, part of the Customer Success Enginee...   \n",
       "3  <em>Headspace is looking for a Data Scientist ...   \n",
       "4  <strong><u>Description<br><br></u></strong>The...   \n",
       "\n",
       "                                                desc  \n",
       "0  responsibilities build long term causal estima...  \n",
       "1  responsibilities and duties ayata is looking f...  \n",
       "2  responsibilities responsibilities being one of...  \n",
       "3  successful candidate should love complex busin...  \n",
       "4  what you will do here we are looking for a sea...  "
      ]
     },
     "execution_count": 2,
     "metadata": {},
     "output_type": "execute_result"
    }
   ],
   "source": [
    "df = pd.read_csv('prepDS.csv')\n",
    "df.info()\n",
    "df.head()"
   ]
  },
  {
   "cell_type": "markdown",
   "metadata": {
    "pycharm": {
     "name": "#%% md\n"
    }
   },
   "source": [
    "# Prepare the explanatory variables and target variable"
   ]
  },
  {
   "cell_type": "code",
   "execution_count": 3,
   "metadata": {
    "collapsed": false,
    "jupyter": {
     "outputs_hidden": false
    },
    "pycharm": {
     "name": "#%%\n"
    }
   },
   "outputs": [
    {
     "data": {
      "text/plain": [
       "Entry level         442\n",
       "Mid-Senior level    205\n",
       "Not Applicable      153\n",
       "Associate           105\n",
       "Internship            5\n",
       "Director              2\n",
       "Name: experienceRequirements, dtype: int64"
      ]
     },
     "execution_count": 3,
     "metadata": {},
     "output_type": "execute_result"
    }
   ],
   "source": [
    "# Labels\n",
    "labels = df.experienceRequirements.value_counts()\n",
    "labels"
   ]
  },
  {
   "cell_type": "code",
   "execution_count": 4,
   "metadata": {
    "collapsed": false,
    "jupyter": {
     "outputs_hidden": false
    },
    "pycharm": {
     "name": "#%%\n"
    }
   },
   "outputs": [
    {
     "data": {
      "text/plain": [
       "Index(['Entry level', 'Mid-Senior level', 'Not Applicable', 'Associate'], dtype='object')"
      ]
     },
     "execution_count": 4,
     "metadata": {},
     "output_type": "execute_result"
    }
   ],
   "source": [
    "labels = labels.index # get the index of labels\n",
    "labels = labels[:4] # pick the 1st 5 label\n",
    "labels"
   ]
  },
  {
   "cell_type": "code",
   "execution_count": 5,
   "metadata": {
    "collapsed": false,
    "jupyter": {
     "outputs_hidden": false
    },
    "pycharm": {
     "name": "#%%\n"
    }
   },
   "outputs": [
    {
     "name": "stdout",
     "output_type": "stream",
     "text": [
      "<class 'pandas.core.frame.DataFrame'>\n",
      "Int64Index: 905 entries, 0 to 911\n",
      "Data columns (total 17 columns):\n",
      " #   Column                         Non-Null Count  Dtype \n",
      "---  ------                         --------------  ----- \n",
      " 0   datePosted                     905 non-null    object\n",
      " 1   description                    905 non-null    object\n",
      " 2   employmentType                 905 non-null    object\n",
      " 3   experienceRequirements         905 non-null    object\n",
      " 4   hiringOrganization             905 non-null    object\n",
      " 5   identifier                     905 non-null    object\n",
      " 6   industry                       904 non-null    object\n",
      " 7   jobLocation                    905 non-null    object\n",
      " 8   skills                         5 non-null      object\n",
      " 9   title                          905 non-null    object\n",
      " 10  validThrough                   905 non-null    object\n",
      " 11  jobLocationType                122 non-null    object\n",
      " 12  applicantLocationRequirements  122 non-null    object\n",
      " 13  estimatedSalary                269 non-null    object\n",
      " 14  baseSalary                     24 non-null     object\n",
      " 15  desc_html                      905 non-null    object\n",
      " 16  desc                           905 non-null    object\n",
      "dtypes: object(17)\n",
      "memory usage: 127.3+ KB\n"
     ]
    },
    {
     "data": {
      "text/html": [
       "<div>\n",
       "<style scoped>\n",
       "    .dataframe tbody tr th:only-of-type {\n",
       "        vertical-align: middle;\n",
       "    }\n",
       "\n",
       "    .dataframe tbody tr th {\n",
       "        vertical-align: top;\n",
       "    }\n",
       "\n",
       "    .dataframe thead th {\n",
       "        text-align: right;\n",
       "    }\n",
       "</style>\n",
       "<table border=\"1\" class=\"dataframe\">\n",
       "  <thead>\n",
       "    <tr style=\"text-align: right;\">\n",
       "      <th></th>\n",
       "      <th>datePosted</th>\n",
       "      <th>description</th>\n",
       "      <th>employmentType</th>\n",
       "      <th>experienceRequirements</th>\n",
       "      <th>hiringOrganization</th>\n",
       "      <th>identifier</th>\n",
       "      <th>industry</th>\n",
       "      <th>jobLocation</th>\n",
       "      <th>skills</th>\n",
       "      <th>title</th>\n",
       "      <th>validThrough</th>\n",
       "      <th>jobLocationType</th>\n",
       "      <th>applicantLocationRequirements</th>\n",
       "      <th>estimatedSalary</th>\n",
       "      <th>baseSalary</th>\n",
       "      <th>desc_html</th>\n",
       "      <th>desc</th>\n",
       "    </tr>\n",
       "  </thead>\n",
       "  <tbody>\n",
       "    <tr>\n",
       "      <th>0</th>\n",
       "      <td>2021-03-23T16:03:21.000Z</td>\n",
       "      <td>Genuent is hiring a Data Scientist/Data Engine...</td>\n",
       "      <td>FULL_TIME</td>\n",
       "      <td>Mid-Senior level</td>\n",
       "      <td>{'@type': 'Organization', 'name': 'Genuent', '...</td>\n",
       "      <td>{'@type': 'PropertyValue', 'name': 'Genuent', ...</td>\n",
       "      <td>Staffing and Recruiting</td>\n",
       "      <td>{'@type': 'Place', 'address': {'@type': 'Posta...</td>\n",
       "      <td>NaN</td>\n",
       "      <td>Data Scientist - REMOTE</td>\n",
       "      <td>2021-04-22T16:03:20.000Z</td>\n",
       "      <td>NaN</td>\n",
       "      <td>NaN</td>\n",
       "      <td>NaN</td>\n",
       "      <td>NaN</td>\n",
       "      <td>&lt;p&gt;Genuent is hiring a Data Scientist/Data Eng...</td>\n",
       "      <td>responsibilities build long term causal estima...</td>\n",
       "    </tr>\n",
       "    <tr>\n",
       "      <th>1</th>\n",
       "      <td>2021-03-23T17:02:32.000Z</td>\n",
       "      <td>Ayata is developing its Prescriptive Analytics...</td>\n",
       "      <td>FULL_TIME</td>\n",
       "      <td>Entry level</td>\n",
       "      <td>{'@type': 'Organization', 'name': 'Ayata', 'sa...</td>\n",
       "      <td>{'@type': 'PropertyValue', 'name': 'Ayata', 'v...</td>\n",
       "      <td>Information Technology and Services,Computer S...</td>\n",
       "      <td>{'@type': 'Place', 'address': {'@type': 'Posta...</td>\n",
       "      <td>NaN</td>\n",
       "      <td>ML/AI/NLP Data Scientist</td>\n",
       "      <td>2021-04-22T17:02:32.000Z</td>\n",
       "      <td>NaN</td>\n",
       "      <td>NaN</td>\n",
       "      <td>NaN</td>\n",
       "      <td>NaN</td>\n",
       "      <td>Ayata is developing its Prescriptive Analytics...</td>\n",
       "      <td>responsibilities and duties ayata is looking f...</td>\n",
       "    </tr>\n",
       "    <tr>\n",
       "      <th>2</th>\n",
       "      <td>2021-03-23T14:35:46.000Z</td>\n",
       "      <td>Our team, part of the Customer Success Enginee...</td>\n",
       "      <td>FULL_TIME</td>\n",
       "      <td>Not Applicable</td>\n",
       "      <td>{'@type': 'Organization', 'name': 'Microsoft',...</td>\n",
       "      <td>{'@type': 'PropertyValue', 'name': 'Microsoft'...</td>\n",
       "      <td>Computer Hardware,Computer Software,Informatio...</td>\n",
       "      <td>{'@type': 'Place', 'address': {'@type': 'Posta...</td>\n",
       "      <td>NaN</td>\n",
       "      <td>Data &amp; Applied Scientist</td>\n",
       "      <td>2021-04-22T14:35:45.000Z</td>\n",
       "      <td>NaN</td>\n",
       "      <td>NaN</td>\n",
       "      <td>NaN</td>\n",
       "      <td>NaN</td>\n",
       "      <td>Our team, part of the Customer Success Enginee...</td>\n",
       "      <td>responsibilities responsibilities being one of...</td>\n",
       "    </tr>\n",
       "  </tbody>\n",
       "</table>\n",
       "</div>"
      ],
      "text/plain": [
       "                 datePosted  \\\n",
       "0  2021-03-23T16:03:21.000Z   \n",
       "1  2021-03-23T17:02:32.000Z   \n",
       "2  2021-03-23T14:35:46.000Z   \n",
       "\n",
       "                                         description employmentType  \\\n",
       "0  Genuent is hiring a Data Scientist/Data Engine...      FULL_TIME   \n",
       "1  Ayata is developing its Prescriptive Analytics...      FULL_TIME   \n",
       "2  Our team, part of the Customer Success Enginee...      FULL_TIME   \n",
       "\n",
       "  experienceRequirements                                 hiringOrganization  \\\n",
       "0       Mid-Senior level  {'@type': 'Organization', 'name': 'Genuent', '...   \n",
       "1            Entry level  {'@type': 'Organization', 'name': 'Ayata', 'sa...   \n",
       "2         Not Applicable  {'@type': 'Organization', 'name': 'Microsoft',...   \n",
       "\n",
       "                                          identifier  \\\n",
       "0  {'@type': 'PropertyValue', 'name': 'Genuent', ...   \n",
       "1  {'@type': 'PropertyValue', 'name': 'Ayata', 'v...   \n",
       "2  {'@type': 'PropertyValue', 'name': 'Microsoft'...   \n",
       "\n",
       "                                            industry  \\\n",
       "0                            Staffing and Recruiting   \n",
       "1  Information Technology and Services,Computer S...   \n",
       "2  Computer Hardware,Computer Software,Informatio...   \n",
       "\n",
       "                                         jobLocation skills  \\\n",
       "0  {'@type': 'Place', 'address': {'@type': 'Posta...    NaN   \n",
       "1  {'@type': 'Place', 'address': {'@type': 'Posta...    NaN   \n",
       "2  {'@type': 'Place', 'address': {'@type': 'Posta...    NaN   \n",
       "\n",
       "                      title              validThrough jobLocationType  \\\n",
       "0   Data Scientist - REMOTE  2021-04-22T16:03:20.000Z             NaN   \n",
       "1  ML/AI/NLP Data Scientist  2021-04-22T17:02:32.000Z             NaN   \n",
       "2  Data & Applied Scientist  2021-04-22T14:35:45.000Z             NaN   \n",
       "\n",
       "  applicantLocationRequirements estimatedSalary baseSalary  \\\n",
       "0                           NaN             NaN        NaN   \n",
       "1                           NaN             NaN        NaN   \n",
       "2                           NaN             NaN        NaN   \n",
       "\n",
       "                                           desc_html  \\\n",
       "0  <p>Genuent is hiring a Data Scientist/Data Eng...   \n",
       "1  Ayata is developing its Prescriptive Analytics...   \n",
       "2  Our team, part of the Customer Success Enginee...   \n",
       "\n",
       "                                                desc  \n",
       "0  responsibilities build long term causal estima...  \n",
       "1  responsibilities and duties ayata is looking f...  \n",
       "2  responsibilities responsibilities being one of...  "
      ]
     },
     "execution_count": 5,
     "metadata": {},
     "output_type": "execute_result"
    }
   ],
   "source": [
    "df = df[df.experienceRequirements.isin(labels)].copy()\n",
    "df.info()\n",
    "df.head(3)"
   ]
  },
  {
   "cell_type": "code",
   "execution_count": 6,
   "metadata": {
    "collapsed": false,
    "jupyter": {
     "outputs_hidden": false
    },
    "pycharm": {
     "name": "#%%\n"
    }
   },
   "outputs": [
    {
     "name": "stdout",
     "output_type": "stream",
     "text": [
      "['Associate' 'Entry level' 'Mid-Senior level' 'Not Applicable']\n"
     ]
    },
    {
     "data": {
      "text/plain": [
       "(0    Mid-Senior level\n",
       " 1         Entry level\n",
       " 2      Not Applicable\n",
       " Name: experienceRequirements, dtype: object,\n",
       " array([2, 1, 3]))"
      ]
     },
     "execution_count": 6,
     "metadata": {},
     "output_type": "execute_result"
    }
   ],
   "source": [
    "le = LabelEncoder()\n",
    "y = le.fit_transform(df.experienceRequirements)\n",
    "print(le.classes_)\n",
    "df.experienceRequirements[:3],y[:3]"
   ]
  },
  {
   "cell_type": "code",
   "execution_count": 7,
   "metadata": {},
   "outputs": [],
   "source": [
    "def remove_number(s):\n",
    "    return ''.join([i for i in s if not i.isdigit()])\n",
    "remove_number('asdsa 3245 245 2ad asad')\n",
    "df['desc'] = df.desc.apply(remove_number)"
   ]
  },
  {
   "cell_type": "code",
   "execution_count": 8,
   "metadata": {
    "collapsed": false,
    "jupyter": {
     "outputs_hidden": false
    },
    "pycharm": {
     "name": "#%%\n"
    },
    "scrolled": true
   },
   "outputs": [
    {
     "name": "stdout",
     "output_type": "stream",
     "text": [
      "['aa', 'aa dei', 'aa dei equal', 'aa dei equal opportunity', 'aa eeo', 'aa eeo employer', 'aa eeo employer united', 'aa employer', 'aa employer qualified', 'aa employer qualified individuals', 'aa employer veterans', 'aa employer veterans disabled', 'aa goal', 'aa goal fully', 'aa goal fully utilize', 'aa veteran', 'aa veteran disability', 'aa veteran disability disclaimer', 'aa veterans', 'aa veterans disabled']\n",
      "(905, 427141)\n"
     ]
    },
    {
     "data": {
      "text/plain": [
       "array([[0., 0., 0., 0., 0.],\n",
       "       [0., 0., 0., 0., 0.],\n",
       "       [0., 0., 0., 0., 0.],\n",
       "       [0., 0., 0., 0., 0.],\n",
       "       [0., 0., 0., 0., 0.]])"
      ]
     },
     "execution_count": 8,
     "metadata": {},
     "output_type": "execute_result"
    }
   ],
   "source": [
    "vectorizer = TfidfVectorizer(stop_words='english',\n",
    "                             ngram_range=(1,4),\n",
    "                             norm='l2'\n",
    "                             )\n",
    "X = vectorizer.fit_transform(df.desc)\n",
    "print(vectorizer.get_feature_names()[:20])\n",
    "print(X.shape)\n",
    "X.toarray()[:5,:5]"
   ]
  },
  {
   "cell_type": "code",
   "execution_count": 9,
   "metadata": {},
   "outputs": [
    {
     "data": {
      "text/plain": [
       "matrix([[2.23765484e-04, 3.99207734e-05, 3.99207734e-05, ...,\n",
       "         2.03032336e-05, 2.03032336e-05, 2.03032336e-05]])"
      ]
     },
     "execution_count": 9,
     "metadata": {},
     "output_type": "execute_result"
    }
   ],
   "source": [
    "tfi = X.mean(0)\n",
    "tfi"
   ]
  },
  {
   "cell_type": "code",
   "execution_count": 10,
   "metadata": {},
   "outputs": [
    {
     "data": {
      "text/plain": [
       "(1, 1330)"
      ]
     },
     "execution_count": 10,
     "metadata": {},
     "output_type": "execute_result"
    }
   ],
   "source": [
    "tfi[tfi>0.001].shape"
   ]
  },
  {
   "cell_type": "code",
   "execution_count": 11,
   "metadata": {},
   "outputs": [
    {
     "data": {
      "text/plain": [
       "(427141,)"
      ]
     },
     "execution_count": 11,
     "metadata": {},
     "output_type": "execute_result"
    }
   ],
   "source": [
    "tfi = np.array(tfi>0.001).flatten()\n",
    "tfi.shape"
   ]
  },
  {
   "cell_type": "code",
   "execution_count": 12,
   "metadata": {
    "scrolled": true
   },
   "outputs": [
    {
     "data": {
      "text/plain": [
       "(1330,)"
      ]
     },
     "execution_count": 12,
     "metadata": {},
     "output_type": "execute_result"
    }
   ],
   "source": [
    "hff = np.array(vectorizer.get_feature_names())[list(tfi)]\n",
    "hff.shape"
   ]
  },
  {
   "cell_type": "code",
   "execution_count": 13,
   "metadata": {},
   "outputs": [],
   "source": [
    "X_df = pd.DataFrame(X.toarray(),columns= vectorizer.get_feature_names())\n",
    "X_df = X_df[hff]"
   ]
  },
  {
   "cell_type": "code",
   "execution_count": 14,
   "metadata": {},
   "outputs": [
    {
     "data": {
      "text/plain": [
       "(905, 1330)"
      ]
     },
     "execution_count": 14,
     "metadata": {},
     "output_type": "execute_result"
    }
   ],
   "source": [
    "X_df.values.shape"
   ]
  },
  {
   "cell_type": "code",
   "execution_count": 15,
   "metadata": {
    "collapsed": false,
    "jupyter": {
     "outputs_hidden": false
    },
    "pycharm": {
     "name": "#%%\n"
    }
   },
   "outputs": [
    {
     "name": "stdout",
     "output_type": "stream",
     "text": [
      "Explained variance of the SVD step: 4%\n",
      "\n"
     ]
    }
   ],
   "source": [
    "svd = TruncatedSVD(2)\n",
    "normalizer = Normalizer(copy=False)\n",
    "lsa = make_pipeline(svd, normalizer)\n",
    "\n",
    "X_lsa = lsa.fit_transform(X_df.values)\n",
    "explained_variance = svd.explained_variance_ratio_.sum()\n",
    "print(\"Explained variance of the SVD step: {}%\".format(\n",
    "    int(explained_variance * 100)))\n",
    "\n",
    "print()"
   ]
  },
  {
   "cell_type": "code",
   "execution_count": 16,
   "metadata": {
    "collapsed": false,
    "jupyter": {
     "outputs_hidden": false
    },
    "pycharm": {
     "name": "#%%\n"
    }
   },
   "outputs": [
    {
     "data": {
      "image/png": "[encoded data removed]",
      "text/plain": [
       "<Figure size 432x288 with 1 Axes>"
      ]
     },
     "metadata": {
      "needs_background": "light"
     },
     "output_type": "display_data"
    }
   ],
   "source": [
    "sns.scatterplot(x=X_lsa[:,0],\n",
    "                y=X_lsa[:,1],\n",
    "                hue=le.inverse_transform(y),\n",
    "                palette=['red','blue','orange','black'])\n",
    "plt.show()"
   ]
  },
  {
   "cell_type": "code",
   "execution_count": 17,
   "metadata": {},
   "outputs": [
    {
     "name": "stdout",
     "output_type": "stream",
     "text": [
      "Explained variance of the SVD step: 4%\n",
      "\n"
     ]
    }
   ],
   "source": [
    "svd = TruncatedSVD(2)\n",
    "normalizer = Normalizer(copy=False)\n",
    "lsa = make_pipeline(svd, normalizer)\n",
    "\n",
    "X_lsa = lsa.fit_transform(X_df.values)\n",
    "explained_variance = svd.explained_variance_ratio_.sum()\n",
    "print(\"Explained variance of the SVD step: {}%\".format(\n",
    "    int(explained_variance * 100)))\n",
    "\n",
    "print()"
   ]
  },
  {
   "cell_type": "code",
   "execution_count": 18,
   "metadata": {},
   "outputs": [
    {
     "data": {
      "image/png": "[encoded data removed]",
      "text/plain": [
       "<Figure size 432x288 with 1 Axes>"
      ]
     },
     "metadata": {
      "needs_background": "light"
     },
     "output_type": "display_data"
    }
   ],
   "source": [
    "sns.scatterplot(x=X_lsa[:,0],\n",
    "                y=X_lsa[:,1],\n",
    "                hue=le.inverse_transform(y),\n",
    "                palette=['red','blue','orange','black'])\n",
    "plt.xlabel('PC0')\n",
    "plt.ylabel('PC1')\n",
    "plt.show()"
   ]
  },
  {
   "cell_type": "code",
   "execution_count": 19,
   "metadata": {},
   "outputs": [],
   "source": [
    "color = ['red','blue','orange','black']"
   ]
  },
  {
   "cell_type": "code",
   "execution_count": 20,
   "metadata": {},
   "outputs": [
    {
     "ename": "IndexError",
     "evalue": "index 2 is out of bounds for axis 1 with size 2",
     "output_type": "error",
     "traceback": [
      "\u001b[1;31m---------------------------------------------------------------------------\u001b[0m",
      "\u001b[1;31mIndexError\u001b[0m                                Traceback (most recent call last)",
      "\u001b[1;32m<ipython-input-20-fd74003258b5>\u001b[0m in \u001b[0;36m<module>\u001b[1;34m\u001b[0m\n\u001b[0;32m      3\u001b[0m \u001b[1;32mfor\u001b[0m \u001b[0mi\u001b[0m\u001b[1;33m,\u001b[0m\u001b[0mx\u001b[0m \u001b[1;32min\u001b[0m \u001b[0menumerate\u001b[0m\u001b[1;33m(\u001b[0m\u001b[0mle\u001b[0m\u001b[1;33m.\u001b[0m\u001b[0mclasses_\u001b[0m\u001b[1;33m)\u001b[0m\u001b[1;33m:\u001b[0m\u001b[1;33m\u001b[0m\u001b[1;33m\u001b[0m\u001b[0m\n\u001b[0;32m      4\u001b[0m     \u001b[0mclus\u001b[0m \u001b[1;33m=\u001b[0m \u001b[0mX_lsa\u001b[0m\u001b[1;33m[\u001b[0m\u001b[0my\u001b[0m\u001b[1;33m==\u001b[0m\u001b[0mi\u001b[0m\u001b[1;33m]\u001b[0m\u001b[1;33m\u001b[0m\u001b[1;33m\u001b[0m\u001b[0m\n\u001b[1;32m----> 5\u001b[1;33m     \u001b[0max\u001b[0m\u001b[1;33m.\u001b[0m\u001b[0mscatter\u001b[0m\u001b[1;33m(\u001b[0m\u001b[0mclus\u001b[0m\u001b[1;33m[\u001b[0m\u001b[1;33m:\u001b[0m\u001b[1;33m,\u001b[0m\u001b[1;36m0\u001b[0m\u001b[1;33m]\u001b[0m\u001b[1;33m,\u001b[0m\u001b[0mclus\u001b[0m\u001b[1;33m[\u001b[0m\u001b[1;33m:\u001b[0m\u001b[1;33m,\u001b[0m\u001b[1;36m1\u001b[0m\u001b[1;33m]\u001b[0m\u001b[1;33m,\u001b[0m\u001b[0mclus\u001b[0m\u001b[1;33m[\u001b[0m\u001b[1;33m:\u001b[0m\u001b[1;33m,\u001b[0m\u001b[1;36m2\u001b[0m\u001b[1;33m]\u001b[0m\u001b[1;33m,\u001b[0m \u001b[0ms\u001b[0m\u001b[1;33m=\u001b[0m\u001b[1;36m20\u001b[0m\u001b[1;33m,\u001b[0m \u001b[0mc\u001b[0m\u001b[1;33m=\u001b[0m\u001b[0mcolor\u001b[0m\u001b[1;33m[\u001b[0m\u001b[0mi\u001b[0m\u001b[1;33m]\u001b[0m\u001b[1;33m,\u001b[0m\u001b[0mlabel\u001b[0m \u001b[1;33m=\u001b[0m \u001b[0mx\u001b[0m\u001b[1;33m,\u001b[0m \u001b[0mdepthshade\u001b[0m\u001b[1;33m=\u001b[0m\u001b[1;32mTrue\u001b[0m\u001b[1;33m,\u001b[0m\u001b[1;33m)\u001b[0m\u001b[1;33m\u001b[0m\u001b[1;33m\u001b[0m\u001b[0m\n\u001b[0m\u001b[0;32m      6\u001b[0m \u001b[0mplt\u001b[0m\u001b[1;33m.\u001b[0m\u001b[0mlegend\u001b[0m\u001b[1;33m(\u001b[0m\u001b[1;33m)\u001b[0m\u001b[1;33m\u001b[0m\u001b[1;33m\u001b[0m\u001b[0m\n\u001b[0;32m      7\u001b[0m \u001b[0mplt\u001b[0m\u001b[1;33m.\u001b[0m\u001b[0mshow\u001b[0m\u001b[1;33m(\u001b[0m\u001b[1;33m)\u001b[0m\u001b[1;33m\u001b[0m\u001b[1;33m\u001b[0m\u001b[0m\n",
      "\u001b[1;31mIndexError\u001b[0m: index 2 is out of bounds for axis 1 with size 2"
     ]
    },
    {
     "data": {
      "image/png": "[encoded data removed]",
      "text/plain": [
       "<Figure size 864x864 with 1 Axes>"
      ]
     },
     "metadata": {
      "needs_background": "light"
     },
     "output_type": "display_data"
    }
   ],
   "source": [
    "fig = plt.figure(figsize=(12,12))\n",
    "ax = fig.add_subplot(111, projection='3d')\n",
    "for i,x in enumerate(le.classes_):\n",
    "    clus = X_lsa[y==i]\n",
    "    ax.scatter(clus[:,0],clus[:,1],clus[:,2], s=20, c=color[i],label = x, depthshade=True,)\n",
    "plt.legend()\n",
    "plt.show()"
   ]
  },
  {
   "cell_type": "code",
   "execution_count": null,
   "metadata": {},
   "outputs": [],
   "source": [
    "# Create a figure and a 3D Axes\n",
    "fig = plt.figure(dpi=150)\n",
    "ax = Axes3D(fig)\n",
    "\n",
    "def init():\n",
    "    for i,x in enumerate(le.classes_):\n",
    "        clus = X_lsa[y==i]\n",
    "        ax.scatter(clus[:,0],clus[:,1],clus[:,2], s=5, c=color[i],label = x, depthshade=True,)\n",
    "    \n",
    "    return fig,\n",
    "\n",
    "def animate(i):\n",
    "    ax.view_init(elev=10., azim=i)\n",
    "    return fig,\n",
    "\n",
    "# Animate\n",
    "#anim = animation.FuncAnimation(fig, animate, init_func=init,\n",
    "                               frames=360, interval=20, blit=True)\n",
    "# Save\n",
    "#anim.save('LSA_animation.mp4', fps=30, extra_args=['-vcodec', 'libx264'])"
   ]
  },
  {
   "cell_type": "code",
   "execution_count": 21,
   "metadata": {
    "collapsed": false,
    "jupyter": {
     "outputs_hidden": false
    },
    "pycharm": {
     "name": "#%%\n"
    }
   },
   "outputs": [
    {
     "name": "stdout",
     "output_type": "stream",
     "text": [
      "Explained variance of the SVD step: 74%\n",
      "\n"
     ]
    }
   ],
   "source": [
    "svd = TruncatedSVD(500)\n",
    "normalizer = Normalizer(copy=False)\n",
    "lsa = make_pipeline(svd, normalizer)\n",
    "\n",
    "X_lsa = lsa.fit_transform(X)\n",
    "explained_variance = svd.explained_variance_ratio_.sum()\n",
    "print(\"Explained variance of the SVD step: {}%\".format(\n",
    "    int(explained_variance * 100)))\n",
    "\n",
    "print()"
   ]
  },
  {
   "cell_type": "code",
   "execution_count": 22,
   "metadata": {
    "collapsed": false,
    "jupyter": {
     "outputs_hidden": false
    },
    "pycharm": {
     "name": "#%%\n"
    }
   },
   "outputs": [
    {
     "data": {
      "image/png": "[encoded data removed]",
      "text/plain": [
       "<Figure size 432x288 with 1 Axes>"
      ]
     },
     "metadata": {
      "needs_background": "light"
     },
     "output_type": "display_data"
    }
   ],
   "source": [
    "plt.plot(svd.explained_variance_ratio_.cumsum())\n",
    "plt.xlabel('Number of components')\n",
    "plt.ylabel('Cumulative Explained Variance Ratio')\n",
    "plt.show()"
   ]
  },
  {
   "cell_type": "code",
   "execution_count": 25,
   "metadata": {},
   "outputs": [],
   "source": [
    "from sklearn.ensemble import RandomForestClassifier"
   ]
  },
  {
   "cell_type": "code",
   "execution_count": 32,
   "metadata": {
    "collapsed": false,
    "jupyter": {
     "outputs_hidden": false
    },
    "pycharm": {
     "name": "#%%\n"
    }
   },
   "outputs": [
    {
     "name": "stdout",
     "output_type": "stream",
     "text": [
      "(724, 1330) (181, 1330)\n"
     ]
    }
   ],
   "source": [
    "X_train, X_test, y_train, y_test = train_test_split(X_df,\n",
    "                                                    y,\n",
    "                                                    test_size=0.2,\n",
    "                                                    stratify=y,\n",
    "                                                    random_state=42)\n",
    "print(X_train.shape, X_test.shape)"
   ]
  },
  {
   "cell_type": "code",
   "execution_count": 33,
   "metadata": {
    "collapsed": false,
    "jupyter": {
     "outputs_hidden": false
    },
    "pycharm": {
     "name": "#%%\n"
    }
   },
   "outputs": [
    {
     "data": {
      "text/plain": [
       "(0.5082872928176796, 0.4861878453038674)"
      ]
     },
     "execution_count": 33,
     "metadata": {},
     "output_type": "execute_result"
    }
   ],
   "source": [
    "clf = RidgeClassifier().fit(X_train, y_train)\n",
    "clf.score(X_train, y_train), clf.score(X_test, y_test)"
   ]
  },
  {
   "cell_type": "code",
   "execution_count": 26,
   "metadata": {},
   "outputs": [],
   "source": [
    "X_train, X_test, y_train, y_test = train_test_split(X_df,\n",
    "                                                    y,\n",
    "                                                    test_size=0.2,\n",
    "                                                    stratify=y,\n",
    "                                                    random_state=42)"
   ]
  },
  {
   "cell_type": "code",
   "execution_count": 27,
   "metadata": {},
   "outputs": [],
   "source": [
    "model = RandomForestClassifier()\n",
    "# fit the model\n",
    "model.fit(X_train, y_train)\n",
    "# get importance\n",
    "importance = model.feature_importances_"
   ]
  },
  {
   "cell_type": "code",
   "execution_count": 31,
   "metadata": {},
   "outputs": [
    {
     "data": {
      "text/plain": [
       "(0.9917127071823204, 0.5469613259668509)"
      ]
     },
     "execution_count": 31,
     "metadata": {},
     "output_type": "execute_result"
    }
   ],
   "source": [
    "model.score(X_train, y_train), model.score(X_test, y_test)"
   ]
  },
  {
   "cell_type": "code",
   "execution_count": 28,
   "metadata": {},
   "outputs": [
    {
     "data": {
      "text/plain": [
       "array([['abilities', 'ability', 'ability communicate', ...,\n",
       "        'years relevant experience', 'years work',\n",
       "        'years work experience'],\n",
       "       [6.987706664433462e-05, 0.0018777580771070315,\n",
       "        0.0002935023795921136, ..., 0.0007453484419488748,\n",
       "        0.00021344039937205253, 0.0004391004066971356]], dtype=object)"
      ]
     },
     "execution_count": 28,
     "metadata": {},
     "output_type": "execute_result"
    }
   ],
   "source": [
    "np.array([X_df.columns, importance],order='C')"
   ]
  },
  {
   "cell_type": "code",
   "execution_count": 29,
   "metadata": {},
   "outputs": [
    {
     "data": {
      "text/html": [
       "<div>\n",
       "<style scoped>\n",
       "    .dataframe tbody tr th:only-of-type {\n",
       "        vertical-align: middle;\n",
       "    }\n",
       "\n",
       "    .dataframe tbody tr th {\n",
       "        vertical-align: top;\n",
       "    }\n",
       "\n",
       "    .dataframe thead th {\n",
       "        text-align: right;\n",
       "    }\n",
       "</style>\n",
       "<table border=\"1\" class=\"dataframe\">\n",
       "  <thead>\n",
       "    <tr style=\"text-align: right;\">\n",
       "      <th></th>\n",
       "      <th>Feature</th>\n",
       "      <th>imp</th>\n",
       "    </tr>\n",
       "  </thead>\n",
       "  <tbody>\n",
       "    <tr>\n",
       "      <th>0</th>\n",
       "      <td>abilities</td>\n",
       "      <td>0.000070</td>\n",
       "    </tr>\n",
       "    <tr>\n",
       "      <th>1</th>\n",
       "      <td>ability</td>\n",
       "      <td>0.001878</td>\n",
       "    </tr>\n",
       "    <tr>\n",
       "      <th>2</th>\n",
       "      <td>ability communicate</td>\n",
       "      <td>0.000294</td>\n",
       "    </tr>\n",
       "    <tr>\n",
       "      <th>3</th>\n",
       "      <td>ability work</td>\n",
       "      <td>0.000973</td>\n",
       "    </tr>\n",
       "    <tr>\n",
       "      <th>4</th>\n",
       "      <td>able</td>\n",
       "      <td>0.000732</td>\n",
       "    </tr>\n",
       "  </tbody>\n",
       "</table>\n",
       "</div>"
      ],
      "text/plain": [
       "               Feature       imp\n",
       "0            abilities  0.000070\n",
       "1              ability  0.001878\n",
       "2  ability communicate  0.000294\n",
       "3         ability work  0.000973\n",
       "4                 able  0.000732"
      ]
     },
     "execution_count": 29,
     "metadata": {},
     "output_type": "execute_result"
    }
   ],
   "source": [
    "# summarize feature importance\n",
    "imp_df = pd.DataFrame(X_df.columns, columns = ['Feature'])\n",
    "imp_df['imp'] = importance\n",
    "imp_df.head()"
   ]
  },
  {
   "cell_type": "code",
   "execution_count": 30,
   "metadata": {},
   "outputs": [
    {
     "data": {
      "text/html": [
       "<div>\n",
       "<style scoped>\n",
       "    .dataframe tbody tr th:only-of-type {\n",
       "        vertical-align: middle;\n",
       "    }\n",
       "\n",
       "    .dataframe tbody tr th {\n",
       "        vertical-align: top;\n",
       "    }\n",
       "\n",
       "    .dataframe thead th {\n",
       "        text-align: right;\n",
       "    }\n",
       "</style>\n",
       "<table border=\"1\" class=\"dataframe\">\n",
       "  <thead>\n",
       "    <tr style=\"text-align: right;\">\n",
       "      <th></th>\n",
       "      <th>Feature</th>\n",
       "      <th>imp</th>\n",
       "    </tr>\n",
       "  </thead>\n",
       "  <tbody>\n",
       "    <tr>\n",
       "      <th>0</th>\n",
       "      <td>sql</td>\n",
       "      <td>0.005081</td>\n",
       "    </tr>\n",
       "    <tr>\n",
       "      <th>1</th>\n",
       "      <td>data</td>\n",
       "      <td>0.004519</td>\n",
       "    </tr>\n",
       "    <tr>\n",
       "      <th>2</th>\n",
       "      <td>learning</td>\n",
       "      <td>0.004351</td>\n",
       "    </tr>\n",
       "    <tr>\n",
       "      <th>3</th>\n",
       "      <td>years</td>\n",
       "      <td>0.004260</td>\n",
       "    </tr>\n",
       "    <tr>\n",
       "      <th>4</th>\n",
       "      <td>machine learning</td>\n",
       "      <td>0.004108</td>\n",
       "    </tr>\n",
       "    <tr>\n",
       "      <th>5</th>\n",
       "      <td>machine</td>\n",
       "      <td>0.004080</td>\n",
       "    </tr>\n",
       "    <tr>\n",
       "      <th>6</th>\n",
       "      <td>solutions</td>\n",
       "      <td>0.003576</td>\n",
       "    </tr>\n",
       "    <tr>\n",
       "      <th>7</th>\n",
       "      <td>skills</td>\n",
       "      <td>0.003530</td>\n",
       "    </tr>\n",
       "    <tr>\n",
       "      <th>8</th>\n",
       "      <td>experience</td>\n",
       "      <td>0.003490</td>\n",
       "    </tr>\n",
       "    <tr>\n",
       "      <th>9</th>\n",
       "      <td>work</td>\n",
       "      <td>0.003382</td>\n",
       "    </tr>\n",
       "    <tr>\n",
       "      <th>10</th>\n",
       "      <td>communication</td>\n",
       "      <td>0.003324</td>\n",
       "    </tr>\n",
       "    <tr>\n",
       "      <th>11</th>\n",
       "      <td>employment opportunity</td>\n",
       "      <td>0.003321</td>\n",
       "    </tr>\n",
       "    <tr>\n",
       "      <th>12</th>\n",
       "      <td>writing</td>\n",
       "      <td>0.003273</td>\n",
       "    </tr>\n",
       "    <tr>\n",
       "      <th>13</th>\n",
       "      <td>science</td>\n",
       "      <td>0.003266</td>\n",
       "    </tr>\n",
       "    <tr>\n",
       "      <th>14</th>\n",
       "      <td>protected</td>\n",
       "      <td>0.003252</td>\n",
       "    </tr>\n",
       "    <tr>\n",
       "      <th>15</th>\n",
       "      <td>code</td>\n",
       "      <td>0.003214</td>\n",
       "    </tr>\n",
       "    <tr>\n",
       "      <th>16</th>\n",
       "      <td>company</td>\n",
       "      <td>0.003173</td>\n",
       "    </tr>\n",
       "    <tr>\n",
       "      <th>17</th>\n",
       "      <td>degree</td>\n",
       "      <td>0.003150</td>\n",
       "    </tr>\n",
       "    <tr>\n",
       "      <th>18</th>\n",
       "      <td>models</td>\n",
       "      <td>0.003124</td>\n",
       "    </tr>\n",
       "    <tr>\n",
       "      <th>19</th>\n",
       "      <td>statistical</td>\n",
       "      <td>0.003107</td>\n",
       "    </tr>\n",
       "  </tbody>\n",
       "</table>\n",
       "</div>"
      ],
      "text/plain": [
       "                   Feature       imp\n",
       "0                      sql  0.005081\n",
       "1                     data  0.004519\n",
       "2                 learning  0.004351\n",
       "3                    years  0.004260\n",
       "4         machine learning  0.004108\n",
       "5                  machine  0.004080\n",
       "6                solutions  0.003576\n",
       "7                   skills  0.003530\n",
       "8               experience  0.003490\n",
       "9                     work  0.003382\n",
       "10           communication  0.003324\n",
       "11  employment opportunity  0.003321\n",
       "12                 writing  0.003273\n",
       "13                 science  0.003266\n",
       "14               protected  0.003252\n",
       "15                    code  0.003214\n",
       "16                 company  0.003173\n",
       "17                  degree  0.003150\n",
       "18                  models  0.003124\n",
       "19             statistical  0.003107"
      ]
     },
     "execution_count": 30,
     "metadata": {},
     "output_type": "execute_result"
    }
   ],
   "source": [
    "imp_df.sort_values(by='imp',ascending=False).reset_index(drop=True).head(20)"
   ]
  }
 ],
 "metadata": {
  "kernelspec": {
   "display_name": "PyCharm (Pattern_recognition)",
   "language": "python",
   "name": "pycharm-b5750b70"
  },
  "language_info": {
   "codemirror_mode": {
    "name": "ipython",
    "version": 3
   },
   "file_extension": ".py",
   "mimetype": "text/x-python",
   "name": "python",
   "nbconvert_exporter": "python",
   "pygments_lexer": "ipython3",
   "version": "3.8.5"
  }
 },
 "nbformat": 4,
 "nbformat_minor": 4
}
