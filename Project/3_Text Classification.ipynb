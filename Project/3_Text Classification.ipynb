{
 "cells": [
  {
   "cell_type": "code",
   "execution_count": 1,
   "metadata": {},
   "outputs": [],
   "source": [
    "import pandas as pd\n",
    "import time\n",
    "import matplotlib.pyplot as plt\n",
    "import seaborn as sns\n",
    "from sklearn.preprocessing import LabelEncoder\n",
    "\n",
    "from sklearn.model_selection import train_test_split\n",
    "from sklearn.decomposition import TruncatedSVD\n",
    "from sklearn.pipeline import make_pipeline\n",
    "from sklearn.preprocessing import Normalizer\n",
    "from sklearn.feature_extraction.text import TfidfVectorizer\n",
    "\n",
    "from sklearn.linear_model import RidgeClassifier"
   ]
  },
  {
   "cell_type": "code",
   "execution_count": 2,
   "metadata": {
    "collapsed": false,
    "jupyter": {
     "outputs_hidden": false
    },
    "pycharm": {
     "name": "#%%\n"
    }
   },
   "outputs": [
    {
     "name": "stdout",
     "output_type": "stream",
     "text": [
      "<class 'pandas.core.frame.DataFrame'>\n",
      "RangeIndex: 959 entries, 0 to 958\n",
      "Data columns (total 16 columns):\n",
      " #   Column                         Non-Null Count  Dtype \n",
      "---  ------                         --------------  ----- \n",
      " 0   datePosted                     959 non-null    object\n",
      " 1   description                    959 non-null    object\n",
      " 2   employmentType                 959 non-null    object\n",
      " 3   experienceRequirements         959 non-null    object\n",
      " 4   hiringOrganization             959 non-null    object\n",
      " 5   identifier                     959 non-null    object\n",
      " 6   industry                       958 non-null    object\n",
      " 7   jobLocation                    959 non-null    object\n",
      " 8   skills                         5 non-null      object\n",
      " 9   title                          959 non-null    object\n",
      " 10  validThrough                   959 non-null    object\n",
      " 11  jobLocationType                128 non-null    object\n",
      " 12  applicantLocationRequirements  128 non-null    object\n",
      " 13  estimatedSalary                276 non-null    object\n",
      " 14  baseSalary                     28 non-null     object\n",
      " 15  desc_html                      959 non-null    object\n",
      "dtypes: object(16)\n",
      "memory usage: 120.0+ KB\n"
     ]
    },
    {
     "data": {
      "text/html": [
       "<div>\n",
       "<style scoped>\n",
       "    .dataframe tbody tr th:only-of-type {\n",
       "        vertical-align: middle;\n",
       "    }\n",
       "\n",
       "    .dataframe tbody tr th {\n",
       "        vertical-align: top;\n",
       "    }\n",
       "\n",
       "    .dataframe thead th {\n",
       "        text-align: right;\n",
       "    }\n",
       "</style>\n",
       "<table border=\"1\" class=\"dataframe\">\n",
       "  <thead>\n",
       "    <tr style=\"text-align: right;\">\n",
       "      <th></th>\n",
       "      <th>datePosted</th>\n",
       "      <th>description</th>\n",
       "      <th>employmentType</th>\n",
       "      <th>experienceRequirements</th>\n",
       "      <th>hiringOrganization</th>\n",
       "      <th>identifier</th>\n",
       "      <th>industry</th>\n",
       "      <th>jobLocation</th>\n",
       "      <th>skills</th>\n",
       "      <th>title</th>\n",
       "      <th>validThrough</th>\n",
       "      <th>jobLocationType</th>\n",
       "      <th>applicantLocationRequirements</th>\n",
       "      <th>estimatedSalary</th>\n",
       "      <th>baseSalary</th>\n",
       "      <th>desc_html</th>\n",
       "    </tr>\n",
       "  </thead>\n",
       "  <tbody>\n",
       "    <tr>\n",
       "      <th>0</th>\n",
       "      <td>2021-03-23T16:03:21.000Z</td>\n",
       "      <td>Genuent is hiring a Data Scientist/Data Engine...</td>\n",
       "      <td>FULL_TIME</td>\n",
       "      <td>Mid-Senior level</td>\n",
       "      <td>{'@type': 'Organization', 'name': 'Genuent', '...</td>\n",
       "      <td>{'@type': 'PropertyValue', 'name': 'Genuent', ...</td>\n",
       "      <td>Staffing and Recruiting</td>\n",
       "      <td>{'@type': 'Place', 'address': {'@type': 'Posta...</td>\n",
       "      <td>NaN</td>\n",
       "      <td>Data Scientist - REMOTE</td>\n",
       "      <td>2021-04-22T16:03:20.000Z</td>\n",
       "      <td>NaN</td>\n",
       "      <td>NaN</td>\n",
       "      <td>NaN</td>\n",
       "      <td>NaN</td>\n",
       "      <td>&lt;p&gt;Genuent is hiring a Data Scientist/Data Eng...</td>\n",
       "    </tr>\n",
       "    <tr>\n",
       "      <th>1</th>\n",
       "      <td>2021-03-23T17:02:32.000Z</td>\n",
       "      <td>Ayata is developing its Prescriptive Analytics...</td>\n",
       "      <td>FULL_TIME</td>\n",
       "      <td>Entry level</td>\n",
       "      <td>{'@type': 'Organization', 'name': 'Ayata', 'sa...</td>\n",
       "      <td>{'@type': 'PropertyValue', 'name': 'Ayata', 'v...</td>\n",
       "      <td>Information Technology and Services,Computer S...</td>\n",
       "      <td>{'@type': 'Place', 'address': {'@type': 'Posta...</td>\n",
       "      <td>NaN</td>\n",
       "      <td>ML/AI/NLP Data Scientist</td>\n",
       "      <td>2021-04-22T17:02:32.000Z</td>\n",
       "      <td>NaN</td>\n",
       "      <td>NaN</td>\n",
       "      <td>NaN</td>\n",
       "      <td>NaN</td>\n",
       "      <td>Ayata is developing its Prescriptive Analytics...</td>\n",
       "    </tr>\n",
       "    <tr>\n",
       "      <th>2</th>\n",
       "      <td>2021-03-23T14:35:46.000Z</td>\n",
       "      <td>Our team, part of the Customer Success Enginee...</td>\n",
       "      <td>FULL_TIME</td>\n",
       "      <td>Not Applicable</td>\n",
       "      <td>{'@type': 'Organization', 'name': 'Microsoft',...</td>\n",
       "      <td>{'@type': 'PropertyValue', 'name': 'Microsoft'...</td>\n",
       "      <td>Computer Hardware,Computer Software,Informatio...</td>\n",
       "      <td>{'@type': 'Place', 'address': {'@type': 'Posta...</td>\n",
       "      <td>NaN</td>\n",
       "      <td>Data &amp; Applied Scientist</td>\n",
       "      <td>2021-04-22T14:35:45.000Z</td>\n",
       "      <td>NaN</td>\n",
       "      <td>NaN</td>\n",
       "      <td>NaN</td>\n",
       "      <td>NaN</td>\n",
       "      <td>Our team, part of the Customer Success Enginee...</td>\n",
       "    </tr>\n",
       "    <tr>\n",
       "      <th>3</th>\n",
       "      <td>2021-03-22T20:24:23.000Z</td>\n",
       "      <td>Headspace is looking for a Data Scientist to h...</td>\n",
       "      <td>FULL_TIME</td>\n",
       "      <td>Entry level</td>\n",
       "      <td>{'@type': 'Organization', 'name': 'Headspace I...</td>\n",
       "      <td>{'@type': 'PropertyValue', 'name': 'Headspace ...</td>\n",
       "      <td>Marketing and Advertising,Computer Software,In...</td>\n",
       "      <td>{'@type': 'Place', 'address': {'@type': 'Posta...</td>\n",
       "      <td>NaN</td>\n",
       "      <td>Data Scientist (Remote)</td>\n",
       "      <td>2021-04-21T20:24:22.000Z</td>\n",
       "      <td>TELECOMMUTE</td>\n",
       "      <td>{'@type': 'Country', 'name': 'United States'}</td>\n",
       "      <td>NaN</td>\n",
       "      <td>NaN</td>\n",
       "      <td>&lt;em&gt;Headspace is looking for a Data Scientist ...</td>\n",
       "    </tr>\n",
       "    <tr>\n",
       "      <th>4</th>\n",
       "      <td>2021-03-23T09:07:02.000Z</td>\n",
       "      <td>DescriptionThe AWS Applications team builds po...</td>\n",
       "      <td>FULL_TIME</td>\n",
       "      <td>Not Applicable</td>\n",
       "      <td>{'@type': 'Organization', 'name': 'Amazon Web ...</td>\n",
       "      <td>{'@type': 'PropertyValue', 'name': 'Amazon Web...</td>\n",
       "      <td>Computer Software,Information Technology and S...</td>\n",
       "      <td>{'@type': 'Place', 'address': {'@type': 'Posta...</td>\n",
       "      <td>NaN</td>\n",
       "      <td>Data Scientist</td>\n",
       "      <td>2021-04-22T09:07:01.000Z</td>\n",
       "      <td>NaN</td>\n",
       "      <td>NaN</td>\n",
       "      <td>{'@type': 'MonetaryAmount', 'currency': 'USD',...</td>\n",
       "      <td>NaN</td>\n",
       "      <td>&lt;strong&gt;&lt;u&gt;Description&lt;br&gt;&lt;br&gt;&lt;/u&gt;&lt;/strong&gt;The...</td>\n",
       "    </tr>\n",
       "  </tbody>\n",
       "</table>\n",
       "</div>"
      ],
      "text/plain": [
       "                 datePosted  \\\n",
       "0  2021-03-23T16:03:21.000Z   \n",
       "1  2021-03-23T17:02:32.000Z   \n",
       "2  2021-03-23T14:35:46.000Z   \n",
       "3  2021-03-22T20:24:23.000Z   \n",
       "4  2021-03-23T09:07:02.000Z   \n",
       "\n",
       "                                         description employmentType  \\\n",
       "0  Genuent is hiring a Data Scientist/Data Engine...      FULL_TIME   \n",
       "1  Ayata is developing its Prescriptive Analytics...      FULL_TIME   \n",
       "2  Our team, part of the Customer Success Enginee...      FULL_TIME   \n",
       "3  Headspace is looking for a Data Scientist to h...      FULL_TIME   \n",
       "4  DescriptionThe AWS Applications team builds po...      FULL_TIME   \n",
       "\n",
       "  experienceRequirements                                 hiringOrganization  \\\n",
       "0       Mid-Senior level  {'@type': 'Organization', 'name': 'Genuent', '...   \n",
       "1            Entry level  {'@type': 'Organization', 'name': 'Ayata', 'sa...   \n",
       "2         Not Applicable  {'@type': 'Organization', 'name': 'Microsoft',...   \n",
       "3            Entry level  {'@type': 'Organization', 'name': 'Headspace I...   \n",
       "4         Not Applicable  {'@type': 'Organization', 'name': 'Amazon Web ...   \n",
       "\n",
       "                                          identifier  \\\n",
       "0  {'@type': 'PropertyValue', 'name': 'Genuent', ...   \n",
       "1  {'@type': 'PropertyValue', 'name': 'Ayata', 'v...   \n",
       "2  {'@type': 'PropertyValue', 'name': 'Microsoft'...   \n",
       "3  {'@type': 'PropertyValue', 'name': 'Headspace ...   \n",
       "4  {'@type': 'PropertyValue', 'name': 'Amazon Web...   \n",
       "\n",
       "                                            industry  \\\n",
       "0                            Staffing and Recruiting   \n",
       "1  Information Technology and Services,Computer S...   \n",
       "2  Computer Hardware,Computer Software,Informatio...   \n",
       "3  Marketing and Advertising,Computer Software,In...   \n",
       "4  Computer Software,Information Technology and S...   \n",
       "\n",
       "                                         jobLocation skills  \\\n",
       "0  {'@type': 'Place', 'address': {'@type': 'Posta...    NaN   \n",
       "1  {'@type': 'Place', 'address': {'@type': 'Posta...    NaN   \n",
       "2  {'@type': 'Place', 'address': {'@type': 'Posta...    NaN   \n",
       "3  {'@type': 'Place', 'address': {'@type': 'Posta...    NaN   \n",
       "4  {'@type': 'Place', 'address': {'@type': 'Posta...    NaN   \n",
       "\n",
       "                      title              validThrough jobLocationType  \\\n",
       "0   Data Scientist - REMOTE  2021-04-22T16:03:20.000Z             NaN   \n",
       "1  ML/AI/NLP Data Scientist  2021-04-22T17:02:32.000Z             NaN   \n",
       "2  Data & Applied Scientist  2021-04-22T14:35:45.000Z             NaN   \n",
       "3   Data Scientist (Remote)  2021-04-21T20:24:22.000Z     TELECOMMUTE   \n",
       "4            Data Scientist  2021-04-22T09:07:01.000Z             NaN   \n",
       "\n",
       "                   applicantLocationRequirements  \\\n",
       "0                                            NaN   \n",
       "1                                            NaN   \n",
       "2                                            NaN   \n",
       "3  {'@type': 'Country', 'name': 'United States'}   \n",
       "4                                            NaN   \n",
       "\n",
       "                                     estimatedSalary baseSalary  \\\n",
       "0                                                NaN        NaN   \n",
       "1                                                NaN        NaN   \n",
       "2                                                NaN        NaN   \n",
       "3                                                NaN        NaN   \n",
       "4  {'@type': 'MonetaryAmount', 'currency': 'USD',...        NaN   \n",
       "\n",
       "                                           desc_html  \n",
       "0  <p>Genuent is hiring a Data Scientist/Data Eng...  \n",
       "1  Ayata is developing its Prescriptive Analytics...  \n",
       "2  Our team, part of the Customer Success Enginee...  \n",
       "3  <em>Headspace is looking for a Data Scientist ...  \n",
       "4  <strong><u>Description<br><br></u></strong>The...  "
      ]
     },
     "execution_count": 2,
     "metadata": {},
     "output_type": "execute_result"
    }
   ],
   "source": [
    "df = pd.read_csv('DS data 032321.csv')\n",
    "df.info()\n",
    "df.head()"
   ]
  },
  {
   "cell_type": "markdown",
   "metadata": {
    "pycharm": {
     "name": "#%% md\n"
    }
   },
   "source": [
    "# Prepare the explanatory variables and target variable"
   ]
  },
  {
   "cell_type": "code",
   "execution_count": 3,
   "metadata": {
    "collapsed": false,
    "jupyter": {
     "outputs_hidden": false
    },
    "pycharm": {
     "name": "#%%\n"
    }
   },
   "outputs": [
    {
     "data": {
      "text/plain": [
       "Entry level         465\n",
       "Mid-Senior level    222\n",
       "Not Applicable      154\n",
       "Associate           108\n",
       "Internship            6\n",
       "Director              4\n",
       "Name: experienceRequirements, dtype: int64"
      ]
     },
     "execution_count": 3,
     "metadata": {},
     "output_type": "execute_result"
    }
   ],
   "source": [
    "# Labels\n",
    "labels = df.experienceRequirements.value_counts()\n",
    "labels"
   ]
  },
  {
   "cell_type": "code",
   "execution_count": 4,
   "metadata": {
    "collapsed": false,
    "jupyter": {
     "outputs_hidden": false
    },
    "pycharm": {
     "name": "#%%\n"
    }
   },
   "outputs": [
    {
     "data": {
      "text/plain": [
       "Index(['Entry level', 'Mid-Senior level', 'Not Applicable', 'Associate'], dtype='object')"
      ]
     },
     "execution_count": 4,
     "metadata": {},
     "output_type": "execute_result"
    }
   ],
   "source": [
    "labels = labels.index # get the index of labels\n",
    "labels = labels[:4] # pick the 1st 5 label\n",
    "labels"
   ]
  },
  {
   "cell_type": "code",
   "execution_count": 5,
   "metadata": {
    "collapsed": false,
    "jupyter": {
     "outputs_hidden": false
    },
    "pycharm": {
     "name": "#%%\n"
    }
   },
   "outputs": [
    {
     "name": "stdout",
     "output_type": "stream",
     "text": [
      "<class 'pandas.core.frame.DataFrame'>\n",
      "Int64Index: 949 entries, 0 to 958\n",
      "Data columns (total 16 columns):\n",
      " #   Column                         Non-Null Count  Dtype \n",
      "---  ------                         --------------  ----- \n",
      " 0   datePosted                     949 non-null    object\n",
      " 1   description                    949 non-null    object\n",
      " 2   employmentType                 949 non-null    object\n",
      " 3   experienceRequirements         949 non-null    object\n",
      " 4   hiringOrganization             949 non-null    object\n",
      " 5   identifier                     949 non-null    object\n",
      " 6   industry                       948 non-null    object\n",
      " 7   jobLocation                    949 non-null    object\n",
      " 8   skills                         5 non-null      object\n",
      " 9   title                          949 non-null    object\n",
      " 10  validThrough                   949 non-null    object\n",
      " 11  jobLocationType                126 non-null    object\n",
      " 12  applicantLocationRequirements  126 non-null    object\n",
      " 13  estimatedSalary                275 non-null    object\n",
      " 14  baseSalary                     28 non-null     object\n",
      " 15  desc_html                      949 non-null    object\n",
      "dtypes: object(16)\n",
      "memory usage: 126.0+ KB\n"
     ]
    },
    {
     "data": {
      "text/html": [
       "<div>\n",
       "<style scoped>\n",
       "    .dataframe tbody tr th:only-of-type {\n",
       "        vertical-align: middle;\n",
       "    }\n",
       "\n",
       "    .dataframe tbody tr th {\n",
       "        vertical-align: top;\n",
       "    }\n",
       "\n",
       "    .dataframe thead th {\n",
       "        text-align: right;\n",
       "    }\n",
       "</style>\n",
       "<table border=\"1\" class=\"dataframe\">\n",
       "  <thead>\n",
       "    <tr style=\"text-align: right;\">\n",
       "      <th></th>\n",
       "      <th>datePosted</th>\n",
       "      <th>description</th>\n",
       "      <th>employmentType</th>\n",
       "      <th>experienceRequirements</th>\n",
       "      <th>hiringOrganization</th>\n",
       "      <th>identifier</th>\n",
       "      <th>industry</th>\n",
       "      <th>jobLocation</th>\n",
       "      <th>skills</th>\n",
       "      <th>title</th>\n",
       "      <th>validThrough</th>\n",
       "      <th>jobLocationType</th>\n",
       "      <th>applicantLocationRequirements</th>\n",
       "      <th>estimatedSalary</th>\n",
       "      <th>baseSalary</th>\n",
       "      <th>desc_html</th>\n",
       "    </tr>\n",
       "  </thead>\n",
       "  <tbody>\n",
       "    <tr>\n",
       "      <th>0</th>\n",
       "      <td>2021-03-23T16:03:21.000Z</td>\n",
       "      <td>Genuent is hiring a Data Scientist/Data Engine...</td>\n",
       "      <td>FULL_TIME</td>\n",
       "      <td>Mid-Senior level</td>\n",
       "      <td>{'@type': 'Organization', 'name': 'Genuent', '...</td>\n",
       "      <td>{'@type': 'PropertyValue', 'name': 'Genuent', ...</td>\n",
       "      <td>Staffing and Recruiting</td>\n",
       "      <td>{'@type': 'Place', 'address': {'@type': 'Posta...</td>\n",
       "      <td>NaN</td>\n",
       "      <td>Data Scientist - REMOTE</td>\n",
       "      <td>2021-04-22T16:03:20.000Z</td>\n",
       "      <td>NaN</td>\n",
       "      <td>NaN</td>\n",
       "      <td>NaN</td>\n",
       "      <td>NaN</td>\n",
       "      <td>&lt;p&gt;Genuent is hiring a Data Scientist/Data Eng...</td>\n",
       "    </tr>\n",
       "    <tr>\n",
       "      <th>1</th>\n",
       "      <td>2021-03-23T17:02:32.000Z</td>\n",
       "      <td>Ayata is developing its Prescriptive Analytics...</td>\n",
       "      <td>FULL_TIME</td>\n",
       "      <td>Entry level</td>\n",
       "      <td>{'@type': 'Organization', 'name': 'Ayata', 'sa...</td>\n",
       "      <td>{'@type': 'PropertyValue', 'name': 'Ayata', 'v...</td>\n",
       "      <td>Information Technology and Services,Computer S...</td>\n",
       "      <td>{'@type': 'Place', 'address': {'@type': 'Posta...</td>\n",
       "      <td>NaN</td>\n",
       "      <td>ML/AI/NLP Data Scientist</td>\n",
       "      <td>2021-04-22T17:02:32.000Z</td>\n",
       "      <td>NaN</td>\n",
       "      <td>NaN</td>\n",
       "      <td>NaN</td>\n",
       "      <td>NaN</td>\n",
       "      <td>Ayata is developing its Prescriptive Analytics...</td>\n",
       "    </tr>\n",
       "    <tr>\n",
       "      <th>2</th>\n",
       "      <td>2021-03-23T14:35:46.000Z</td>\n",
       "      <td>Our team, part of the Customer Success Enginee...</td>\n",
       "      <td>FULL_TIME</td>\n",
       "      <td>Not Applicable</td>\n",
       "      <td>{'@type': 'Organization', 'name': 'Microsoft',...</td>\n",
       "      <td>{'@type': 'PropertyValue', 'name': 'Microsoft'...</td>\n",
       "      <td>Computer Hardware,Computer Software,Informatio...</td>\n",
       "      <td>{'@type': 'Place', 'address': {'@type': 'Posta...</td>\n",
       "      <td>NaN</td>\n",
       "      <td>Data &amp; Applied Scientist</td>\n",
       "      <td>2021-04-22T14:35:45.000Z</td>\n",
       "      <td>NaN</td>\n",
       "      <td>NaN</td>\n",
       "      <td>NaN</td>\n",
       "      <td>NaN</td>\n",
       "      <td>Our team, part of the Customer Success Enginee...</td>\n",
       "    </tr>\n",
       "  </tbody>\n",
       "</table>\n",
       "</div>"
      ],
      "text/plain": [
       "                 datePosted  \\\n",
       "0  2021-03-23T16:03:21.000Z   \n",
       "1  2021-03-23T17:02:32.000Z   \n",
       "2  2021-03-23T14:35:46.000Z   \n",
       "\n",
       "                                         description employmentType  \\\n",
       "0  Genuent is hiring a Data Scientist/Data Engine...      FULL_TIME   \n",
       "1  Ayata is developing its Prescriptive Analytics...      FULL_TIME   \n",
       "2  Our team, part of the Customer Success Enginee...      FULL_TIME   \n",
       "\n",
       "  experienceRequirements                                 hiringOrganization  \\\n",
       "0       Mid-Senior level  {'@type': 'Organization', 'name': 'Genuent', '...   \n",
       "1            Entry level  {'@type': 'Organization', 'name': 'Ayata', 'sa...   \n",
       "2         Not Applicable  {'@type': 'Organization', 'name': 'Microsoft',...   \n",
       "\n",
       "                                          identifier  \\\n",
       "0  {'@type': 'PropertyValue', 'name': 'Genuent', ...   \n",
       "1  {'@type': 'PropertyValue', 'name': 'Ayata', 'v...   \n",
       "2  {'@type': 'PropertyValue', 'name': 'Microsoft'...   \n",
       "\n",
       "                                            industry  \\\n",
       "0                            Staffing and Recruiting   \n",
       "1  Information Technology and Services,Computer S...   \n",
       "2  Computer Hardware,Computer Software,Informatio...   \n",
       "\n",
       "                                         jobLocation skills  \\\n",
       "0  {'@type': 'Place', 'address': {'@type': 'Posta...    NaN   \n",
       "1  {'@type': 'Place', 'address': {'@type': 'Posta...    NaN   \n",
       "2  {'@type': 'Place', 'address': {'@type': 'Posta...    NaN   \n",
       "\n",
       "                      title              validThrough jobLocationType  \\\n",
       "0   Data Scientist - REMOTE  2021-04-22T16:03:20.000Z             NaN   \n",
       "1  ML/AI/NLP Data Scientist  2021-04-22T17:02:32.000Z             NaN   \n",
       "2  Data & Applied Scientist  2021-04-22T14:35:45.000Z             NaN   \n",
       "\n",
       "  applicantLocationRequirements estimatedSalary baseSalary  \\\n",
       "0                           NaN             NaN        NaN   \n",
       "1                           NaN             NaN        NaN   \n",
       "2                           NaN             NaN        NaN   \n",
       "\n",
       "                                           desc_html  \n",
       "0  <p>Genuent is hiring a Data Scientist/Data Eng...  \n",
       "1  Ayata is developing its Prescriptive Analytics...  \n",
       "2  Our team, part of the Customer Success Enginee...  "
      ]
     },
     "execution_count": 5,
     "metadata": {},
     "output_type": "execute_result"
    }
   ],
   "source": [
    "df = df[df.experienceRequirements.isin(labels)].copy()\n",
    "df.info()\n",
    "df.head(3)"
   ]
  },
  {
   "cell_type": "code",
   "execution_count": 7,
   "metadata": {
    "collapsed": false,
    "jupyter": {
     "outputs_hidden": false
    },
    "pycharm": {
     "name": "#%%\n"
    }
   },
   "outputs": [
    {
     "name": "stdout",
     "output_type": "stream",
     "text": [
      "['Associate' 'Entry level' 'Mid-Senior level' 'Not Applicable']\n"
     ]
    },
    {
     "data": {
      "text/plain": [
       "(0    Mid-Senior level\n",
       " 1         Entry level\n",
       " 2      Not Applicable\n",
       " Name: experienceRequirements, dtype: object,\n",
       " array([2, 1, 3]))"
      ]
     },
     "execution_count": 7,
     "metadata": {},
     "output_type": "execute_result"
    }
   ],
   "source": [
    "le = LabelEncoder()\n",
    "y = le.fit_transform(df.experienceRequirements)\n",
    "print(le.classes_)\n",
    "df.experienceRequirements[:3],y[:3]"
   ]
  },
  {
   "cell_type": "code",
   "execution_count": 22,
   "metadata": {
    "collapsed": false,
    "jupyter": {
     "outputs_hidden": false
    },
    "pycharm": {
     "name": "#%%\n"
    }
   },
   "outputs": [
    {
     "name": "stderr",
     "output_type": "stream",
     "text": [
      "IOPub data rate exceeded.\n",
      "The notebook server will temporarily stop sending output\n",
      "to the client in order to avoid crashing it.\n",
      "To change this limit, set the config variable\n",
      "`--NotebookApp.iopub_data_rate_limit`.\n",
      "\n",
      "Current values:\n",
      "NotebookApp.iopub_data_rate_limit=1000000.0 (bytes/sec)\n",
      "NotebookApp.rate_limit_window=3.0 (secs)\n",
      "\n"
     ]
    },
    {
     "data": {
      "text/plain": [
       "array([[0., 0., 0., 0., 0.],\n",
       "       [0., 0., 0., 0., 0.],\n",
       "       [0., 0., 0., 0., 0.],\n",
       "       [0., 0., 0., 0., 0.],\n",
       "       [0., 0., 0., 0., 0.]])"
      ]
     },
     "execution_count": 22,
     "metadata": {},
     "output_type": "execute_result"
    }
   ],
   "source": [
    "vectorizer = TfidfVectorizer(stop_words='english',\n",
    "                             ngram_range=(2,2),\n",
    "                             norm='l2'\n",
    "                             )\n",
    "X = vectorizer.fit_transform(df.description)\n",
    "print(vectorizer.get_feature_names())\n",
    "print(X.shape)\n",
    "X.toarray()[:5,:5]"
   ]
  },
  {
   "cell_type": "code",
   "execution_count": 16,
   "metadata": {
    "collapsed": false,
    "jupyter": {
     "outputs_hidden": false
    },
    "pycharm": {
     "name": "#%%\n"
    }
   },
   "outputs": [
    {
     "name": "stdout",
     "output_type": "stream",
     "text": [
      "Explained variance of the SVD step: 1%\n",
      "\n"
     ]
    }
   ],
   "source": [
    "svd = TruncatedSVD(2)\n",
    "normalizer = Normalizer(copy=False)\n",
    "lsa = make_pipeline(svd, normalizer)\n",
    "\n",
    "X_lsa = lsa.fit_transform(X)\n",
    "explained_variance = svd.explained_variance_ratio_.sum()\n",
    "print(\"Explained variance of the SVD step: {}%\".format(\n",
    "    int(explained_variance * 100)))\n",
    "\n",
    "print()"
   ]
  },
  {
   "cell_type": "code",
   "execution_count": 17,
   "metadata": {
    "collapsed": false,
    "jupyter": {
     "outputs_hidden": false
    },
    "pycharm": {
     "name": "#%%\n"
    }
   },
   "outputs": [
    {
     "data": {
      "image/png": "[encoded data removed]",
      "text/plain": [
       "<Figure size 432x288 with 1 Axes>"
      ]
     },
     "metadata": {
      "needs_background": "light"
     },
     "output_type": "display_data"
    }
   ],
   "source": [
    "sns.scatterplot(x=X_lsa[:,0],\n",
    "                y=X_lsa[:,1],\n",
    "                hue=le.inverse_transform(y),\n",
    "                palette=['red','blue','orange','black'])\n",
    "plt.show()"
   ]
  },
  {
   "cell_type": "code",
   "execution_count": 18,
   "metadata": {
    "collapsed": false,
    "jupyter": {
     "outputs_hidden": false
    },
    "pycharm": {
     "name": "#%%\n"
    }
   },
   "outputs": [
    {
     "name": "stdout",
     "output_type": "stream",
     "text": [
      "Explained variance of the SVD step: 30%\n",
      "\n"
     ]
    }
   ],
   "source": [
    "svd = TruncatedSVD(100)\n",
    "normalizer = Normalizer(copy=False)\n",
    "lsa = make_pipeline(svd, normalizer)\n",
    "\n",
    "X_lsa = lsa.fit_transform(X)\n",
    "explained_variance = svd.explained_variance_ratio_.sum()\n",
    "print(\"Explained variance of the SVD step: {}%\".format(\n",
    "    int(explained_variance * 100)))\n",
    "\n",
    "print()"
   ]
  },
  {
   "cell_type": "code",
   "execution_count": 19,
   "metadata": {
    "collapsed": false,
    "jupyter": {
     "outputs_hidden": false
    },
    "pycharm": {
     "name": "#%%\n"
    }
   },
   "outputs": [
    {
     "data": {
      "text/plain": [
       "[<matplotlib.lines.Line2D at 0x18e694543a0>]"
      ]
     },
     "execution_count": 19,
     "metadata": {},
     "output_type": "execute_result"
    },
    {
     "data": {
      "image/png": "[encoded data removed]",
      "text/plain": [
       "<Figure size 432x288 with 1 Axes>"
      ]
     },
     "metadata": {
      "needs_background": "light"
     },
     "output_type": "display_data"
    }
   ],
   "source": [
    "plt.plot(svd.explained_variance_ratio_.cumsum())"
   ]
  },
  {
   "cell_type": "code",
   "execution_count": 20,
   "metadata": {
    "collapsed": false,
    "jupyter": {
     "outputs_hidden": false
    },
    "pycharm": {
     "name": "#%%\n"
    }
   },
   "outputs": [
    {
     "name": "stdout",
     "output_type": "stream",
     "text": [
      "(759, 100) (190, 100)\n"
     ]
    }
   ],
   "source": [
    "X_train, X_test, y_train, y_test = train_test_split(X_lsa,\n",
    "                                                    y,\n",
    "                                                    test_size=0.2,\n",
    "                                                    stratify=y,\n",
    "                                                    random_state=42)\n",
    "print(X_train.shape, X_test.shape)"
   ]
  },
  {
   "cell_type": "code",
   "execution_count": 21,
   "metadata": {
    "collapsed": false,
    "jupyter": {
     "outputs_hidden": false
    },
    "pycharm": {
     "name": "#%%\n"
    }
   },
   "outputs": [
    {
     "data": {
      "text/plain": [
       "(0.6337285902503293, 0.47368421052631576)"
      ]
     },
     "execution_count": 21,
     "metadata": {},
     "output_type": "execute_result"
    }
   ],
   "source": [
    "clf = RidgeClassifier().fit(X_train, y_train)\n",
    "clf.score(X_train, y_train), clf.score(X_test, y_test)"
   ]
  }
 ],
 "metadata": {
  "kernelspec": {
   "display_name": "PyCharm (Pattern_recognition)",
   "language": "python",
   "name": "pycharm-b5750b70"
  },
  "language_info": {
   "codemirror_mode": {
    "name": "ipython",
    "version": 3
   },
   "file_extension": ".py",
   "mimetype": "text/x-python",
   "name": "python",
   "nbconvert_exporter": "python",
   "pygments_lexer": "ipython3",
   "version": "3.8.5"
  }
 },
 "nbformat": 4,
 "nbformat_minor": 4
}