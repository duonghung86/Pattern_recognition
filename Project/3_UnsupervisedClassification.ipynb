{
 "cells": [
  {
   "cell_type": "code",
   "execution_count": 1,
   "metadata": {},
   "outputs": [],
   "source": [
    "import pandas as pd\n",
    "import time\n",
    "import numpy as np\n",
    "import matplotlib.pyplot as plt\n",
    "import seaborn as sns\n",
    "from sklearn.preprocessing import LabelEncoder\n",
    "\n",
    "from sklearn.model_selection import train_test_split\n",
    "from sklearn.decomposition import TruncatedSVD\n",
    "from sklearn.pipeline import make_pipeline\n",
    "from sklearn.preprocessing import Normalizer\n",
    "from sklearn.feature_extraction.text import TfidfVectorizer\n",
    "\n",
    "from sklearn.cluster import KMeans\n",
    "from sklearn import metrics"
   ]
  },
  {
   "cell_type": "code",
   "execution_count": 2,
   "metadata": {
    "collapsed": false,
    "jupyter": {
     "outputs_hidden": false
    },
    "pycharm": {
     "name": "#%%\n"
    }
   },
   "outputs": [
    {
     "name": "stdout",
     "output_type": "stream",
     "text": [
      "<class 'pandas.core.frame.DataFrame'>\n",
      "RangeIndex: 912 entries, 0 to 911\n",
      "Data columns (total 17 columns):\n",
      " #   Column                         Non-Null Count  Dtype \n",
      "---  ------                         --------------  ----- \n",
      " 0   datePosted                     912 non-null    object\n",
      " 1   description                    912 non-null    object\n",
      " 2   employmentType                 912 non-null    object\n",
      " 3   experienceRequirements         912 non-null    object\n",
      " 4   hiringOrganization             912 non-null    object\n",
      " 5   identifier                     912 non-null    object\n",
      " 6   industry                       911 non-null    object\n",
      " 7   jobLocation                    912 non-null    object\n",
      " 8   skills                         5 non-null      object\n",
      " 9   title                          912 non-null    object\n",
      " 10  validThrough                   912 non-null    object\n",
      " 11  jobLocationType                122 non-null    object\n",
      " 12  applicantLocationRequirements  122 non-null    object\n",
      " 13  estimatedSalary                270 non-null    object\n",
      " 14  baseSalary                     24 non-null     object\n",
      " 15  desc_html                      912 non-null    object\n",
      " 16  desc                           912 non-null    object\n",
      "dtypes: object(17)\n",
      "memory usage: 121.2+ KB\n"
     ]
    },
    {
     "data": {
      "text/html": [
       "<div>\n",
       "<style scoped>\n",
       "    .dataframe tbody tr th:only-of-type {\n",
       "        vertical-align: middle;\n",
       "    }\n",
       "\n",
       "    .dataframe tbody tr th {\n",
       "        vertical-align: top;\n",
       "    }\n",
       "\n",
       "    .dataframe thead th {\n",
       "        text-align: right;\n",
       "    }\n",
       "</style>\n",
       "<table border=\"1\" class=\"dataframe\">\n",
       "  <thead>\n",
       "    <tr style=\"text-align: right;\">\n",
       "      <th></th>\n",
       "      <th>datePosted</th>\n",
       "      <th>description</th>\n",
       "      <th>employmentType</th>\n",
       "      <th>experienceRequirements</th>\n",
       "      <th>hiringOrganization</th>\n",
       "      <th>identifier</th>\n",
       "      <th>industry</th>\n",
       "      <th>jobLocation</th>\n",
       "      <th>skills</th>\n",
       "      <th>title</th>\n",
       "      <th>validThrough</th>\n",
       "      <th>jobLocationType</th>\n",
       "      <th>applicantLocationRequirements</th>\n",
       "      <th>estimatedSalary</th>\n",
       "      <th>baseSalary</th>\n",
       "      <th>desc_html</th>\n",
       "      <th>desc</th>\n",
       "    </tr>\n",
       "  </thead>\n",
       "  <tbody>\n",
       "    <tr>\n",
       "      <th>0</th>\n",
       "      <td>2021-03-23T16:03:21.000Z</td>\n",
       "      <td>Genuent is hiring a Data Scientist/Data Engine...</td>\n",
       "      <td>FULL_TIME</td>\n",
       "      <td>Mid-Senior level</td>\n",
       "      <td>{'@type': 'Organization', 'name': 'Genuent', '...</td>\n",
       "      <td>{'@type': 'PropertyValue', 'name': 'Genuent', ...</td>\n",
       "      <td>Staffing and Recruiting</td>\n",
       "      <td>{'@type': 'Place', 'address': {'@type': 'Posta...</td>\n",
       "      <td>NaN</td>\n",
       "      <td>Data Scientist - REMOTE</td>\n",
       "      <td>2021-04-22T16:03:20.000Z</td>\n",
       "      <td>NaN</td>\n",
       "      <td>NaN</td>\n",
       "      <td>NaN</td>\n",
       "      <td>NaN</td>\n",
       "      <td>&lt;p&gt;Genuent is hiring a Data Scientist/Data Eng...</td>\n",
       "      <td>responsibilities build long term causal estima...</td>\n",
       "    </tr>\n",
       "    <tr>\n",
       "      <th>1</th>\n",
       "      <td>2021-03-23T17:02:32.000Z</td>\n",
       "      <td>Ayata is developing its Prescriptive Analytics...</td>\n",
       "      <td>FULL_TIME</td>\n",
       "      <td>Entry level</td>\n",
       "      <td>{'@type': 'Organization', 'name': 'Ayata', 'sa...</td>\n",
       "      <td>{'@type': 'PropertyValue', 'name': 'Ayata', 'v...</td>\n",
       "      <td>Information Technology and Services,Computer S...</td>\n",
       "      <td>{'@type': 'Place', 'address': {'@type': 'Posta...</td>\n",
       "      <td>NaN</td>\n",
       "      <td>ML/AI/NLP Data Scientist</td>\n",
       "      <td>2021-04-22T17:02:32.000Z</td>\n",
       "      <td>NaN</td>\n",
       "      <td>NaN</td>\n",
       "      <td>NaN</td>\n",
       "      <td>NaN</td>\n",
       "      <td>Ayata is developing its Prescriptive Analytics...</td>\n",
       "      <td>responsibilities and duties ayata is looking f...</td>\n",
       "    </tr>\n",
       "    <tr>\n",
       "      <th>2</th>\n",
       "      <td>2021-03-23T14:35:46.000Z</td>\n",
       "      <td>Our team, part of the Customer Success Enginee...</td>\n",
       "      <td>FULL_TIME</td>\n",
       "      <td>Not Applicable</td>\n",
       "      <td>{'@type': 'Organization', 'name': 'Microsoft',...</td>\n",
       "      <td>{'@type': 'PropertyValue', 'name': 'Microsoft'...</td>\n",
       "      <td>Computer Hardware,Computer Software,Informatio...</td>\n",
       "      <td>{'@type': 'Place', 'address': {'@type': 'Posta...</td>\n",
       "      <td>NaN</td>\n",
       "      <td>Data &amp; Applied Scientist</td>\n",
       "      <td>2021-04-22T14:35:45.000Z</td>\n",
       "      <td>NaN</td>\n",
       "      <td>NaN</td>\n",
       "      <td>NaN</td>\n",
       "      <td>NaN</td>\n",
       "      <td>Our team, part of the Customer Success Enginee...</td>\n",
       "      <td>responsibilities responsibilities being one of...</td>\n",
       "    </tr>\n",
       "    <tr>\n",
       "      <th>3</th>\n",
       "      <td>2021-03-22T20:24:23.000Z</td>\n",
       "      <td>Headspace is looking for a Data Scientist to h...</td>\n",
       "      <td>FULL_TIME</td>\n",
       "      <td>Entry level</td>\n",
       "      <td>{'@type': 'Organization', 'name': 'Headspace I...</td>\n",
       "      <td>{'@type': 'PropertyValue', 'name': 'Headspace ...</td>\n",
       "      <td>Marketing and Advertising,Computer Software,In...</td>\n",
       "      <td>{'@type': 'Place', 'address': {'@type': 'Posta...</td>\n",
       "      <td>NaN</td>\n",
       "      <td>Data Scientist (Remote)</td>\n",
       "      <td>2021-04-21T20:24:22.000Z</td>\n",
       "      <td>TELECOMMUTE</td>\n",
       "      <td>{'@type': 'Country', 'name': 'United States'}</td>\n",
       "      <td>NaN</td>\n",
       "      <td>NaN</td>\n",
       "      <td>&lt;em&gt;Headspace is looking for a Data Scientist ...</td>\n",
       "      <td>successful candidate should love complex busin...</td>\n",
       "    </tr>\n",
       "    <tr>\n",
       "      <th>4</th>\n",
       "      <td>2021-03-23T09:07:02.000Z</td>\n",
       "      <td>DescriptionThe AWS Applications team builds po...</td>\n",
       "      <td>FULL_TIME</td>\n",
       "      <td>Not Applicable</td>\n",
       "      <td>{'@type': 'Organization', 'name': 'Amazon Web ...</td>\n",
       "      <td>{'@type': 'PropertyValue', 'name': 'Amazon Web...</td>\n",
       "      <td>Computer Software,Information Technology and S...</td>\n",
       "      <td>{'@type': 'Place', 'address': {'@type': 'Posta...</td>\n",
       "      <td>NaN</td>\n",
       "      <td>Data Scientist</td>\n",
       "      <td>2021-04-22T09:07:01.000Z</td>\n",
       "      <td>NaN</td>\n",
       "      <td>NaN</td>\n",
       "      <td>{'@type': 'MonetaryAmount', 'currency': 'USD',...</td>\n",
       "      <td>NaN</td>\n",
       "      <td>&lt;strong&gt;&lt;u&gt;Description&lt;br&gt;&lt;br&gt;&lt;/u&gt;&lt;/strong&gt;The...</td>\n",
       "      <td>what you will do here we are looking for a sea...</td>\n",
       "    </tr>\n",
       "  </tbody>\n",
       "</table>\n",
       "</div>"
      ],
      "text/plain": [
       "                 datePosted  \\\n",
       "0  2021-03-23T16:03:21.000Z   \n",
       "1  2021-03-23T17:02:32.000Z   \n",
       "2  2021-03-23T14:35:46.000Z   \n",
       "3  2021-03-22T20:24:23.000Z   \n",
       "4  2021-03-23T09:07:02.000Z   \n",
       "\n",
       "                                         description employmentType  \\\n",
       "0  Genuent is hiring a Data Scientist/Data Engine...      FULL_TIME   \n",
       "1  Ayata is developing its Prescriptive Analytics...      FULL_TIME   \n",
       "2  Our team, part of the Customer Success Enginee...      FULL_TIME   \n",
       "3  Headspace is looking for a Data Scientist to h...      FULL_TIME   \n",
       "4  DescriptionThe AWS Applications team builds po...      FULL_TIME   \n",
       "\n",
       "  experienceRequirements                                 hiringOrganization  \\\n",
       "0       Mid-Senior level  {'@type': 'Organization', 'name': 'Genuent', '...   \n",
       "1            Entry level  {'@type': 'Organization', 'name': 'Ayata', 'sa...   \n",
       "2         Not Applicable  {'@type': 'Organization', 'name': 'Microsoft',...   \n",
       "3            Entry level  {'@type': 'Organization', 'name': 'Headspace I...   \n",
       "4         Not Applicable  {'@type': 'Organization', 'name': 'Amazon Web ...   \n",
       "\n",
       "                                          identifier  \\\n",
       "0  {'@type': 'PropertyValue', 'name': 'Genuent', ...   \n",
       "1  {'@type': 'PropertyValue', 'name': 'Ayata', 'v...   \n",
       "2  {'@type': 'PropertyValue', 'name': 'Microsoft'...   \n",
       "3  {'@type': 'PropertyValue', 'name': 'Headspace ...   \n",
       "4  {'@type': 'PropertyValue', 'name': 'Amazon Web...   \n",
       "\n",
       "                                            industry  \\\n",
       "0                            Staffing and Recruiting   \n",
       "1  Information Technology and Services,Computer S...   \n",
       "2  Computer Hardware,Computer Software,Informatio...   \n",
       "3  Marketing and Advertising,Computer Software,In...   \n",
       "4  Computer Software,Information Technology and S...   \n",
       "\n",
       "                                         jobLocation skills  \\\n",
       "0  {'@type': 'Place', 'address': {'@type': 'Posta...    NaN   \n",
       "1  {'@type': 'Place', 'address': {'@type': 'Posta...    NaN   \n",
       "2  {'@type': 'Place', 'address': {'@type': 'Posta...    NaN   \n",
       "3  {'@type': 'Place', 'address': {'@type': 'Posta...    NaN   \n",
       "4  {'@type': 'Place', 'address': {'@type': 'Posta...    NaN   \n",
       "\n",
       "                      title              validThrough jobLocationType  \\\n",
       "0   Data Scientist - REMOTE  2021-04-22T16:03:20.000Z             NaN   \n",
       "1  ML/AI/NLP Data Scientist  2021-04-22T17:02:32.000Z             NaN   \n",
       "2  Data & Applied Scientist  2021-04-22T14:35:45.000Z             NaN   \n",
       "3   Data Scientist (Remote)  2021-04-21T20:24:22.000Z     TELECOMMUTE   \n",
       "4            Data Scientist  2021-04-22T09:07:01.000Z             NaN   \n",
       "\n",
       "                   applicantLocationRequirements  \\\n",
       "0                                            NaN   \n",
       "1                                            NaN   \n",
       "2                                            NaN   \n",
       "3  {'@type': 'Country', 'name': 'United States'}   \n",
       "4                                            NaN   \n",
       "\n",
       "                                     estimatedSalary baseSalary  \\\n",
       "0                                                NaN        NaN   \n",
       "1                                                NaN        NaN   \n",
       "2                                                NaN        NaN   \n",
       "3                                                NaN        NaN   \n",
       "4  {'@type': 'MonetaryAmount', 'currency': 'USD',...        NaN   \n",
       "\n",
       "                                           desc_html  \\\n",
       "0  <p>Genuent is hiring a Data Scientist/Data Eng...   \n",
       "1  Ayata is developing its Prescriptive Analytics...   \n",
       "2  Our team, part of the Customer Success Enginee...   \n",
       "3  <em>Headspace is looking for a Data Scientist ...   \n",
       "4  <strong><u>Description<br><br></u></strong>The...   \n",
       "\n",
       "                                                desc  \n",
       "0  responsibilities build long term causal estima...  \n",
       "1  responsibilities and duties ayata is looking f...  \n",
       "2  responsibilities responsibilities being one of...  \n",
       "3  successful candidate should love complex busin...  \n",
       "4  what you will do here we are looking for a sea...  "
      ]
     },
     "execution_count": 2,
     "metadata": {},
     "output_type": "execute_result"
    }
   ],
   "source": [
    "df = pd.read_csv('prepDS.csv')\n",
    "df.info()\n",
    "df.head()"
   ]
  },
  {
   "cell_type": "markdown",
   "metadata": {
    "pycharm": {
     "name": "#%% md\n"
    }
   },
   "source": [
    "# Prepare the explanatory variables and target variable"
   ]
  },
  {
   "cell_type": "code",
   "execution_count": 3,
   "metadata": {
    "collapsed": false,
    "jupyter": {
     "outputs_hidden": false
    },
    "pycharm": {
     "name": "#%%\n"
    }
   },
   "outputs": [
    {
     "data": {
      "text/plain": [
       "Entry level         442\n",
       "Mid-Senior level    205\n",
       "Not Applicable      153\n",
       "Associate           105\n",
       "Internship            5\n",
       "Director              2\n",
       "Name: experienceRequirements, dtype: int64"
      ]
     },
     "execution_count": 3,
     "metadata": {},
     "output_type": "execute_result"
    }
   ],
   "source": [
    "# Labels\n",
    "labels = df.experienceRequirements.value_counts()\n",
    "labels"
   ]
  },
  {
   "cell_type": "code",
   "execution_count": 4,
   "metadata": {
    "collapsed": false,
    "jupyter": {
     "outputs_hidden": false
    },
    "pycharm": {
     "name": "#%%\n"
    }
   },
   "outputs": [
    {
     "data": {
      "text/plain": [
       "Index(['Entry level', 'Mid-Senior level', 'Not Applicable', 'Associate'], dtype='object')"
      ]
     },
     "execution_count": 4,
     "metadata": {},
     "output_type": "execute_result"
    }
   ],
   "source": [
    "labels = labels.index # get the index of labels\n",
    "labels = labels[:4] # pick the 1st 4 label\n",
    "labels"
   ]
  },
  {
   "cell_type": "code",
   "execution_count": 15,
   "metadata": {
    "collapsed": false,
    "jupyter": {
     "outputs_hidden": false
    },
    "pycharm": {
     "name": "#%%\n"
    }
   },
   "outputs": [
    {
     "name": "stdout",
     "output_type": "stream",
     "text": [
      "<class 'pandas.core.frame.DataFrame'>\n",
      "Int64Index: 905 entries, 0 to 911\n",
      "Data columns (total 17 columns):\n",
      " #   Column                         Non-Null Count  Dtype \n",
      "---  ------                         --------------  ----- \n",
      " 0   datePosted                     905 non-null    object\n",
      " 1   description                    905 non-null    object\n",
      " 2   employmentType                 905 non-null    object\n",
      " 3   experienceRequirements         905 non-null    object\n",
      " 4   hiringOrganization             905 non-null    object\n",
      " 5   identifier                     905 non-null    object\n",
      " 6   industry                       904 non-null    object\n",
      " 7   jobLocation                    905 non-null    object\n",
      " 8   skills                         5 non-null      object\n",
      " 9   title                          905 non-null    object\n",
      " 10  validThrough                   905 non-null    object\n",
      " 11  jobLocationType                122 non-null    object\n",
      " 12  applicantLocationRequirements  122 non-null    object\n",
      " 13  estimatedSalary                269 non-null    object\n",
      " 14  baseSalary                     24 non-null     object\n",
      " 15  desc_html                      905 non-null    object\n",
      " 16  desc                           905 non-null    object\n",
      "dtypes: object(17)\n",
      "memory usage: 127.3+ KB\n"
     ]
    },
    {
     "data": {
      "text/html": [
       "<div>\n",
       "<style scoped>\n",
       "    .dataframe tbody tr th:only-of-type {\n",
       "        vertical-align: middle;\n",
       "    }\n",
       "\n",
       "    .dataframe tbody tr th {\n",
       "        vertical-align: top;\n",
       "    }\n",
       "\n",
       "    .dataframe thead th {\n",
       "        text-align: right;\n",
       "    }\n",
       "</style>\n",
       "<table border=\"1\" class=\"dataframe\">\n",
       "  <thead>\n",
       "    <tr style=\"text-align: right;\">\n",
       "      <th></th>\n",
       "      <th>datePosted</th>\n",
       "      <th>description</th>\n",
       "      <th>employmentType</th>\n",
       "      <th>experienceRequirements</th>\n",
       "      <th>hiringOrganization</th>\n",
       "      <th>identifier</th>\n",
       "      <th>industry</th>\n",
       "      <th>jobLocation</th>\n",
       "      <th>skills</th>\n",
       "      <th>title</th>\n",
       "      <th>validThrough</th>\n",
       "      <th>jobLocationType</th>\n",
       "      <th>applicantLocationRequirements</th>\n",
       "      <th>estimatedSalary</th>\n",
       "      <th>baseSalary</th>\n",
       "      <th>desc_html</th>\n",
       "      <th>desc</th>\n",
       "    </tr>\n",
       "  </thead>\n",
       "  <tbody>\n",
       "    <tr>\n",
       "      <th>0</th>\n",
       "      <td>2021-03-23T16:03:21.000Z</td>\n",
       "      <td>Genuent is hiring a Data Scientist/Data Engine...</td>\n",
       "      <td>FULL_TIME</td>\n",
       "      <td>Mid-Senior level</td>\n",
       "      <td>{'@type': 'Organization', 'name': 'Genuent', '...</td>\n",
       "      <td>{'@type': 'PropertyValue', 'name': 'Genuent', ...</td>\n",
       "      <td>Staffing and Recruiting</td>\n",
       "      <td>{'@type': 'Place', 'address': {'@type': 'Posta...</td>\n",
       "      <td>NaN</td>\n",
       "      <td>Data Scientist - REMOTE</td>\n",
       "      <td>2021-04-22T16:03:20.000Z</td>\n",
       "      <td>NaN</td>\n",
       "      <td>NaN</td>\n",
       "      <td>NaN</td>\n",
       "      <td>NaN</td>\n",
       "      <td>&lt;p&gt;Genuent is hiring a Data Scientist/Data Eng...</td>\n",
       "      <td>responsibilities build long term causal estima...</td>\n",
       "    </tr>\n",
       "    <tr>\n",
       "      <th>1</th>\n",
       "      <td>2021-03-23T17:02:32.000Z</td>\n",
       "      <td>Ayata is developing its Prescriptive Analytics...</td>\n",
       "      <td>FULL_TIME</td>\n",
       "      <td>Entry level</td>\n",
       "      <td>{'@type': 'Organization', 'name': 'Ayata', 'sa...</td>\n",
       "      <td>{'@type': 'PropertyValue', 'name': 'Ayata', 'v...</td>\n",
       "      <td>Information Technology and Services,Computer S...</td>\n",
       "      <td>{'@type': 'Place', 'address': {'@type': 'Posta...</td>\n",
       "      <td>NaN</td>\n",
       "      <td>ML/AI/NLP Data Scientist</td>\n",
       "      <td>2021-04-22T17:02:32.000Z</td>\n",
       "      <td>NaN</td>\n",
       "      <td>NaN</td>\n",
       "      <td>NaN</td>\n",
       "      <td>NaN</td>\n",
       "      <td>Ayata is developing its Prescriptive Analytics...</td>\n",
       "      <td>responsibilities and duties ayata is looking f...</td>\n",
       "    </tr>\n",
       "    <tr>\n",
       "      <th>2</th>\n",
       "      <td>2021-03-23T14:35:46.000Z</td>\n",
       "      <td>Our team, part of the Customer Success Enginee...</td>\n",
       "      <td>FULL_TIME</td>\n",
       "      <td>Not Applicable</td>\n",
       "      <td>{'@type': 'Organization', 'name': 'Microsoft',...</td>\n",
       "      <td>{'@type': 'PropertyValue', 'name': 'Microsoft'...</td>\n",
       "      <td>Computer Hardware,Computer Software,Informatio...</td>\n",
       "      <td>{'@type': 'Place', 'address': {'@type': 'Posta...</td>\n",
       "      <td>NaN</td>\n",
       "      <td>Data &amp; Applied Scientist</td>\n",
       "      <td>2021-04-22T14:35:45.000Z</td>\n",
       "      <td>NaN</td>\n",
       "      <td>NaN</td>\n",
       "      <td>NaN</td>\n",
       "      <td>NaN</td>\n",
       "      <td>Our team, part of the Customer Success Enginee...</td>\n",
       "      <td>responsibilities responsibilities being one of...</td>\n",
       "    </tr>\n",
       "  </tbody>\n",
       "</table>\n",
       "</div>"
      ],
      "text/plain": [
       "                 datePosted  \\\n",
       "0  2021-03-23T16:03:21.000Z   \n",
       "1  2021-03-23T17:02:32.000Z   \n",
       "2  2021-03-23T14:35:46.000Z   \n",
       "\n",
       "                                         description employmentType  \\\n",
       "0  Genuent is hiring a Data Scientist/Data Engine...      FULL_TIME   \n",
       "1  Ayata is developing its Prescriptive Analytics...      FULL_TIME   \n",
       "2  Our team, part of the Customer Success Enginee...      FULL_TIME   \n",
       "\n",
       "  experienceRequirements                                 hiringOrganization  \\\n",
       "0       Mid-Senior level  {'@type': 'Organization', 'name': 'Genuent', '...   \n",
       "1            Entry level  {'@type': 'Organization', 'name': 'Ayata', 'sa...   \n",
       "2         Not Applicable  {'@type': 'Organization', 'name': 'Microsoft',...   \n",
       "\n",
       "                                          identifier  \\\n",
       "0  {'@type': 'PropertyValue', 'name': 'Genuent', ...   \n",
       "1  {'@type': 'PropertyValue', 'name': 'Ayata', 'v...   \n",
       "2  {'@type': 'PropertyValue', 'name': 'Microsoft'...   \n",
       "\n",
       "                                            industry  \\\n",
       "0                            Staffing and Recruiting   \n",
       "1  Information Technology and Services,Computer S...   \n",
       "2  Computer Hardware,Computer Software,Informatio...   \n",
       "\n",
       "                                         jobLocation skills  \\\n",
       "0  {'@type': 'Place', 'address': {'@type': 'Posta...    NaN   \n",
       "1  {'@type': 'Place', 'address': {'@type': 'Posta...    NaN   \n",
       "2  {'@type': 'Place', 'address': {'@type': 'Posta...    NaN   \n",
       "\n",
       "                      title              validThrough jobLocationType  \\\n",
       "0   Data Scientist - REMOTE  2021-04-22T16:03:20.000Z             NaN   \n",
       "1  ML/AI/NLP Data Scientist  2021-04-22T17:02:32.000Z             NaN   \n",
       "2  Data & Applied Scientist  2021-04-22T14:35:45.000Z             NaN   \n",
       "\n",
       "  applicantLocationRequirements estimatedSalary baseSalary  \\\n",
       "0                           NaN             NaN        NaN   \n",
       "1                           NaN             NaN        NaN   \n",
       "2                           NaN             NaN        NaN   \n",
       "\n",
       "                                           desc_html  \\\n",
       "0  <p>Genuent is hiring a Data Scientist/Data Eng...   \n",
       "1  Ayata is developing its Prescriptive Analytics...   \n",
       "2  Our team, part of the Customer Success Enginee...   \n",
       "\n",
       "                                                desc  \n",
       "0  responsibilities build long term causal estima...  \n",
       "1  responsibilities and duties ayata is looking f...  \n",
       "2  responsibilities responsibilities being one of...  "
      ]
     },
     "execution_count": 15,
     "metadata": {},
     "output_type": "execute_result"
    }
   ],
   "source": [
    "df = df[df.experienceRequirements.isin(labels)].copy()\n",
    "df.info()\n",
    "df.head(3)"
   ]
  },
  {
   "cell_type": "code",
   "execution_count": 16,
   "metadata": {},
   "outputs": [],
   "source": [
    "def remove_number(s):\n",
    "    return ''.join([i for i in s if not i.isdigit()])\n",
    "remove_number('asdsa 3245 245 2ad asad')\n",
    "df['desc'] = df.desc.apply(remove_number)"
   ]
  },
  {
   "cell_type": "code",
   "execution_count": 17,
   "metadata": {
    "collapsed": false,
    "jupyter": {
     "outputs_hidden": false
    },
    "pycharm": {
     "name": "#%%\n"
    },
    "scrolled": true
   },
   "outputs": [
    {
     "name": "stdout",
     "output_type": "stream",
     "text": [
      "['aa', 'aa dei', 'aa dei equal', 'aa dei equal opportunity', 'aa eeo', 'aa eeo employer', 'aa eeo employer united', 'aa employer', 'aa employer qualified', 'aa employer qualified individuals']\n",
      "(905, 427141)\n"
     ]
    },
    {
     "data": {
      "text/plain": [
       "array([[0., 0., 0., 0., 0.],\n",
       "       [0., 0., 0., 0., 0.],\n",
       "       [0., 0., 0., 0., 0.],\n",
       "       [0., 0., 0., 0., 0.],\n",
       "       [0., 0., 0., 0., 0.]])"
      ]
     },
     "execution_count": 17,
     "metadata": {},
     "output_type": "execute_result"
    }
   ],
   "source": [
    "vectorizer = TfidfVectorizer(stop_words='english',\n",
    "                             ngram_range=(1,4),\n",
    "                             norm='l2'\n",
    "                             )\n",
    "X = vectorizer.fit_transform(df.desc)\n",
    "print(vectorizer.get_feature_names()[:10])\n",
    "print(X.shape)\n",
    "X.toarray()[:5,:5]"
   ]
  },
  {
   "cell_type": "code",
   "execution_count": 18,
   "metadata": {},
   "outputs": [
    {
     "data": {
      "text/plain": [
       "((1, 427141),\n",
       " matrix([[2.23765484e-04, 3.99207734e-05, 3.99207734e-05, ...,\n",
       "          2.03032336e-05, 2.03032336e-05, 2.03032336e-05]]))"
      ]
     },
     "execution_count": 18,
     "metadata": {},
     "output_type": "execute_result"
    }
   ],
   "source": [
    "tfi = X.mean(0)\n",
    "tfi.shape,tfi"
   ]
  },
  {
   "cell_type": "code",
   "execution_count": 19,
   "metadata": {},
   "outputs": [
    {
     "data": {
      "text/plain": [
       "(1, 1330)"
      ]
     },
     "execution_count": 19,
     "metadata": {},
     "output_type": "execute_result"
    }
   ],
   "source": [
    "tfi[tfi>0.001].shape"
   ]
  },
  {
   "cell_type": "code",
   "execution_count": 20,
   "metadata": {},
   "outputs": [
    {
     "data": {
      "text/plain": [
       "(427141,)"
      ]
     },
     "execution_count": 20,
     "metadata": {},
     "output_type": "execute_result"
    }
   ],
   "source": [
    "tfi = np.array(tfi>0.001).flatten()\n",
    "tfi.shape"
   ]
  },
  {
   "cell_type": "code",
   "execution_count": 21,
   "metadata": {
    "scrolled": true
   },
   "outputs": [
    {
     "data": {
      "text/plain": [
       "((1330,),\n",
       " array(['abilities', 'ability', 'ability communicate', 'ability work',\n",
       "        'able'], dtype='<U57'))"
      ]
     },
     "execution_count": 21,
     "metadata": {},
     "output_type": "execute_result"
    }
   ],
   "source": [
    "hff = np.array(vectorizer.get_feature_names())[list(tfi)]\n",
    "hff.shape, hff[:5]"
   ]
  },
  {
   "cell_type": "code",
   "execution_count": 23,
   "metadata": {},
   "outputs": [],
   "source": [
    "X_df = pd.DataFrame(X.toarray(),columns= vectorizer.get_feature_names())\n",
    "X_df = X_df[hff]"
   ]
  },
  {
   "cell_type": "code",
   "execution_count": 24,
   "metadata": {},
   "outputs": [
    {
     "data": {
      "text/plain": [
       "(905, 1330)"
      ]
     },
     "execution_count": 24,
     "metadata": {},
     "output_type": "execute_result"
    }
   ],
   "source": [
    "X_df.values.shape"
   ]
  },
  {
   "cell_type": "code",
   "execution_count": 25,
   "metadata": {
    "collapsed": false,
    "jupyter": {
     "outputs_hidden": false
    },
    "pycharm": {
     "name": "#%%\n"
    }
   },
   "outputs": [
    {
     "name": "stdout",
     "output_type": "stream",
     "text": [
      "Explained variance of the SVD step: 52%\n",
      "\n"
     ]
    }
   ],
   "source": [
    "svd = TruncatedSVD(300)\n",
    "normalizer = Normalizer(copy=False)\n",
    "lsa = make_pipeline(svd, normalizer)\n",
    "\n",
    "X_lsa = lsa.fit_transform(X)\n",
    "explained_variance = svd.explained_variance_ratio_.sum()\n",
    "print(\"Explained variance of the SVD step: {}%\".format(\n",
    "    int(explained_variance * 100)))\n",
    "\n",
    "print()"
   ]
  },
  {
   "cell_type": "code",
   "execution_count": 26,
   "metadata": {
    "collapsed": false,
    "jupyter": {
     "outputs_hidden": false
    },
    "pycharm": {
     "name": "#%%\n"
    }
   },
   "outputs": [
    {
     "data": {
      "text/plain": [
       "[<matplotlib.lines.Line2D at 0x2cdca416730>]"
      ]
     },
     "execution_count": 26,
     "metadata": {},
     "output_type": "execute_result"
    },
    {
     "data": {
      "image/png": "[encoded data removed]",
      "text/plain": [
       "<Figure size 432x288 with 1 Axes>"
      ]
     },
     "metadata": {
      "needs_background": "light"
     },
     "output_type": "display_data"
    }
   ],
   "source": [
    "plt.plot(svd.explained_variance_ratio_.cumsum())"
   ]
  },
  {
   "cell_type": "code",
   "execution_count": 27,
   "metadata": {},
   "outputs": [
    {
     "name": "stdout",
     "output_type": "stream",
     "text": [
      "Clustering sparse data with KMeans(max_iter=100, n_clusters=4, n_init=1)\n",
      "done in 0.086s\n",
      "(905,)\n"
     ]
    },
    {
     "ename": "NameError",
     "evalue": "name 'y' is not defined",
     "output_type": "error",
     "traceback": [
      "\u001b[1;31m---------------------------------------------------------------------------\u001b[0m",
      "\u001b[1;31mNameError\u001b[0m                                 Traceback (most recent call last)",
      "\u001b[1;32m<ipython-input-27-0dac6db3dbde>\u001b[0m in \u001b[0;36m<module>\u001b[1;34m\u001b[0m\n\u001b[0;32m      7\u001b[0m \u001b[0mprint\u001b[0m\u001b[1;33m(\u001b[0m\u001b[0mkm\u001b[0m\u001b[1;33m.\u001b[0m\u001b[0mlabels_\u001b[0m\u001b[1;33m.\u001b[0m\u001b[0mshape\u001b[0m\u001b[1;33m)\u001b[0m\u001b[1;33m\u001b[0m\u001b[1;33m\u001b[0m\u001b[0m\n\u001b[0;32m      8\u001b[0m \u001b[1;33m\u001b[0m\u001b[0m\n\u001b[1;32m----> 9\u001b[1;33m \u001b[0mprint\u001b[0m\u001b[1;33m(\u001b[0m\u001b[1;34m\"Homogeneity: %0.3f\"\u001b[0m \u001b[1;33m%\u001b[0m \u001b[0mmetrics\u001b[0m\u001b[1;33m.\u001b[0m\u001b[0mhomogeneity_score\u001b[0m\u001b[1;33m(\u001b[0m\u001b[0my\u001b[0m\u001b[1;33m,\u001b[0m \u001b[0mkm\u001b[0m\u001b[1;33m.\u001b[0m\u001b[0mlabels_\u001b[0m\u001b[1;33m)\u001b[0m\u001b[1;33m)\u001b[0m\u001b[1;33m\u001b[0m\u001b[1;33m\u001b[0m\u001b[0m\n\u001b[0m\u001b[0;32m     10\u001b[0m \u001b[0mprint\u001b[0m\u001b[1;33m(\u001b[0m\u001b[1;34m\"Completeness: %0.3f\"\u001b[0m \u001b[1;33m%\u001b[0m \u001b[0mmetrics\u001b[0m\u001b[1;33m.\u001b[0m\u001b[0mcompleteness_score\u001b[0m\u001b[1;33m(\u001b[0m\u001b[0my\u001b[0m\u001b[1;33m,\u001b[0m \u001b[0mkm\u001b[0m\u001b[1;33m.\u001b[0m\u001b[0mlabels_\u001b[0m\u001b[1;33m)\u001b[0m\u001b[1;33m)\u001b[0m\u001b[1;33m\u001b[0m\u001b[1;33m\u001b[0m\u001b[0m\n\u001b[0;32m     11\u001b[0m \u001b[0mprint\u001b[0m\u001b[1;33m(\u001b[0m\u001b[1;34m\"V-measure: %0.3f\"\u001b[0m \u001b[1;33m%\u001b[0m \u001b[0mmetrics\u001b[0m\u001b[1;33m.\u001b[0m\u001b[0mv_measure_score\u001b[0m\u001b[1;33m(\u001b[0m\u001b[0my\u001b[0m\u001b[1;33m,\u001b[0m \u001b[0mkm\u001b[0m\u001b[1;33m.\u001b[0m\u001b[0mlabels_\u001b[0m\u001b[1;33m)\u001b[0m\u001b[1;33m)\u001b[0m\u001b[1;33m\u001b[0m\u001b[1;33m\u001b[0m\u001b[0m\n",
      "\u001b[1;31mNameError\u001b[0m: name 'y' is not defined"
     ]
    }
   ],
   "source": [
    "km = KMeans(n_clusters=4, init='k-means++', max_iter=100, n_init=1,\n",
    "                )\n",
    "print(\"Clustering sparse data with %s\" % km)\n",
    "t0 = time.time()\n",
    "km.fit(X_lsa)\n",
    "print(\"done in %0.3fs\" % (time.time() - t0))\n",
    "print(km.labels_.shape)\n",
    "\n",
    "print(\"Homogeneity: %0.3f\" % metrics.homogeneity_score(y, km.labels_))\n",
    "print(\"Completeness: %0.3f\" % metrics.completeness_score(y, km.labels_))\n",
    "print(\"V-measure: %0.3f\" % metrics.v_measure_score(y, km.labels_))\n",
    "print(\"Adjusted Rand-Index: %.3f\"\n",
    "      % metrics.adjusted_rand_score(y, km.labels_))\n",
    "print(\"Silhouette Coefficient: %0.3f\"\n",
    "      % metrics.silhouette_score(X, km.labels_, sample_size=1000))\n",
    "\n",
    "print()\n"
   ]
  },
  {
   "cell_type": "code",
   "execution_count": 28,
   "metadata": {
    "collapsed": false,
    "jupyter": {
     "outputs_hidden": false
    },
    "pycharm": {
     "name": "#%%\n"
    }
   },
   "outputs": [
    {
     "name": "stdout",
     "output_type": "stream",
     "text": [
      "Top terms per cluster:\n",
      "Cluster 0: abilities,  ability communicate,  additional information,  address,  activities,  affirmative action employer,  collect,  clean,  basic,  causal, \n",
      "\n",
      "Cluster 1: abilities,  ability communicate,  additional,  compensation,  basis race,  benefits,  data science team,  common,  accommodations,  click, \n",
      "\n",
      "Cluster 2: abilities,  ability work,  age disability,  age,  broad,  best,  able,  collection,  bachelor degree computer science,  cutting, \n",
      "\n",
      "Cluster 3: abilities,  advanced statistical,  behavior,  color religion sex,  affirmative action employer,  ability work,  algorithms,  bachelor degree,  creation,  bonus, \n",
      "\n"
     ]
    }
   ],
   "source": [
    "print(\"Top terms per cluster:\")\n",
    "\n",
    "#original_space_centroids = svd.inverse_transform(km.cluster_centers_)\n",
    "#order_centroids = original_space_centroids.argsort()[:, ::-1]\n",
    "order_centroids = km.cluster_centers_.argsort()[:, ::-1]\n",
    "for i in range(4):\n",
    "    print(\"Cluster %d:\" % i, end='')\n",
    "    for ind in order_centroids[i, :10]:\n",
    "        print(' %s' % hff[ind], end=', ')\n",
    "    print(\"\\n\")"
   ]
  }
 ],
 "metadata": {
  "kernelspec": {
   "display_name": "PyCharm (Pattern_recognition)",
   "language": "python",
   "name": "pycharm-b5750b70"
  },
  "language_info": {
   "codemirror_mode": {
    "name": "ipython",
    "version": 3
   },
   "file_extension": ".py",
   "mimetype": "text/x-python",
   "name": "python",
   "nbconvert_exporter": "python",
   "pygments_lexer": "ipython3",
   "version": "3.8.5"
  }
 },
 "nbformat": 4,
 "nbformat_minor": 4
}
