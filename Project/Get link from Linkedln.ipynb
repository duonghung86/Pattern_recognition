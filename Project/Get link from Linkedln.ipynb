{
 "cells": [
  {
   "cell_type": "code",
   "execution_count": 1,
   "metadata": {},
   "outputs": [],
   "source": [
    "import requests\n",
    "from bs4 import BeautifulSoup\n",
    "import pandas as pd\n",
    "import time\n",
    "import numpy as np\n",
    "import webbrowser\n",
    "from selenium import webdriver\n",
    "options = webdriver.ChromeOptions()\n",
    "options.add_argument('--headless')\n",
    "options.add_argument('--no-sandbox')\n",
    "options.add_argument('--disable-dev-shm-usage')"
   ]
  },
  {
   "cell_type": "code",
   "execution_count": 2,
   "metadata": {},
   "outputs": [
    {
     "name": "stdout",
     "output_type": "stream",
     "text": [
      "<html lang\n"
     ]
    }
   ],
   "source": [
    "# open it, go to a website, and get results\n",
    "url = 'https://www.linkedin.com/jobs/search/?f_L=United%20States&geoId=103644278&keywords=data%20scientist&location=United%20States&start=100'\n",
    "#webbrowser.get('chrome').open(url)\n",
    "driver = webdriver.Chrome('./chromedriver',options=options)\n",
    "driver.get(url)\n",
    "#content whole page in html format\n",
    "s = BeautifulSoup(driver.page_source, 'html.parser')\n",
    "print(s.prettify()[:10])\n",
    "time.sleep(2)"
   ]
  },
  {
   "cell_type": "code",
   "execution_count": 3,
   "metadata": {},
   "outputs": [],
   "source": [
    "def get_page(url):\n",
    "    driver = webdriver.Chrome('chromedriver',options=options)\n",
    "    driver.get(url)\n",
    "    return BeautifulSoup(driver.page_source, 'html.parser')"
   ]
  },
  {
   "cell_type": "code",
   "execution_count": 23,
   "metadata": {},
   "outputs": [],
   "source": [
    "def get_links(p=0):\n",
    "    url = 'https://www.linkedin.com/jobs/search/?f_JT=C%2CO%2CT%2CV&f_L=United%20States&geoId=103644278&keywords=data%20scientist&location=United%20States&start={}'.format(p)\n",
    "    print(url)\n",
    "    webbrowser.open(url)\n",
    "    s = get_page(url)\n",
    "    print(s.prettify()[:10])\n",
    "    # GET job links\n",
    "    links = s.find_all(\"a\",class_=\"result-card__full-card-link\")\n",
    "    links = [x['href'].split('?')[0] for x in links]\n",
    "    time.sleep(2)\n",
    "    return links"
   ]
  },
  {
   "cell_type": "code",
   "execution_count": 24,
   "metadata": {},
   "outputs": [
    {
     "name": "stdout",
     "output_type": "stream",
     "text": [
      "https://www.linkedin.com/jobs/search/?f_JT=C%2CO%2CT%2CV&f_L=United%20States&geoId=103644278&keywords=data%20scientist&location=United%20States&start=0\n",
      "<html lang\n",
      "0\n",
      "New job! 1\n",
      "New job! 2\n",
      "New job! 3\n",
      "New job! 4\n",
      "New job! 5\n",
      "New job! 6\n",
      "New job! 7\n",
      "New job! 8\n",
      "New job! 9\n",
      "New job! 10\n",
      "New job! 11\n",
      "New job! 12\n",
      "New job! 13\n",
      "New job! 14\n",
      "New job! 15\n",
      "New job! 16\n",
      "New job! 17\n",
      "New job! 18\n",
      "New job! 19\n",
      "New job! 20\n",
      "New job! 21\n",
      "New job! 22\n",
      "New job! 23\n",
      "New job! 24\n",
      "https://www.linkedin.com/jobs/search/?f_JT=C%2CO%2CT%2CV&f_L=United%20States&geoId=103644278&keywords=data%20scientist&location=United%20States&start=25\n",
      "<html lang\n",
      "1\n",
      "New job! 25\n",
      "New job! 26\n",
      "New job! 27\n",
      "New job! 28\n",
      "New job! 29\n",
      "New job! 30\n",
      "New job! 31\n",
      "New job! 32\n",
      "New job! 33\n",
      "https://www.linkedin.com/jobs/search/?f_JT=C%2CO%2CT%2CV&f_L=United%20States&geoId=103644278&keywords=data%20scientist&location=United%20States&start=50\n",
      "<html lang\n",
      "2\n",
      "https://www.linkedin.com/jobs/search/?f_JT=C%2CO%2CT%2CV&f_L=United%20States&geoId=103644278&keywords=data%20scientist&location=United%20States&start=75\n",
      "<html lang\n",
      "3\n",
      "https://www.linkedin.com/jobs/search/?f_JT=C%2CO%2CT%2CV&f_L=United%20States&geoId=103644278&keywords=data%20scientist&location=United%20States&start=100\n",
      "<html lang\n",
      "4\n",
      "New job! 34\n",
      "New job! 35\n",
      "New job! 36\n",
      "New job! 37\n",
      "New job! 38\n",
      "https://www.linkedin.com/jobs/search/?f_JT=C%2CO%2CT%2CV&f_L=United%20States&geoId=103644278&keywords=data%20scientist&location=United%20States&start=125\n",
      "<html lang\n",
      "5\n",
      "https://www.linkedin.com/jobs/search/?f_JT=C%2CO%2CT%2CV&f_L=United%20States&geoId=103644278&keywords=data%20scientist&location=United%20States&start=150\n",
      "<html lang\n",
      "6\n",
      "New job! 39\n",
      "https://www.linkedin.com/jobs/search/?f_JT=C%2CO%2CT%2CV&f_L=United%20States&geoId=103644278&keywords=data%20scientist&location=United%20States&start=175\n",
      "<html lang\n",
      "7\n",
      "https://www.linkedin.com/jobs/search/?f_JT=C%2CO%2CT%2CV&f_L=United%20States&geoId=103644278&keywords=data%20scientist&location=United%20States&start=200\n",
      "<html lang\n",
      "8\n",
      "https://www.linkedin.com/jobs/search/?f_JT=C%2CO%2CT%2CV&f_L=United%20States&geoId=103644278&keywords=data%20scientist&location=United%20States&start=225\n",
      "<html lang\n",
      "9\n",
      "https://www.linkedin.com/jobs/search/?f_JT=C%2CO%2CT%2CV&f_L=United%20States&geoId=103644278&keywords=data%20scientist&location=United%20States&start=250\n",
      "<html lang\n",
      "10\n",
      "https://www.linkedin.com/jobs/search/?f_JT=C%2CO%2CT%2CV&f_L=United%20States&geoId=103644278&keywords=data%20scientist&location=United%20States&start=275\n",
      "<html lang\n",
      "11\n",
      "https://www.linkedin.com/jobs/search/?f_JT=C%2CO%2CT%2CV&f_L=United%20States&geoId=103644278&keywords=data%20scientist&location=United%20States&start=300\n",
      "<html lang\n",
      "12\n",
      "https://www.linkedin.com/jobs/search/?f_JT=C%2CO%2CT%2CV&f_L=United%20States&geoId=103644278&keywords=data%20scientist&location=United%20States&start=325\n",
      "<html lang\n",
      "13\n",
      "https://www.linkedin.com/jobs/search/?f_JT=C%2CO%2CT%2CV&f_L=United%20States&geoId=103644278&keywords=data%20scientist&location=United%20States&start=350\n",
      "<html lang\n",
      "14\n",
      "https://www.linkedin.com/jobs/search/?f_JT=C%2CO%2CT%2CV&f_L=United%20States&geoId=103644278&keywords=data%20scientist&location=United%20States&start=375\n",
      "<html lang\n",
      "15\n",
      "https://www.linkedin.com/jobs/search/?f_JT=C%2CO%2CT%2CV&f_L=United%20States&geoId=103644278&keywords=data%20scientist&location=United%20States&start=400\n",
      "<html lang\n",
      "16\n",
      "https://www.linkedin.com/jobs/search/?f_JT=C%2CO%2CT%2CV&f_L=United%20States&geoId=103644278&keywords=data%20scientist&location=United%20States&start=425\n",
      "<html lang\n",
      "17\n",
      "https://www.linkedin.com/jobs/search/?f_JT=C%2CO%2CT%2CV&f_L=United%20States&geoId=103644278&keywords=data%20scientist&location=United%20States&start=450\n",
      "<html lang\n",
      "18\n",
      "https://www.linkedin.com/jobs/search/?f_JT=C%2CO%2CT%2CV&f_L=United%20States&geoId=103644278&keywords=data%20scientist&location=United%20States&start=475\n",
      "<html lang\n",
      "19\n"
     ]
    }
   ],
   "source": [
    "links = []\n",
    "for i in range(0,20):\n",
    "    l = get_links(i*25)\n",
    "    print(i)\n",
    "    for link in l:\n",
    "        if link not in links:\n",
    "            links.append(link)\n",
    "            print('New job!',len(links))"
   ]
  },
  {
   "cell_type": "code",
   "execution_count": 25,
   "metadata": {},
   "outputs": [
    {
     "data": {
      "text/plain": [
       "['https://www.linkedin.com/jobs/view/data-scientist-at-sigmaways-inc-2455904620',\n",
       " 'https://www.linkedin.com/jobs/view/data-scientist-at-umbrex-2454597381',\n",
       " 'https://www.linkedin.com/jobs/view/data-scientist-r-programming-at-clinovo-2452553336',\n",
       " 'https://www.linkedin.com/jobs/view/data-scientist-at-hello-alice-2437886354',\n",
       " 'https://www.linkedin.com/jobs/view/data-scientist-bioinformatics-pharmaceuticals-at-spectraforce-technologies-2454533994',\n",
       " 'https://www.linkedin.com/jobs/view/data-scientist-at-data-science-talent-ltd-2463896941',\n",
       " 'https://www.linkedin.com/jobs/view/data-scientist-at-amitech-solutions-2454071579',\n",
       " 'https://www.linkedin.com/jobs/view/tableau-data-scientist-at-technology-ventures-2465359752',\n",
       " 'https://www.linkedin.com/jobs/view/data-scientist-at-eight-eleven-group-2465536506',\n",
       " 'https://www.linkedin.com/jobs/view/staff-data-scientist-at-glossier-inc-2463887926',\n",
       " 'https://www.linkedin.com/jobs/view/data-scientist-at-matrix-resources-2464407089',\n",
       " 'https://www.linkedin.com/jobs/view/data-scientist-intern-at-accenture-2465500723',\n",
       " 'https://www.linkedin.com/jobs/view/data-scientist-fitness-sports-performance-category-at-solomon-page-2466186110',\n",
       " 'https://www.linkedin.com/jobs/view/data-analysis-at-metasys-technologies-inc-2460360613',\n",
       " 'https://www.linkedin.com/jobs/view/data-scientist-at-amerit-resources-private-limited-2464022871',\n",
       " 'https://www.linkedin.com/jobs/view/machine-learning-engineer-at-omniforce-solutions-2464675131',\n",
       " 'https://www.linkedin.com/jobs/view/lead-data-scientist-at-aditi-consulting-2454518683',\n",
       " 'https://www.linkedin.com/jobs/view/data-scientist-at-fladger-associates-2451175874',\n",
       " 'https://www.linkedin.com/jobs/view/data-scientist-at-system-one-2443217529',\n",
       " 'https://www.linkedin.com/jobs/view/data-scientist-at-curate-partners-2448626150',\n",
       " 'https://www.linkedin.com/jobs/view/data-scientist-at-flexton-inc-1959960383',\n",
       " 'https://www.linkedin.com/jobs/view/data-scientist-at-make-corporation-2444170837',\n",
       " 'https://www.linkedin.com/jobs/view/tableau-data-scientist-at-iconma-2465502735',\n",
       " 'https://www.linkedin.com/jobs/view/data-scientist-at-ivory-systems-2437154852',\n",
       " 'https://www.linkedin.com/jobs/view/machine-learning-engineer-at-mondo-2462815429',\n",
       " 'https://www.linkedin.com/jobs/view/machine-learning-engineer-at-harnham-2454565724',\n",
       " 'https://www.linkedin.com/jobs/view/jr-data-scientist-healthcare-data-analytics-at-disys-2444874430',\n",
       " 'https://www.linkedin.com/jobs/view/data-scientist-fitness-sports-performance-category-at-solomon-page-2454545038',\n",
       " 'https://www.linkedin.com/jobs/view/data-scientist-at-kforce-inc-2454091509',\n",
       " 'https://www.linkedin.com/jobs/view/data-scientist-at-it-avalon-2463896767',\n",
       " 'https://www.linkedin.com/jobs/view/data-scientist-at-e-solutions-2443263766',\n",
       " 'https://www.linkedin.com/jobs/view/machine-learning-engineer-at-modis-2429281543',\n",
       " 'https://www.linkedin.com/jobs/view/data-scientist-at-eteam-2454522789',\n",
       " 'https://www.linkedin.com/jobs/view/data-scientist-at-eliassen-group-2435772974',\n",
       " 'https://www.linkedin.com/jobs/view/data-scientist-100%25-remote-at-compugain-2436221692',\n",
       " 'https://www.linkedin.com/jobs/view/data-scientist-at-ettain-group-2449138896',\n",
       " 'https://www.linkedin.com/jobs/view/data-scientist-at-the-judge-group-2416719205',\n",
       " 'https://www.linkedin.com/jobs/view/data-scientist-at-the-jacobson-group-2419676369',\n",
       " 'https://www.linkedin.com/jobs/view/data-scientist-at-xcelerate-solutions-2463902030']"
      ]
     },
     "execution_count": 25,
     "metadata": {},
     "output_type": "execute_result"
    }
   ],
   "source": [
    "links"
   ]
  },
  {
   "cell_type": "code",
   "execution_count": 26,
   "metadata": {},
   "outputs": [],
   "source": [
    "pd.Series(links).to_csv('DS Other links.csv', index =False)"
   ]
  }
 ],
 "metadata": {
  "kernelspec": {
   "display_name": "Python 3",
   "language": "python",
   "name": "python3"
  },
  "language_info": {
   "codemirror_mode": {
    "name": "ipython",
    "version": 3
   },
   "file_extension": ".py",
   "mimetype": "text/x-python",
   "name": "python",
   "nbconvert_exporter": "python",
   "pygments_lexer": "ipython3",
   "version": "3.8.5"
  }
 },
 "nbformat": 4,
 "nbformat_minor": 4
}
