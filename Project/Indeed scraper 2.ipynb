{
 "cells": [
  {
   "cell_type": "code",
   "execution_count": 1,
   "metadata": {},
   "outputs": [],
   "source": [
    "import requests\n",
    "from bs4 import BeautifulSoup\n",
    "import html2text\n",
    "import pandas as pd\n",
    "import time"
   ]
  },
  {
   "cell_type": "code",
   "execution_count": 2,
   "metadata": {},
   "outputs": [],
   "source": [
    "def get_url(url,query={}):\n",
    "    response = requests.get(url, params=query)\n",
    "    if response.ok :\n",
    "        #print('OK')\n",
    "        return BeautifulSoup(response.text, 'html.parser')\n",
    "    else: print(\"Failed\", response.status_code)"
   ]
  },
  {
   "cell_type": "code",
   "execution_count": 18,
   "metadata": {},
   "outputs": [
    {
     "name": "stdout",
     "output_type": "stream",
     "text": [
      "<html>\n",
      " <head>\n",
      "  <ti\n"
     ]
    }
   ],
   "source": [
    "url = 'https://www.indeed.com/jobs'\n",
    "soup = get_url(url,query)\n",
    "print(soup.prettify()[:20])"
   ]
  },
  {
   "cell_type": "code",
   "execution_count": 19,
   "metadata": {},
   "outputs": [
    {
     "name": "stdout",
     "output_type": "stream",
     "text": [
      "<html>\n",
      " <head>\n",
      "  <title>\n",
      "   hCaptcha solve page\n",
      "  </title>\n",
      "  <script async=\"\" defer=\"\" src=\"https://www.hcaptcha.com/1/api.js\">\n",
      "  </script>\n",
      " </head>\n",
      " <body>\n",
      "  <form action=\"/jobs?q=Data+scientist&amp;l=United+States&amp;start=585\" method=\"POST\">\n",
      "   <div class=\"h-captcha\" data-sitekey=\"eb27f525-f936-43b4-91e2-95a426d4a8bd\">\n",
      "   </div>\n",
      "   <br/>\n",
      "   <input type=\"submit\" value=\"Submit\"/>\n",
      "  </form>\n",
      " </body>\n",
      "</html>\n",
      "\n"
     ]
    }
   ],
   "source": [
    "print(soup.prettify())"
   ]
  },
  {
   "cell_type": "code",
   "execution_count": 16,
   "metadata": {},
   "outputs": [],
   "source": [
    "def get_indeed(query):\n",
    "    url = 'https://www.indeed.com/jobs'\n",
    "    soup = get_url(url,query)\n",
    "    print(soup.prettify()[:20])\n",
    "    data = {}\n",
    "    # GET titles and links\n",
    "    infos = soup.find_all('a', class_=\"jobtitle turnstileLink\")\n",
    "    data['title'] = [x['title'] for x in infos]\n",
    "    data['link'] = [url[:-5]+x['href'] for x in infos]\n",
    "    \n",
    "    # GET location\n",
    "    locations = soup.find_all('div',class_=\"recJobLoc\")\n",
    "    data['location'] = [x['data-rc-loc'] for x in locations]\n",
    "    \n",
    "    # GET posted time\n",
    "    post_date = soup.find_all('span', class_=\"date date-a11y\")\n",
    "    dates = [x.text for x in post_date]\n",
    "    \n",
    "    # GET company name\n",
    "    companies = soup.find_all('span',class_='company')\n",
    "    data['companie'] = [x.text.strip() for x in companies]\n",
    "    \n",
    "    # GET job description\n",
    "    des = []\n",
    "    for link in data['link']:\n",
    "        soup0 = get_url(link)\n",
    "        des.append(soup0.find('div',class_=\"jobsearch-jobDescriptionText\").text)\n",
    "        time.sleep(0.1)\n",
    "    data['description'] = des\n",
    "    \n",
    "    # return pandas data frame\n",
    "    return pd.DataFrame(data)"
   ]
  },
  {
   "cell_type": "code",
   "execution_count": 4,
   "metadata": {},
   "outputs": [
    {
     "name": "stdout",
     "output_type": "stream",
     "text": [
      "<class 'pandas.core.frame.DataFrame'>\n",
      "RangeIndex: 15 entries, 0 to 14\n",
      "Data columns (total 5 columns):\n",
      " #   Column       Non-Null Count  Dtype \n",
      "---  ------       --------------  ----- \n",
      " 0   title        15 non-null     object\n",
      " 1   link         15 non-null     object\n",
      " 2   location     15 non-null     object\n",
      " 3   companie     15 non-null     object\n",
      " 4   description  15 non-null     object\n",
      "dtypes: object(5)\n",
      "memory usage: 728.0+ bytes\n"
     ]
    },
    {
     "data": {
      "text/html": [
       "<div>\n",
       "<style scoped>\n",
       "    .dataframe tbody tr th:only-of-type {\n",
       "        vertical-align: middle;\n",
       "    }\n",
       "\n",
       "    .dataframe tbody tr th {\n",
       "        vertical-align: top;\n",
       "    }\n",
       "\n",
       "    .dataframe thead th {\n",
       "        text-align: right;\n",
       "    }\n",
       "</style>\n",
       "<table border=\"1\" class=\"dataframe\">\n",
       "  <thead>\n",
       "    <tr style=\"text-align: right;\">\n",
       "      <th></th>\n",
       "      <th>title</th>\n",
       "      <th>link</th>\n",
       "      <th>location</th>\n",
       "      <th>companie</th>\n",
       "      <th>description</th>\n",
       "    </tr>\n",
       "  </thead>\n",
       "  <tbody>\n",
       "    <tr>\n",
       "      <th>0</th>\n",
       "      <td>Data Entry</td>\n",
       "      <td>https://www.indeed.com/rc/clk?jk=ce835a296b169...</td>\n",
       "      <td>Remote</td>\n",
       "      <td>TransPerfect Translations Inc.</td>\n",
       "      <td>We are looking for Data Entry Clerks to join o...</td>\n",
       "    </tr>\n",
       "    <tr>\n",
       "      <th>1</th>\n",
       "      <td>Data Scientist</td>\n",
       "      <td>https://www.indeed.com/pagead/clk?mo=r&amp;ad=-6NY...</td>\n",
       "      <td>Houston, TX</td>\n",
       "      <td>TechniPower, Inc.</td>\n",
       "      <td>I have a client located in Houston, TX that ha...</td>\n",
       "    </tr>\n",
       "    <tr>\n",
       "      <th>2</th>\n",
       "      <td>Data Scientist - Entry Level</td>\n",
       "      <td>https://www.indeed.com/rc/clk?jk=3dde013381898...</td>\n",
       "      <td>Sacramento, CA</td>\n",
       "      <td>Numerdox</td>\n",
       "      <td>As a Data Scientist you will be working on con...</td>\n",
       "    </tr>\n",
       "    <tr>\n",
       "      <th>3</th>\n",
       "      <td>Associate Data Scientist</td>\n",
       "      <td>https://www.indeed.com/rc/clk?jk=9ca3de0881047...</td>\n",
       "      <td>Deerfield, IL</td>\n",
       "      <td>WALGREENS</td>\n",
       "      <td>Job Summary:\\n\\nApplies data analysis tools an...</td>\n",
       "    </tr>\n",
       "    <tr>\n",
       "      <th>4</th>\n",
       "      <td>Junior Data Scientist, ML R&amp;D</td>\n",
       "      <td>https://www.indeed.com/rc/clk?jk=f520fca7843c3...</td>\n",
       "      <td>Remote</td>\n",
       "      <td>LockerDome, Inc.</td>\n",
       "      <td>LockerDome is an ad platform with a brain, des...</td>\n",
       "    </tr>\n",
       "  </tbody>\n",
       "</table>\n",
       "</div>"
      ],
      "text/plain": [
       "                           title  \\\n",
       "0                     Data Entry   \n",
       "1                 Data Scientist   \n",
       "2   Data Scientist - Entry Level   \n",
       "3       Associate Data Scientist   \n",
       "4  Junior Data Scientist, ML R&D   \n",
       "\n",
       "                                                link        location  \\\n",
       "0  https://www.indeed.com/rc/clk?jk=ce835a296b169...          Remote   \n",
       "1  https://www.indeed.com/pagead/clk?mo=r&ad=-6NY...     Houston, TX   \n",
       "2  https://www.indeed.com/rc/clk?jk=3dde013381898...  Sacramento, CA   \n",
       "3  https://www.indeed.com/rc/clk?jk=9ca3de0881047...   Deerfield, IL   \n",
       "4  https://www.indeed.com/rc/clk?jk=f520fca7843c3...          Remote   \n",
       "\n",
       "                         companie  \\\n",
       "0  TransPerfect Translations Inc.   \n",
       "1               TechniPower, Inc.   \n",
       "2                        Numerdox   \n",
       "3                       WALGREENS   \n",
       "4                LockerDome, Inc.   \n",
       "\n",
       "                                         description  \n",
       "0  We are looking for Data Entry Clerks to join o...  \n",
       "1  I have a client located in Houston, TX that ha...  \n",
       "2  As a Data Scientist you will be working on con...  \n",
       "3  Job Summary:\\n\\nApplies data analysis tools an...  \n",
       "4  LockerDome is an ad platform with a brain, des...  "
      ]
     },
     "execution_count": 4,
     "metadata": {},
     "output_type": "execute_result"
    }
   ],
   "source": [
    "query = {'q':\"Data scientist\",\n",
    "         'l':\"United States\",\n",
    "         'start':0\n",
    "        }\n",
    "df = get_indeed(query)\n",
    "df.info()\n",
    "df.head()"
   ]
  },
  {
   "cell_type": "code",
   "execution_count": 13,
   "metadata": {},
   "outputs": [
    {
     "name": "stdout",
     "output_type": "stream",
     "text": [
      "135\n",
      "150\n",
      "165\n",
      "180\n",
      "195\n",
      "210\n",
      "225\n",
      "240\n",
      "255\n",
      "270\n",
      "285\n",
      "300\n",
      "315\n",
      "330\n",
      "345\n",
      "360\n",
      "375\n",
      "390\n",
      "405\n",
      "420\n",
      "435\n",
      "450\n",
      "465\n",
      "480\n",
      "495\n",
      "510\n",
      "525\n",
      "540\n",
      "555\n",
      "570\n",
      "585\n",
      "Wall time: 23.1 s\n"
     ]
    }
   ],
   "source": [
    "%%time\n",
    "for i in range(135,600,15):\n",
    "    print(i)\n",
    "    query = {'q':\"Data scientist\",\n",
    "         'l':\"United States\",\n",
    "         'start':i\n",
    "        }\n",
    "    df1 = get_indeed(query)\n",
    "    df = pd.concat((df,df1),ignore_index=True)\n",
    "    time.sleep(0.5)\n",
    "title = 'Data Scientist Indeed'\n",
    "df.to_csv(title+'.csv',index=False)"
   ]
  },
  {
   "cell_type": "code",
   "execution_count": 14,
   "metadata": {},
   "outputs": [
    {
     "data": {
      "text/plain": [
       "(135, 5)"
      ]
     },
     "execution_count": 14,
     "metadata": {},
     "output_type": "execute_result"
    }
   ],
   "source": [
    "df.shape"
   ]
  },
  {
   "cell_type": "code",
   "execution_count": 17,
   "metadata": {},
   "outputs": [
    {
     "name": "stdout",
     "output_type": "stream",
     "text": [
      "<html>\n",
      " <head>\n",
      "  <ti\n"
     ]
    }
   ],
   "source": [
    "query = {'q':\"Data scientist\",\n",
    "     'l':\"United States\",\n",
    "     'start':i\n",
    "    }\n",
    "df1 = get_indeed(query)"
   ]
  }
 ],
 "metadata": {
  "kernelspec": {
   "display_name": "Python 3",
   "language": "python",
   "name": "python3"
  },
  "language_info": {
   "codemirror_mode": {
    "name": "ipython",
    "version": 3
   },
   "file_extension": ".py",
   "mimetype": "text/x-python",
   "name": "python",
   "nbconvert_exporter": "python",
   "pygments_lexer": "ipython3",
   "version": "3.8.5"
  }
 },
 "nbformat": 4,
 "nbformat_minor": 4
}
